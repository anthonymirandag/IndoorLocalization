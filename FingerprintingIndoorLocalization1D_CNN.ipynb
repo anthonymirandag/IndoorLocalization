{
  "nbformat": 4,
  "nbformat_minor": 0,
  "metadata": {
    "colab": {
      "name": "FingerprintingIndoorLocalization1D-CNN.ipynb",
      "provenance": [],
      "collapsed_sections": [],
      "include_colab_link": true
    },
    "kernelspec": {
      "name": "python3",
      "display_name": "Python 3"
    },
    "accelerator": "GPU"
  },
  "cells": [
    {
      "cell_type": "markdown",
      "metadata": {
        "id": "view-in-github",
        "colab_type": "text"
      },
      "source": [
        "<a href=\"https://colab.research.google.com/github/anthonymirandag/IndoorLocalization/blob/master/FingerprintingIndoorLocalization1D_CNN.ipynb\" target=\"_parent\"><img src=\"https://colab.research.google.com/assets/colab-badge.svg\" alt=\"Open In Colab\"/></a>"
      ]
    },
    {
      "cell_type": "code",
      "metadata": {
        "id": "AxKpLPBj7aYb",
        "colab_type": "code",
        "outputId": "22d9900f-8e66-4b5d-a9fb-932e9e02f8b4",
        "colab": {
          "base_uri": "https://localhost:8080/",
          "height": 904
        }
      },
      "source": [
        "import numpy as np \n",
        "import pandas as pd\n",
        "import matplotlib.pyplot as plt\n",
        "import io\n",
        "import seaborn as sns\n",
        "from sklearn.preprocessing import LabelEncoder\n",
        "from sklearn.model_selection import train_test_split\n",
        "from sklearn.metrics import accuracy_score\n",
        "from sklearn.metrics import confusion_matrix\n",
        "from sklearn.preprocessing import StandardScaler\n",
        "!pip install tensorflow-gpu==2.0.0.alpha0\n",
        "import datetime\n",
        "import tensorflow as tf\n",
        "from tensorflow.keras.callbacks import EarlyStopping\n",
        "from sklearn.utils import shuffle\n",
        "from tensorflow.keras.utils import plot_model\n",
        "import math"
      ],
      "execution_count": 5,
      "outputs": [
        {
          "output_type": "stream",
          "text": [
            "Collecting tensorflow-gpu==2.0.0.alpha0\n",
            "\u001b[?25l  Downloading https://files.pythonhosted.org/packages/1a/66/32cffad095253219d53f6b6c2a436637bbe45ac4e7be0244557210dc3918/tensorflow_gpu-2.0.0a0-cp36-cp36m-manylinux1_x86_64.whl (332.1MB)\n",
            "\u001b[K     |████████████████████████████████| 332.1MB 48kB/s \n",
            "\u001b[?25hRequirement already satisfied: absl-py>=0.7.0 in /usr/local/lib/python3.6/dist-packages (from tensorflow-gpu==2.0.0.alpha0) (0.8.1)\n",
            "Requirement already satisfied: numpy<2.0,>=1.14.5 in /usr/local/lib/python3.6/dist-packages (from tensorflow-gpu==2.0.0.alpha0) (1.17.4)\n",
            "Requirement already satisfied: six>=1.10.0 in /usr/local/lib/python3.6/dist-packages (from tensorflow-gpu==2.0.0.alpha0) (1.12.0)\n",
            "Requirement already satisfied: google-pasta>=0.1.2 in /usr/local/lib/python3.6/dist-packages (from tensorflow-gpu==2.0.0.alpha0) (0.1.8)\n",
            "Requirement already satisfied: termcolor>=1.1.0 in /usr/local/lib/python3.6/dist-packages (from tensorflow-gpu==2.0.0.alpha0) (1.1.0)\n",
            "Requirement already satisfied: gast>=0.2.0 in /usr/local/lib/python3.6/dist-packages (from tensorflow-gpu==2.0.0.alpha0) (0.2.2)\n",
            "Collecting tb-nightly<1.14.0a20190302,>=1.14.0a20190301\n",
            "\u001b[?25l  Downloading https://files.pythonhosted.org/packages/a9/51/aa1d756644bf4624c03844115e4ac4058eff77acd786b26315f051a4b195/tb_nightly-1.14.0a20190301-py3-none-any.whl (3.0MB)\n",
            "\u001b[K     |████████████████████████████████| 3.0MB 32.4MB/s \n",
            "\u001b[?25hRequirement already satisfied: keras-applications>=1.0.6 in /usr/local/lib/python3.6/dist-packages (from tensorflow-gpu==2.0.0.alpha0) (1.0.8)\n",
            "Requirement already satisfied: protobuf>=3.6.1 in /usr/local/lib/python3.6/dist-packages (from tensorflow-gpu==2.0.0.alpha0) (3.10.0)\n",
            "Collecting tf-estimator-nightly<1.14.0.dev2019030116,>=1.14.0.dev2019030115\n",
            "\u001b[?25l  Downloading https://files.pythonhosted.org/packages/13/82/f16063b4eed210dc2ab057930ac1da4fbe1e91b7b051a6c8370b401e6ae7/tf_estimator_nightly-1.14.0.dev2019030115-py2.py3-none-any.whl (411kB)\n",
            "\u001b[K     |████████████████████████████████| 419kB 50.3MB/s \n",
            "\u001b[?25hRequirement already satisfied: grpcio>=1.8.6 in /usr/local/lib/python3.6/dist-packages (from tensorflow-gpu==2.0.0.alpha0) (1.15.0)\n",
            "Requirement already satisfied: keras-preprocessing>=1.0.5 in /usr/local/lib/python3.6/dist-packages (from tensorflow-gpu==2.0.0.alpha0) (1.1.0)\n",
            "Requirement already satisfied: wheel>=0.26 in /usr/local/lib/python3.6/dist-packages (from tensorflow-gpu==2.0.0.alpha0) (0.33.6)\n",
            "Requirement already satisfied: astor>=0.6.0 in /usr/local/lib/python3.6/dist-packages (from tensorflow-gpu==2.0.0.alpha0) (0.8.1)\n",
            "Requirement already satisfied: werkzeug>=0.11.15 in /usr/local/lib/python3.6/dist-packages (from tb-nightly<1.14.0a20190302,>=1.14.0a20190301->tensorflow-gpu==2.0.0.alpha0) (0.16.0)\n",
            "Requirement already satisfied: markdown>=2.6.8 in /usr/local/lib/python3.6/dist-packages (from tb-nightly<1.14.0a20190302,>=1.14.0a20190301->tensorflow-gpu==2.0.0.alpha0) (3.1.1)\n",
            "Requirement already satisfied: h5py in /usr/local/lib/python3.6/dist-packages (from keras-applications>=1.0.6->tensorflow-gpu==2.0.0.alpha0) (2.8.0)\n",
            "Requirement already satisfied: setuptools in /usr/local/lib/python3.6/dist-packages (from protobuf>=3.6.1->tensorflow-gpu==2.0.0.alpha0) (42.0.2)\n",
            "Installing collected packages: tb-nightly, tf-estimator-nightly, tensorflow-gpu\n",
            "Successfully installed tb-nightly-1.14.0a20190301 tensorflow-gpu-2.0.0a0 tf-estimator-nightly-1.14.0.dev2019030115\n"
          ],
          "name": "stdout"
        },
        {
          "output_type": "stream",
          "text": [
            "/usr/local/lib/python3.6/dist-packages/tensorflow/python/framework/dtypes.py:523: FutureWarning: Passing (type, 1) or '1type' as a synonym of type is deprecated; in a future version of numpy, it will be understood as (type, (1,)) / '(1,)type'.\n",
            "  _np_qint8 = np.dtype([(\"qint8\", np.int8, 1)])\n",
            "/usr/local/lib/python3.6/dist-packages/tensorflow/python/framework/dtypes.py:524: FutureWarning: Passing (type, 1) or '1type' as a synonym of type is deprecated; in a future version of numpy, it will be understood as (type, (1,)) / '(1,)type'.\n",
            "  _np_quint8 = np.dtype([(\"quint8\", np.uint8, 1)])\n",
            "/usr/local/lib/python3.6/dist-packages/tensorflow/python/framework/dtypes.py:525: FutureWarning: Passing (type, 1) or '1type' as a synonym of type is deprecated; in a future version of numpy, it will be understood as (type, (1,)) / '(1,)type'.\n",
            "  _np_qint16 = np.dtype([(\"qint16\", np.int16, 1)])\n",
            "/usr/local/lib/python3.6/dist-packages/tensorflow/python/framework/dtypes.py:526: FutureWarning: Passing (type, 1) or '1type' as a synonym of type is deprecated; in a future version of numpy, it will be understood as (type, (1,)) / '(1,)type'.\n",
            "  _np_quint16 = np.dtype([(\"quint16\", np.uint16, 1)])\n",
            "/usr/local/lib/python3.6/dist-packages/tensorflow/python/framework/dtypes.py:527: FutureWarning: Passing (type, 1) or '1type' as a synonym of type is deprecated; in a future version of numpy, it will be understood as (type, (1,)) / '(1,)type'.\n",
            "  _np_qint32 = np.dtype([(\"qint32\", np.int32, 1)])\n",
            "/usr/local/lib/python3.6/dist-packages/tensorflow/python/framework/dtypes.py:532: FutureWarning: Passing (type, 1) or '1type' as a synonym of type is deprecated; in a future version of numpy, it will be understood as (type, (1,)) / '(1,)type'.\n",
            "  np_resource = np.dtype([(\"resource\", np.ubyte, 1)])\n",
            "/usr/local/lib/python3.6/dist-packages/tensorboard/compat/tensorflow_stub/dtypes.py:541: FutureWarning: Passing (type, 1) or '1type' as a synonym of type is deprecated; in a future version of numpy, it will be understood as (type, (1,)) / '(1,)type'.\n",
            "  _np_qint8 = np.dtype([(\"qint8\", np.int8, 1)])\n",
            "/usr/local/lib/python3.6/dist-packages/tensorboard/compat/tensorflow_stub/dtypes.py:542: FutureWarning: Passing (type, 1) or '1type' as a synonym of type is deprecated; in a future version of numpy, it will be understood as (type, (1,)) / '(1,)type'.\n",
            "  _np_quint8 = np.dtype([(\"quint8\", np.uint8, 1)])\n",
            "/usr/local/lib/python3.6/dist-packages/tensorboard/compat/tensorflow_stub/dtypes.py:543: FutureWarning: Passing (type, 1) or '1type' as a synonym of type is deprecated; in a future version of numpy, it will be understood as (type, (1,)) / '(1,)type'.\n",
            "  _np_qint16 = np.dtype([(\"qint16\", np.int16, 1)])\n",
            "/usr/local/lib/python3.6/dist-packages/tensorboard/compat/tensorflow_stub/dtypes.py:544: FutureWarning: Passing (type, 1) or '1type' as a synonym of type is deprecated; in a future version of numpy, it will be understood as (type, (1,)) / '(1,)type'.\n",
            "  _np_quint16 = np.dtype([(\"quint16\", np.uint16, 1)])\n",
            "/usr/local/lib/python3.6/dist-packages/tensorboard/compat/tensorflow_stub/dtypes.py:545: FutureWarning: Passing (type, 1) or '1type' as a synonym of type is deprecated; in a future version of numpy, it will be understood as (type, (1,)) / '(1,)type'.\n",
            "  _np_qint32 = np.dtype([(\"qint32\", np.int32, 1)])\n",
            "/usr/local/lib/python3.6/dist-packages/tensorboard/compat/tensorflow_stub/dtypes.py:550: FutureWarning: Passing (type, 1) or '1type' as a synonym of type is deprecated; in a future version of numpy, it will be understood as (type, (1,)) / '(1,)type'.\n",
            "  np_resource = np.dtype([(\"resource\", np.ubyte, 1)])\n"
          ],
          "name": "stderr"
        }
      ]
    },
    {
      "cell_type": "markdown",
      "metadata": {
        "id": "w2BzjzB-8OWm",
        "colab_type": "text"
      },
      "source": [
        "# Enfoque de Series de tiempo con CNN.\n",
        "El enfoque tomado que se desea probar en usar una 1D-CNN  con la idea de aprender las caracteristica de la serie de tiempo como una ventana deslizante de los valores rssi para cada uno de los sectores. [Convolutional Neural Networks in Keras for Time Sequences](https://blog.goodaudience.com/introduction-to-1d-convolutional-neural-networks-in-keras-for-time-sequences-3a7ff801a2cf)\n"
      ]
    },
    {
      "cell_type": "markdown",
      "metadata": {
        "id": "_xaDyrQd79B1",
        "colab_type": "text"
      },
      "source": [
        "## Obtener matrices de subsecuencias de la series de tiempo multivariada"
      ]
    },
    {
      "cell_type": "markdown",
      "metadata": {
        "id": "4nRxty8t9fe4",
        "colab_type": "text"
      },
      "source": [
        "### Carga de datos"
      ]
    },
    {
      "cell_type": "code",
      "metadata": {
        "id": "f9y6E2uUY5Rm",
        "colab_type": "code",
        "outputId": "a41a4e1c-1c39-4c22-ab30-db1e63dc1b3e",
        "colab": {
          "base_uri": "https://localhost:8080/",
          "height": 119
        }
      },
      "source": [
        "target_label = 'Sector'\n",
        "datasets = []\n",
        "for i in range(6):\n",
        "  tx = 'Tx_0x0{}'.format(i+1)\n",
        "  print(tx)\n",
        "  path_data = 'https://raw.githubusercontent.com/anthonymirandag/IndoorLocalization/master/data/'+tx+'.csv'\n",
        "  datasets.append({\"name\":tx,\"data\":pd.read_csv(path_data)})   "
      ],
      "execution_count": 6,
      "outputs": [
        {
          "output_type": "stream",
          "text": [
            "Tx_0x01\n",
            "Tx_0x02\n",
            "Tx_0x03\n",
            "Tx_0x04\n",
            "Tx_0x05\n",
            "Tx_0x06\n"
          ],
          "name": "stdout"
        }
      ]
    },
    {
      "cell_type": "code",
      "metadata": {
        "id": "k4K7PsjtYi4A",
        "colab_type": "code",
        "outputId": "5fce0de1-39e6-4433-9438-eabec44c45e7",
        "colab": {
          "base_uri": "https://localhost:8080/",
          "height": 119
        }
      },
      "source": [
        "for dataset in datasets:\n",
        "  print(dataset['data'].shape)"
      ],
      "execution_count": 7,
      "outputs": [
        {
          "output_type": "stream",
          "text": [
            "(6873, 6)\n",
            "(6961, 6)\n",
            "(6626, 6)\n",
            "(7174, 6)\n",
            "(6760, 6)\n",
            "(6718, 6)\n"
          ],
          "name": "stdout"
        }
      ]
    },
    {
      "cell_type": "code",
      "metadata": {
        "id": "e4DSWo88j6xc",
        "colab_type": "code",
        "outputId": "add4394e-10dd-4f3e-da69-fa49148ffe3a",
        "colab": {
          "base_uri": "https://localhost:8080/",
          "height": 204
        }
      },
      "source": [
        "datasets[0]['data'].head()"
      ],
      "execution_count": 8,
      "outputs": [
        {
          "output_type": "execute_result",
          "data": {
            "text/html": [
              "<div>\n",
              "<style scoped>\n",
              "    .dataframe tbody tr th:only-of-type {\n",
              "        vertical-align: middle;\n",
              "    }\n",
              "\n",
              "    .dataframe tbody tr th {\n",
              "        vertical-align: top;\n",
              "    }\n",
              "\n",
              "    .dataframe thead th {\n",
              "        text-align: right;\n",
              "    }\n",
              "</style>\n",
              "<table border=\"1\" class=\"dataframe\">\n",
              "  <thead>\n",
              "    <tr style=\"text-align: right;\">\n",
              "      <th></th>\n",
              "      <th>Be07</th>\n",
              "      <th>Be08</th>\n",
              "      <th>Be09</th>\n",
              "      <th>Be10</th>\n",
              "      <th>Be11</th>\n",
              "      <th>Sector</th>\n",
              "    </tr>\n",
              "  </thead>\n",
              "  <tbody>\n",
              "    <tr>\n",
              "      <th>0</th>\n",
              "      <td>-68.0</td>\n",
              "      <td>-53.0</td>\n",
              "      <td>-53.0</td>\n",
              "      <td>-59.0</td>\n",
              "      <td>-69.0</td>\n",
              "      <td>1.0</td>\n",
              "    </tr>\n",
              "    <tr>\n",
              "      <th>1</th>\n",
              "      <td>-65.0</td>\n",
              "      <td>-61.0</td>\n",
              "      <td>-55.0</td>\n",
              "      <td>-57.0</td>\n",
              "      <td>-63.0</td>\n",
              "      <td>1.0</td>\n",
              "    </tr>\n",
              "    <tr>\n",
              "      <th>2</th>\n",
              "      <td>-69.0</td>\n",
              "      <td>-54.0</td>\n",
              "      <td>-53.0</td>\n",
              "      <td>-59.0</td>\n",
              "      <td>-70.0</td>\n",
              "      <td>1.0</td>\n",
              "    </tr>\n",
              "    <tr>\n",
              "      <th>3</th>\n",
              "      <td>-66.0</td>\n",
              "      <td>-62.0</td>\n",
              "      <td>-52.0</td>\n",
              "      <td>-52.0</td>\n",
              "      <td>-71.0</td>\n",
              "      <td>1.0</td>\n",
              "    </tr>\n",
              "    <tr>\n",
              "      <th>4</th>\n",
              "      <td>-69.0</td>\n",
              "      <td>-54.0</td>\n",
              "      <td>-55.0</td>\n",
              "      <td>-62.0</td>\n",
              "      <td>-68.0</td>\n",
              "      <td>1.0</td>\n",
              "    </tr>\n",
              "  </tbody>\n",
              "</table>\n",
              "</div>"
            ],
            "text/plain": [
              "   Be07  Be08  Be09  Be10  Be11  Sector\n",
              "0 -68.0 -53.0 -53.0 -59.0 -69.0     1.0\n",
              "1 -65.0 -61.0 -55.0 -57.0 -63.0     1.0\n",
              "2 -69.0 -54.0 -53.0 -59.0 -70.0     1.0\n",
              "3 -66.0 -62.0 -52.0 -52.0 -71.0     1.0\n",
              "4 -69.0 -54.0 -55.0 -62.0 -68.0     1.0"
            ]
          },
          "metadata": {
            "tags": []
          },
          "execution_count": 8
        }
      ]
    },
    {
      "cell_type": "markdown",
      "metadata": {
        "id": "yYJfrt7kTyRv",
        "colab_type": "text"
      },
      "source": [
        "## Utils\n"
      ]
    },
    {
      "cell_type": "code",
      "metadata": {
        "id": "kF6kPGXeT1CT",
        "colab_type": "code",
        "colab": {}
      },
      "source": [
        "def reshape_to_matrix_rssi(x_sector,size):\n",
        "  total_sample ,n = x_sector.shape\n",
        "  residual_elem = total_sample % size\n",
        "  return x_sector[0:total_sample-residual_elem,:].reshape(-1,size,n)"
      ],
      "execution_count": 0,
      "outputs": []
    },
    {
      "cell_type": "code",
      "metadata": {
        "id": "1Iz83qb3T2SD",
        "colab_type": "code",
        "colab": {}
      },
      "source": [
        "def train_test_split_rssi(df, test_size= 0.1, random_state=27, tam_slices =20):\n",
        "  x =  df.drop(target_label, axis= 1).values\n",
        "  y = df[target_label].values\n",
        "  labelencoder_y = LabelEncoder()\n",
        "  y = labelencoder_y.fit_transform(y)  \n",
        "  _, countsTotal = np.unique(y, return_counts=True)\n",
        "  n = x.shape[0]\n",
        "  data_shape = x.shape[1:]\n",
        "  n_rand = math.floor(np.floor(countsTotal/tam_slices).sum() * 0.1)\n",
        "  np.random.seed(random_state)\n",
        "  n_lables = np.unique(y).shape\n",
        "  rand_labels = np.random.randint(n_lables, size=n_rand)\n",
        "  unique, counts = np.unique(rand_labels, return_counts=True)\n",
        "  x_train = np.array([])\n",
        "  x_test = np.array([])\n",
        "  y_train = np.array([])  \n",
        "  y_test = np.array([])\n",
        "  for index, label in enumerate(unique):\n",
        "    tam_block = counts[index]*tam_slices\n",
        "    tam_total = y[y == label].shape[0]\n",
        "    init_block = np.random.randint(tam_total-tam_block,size=1)[0] \n",
        "    x_sector = x[y == label,:]\n",
        "    map_split = [[0,init_block],[init_block+tam_block,tam_total]]\n",
        "    series_sector = np.array([])\n",
        "    for split in map_split:\n",
        "      for i in range(tam_slices):\n",
        "        if(split[0]==0 and i== 0 and label == 0 ):\n",
        "          series_sector = reshape_to_matrix_rssi(x_sector[0:split[1],:], tam_slices)\n",
        "          x_train =  series_sector\n",
        "          y_train = np.ones(series_sector.shape[0])*label \n",
        "        else:\n",
        "          series_sector = reshape_to_matrix_rssi(x_sector[split[0]+i:split[1],:],tam_slices)\n",
        "          x_train = np.concatenate((x_train, series_sector))\n",
        "          y_train = np.concatenate((y_train,np.ones(series_sector.shape[0])*label))\n",
        "    if(label == 0):\n",
        "      block_sector = reshape_to_matrix_rssi(x_sector[init_block:init_block+tam_block,:],tam_slices)\n",
        "      x_test = block_sector\n",
        "      y_test = np.ones(block_sector.shape[0])*label       \n",
        "    else:\n",
        "      block_sector = reshape_to_matrix_rssi(x_sector[init_block:init_block+tam_block,:],tam_slices)\n",
        "      x_test = np.concatenate((x_test,block_sector))\n",
        "      y_test = np.concatenate((y_test,np.ones(block_sector.shape[0])*label))\n",
        "  x_train,y_train = shuffle(x_train,y_train)\n",
        "  x_test,y_test = shuffle(x_test,y_test)\n",
        "  return x_train, x_test, y_train, y_test"
      ],
      "execution_count": 0,
      "outputs": []
    },
    {
      "cell_type": "code",
      "metadata": {
        "id": "Cfqsw_M6T9cw",
        "colab_type": "code",
        "colab": {}
      },
      "source": [
        "def windows_slicing_aug_and_split(df,target_label ,size = 20):\n",
        "  dataset = df.copy()\n",
        "  x_train, x_test, y_train, y_test = train_test_split_rssi(dataset,test_size= 0.1, random_state=27, tam_slices =tam_slices)\n",
        "  return x_train, x_test, y_train, y_test"
      ],
      "execution_count": 0,
      "outputs": []
    },
    {
      "cell_type": "code",
      "metadata": {
        "id": "FeR3kufaXCUz",
        "colab_type": "code",
        "colab": {}
      },
      "source": [
        "def visualzation_accuracy_loss_values_epochs(history,title = ''):\n",
        "  fig, axs = plt.subplots(1, 2,figsize=(15, 5))\n",
        "  fig.suptitle(title)\n",
        "  axs[0].plot(history.history['sparse_categorical_accuracy'])\n",
        "  axs[0].plot(history.history['val_sparse_categorical_accuracy'])\n",
        "  axs[0].set_title('Model Accuracy')\n",
        "  axs[0].set_ylabel('Precision')\n",
        "  axs[0].set_xlabel('Epocas')\n",
        "  axs[0].legend(['Train', 'Test'], loc='upper left')\n",
        "  axs[1].plot(history.history['loss'])\n",
        "  axs[1].plot(history.history['val_loss'])\n",
        "  axs[1].set_title('Model loss')\n",
        "  axs[1].set_ylabel('Loss')\n",
        "  axs[1].set_xlabel('Epoch')\n",
        "  axs[1].legend(['Train', 'Test'], loc='upper left')"
      ],
      "execution_count": 0,
      "outputs": []
    },
    {
      "cell_type": "markdown",
      "metadata": {
        "id": "grdI5po4HMLG",
        "colab_type": "text"
      },
      "source": [
        "### Preprocesado de datos\n"
      ]
    },
    {
      "cell_type": "markdown",
      "metadata": {
        "id": "5FcJq8ehIClL",
        "colab_type": "text"
      },
      "source": [
        "#### Normalizacion de los datos de entrada"
      ]
    },
    {
      "cell_type": "code",
      "metadata": {
        "id": "bEi21RUwjLRz",
        "colab_type": "code",
        "colab": {}
      },
      "source": [
        "def data_normalization(df,target_label):\n",
        "  columns = df.drop(target_label, axis= 1).columns\n",
        "  df_x = df[columns].values\n",
        "  scaler = StandardScaler()\n",
        "  scaler.fit(df_x)\n",
        "  df_standarizaded= scaler.transform(df_x)\n",
        "  df[columns] = pd.DataFrame(df_standarizaded,columns = columns)\n",
        "  return df"
      ],
      "execution_count": 0,
      "outputs": []
    },
    {
      "cell_type": "code",
      "metadata": {
        "id": "VzJV7aGkj5Em",
        "colab_type": "code",
        "colab": {}
      },
      "source": [
        "for dataset in datasets:\n",
        "  dataset['data'] = data_normalization(dataset['data'],target_label=target_label)"
      ],
      "execution_count": 0,
      "outputs": []
    },
    {
      "cell_type": "code",
      "metadata": {
        "id": "sSV8Lvoqjht2",
        "colab_type": "code",
        "outputId": "caf2e796-b730-42fd-af38-57a1bf0f81b5",
        "colab": {
          "base_uri": "https://localhost:8080/",
          "height": 204
        }
      },
      "source": [
        "datasets[0]['data'].head()"
      ],
      "execution_count": 15,
      "outputs": [
        {
          "output_type": "execute_result",
          "data": {
            "text/html": [
              "<div>\n",
              "<style scoped>\n",
              "    .dataframe tbody tr th:only-of-type {\n",
              "        vertical-align: middle;\n",
              "    }\n",
              "\n",
              "    .dataframe tbody tr th {\n",
              "        vertical-align: top;\n",
              "    }\n",
              "\n",
              "    .dataframe thead th {\n",
              "        text-align: right;\n",
              "    }\n",
              "</style>\n",
              "<table border=\"1\" class=\"dataframe\">\n",
              "  <thead>\n",
              "    <tr style=\"text-align: right;\">\n",
              "      <th></th>\n",
              "      <th>Be07</th>\n",
              "      <th>Be08</th>\n",
              "      <th>Be09</th>\n",
              "      <th>Be10</th>\n",
              "      <th>Be11</th>\n",
              "      <th>Sector</th>\n",
              "    </tr>\n",
              "  </thead>\n",
              "  <tbody>\n",
              "    <tr>\n",
              "      <th>0</th>\n",
              "      <td>0.105182</td>\n",
              "      <td>0.983430</td>\n",
              "      <td>1.878792</td>\n",
              "      <td>-0.323436</td>\n",
              "      <td>-0.030828</td>\n",
              "      <td>1.0</td>\n",
              "    </tr>\n",
              "    <tr>\n",
              "      <th>1</th>\n",
              "      <td>0.619716</td>\n",
              "      <td>-0.256376</td>\n",
              "      <td>1.592554</td>\n",
              "      <td>0.027828</td>\n",
              "      <td>1.052030</td>\n",
              "      <td>1.0</td>\n",
              "    </tr>\n",
              "    <tr>\n",
              "      <th>2</th>\n",
              "      <td>-0.066329</td>\n",
              "      <td>0.828454</td>\n",
              "      <td>1.878792</td>\n",
              "      <td>-0.323436</td>\n",
              "      <td>-0.211304</td>\n",
              "      <td>1.0</td>\n",
              "    </tr>\n",
              "    <tr>\n",
              "      <th>3</th>\n",
              "      <td>0.448205</td>\n",
              "      <td>-0.411352</td>\n",
              "      <td>2.021912</td>\n",
              "      <td>0.905988</td>\n",
              "      <td>-0.391780</td>\n",
              "      <td>1.0</td>\n",
              "    </tr>\n",
              "    <tr>\n",
              "      <th>4</th>\n",
              "      <td>-0.066329</td>\n",
              "      <td>0.828454</td>\n",
              "      <td>1.592554</td>\n",
              "      <td>-0.850331</td>\n",
              "      <td>0.149649</td>\n",
              "      <td>1.0</td>\n",
              "    </tr>\n",
              "  </tbody>\n",
              "</table>\n",
              "</div>"
            ],
            "text/plain": [
              "       Be07      Be08      Be09      Be10      Be11  Sector\n",
              "0  0.105182  0.983430  1.878792 -0.323436 -0.030828     1.0\n",
              "1  0.619716 -0.256376  1.592554  0.027828  1.052030     1.0\n",
              "2 -0.066329  0.828454  1.878792 -0.323436 -0.211304     1.0\n",
              "3  0.448205 -0.411352  2.021912  0.905988 -0.391780     1.0\n",
              "4 -0.066329  0.828454  1.592554 -0.850331  0.149649     1.0"
            ]
          },
          "metadata": {
            "tags": []
          },
          "execution_count": 15
        }
      ]
    },
    {
      "cell_type": "markdown",
      "metadata": {
        "id": "-w1U47Pb_Rw9",
        "colab_type": "text"
      },
      "source": [
        "### Transfomacion de datos a matriz de serie de tiempo multivariante\n",
        "  La matriz se genera de una porcion de la serie tiempo de tamando tomando 20 vectores de las lecturas de rssi para cada Punto acceso formandose imagenes de (num_rssi) X (num_puntos de acceso) . En esta cado 20 x 5\n"
      ]
    },
    {
      "cell_type": "code",
      "metadata": {
        "id": "fhb0Boj1_Zo8",
        "colab_type": "code",
        "colab": {}
      },
      "source": [
        "# Tamano de porcion utiliza para generar las images\n",
        "tam_slices = 20"
      ],
      "execution_count": 0,
      "outputs": []
    },
    {
      "cell_type": "code",
      "metadata": {
        "id": "u3SZTzGn_0xG",
        "colab_type": "code",
        "colab": {}
      },
      "source": [
        "def transfrom_data_to_matrix(dataset,target_label ,shape = (20,5)):\n",
        "  sectors = dataset[target_label].unique()\n",
        "  x_images = np.array([])\n",
        "  y_labels = np.array([])\n",
        "  for sector  in sectors:\n",
        "    df_sector = dataset[dataset.Sector == sector]\n",
        "    x_sector =  df_sector.drop(target_label, axis= 1).values\n",
        "    residual_elem = x_sector.shape[0] % tam_slices\n",
        "    images_sector = x_sector[0:-residual_elem,:].reshape(-1,shape[0],shape[1])\n",
        "    labels = np.ones(images_sector.shape[0])*sector \n",
        "    if sector == 1: \n",
        "      x_images = images_sector\n",
        "      y_labels = labels.reshape(-1)\n",
        "    else: \n",
        "      x_images = np.concatenate((x_images, images_sector))\n",
        "      y_labels = np.concatenate((y_labels, labels.reshape(-1)))\n",
        "  labelencoder_y = LabelEncoder()\n",
        "  y_labels = labelencoder_y.fit_transform(y_labels)    \n",
        "  return  x_images, y_labels "
      ],
      "execution_count": 0,
      "outputs": []
    },
    {
      "cell_type": "code",
      "metadata": {
        "id": "W4PMKJPSyggD",
        "colab_type": "code",
        "colab": {}
      },
      "source": [
        "for dataset in datasets:\n",
        "  #dataset['data'] = data_normalization(dataset['data'],target_label=target_label)\n",
        "  X,  y = transfrom_data_to_matrix(dataset['data'],target_label = target_label,shape = (tam_slices,5))\n",
        "  x_train, x_test, y_train, y_test = train_test_split(X,y, test_size= 0.10, random_state=27)\n",
        "  dataset['x_train'] =  x_train\n",
        "  dataset['x_test'] =  x_test\n",
        "  dataset['y_train'] =  y_train\n",
        "  dataset['y_test'] =  y_test"
      ],
      "execution_count": 0,
      "outputs": []
    },
    {
      "cell_type": "markdown",
      "metadata": {
        "id": "nCnuLqtZFIJB",
        "colab_type": "text"
      },
      "source": [
        "## Modelo CNN1D\n",
        "\n"
      ]
    },
    {
      "cell_type": "code",
      "metadata": {
        "id": "D3-ocjc7MIc8",
        "colab_type": "code",
        "colab": {}
      },
      "source": [
        "class CNN1D:\n",
        "  def __init__(self):\n",
        "    self.model = tf.keras.models.Sequential()\n",
        "  def create(self,dropout = False ,input_shape = (20,5)):\n",
        "    self.model.add(tf.keras.layers.Conv1D(64, 3, activation='relu', input_shape=input_shape))\n",
        "    self.model.add(tf.keras.layers.Conv1D(64, 3, activation='relu'))\n",
        "    self.model.add(tf.keras.layers.MaxPooling1D(2))\n",
        "    self.model.add(tf.keras.layers.Conv1D(128, 3, activation='relu'))\n",
        "    self.model.add(tf.keras.layers.Conv1D(128, 3, activation='relu'))\n",
        "    self.model.add(tf.keras.layers.GlobalAveragePooling1D())\n",
        "    if(dropout):\n",
        "      self.model.add(tf.keras.layers.Dropout(0.2))\n",
        "    self.model.add(tf.keras.layers.Dense(15, activation='softmax'))\n",
        "    self.model.compile(loss=\"sparse_categorical_crossentropy\", optimizer='adam', metrics=[\"sparse_categorical_accuracy\"])\n",
        "    #print(self.model.summary())\n",
        "    #plot_model(self.model, to_file='model.png')\n",
        "  def run(self,x_train,y_train,early_stoping = False):\n",
        "    if(early_stoping):\n",
        "      monitor = EarlyStopping(monitor='val_loss', min_delta=1e-3, patience=50, verbose=1, mode='auto',restore_best_weights=True)\n",
        "      self.history = self.model.fit(x_train, y_train, validation_split=0.20,callbacks=[monitor] ,batch_size=16, epochs=200 , verbose = 1)\n",
        "    else:\n",
        "      self.history = self.model.fit(x_train, y_train, validation_split=0.20 ,batch_size=32, epochs=200 , verbose = 1)\n",
        "  def vizualizate_train(self,visualzation_accuracy_loss_values_epochs,title):\n",
        "    visualzation_accuracy_loss_values_epochs(self.history,title)\n",
        "  def evaluate(self,x_test,y_test):\n",
        "    self.test_loss, self.test_accuracy = self.model.evaluate(x_test, y_test)\n",
        "    print(\"Precisión en el conjunto de prueba: {}\".format(self.test_accuracy))\n",
        "    print(\"Valor de la perdidad en el conjunto de prueba: {}\".format(self.test_loss))"
      ],
      "execution_count": 0,
      "outputs": []
    },
    {
      "cell_type": "code",
      "metadata": {
        "id": "8Krshmb7Tt3T",
        "colab_type": "code",
        "outputId": "2fb59d3b-4a66-4376-8cf1-b957a1ef62b6",
        "colab": {
          "base_uri": "https://localhost:8080/",
          "height": 1000
        }
      },
      "source": [
        "model_cnn1d = CNN1D()\n",
        "model_cnn1d.create(dropout=True)\n",
        "print(\"Resumen de hiperparametros de las CNN1D\")\n",
        "print(model_cnn1d.model.summary())\n",
        "print(\"Arquitectura secuencial de la CNN1D\")\n",
        "plot_model(model_cnn1d.model, to_file='model.png')"
      ],
      "execution_count": 21,
      "outputs": [
        {
          "output_type": "stream",
          "text": [
            "Resumen de hiperparametros de las CNN1D\n",
            "Model: \"sequential\"\n",
            "_________________________________________________________________\n",
            "Layer (type)                 Output Shape              Param #   \n",
            "=================================================================\n",
            "conv1d (Conv1D)              (None, 18, 64)            1024      \n",
            "_________________________________________________________________\n",
            "conv1d_1 (Conv1D)            (None, 16, 64)            12352     \n",
            "_________________________________________________________________\n",
            "max_pooling1d (MaxPooling1D) (None, 8, 64)             0         \n",
            "_________________________________________________________________\n",
            "conv1d_2 (Conv1D)            (None, 6, 128)            24704     \n",
            "_________________________________________________________________\n",
            "conv1d_3 (Conv1D)            (None, 4, 128)            49280     \n",
            "_________________________________________________________________\n",
            "global_average_pooling1d (Gl (None, 128)               0         \n",
            "_________________________________________________________________\n",
            "dropout (Dropout)            (None, 128)               0         \n",
            "_________________________________________________________________\n",
            "dense (Dense)                (None, 15)                1935      \n",
            "=================================================================\n",
            "Total params: 89,295\n",
            "Trainable params: 89,295\n",
            "Non-trainable params: 0\n",
            "_________________________________________________________________\n",
            "None\n",
            "Arquitectura secuencial de la CNN1D\n"
          ],
          "name": "stdout"
        },
        {
          "output_type": "execute_result",
          "data": {
            "image/png": "[encoded data removed]",
            "text/plain": [
              "<IPython.core.display.Image object>"
            ]
          },
          "metadata": {
            "tags": []
          },
          "execution_count": 21
        }
      ]
    },
    {
      "cell_type": "markdown",
      "metadata": {
        "id": "QsB7geRNmqxR",
        "colab_type": "text"
      },
      "source": [
        "### Entrenamiento de modelo \n",
        "Se entrenan diferentes modelos con la arquitectura propuesta para los 7 datasets obtenidos."
      ]
    },
    {
      "cell_type": "code",
      "metadata": {
        "id": "Af03Tgy6n_2m",
        "colab_type": "code",
        "colab": {}
      },
      "source": [
        "for dataset in datasets:\n",
        "  model_cnn1d  = CNN1D()\n",
        "  model_cnn1d.create(dropout=True)\n",
        "  dataset[\"model\"] = model_cnn1d\n",
        "  #model_cnn1d_dp_es.run(x_train,y_train,early_stoping=True)"
      ],
      "execution_count": 0,
      "outputs": []
    },
    {
      "cell_type": "markdown",
      "metadata": {
        "id": "M3n9KsXZ1l4_",
        "colab_type": "text"
      },
      "source": [
        "#### Entrenamiento para nivel de fuerza Tx_0x01"
      ]
    },
    {
      "cell_type": "code",
      "metadata": {
        "id": "ML6370Jb19_a",
        "colab_type": "code",
        "outputId": "edd0e31f-5f23-4a4a-80ca-b33ae25a886b",
        "colab": {
          "base_uri": "https://localhost:8080/",
          "height": 1000
        }
      },
      "source": [
        "index_ds = 0\n",
        "x_train = datasets[index_ds]['x_train']\n",
        "y_train = datasets[index_ds]['y_train']\n",
        "datasets[index_ds]['model'].run(x_train,y_train,early_stoping=True)"
      ],
      "execution_count": 23,
      "outputs": [
        {
          "output_type": "stream",
          "text": [
            "Train on 243 samples, validate on 61 samples\n",
            "Epoch 1/200\n",
            "243/243 [==============================] - 4s 16ms/sample - loss: 2.4768 - sparse_categorical_accuracy: 0.2016 - val_loss: 2.2116 - val_sparse_categorical_accuracy: 0.3607\n",
            "Epoch 2/200\n",
            "243/243 [==============================] - 0s 537us/sample - loss: 1.6654 - sparse_categorical_accuracy: 0.4856 - val_loss: 1.3570 - val_sparse_categorical_accuracy: 0.5246\n",
            "Epoch 3/200\n",
            "243/243 [==============================] - 0s 535us/sample - loss: 1.0685 - sparse_categorical_accuracy: 0.6296 - val_loss: 0.8589 - val_sparse_categorical_accuracy: 0.7377\n",
            "Epoch 4/200\n",
            "243/243 [==============================] - 0s 590us/sample - loss: 0.7149 - sparse_categorical_accuracy: 0.7407 - val_loss: 0.6670 - val_sparse_categorical_accuracy: 0.7705\n",
            "Epoch 5/200\n",
            "243/243 [==============================] - 0s 518us/sample - loss: 0.5914 - sparse_categorical_accuracy: 0.8066 - val_loss: 0.6536 - val_sparse_categorical_accuracy: 0.7213\n",
            "Epoch 6/200\n",
            "243/243 [==============================] - 0s 524us/sample - loss: 0.4227 - sparse_categorical_accuracy: 0.8436 - val_loss: 0.4462 - val_sparse_categorical_accuracy: 0.8525\n",
            "Epoch 7/200\n",
            "243/243 [==============================] - 0s 519us/sample - loss: 0.3273 - sparse_categorical_accuracy: 0.8971 - val_loss: 0.4962 - val_sparse_categorical_accuracy: 0.8361\n",
            "Epoch 8/200\n",
            "243/243 [==============================] - 0s 521us/sample - loss: 0.4042 - sparse_categorical_accuracy: 0.8642 - val_loss: 0.6810 - val_sparse_categorical_accuracy: 0.7049\n",
            "Epoch 9/200\n",
            "243/243 [==============================] - 0s 521us/sample - loss: 0.3095 - sparse_categorical_accuracy: 0.8930 - val_loss: 0.4707 - val_sparse_categorical_accuracy: 0.8361\n",
            "Epoch 10/200\n",
            "243/243 [==============================] - 0s 521us/sample - loss: 0.2399 - sparse_categorical_accuracy: 0.9300 - val_loss: 0.4705 - val_sparse_categorical_accuracy: 0.8361\n",
            "Epoch 11/200\n",
            "243/243 [==============================] - 0s 553us/sample - loss: 0.2135 - sparse_categorical_accuracy: 0.9218 - val_loss: 0.4051 - val_sparse_categorical_accuracy: 0.8525\n",
            "Epoch 12/200\n",
            "243/243 [==============================] - 0s 594us/sample - loss: 0.1554 - sparse_categorical_accuracy: 0.9588 - val_loss: 0.4716 - val_sparse_categorical_accuracy: 0.8525\n",
            "Epoch 13/200\n",
            "243/243 [==============================] - 0s 508us/sample - loss: 0.1398 - sparse_categorical_accuracy: 0.9465 - val_loss: 0.4198 - val_sparse_categorical_accuracy: 0.8525\n",
            "Epoch 14/200\n",
            "243/243 [==============================] - 0s 521us/sample - loss: 0.1786 - sparse_categorical_accuracy: 0.9465 - val_loss: 0.4585 - val_sparse_categorical_accuracy: 0.8689\n",
            "Epoch 15/200\n",
            "243/243 [==============================] - 0s 537us/sample - loss: 0.1413 - sparse_categorical_accuracy: 0.9588 - val_loss: 0.3100 - val_sparse_categorical_accuracy: 0.9180\n",
            "Epoch 16/200\n",
            "243/243 [==============================] - 0s 536us/sample - loss: 0.1171 - sparse_categorical_accuracy: 0.9671 - val_loss: 0.4904 - val_sparse_categorical_accuracy: 0.8525\n",
            "Epoch 17/200\n",
            "243/243 [==============================] - 0s 508us/sample - loss: 0.1171 - sparse_categorical_accuracy: 0.9588 - val_loss: 0.3745 - val_sparse_categorical_accuracy: 0.9180\n",
            "Epoch 18/200\n",
            "243/243 [==============================] - 0s 507us/sample - loss: 0.1035 - sparse_categorical_accuracy: 0.9671 - val_loss: 0.3419 - val_sparse_categorical_accuracy: 0.9016\n",
            "Epoch 19/200\n",
            "243/243 [==============================] - 0s 584us/sample - loss: 0.0685 - sparse_categorical_accuracy: 0.9794 - val_loss: 0.4090 - val_sparse_categorical_accuracy: 0.9016\n",
            "Epoch 20/200\n",
            "243/243 [==============================] - 0s 498us/sample - loss: 0.0715 - sparse_categorical_accuracy: 0.9712 - val_loss: 0.4887 - val_sparse_categorical_accuracy: 0.8525\n",
            "Epoch 21/200\n",
            "243/243 [==============================] - 0s 461us/sample - loss: 0.0885 - sparse_categorical_accuracy: 0.9671 - val_loss: 0.3687 - val_sparse_categorical_accuracy: 0.8197\n",
            "Epoch 22/200\n",
            "243/243 [==============================] - 0s 508us/sample - loss: 0.0541 - sparse_categorical_accuracy: 0.9835 - val_loss: 0.3406 - val_sparse_categorical_accuracy: 0.8852\n",
            "Epoch 23/200\n",
            "243/243 [==============================] - 0s 568us/sample - loss: 0.0473 - sparse_categorical_accuracy: 0.9918 - val_loss: 0.3694 - val_sparse_categorical_accuracy: 0.8852\n",
            "Epoch 24/200\n",
            "243/243 [==============================] - 0s 539us/sample - loss: 0.0463 - sparse_categorical_accuracy: 0.9835 - val_loss: 0.3945 - val_sparse_categorical_accuracy: 0.8852\n",
            "Epoch 25/200\n",
            "243/243 [==============================] - 0s 543us/sample - loss: 0.0640 - sparse_categorical_accuracy: 0.9835 - val_loss: 0.4798 - val_sparse_categorical_accuracy: 0.8689\n",
            "Epoch 26/200\n",
            "243/243 [==============================] - 0s 513us/sample - loss: 0.0649 - sparse_categorical_accuracy: 0.9794 - val_loss: 0.4401 - val_sparse_categorical_accuracy: 0.9016\n",
            "Epoch 27/200\n",
            "243/243 [==============================] - 0s 555us/sample - loss: 0.0441 - sparse_categorical_accuracy: 0.9877 - val_loss: 0.3865 - val_sparse_categorical_accuracy: 0.8689\n",
            "Epoch 28/200\n",
            "243/243 [==============================] - 0s 531us/sample - loss: 0.0450 - sparse_categorical_accuracy: 0.9877 - val_loss: 0.3999 - val_sparse_categorical_accuracy: 0.8852\n",
            "Epoch 29/200\n",
            "243/243 [==============================] - 0s 507us/sample - loss: 0.0379 - sparse_categorical_accuracy: 0.9877 - val_loss: 0.3245 - val_sparse_categorical_accuracy: 0.8689\n",
            "Epoch 30/200\n",
            "243/243 [==============================] - 0s 502us/sample - loss: 0.0271 - sparse_categorical_accuracy: 0.9918 - val_loss: 0.3865 - val_sparse_categorical_accuracy: 0.8852\n",
            "Epoch 31/200\n",
            "243/243 [==============================] - 0s 537us/sample - loss: 0.0455 - sparse_categorical_accuracy: 0.9835 - val_loss: 0.4326 - val_sparse_categorical_accuracy: 0.8361\n",
            "Epoch 32/200\n",
            "243/243 [==============================] - 0s 484us/sample - loss: 0.0393 - sparse_categorical_accuracy: 0.9794 - val_loss: 0.4303 - val_sparse_categorical_accuracy: 0.8689\n",
            "Epoch 33/200\n",
            "243/243 [==============================] - 0s 527us/sample - loss: 0.0399 - sparse_categorical_accuracy: 0.9918 - val_loss: 0.3357 - val_sparse_categorical_accuracy: 0.9016\n",
            "Epoch 34/200\n",
            "243/243 [==============================] - 0s 530us/sample - loss: 0.0174 - sparse_categorical_accuracy: 1.0000 - val_loss: 0.3477 - val_sparse_categorical_accuracy: 0.9180\n",
            "Epoch 35/200\n",
            "243/243 [==============================] - 0s 562us/sample - loss: 0.0239 - sparse_categorical_accuracy: 0.9918 - val_loss: 0.3412 - val_sparse_categorical_accuracy: 0.9180\n",
            "Epoch 36/200\n",
            "243/243 [==============================] - 0s 526us/sample - loss: 0.0212 - sparse_categorical_accuracy: 1.0000 - val_loss: 0.2832 - val_sparse_categorical_accuracy: 0.9344\n",
            "Epoch 37/200\n",
            "243/243 [==============================] - 0s 467us/sample - loss: 0.0267 - sparse_categorical_accuracy: 0.9877 - val_loss: 0.4483 - val_sparse_categorical_accuracy: 0.9016\n",
            "Epoch 38/200\n",
            "243/243 [==============================] - 0s 495us/sample - loss: 0.0352 - sparse_categorical_accuracy: 0.9877 - val_loss: 0.3956 - val_sparse_categorical_accuracy: 0.9016\n",
            "Epoch 39/200\n",
            "243/243 [==============================] - 0s 528us/sample - loss: 0.0152 - sparse_categorical_accuracy: 0.9959 - val_loss: 0.4420 - val_sparse_categorical_accuracy: 0.9016\n",
            "Epoch 40/200\n",
            "243/243 [==============================] - 0s 506us/sample - loss: 0.0146 - sparse_categorical_accuracy: 1.0000 - val_loss: 0.4161 - val_sparse_categorical_accuracy: 0.9344\n",
            "Epoch 41/200\n",
            "243/243 [==============================] - 0s 508us/sample - loss: 0.0113 - sparse_categorical_accuracy: 1.0000 - val_loss: 0.4040 - val_sparse_categorical_accuracy: 0.9016\n",
            "Epoch 42/200\n",
            "243/243 [==============================] - 0s 517us/sample - loss: 0.0139 - sparse_categorical_accuracy: 1.0000 - val_loss: 0.3603 - val_sparse_categorical_accuracy: 0.9180\n",
            "Epoch 43/200\n",
            "243/243 [==============================] - 0s 709us/sample - loss: 0.0071 - sparse_categorical_accuracy: 1.0000 - val_loss: 0.4332 - val_sparse_categorical_accuracy: 0.9016\n",
            "Epoch 44/200\n",
            "243/243 [==============================] - 0s 496us/sample - loss: 0.0100 - sparse_categorical_accuracy: 0.9959 - val_loss: 0.4096 - val_sparse_categorical_accuracy: 0.9180\n",
            "Epoch 45/200\n",
            "243/243 [==============================] - 0s 495us/sample - loss: 0.0104 - sparse_categorical_accuracy: 0.9959 - val_loss: 0.3855 - val_sparse_categorical_accuracy: 0.8852\n",
            "Epoch 46/200\n",
            "243/243 [==============================] - 0s 554us/sample - loss: 0.0076 - sparse_categorical_accuracy: 0.9959 - val_loss: 0.3440 - val_sparse_categorical_accuracy: 0.9180\n",
            "Epoch 47/200\n",
            "243/243 [==============================] - 0s 510us/sample - loss: 0.0113 - sparse_categorical_accuracy: 0.9959 - val_loss: 0.3030 - val_sparse_categorical_accuracy: 0.9180\n",
            "Epoch 48/200\n",
            "243/243 [==============================] - 0s 519us/sample - loss: 0.0143 - sparse_categorical_accuracy: 0.9959 - val_loss: 0.5632 - val_sparse_categorical_accuracy: 0.8852\n",
            "Epoch 49/200\n",
            "243/243 [==============================] - 0s 524us/sample - loss: 0.0160 - sparse_categorical_accuracy: 0.9918 - val_loss: 0.2733 - val_sparse_categorical_accuracy: 0.9344\n",
            "Epoch 50/200\n",
            "243/243 [==============================] - 0s 494us/sample - loss: 0.0074 - sparse_categorical_accuracy: 1.0000 - val_loss: 0.2789 - val_sparse_categorical_accuracy: 0.9672\n",
            "Epoch 51/200\n",
            "243/243 [==============================] - 0s 510us/sample - loss: 0.0054 - sparse_categorical_accuracy: 1.0000 - val_loss: 0.3028 - val_sparse_categorical_accuracy: 0.9672\n",
            "Epoch 52/200\n",
            "243/243 [==============================] - 0s 464us/sample - loss: 0.0178 - sparse_categorical_accuracy: 0.9959 - val_loss: 0.3975 - val_sparse_categorical_accuracy: 0.9508\n",
            "Epoch 53/200\n",
            "243/243 [==============================] - 0s 518us/sample - loss: 0.0099 - sparse_categorical_accuracy: 0.9959 - val_loss: 0.4438 - val_sparse_categorical_accuracy: 0.9344\n",
            "Epoch 54/200\n",
            "243/243 [==============================] - 0s 524us/sample - loss: 0.0062 - sparse_categorical_accuracy: 1.0000 - val_loss: 0.3802 - val_sparse_categorical_accuracy: 0.9180\n",
            "Epoch 55/200\n",
            "243/243 [==============================] - 0s 506us/sample - loss: 0.0043 - sparse_categorical_accuracy: 1.0000 - val_loss: 0.4357 - val_sparse_categorical_accuracy: 0.9344\n",
            "Epoch 56/200\n",
            "243/243 [==============================] - 0s 535us/sample - loss: 0.0033 - sparse_categorical_accuracy: 1.0000 - val_loss: 0.4288 - val_sparse_categorical_accuracy: 0.9344\n",
            "Epoch 57/200\n",
            "243/243 [==============================] - 0s 520us/sample - loss: 0.0020 - sparse_categorical_accuracy: 1.0000 - val_loss: 0.4537 - val_sparse_categorical_accuracy: 0.9344\n",
            "Epoch 58/200\n",
            "243/243 [==============================] - 0s 616us/sample - loss: 0.0031 - sparse_categorical_accuracy: 1.0000 - val_loss: 0.4842 - val_sparse_categorical_accuracy: 0.9344\n",
            "Epoch 59/200\n",
            "243/243 [==============================] - 0s 552us/sample - loss: 0.0015 - sparse_categorical_accuracy: 1.0000 - val_loss: 0.5082 - val_sparse_categorical_accuracy: 0.9180\n",
            "Epoch 60/200\n",
            "243/243 [==============================] - 0s 537us/sample - loss: 0.0016 - sparse_categorical_accuracy: 1.0000 - val_loss: 0.4796 - val_sparse_categorical_accuracy: 0.9180\n",
            "Epoch 61/200\n",
            "243/243 [==============================] - 0s 524us/sample - loss: 0.0017 - sparse_categorical_accuracy: 1.0000 - val_loss: 0.4705 - val_sparse_categorical_accuracy: 0.9508\n",
            "Epoch 62/200\n",
            "243/243 [==============================] - 0s 578us/sample - loss: 0.0012 - sparse_categorical_accuracy: 1.0000 - val_loss: 0.4595 - val_sparse_categorical_accuracy: 0.9508\n",
            "Epoch 63/200\n",
            "243/243 [==============================] - 0s 571us/sample - loss: 0.0011 - sparse_categorical_accuracy: 1.0000 - val_loss: 0.4703 - val_sparse_categorical_accuracy: 0.9508\n",
            "Epoch 64/200\n",
            "243/243 [==============================] - 0s 645us/sample - loss: 0.0011 - sparse_categorical_accuracy: 1.0000 - val_loss: 0.4529 - val_sparse_categorical_accuracy: 0.9344\n",
            "Epoch 65/200\n",
            "243/243 [==============================] - 0s 584us/sample - loss: 0.0013 - sparse_categorical_accuracy: 1.0000 - val_loss: 0.4727 - val_sparse_categorical_accuracy: 0.9508\n",
            "Epoch 66/200\n",
            "243/243 [==============================] - 0s 532us/sample - loss: 0.0017 - sparse_categorical_accuracy: 1.0000 - val_loss: 0.4580 - val_sparse_categorical_accuracy: 0.9344\n",
            "Epoch 67/200\n",
            "243/243 [==============================] - 0s 569us/sample - loss: 0.0011 - sparse_categorical_accuracy: 1.0000 - val_loss: 0.4154 - val_sparse_categorical_accuracy: 0.9672\n",
            "Epoch 68/200\n",
            "243/243 [==============================] - 0s 515us/sample - loss: 0.0021 - sparse_categorical_accuracy: 1.0000 - val_loss: 0.4202 - val_sparse_categorical_accuracy: 0.9508\n",
            "Epoch 69/200\n",
            "243/243 [==============================] - 0s 503us/sample - loss: 0.0010 - sparse_categorical_accuracy: 1.0000 - val_loss: 0.4711 - val_sparse_categorical_accuracy: 0.9508\n",
            "Epoch 70/200\n",
            "243/243 [==============================] - 0s 591us/sample - loss: 0.0015 - sparse_categorical_accuracy: 1.0000 - val_loss: 0.4500 - val_sparse_categorical_accuracy: 0.9508\n",
            "Epoch 71/200\n",
            "243/243 [==============================] - 0s 515us/sample - loss: 9.0631e-04 - sparse_categorical_accuracy: 1.0000 - val_loss: 0.4082 - val_sparse_categorical_accuracy: 0.9508\n",
            "Epoch 72/200\n",
            "243/243 [==============================] - 0s 517us/sample - loss: 0.0012 - sparse_categorical_accuracy: 1.0000 - val_loss: 0.4414 - val_sparse_categorical_accuracy: 0.9508\n",
            "Epoch 73/200\n",
            "243/243 [==============================] - 0s 557us/sample - loss: 5.4207e-04 - sparse_categorical_accuracy: 1.0000 - val_loss: 0.4780 - val_sparse_categorical_accuracy: 0.9508\n",
            "Epoch 74/200\n",
            "243/243 [==============================] - 0s 559us/sample - loss: 6.7656e-04 - sparse_categorical_accuracy: 1.0000 - val_loss: 0.4908 - val_sparse_categorical_accuracy: 0.9508\n",
            "Epoch 75/200\n",
            "243/243 [==============================] - 0s 563us/sample - loss: 0.0011 - sparse_categorical_accuracy: 1.0000 - val_loss: 0.5188 - val_sparse_categorical_accuracy: 0.9508\n",
            "Epoch 76/200\n",
            "243/243 [==============================] - 0s 515us/sample - loss: 0.0147 - sparse_categorical_accuracy: 0.9959 - val_loss: 0.5702 - val_sparse_categorical_accuracy: 0.9344\n",
            "Epoch 77/200\n",
            "243/243 [==============================] - 0s 504us/sample - loss: 0.0091 - sparse_categorical_accuracy: 0.9959 - val_loss: 0.3988 - val_sparse_categorical_accuracy: 0.9180\n",
            "Epoch 78/200\n",
            "243/243 [==============================] - 0s 489us/sample - loss: 0.0060 - sparse_categorical_accuracy: 1.0000 - val_loss: 0.4325 - val_sparse_categorical_accuracy: 0.9508\n",
            "Epoch 79/200\n",
            "243/243 [==============================] - 0s 559us/sample - loss: 0.0020 - sparse_categorical_accuracy: 1.0000 - val_loss: 0.5386 - val_sparse_categorical_accuracy: 0.9016\n",
            "Epoch 80/200\n",
            "243/243 [==============================] - 0s 488us/sample - loss: 0.0011 - sparse_categorical_accuracy: 1.0000 - val_loss: 0.5321 - val_sparse_categorical_accuracy: 0.9180\n",
            "Epoch 81/200\n",
            "243/243 [==============================] - 0s 529us/sample - loss: 0.0010 - sparse_categorical_accuracy: 1.0000 - val_loss: 0.5020 - val_sparse_categorical_accuracy: 0.9180\n",
            "Epoch 82/200\n",
            "243/243 [==============================] - 0s 535us/sample - loss: 5.8424e-04 - sparse_categorical_accuracy: 1.0000 - val_loss: 0.4797 - val_sparse_categorical_accuracy: 0.9508\n",
            "Epoch 83/200\n",
            "243/243 [==============================] - 0s 556us/sample - loss: 2.6830e-04 - sparse_categorical_accuracy: 1.0000 - val_loss: 0.4786 - val_sparse_categorical_accuracy: 0.9344\n",
            "Epoch 84/200\n",
            "243/243 [==============================] - 0s 504us/sample - loss: 0.0028 - sparse_categorical_accuracy: 1.0000 - val_loss: 0.6415 - val_sparse_categorical_accuracy: 0.9016\n",
            "Epoch 85/200\n",
            "243/243 [==============================] - 0s 529us/sample - loss: 0.0018 - sparse_categorical_accuracy: 1.0000 - val_loss: 0.4409 - val_sparse_categorical_accuracy: 0.9180\n",
            "Epoch 86/200\n",
            "243/243 [==============================] - 0s 503us/sample - loss: 0.0013 - sparse_categorical_accuracy: 1.0000 - val_loss: 0.4684 - val_sparse_categorical_accuracy: 0.9180\n",
            "Epoch 87/200\n",
            "243/243 [==============================] - 0s 545us/sample - loss: 8.9265e-04 - sparse_categorical_accuracy: 1.0000 - val_loss: 0.4924 - val_sparse_categorical_accuracy: 0.9180\n",
            "Epoch 88/200\n",
            "243/243 [==============================] - 0s 557us/sample - loss: 5.1091e-04 - sparse_categorical_accuracy: 1.0000 - val_loss: 0.5225 - val_sparse_categorical_accuracy: 0.9344\n",
            "Epoch 89/200\n",
            "243/243 [==============================] - 0s 561us/sample - loss: 4.8054e-04 - sparse_categorical_accuracy: 1.0000 - val_loss: 0.5444 - val_sparse_categorical_accuracy: 0.9344\n",
            "Epoch 90/200\n",
            "243/243 [==============================] - 0s 551us/sample - loss: 0.0075 - sparse_categorical_accuracy: 0.9918 - val_loss: 0.5033 - val_sparse_categorical_accuracy: 0.9180\n",
            "Epoch 91/200\n",
            "243/243 [==============================] - 0s 535us/sample - loss: 0.0020 - sparse_categorical_accuracy: 1.0000 - val_loss: 0.6618 - val_sparse_categorical_accuracy: 0.9016\n",
            "Epoch 92/200\n",
            "243/243 [==============================] - 0s 583us/sample - loss: 0.1273 - sparse_categorical_accuracy: 0.9794 - val_loss: 0.8075 - val_sparse_categorical_accuracy: 0.8197\n",
            "Epoch 93/200\n",
            "243/243 [==============================] - 0s 513us/sample - loss: 0.0267 - sparse_categorical_accuracy: 0.9959 - val_loss: 0.5760 - val_sparse_categorical_accuracy: 0.9016\n",
            "Epoch 94/200\n",
            "243/243 [==============================] - 0s 529us/sample - loss: 0.0244 - sparse_categorical_accuracy: 0.9959 - val_loss: 0.5683 - val_sparse_categorical_accuracy: 0.8361\n",
            "Epoch 95/200\n",
            "243/243 [==============================] - 0s 507us/sample - loss: 0.0110 - sparse_categorical_accuracy: 0.9959 - val_loss: 0.5099 - val_sparse_categorical_accuracy: 0.9180\n",
            "Epoch 96/200\n",
            "243/243 [==============================] - 0s 593us/sample - loss: 0.0075 - sparse_categorical_accuracy: 1.0000 - val_loss: 0.5940 - val_sparse_categorical_accuracy: 0.9016\n",
            "Epoch 97/200\n",
            "243/243 [==============================] - 0s 524us/sample - loss: 0.1050 - sparse_categorical_accuracy: 0.9588 - val_loss: 0.4219 - val_sparse_categorical_accuracy: 0.9180\n",
            "Epoch 98/200\n",
            "243/243 [==============================] - 0s 511us/sample - loss: 0.2705 - sparse_categorical_accuracy: 0.9383 - val_loss: 0.9939 - val_sparse_categorical_accuracy: 0.7869\n",
            "Epoch 99/200\n",
            "128/243 [==============>...............] - ETA: 0s - loss: 0.1937 - sparse_categorical_accuracy: 0.9453Restoring model weights from the end of the best epoch.\n",
            "243/243 [==============================] - 0s 540us/sample - loss: 0.1729 - sparse_categorical_accuracy: 0.9547 - val_loss: 0.3592 - val_sparse_categorical_accuracy: 0.9344\n",
            "Epoch 00099: early stopping\n"
          ],
          "name": "stdout"
        }
      ]
    },
    {
      "cell_type": "code",
      "metadata": {
        "id": "s9KC1dhG2-yb",
        "colab_type": "code",
        "outputId": "5a4f3813-5238-4ffd-b271-45a8c70d66e6",
        "colab": {
          "base_uri": "https://localhost:8080/",
          "height": 370
        }
      },
      "source": [
        "datasets[index_ds]['model'].vizualizate_train(visualzation_accuracy_loss_values_epochs=visualzation_accuracy_loss_values_epochs, title = \"Precisión en el en el conjunto de validacion atraves de las epocas. \" + datasets[index_ds]['name'] )"
      ],
      "execution_count": 24,
      "outputs": [
        {
          "output_type": "display_data",
          "data": {
            "image/png": "[encoded data removed]",
            "text/plain": [
              "<Figure size 1080x360 with 2 Axes>"
            ]
          },
          "metadata": {
            "tags": []
          }
        }
      ]
    },
    {
      "cell_type": "code",
      "metadata": {
        "id": "9kpO-XO4eQoA",
        "colab_type": "code",
        "outputId": "547c9438-d64f-4011-e1de-afb08a1de62f",
        "colab": {
          "base_uri": "https://localhost:8080/",
          "height": 68
        }
      },
      "source": [
        "  x_test = datasets[0][\"x_test\"]\n",
        "  y_test = datasets[0][\"y_test\"]\n",
        "  datasets[0]['model'].evaluate(x_test=x_test,y_test=y_test)"
      ],
      "execution_count": 25,
      "outputs": [
        {
          "output_type": "stream",
          "text": [
            "34/34 [==============================] - 0s 1ms/sample - loss: 0.3075 - sparse_categorical_accuracy: 0.9118\n",
            "Precisión en el conjunto de prueba: 0.9117646813392639\n",
            "Valor de la perdidad en el conjunto de prueba: 0.30748940916622053\n"
          ],
          "name": "stdout"
        }
      ]
    },
    {
      "cell_type": "markdown",
      "metadata": {
        "colab_type": "text",
        "id": "7FJFXECT5C09"
      },
      "source": [
        "#### Entrenamiento para nivel de fuerza Tx_0x02"
      ]
    },
    {
      "cell_type": "code",
      "metadata": {
        "id": "uCWf7Kr45N13",
        "colab_type": "code",
        "outputId": "973d12a5-4b1b-4ae0-ef89-ddc30b5ae793",
        "colab": {
          "base_uri": "https://localhost:8080/",
          "height": 1000
        }
      },
      "source": [
        "index_ds = 1\n",
        "x_train = datasets[index_ds]['x_train']\n",
        "y_train = datasets[index_ds]['y_train']\n",
        "datasets[index_ds]['model'].run(x_train,y_train,early_stoping=True)"
      ],
      "execution_count": 26,
      "outputs": [
        {
          "output_type": "stream",
          "text": [
            "Train on 197 samples, validate on 50 samples\n",
            "Epoch 1/200\n",
            "197/197 [==============================] - 1s 3ms/sample - loss: 2.4077 - sparse_categorical_accuracy: 0.2132 - val_loss: 2.0294 - val_sparse_categorical_accuracy: 0.3200\n",
            "Epoch 2/200\n",
            "197/197 [==============================] - 0s 581us/sample - loss: 1.6012 - sparse_categorical_accuracy: 0.4721 - val_loss: 1.2104 - val_sparse_categorical_accuracy: 0.7200\n",
            "Epoch 3/200\n",
            "197/197 [==============================] - 0s 549us/sample - loss: 0.8958 - sparse_categorical_accuracy: 0.7157 - val_loss: 0.6676 - val_sparse_categorical_accuracy: 0.8200\n",
            "Epoch 4/200\n",
            "197/197 [==============================] - 0s 661us/sample - loss: 0.5625 - sparse_categorical_accuracy: 0.8274 - val_loss: 0.5929 - val_sparse_categorical_accuracy: 0.8000\n",
            "Epoch 5/200\n",
            "197/197 [==============================] - 0s 570us/sample - loss: 0.4578 - sparse_categorical_accuracy: 0.8426 - val_loss: 0.3887 - val_sparse_categorical_accuracy: 0.9200\n",
            "Epoch 6/200\n",
            "197/197 [==============================] - 0s 559us/sample - loss: 0.2592 - sparse_categorical_accuracy: 0.9340 - val_loss: 0.5229 - val_sparse_categorical_accuracy: 0.8600\n",
            "Epoch 7/200\n",
            "197/197 [==============================] - 0s 537us/sample - loss: 0.2468 - sparse_categorical_accuracy: 0.9289 - val_loss: 0.4241 - val_sparse_categorical_accuracy: 0.9000\n",
            "Epoch 8/200\n",
            "197/197 [==============================] - 0s 518us/sample - loss: 0.1579 - sparse_categorical_accuracy: 0.9391 - val_loss: 0.5419 - val_sparse_categorical_accuracy: 0.8600\n",
            "Epoch 9/200\n",
            "197/197 [==============================] - 0s 543us/sample - loss: 0.1421 - sparse_categorical_accuracy: 0.9645 - val_loss: 0.4026 - val_sparse_categorical_accuracy: 0.9200\n",
            "Epoch 10/200\n",
            "197/197 [==============================] - 0s 583us/sample - loss: 0.1153 - sparse_categorical_accuracy: 0.9695 - val_loss: 0.4753 - val_sparse_categorical_accuracy: 0.9000\n",
            "Epoch 11/200\n",
            "197/197 [==============================] - 0s 567us/sample - loss: 0.1159 - sparse_categorical_accuracy: 0.9695 - val_loss: 0.4254 - val_sparse_categorical_accuracy: 0.9000\n",
            "Epoch 12/200\n",
            "197/197 [==============================] - 0s 637us/sample - loss: 0.0950 - sparse_categorical_accuracy: 0.9797 - val_loss: 0.5100 - val_sparse_categorical_accuracy: 0.8800\n",
            "Epoch 13/200\n",
            "197/197 [==============================] - 0s 568us/sample - loss: 0.0818 - sparse_categorical_accuracy: 0.9695 - val_loss: 0.4100 - val_sparse_categorical_accuracy: 0.9000\n",
            "Epoch 14/200\n",
            "197/197 [==============================] - 0s 549us/sample - loss: 0.0690 - sparse_categorical_accuracy: 0.9848 - val_loss: 0.4154 - val_sparse_categorical_accuracy: 0.8800\n",
            "Epoch 15/200\n",
            "197/197 [==============================] - 0s 560us/sample - loss: 0.0527 - sparse_categorical_accuracy: 0.9848 - val_loss: 0.5447 - val_sparse_categorical_accuracy: 0.9000\n",
            "Epoch 16/200\n",
            "197/197 [==============================] - 0s 551us/sample - loss: 0.0615 - sparse_categorical_accuracy: 0.9797 - val_loss: 0.3841 - val_sparse_categorical_accuracy: 0.9000\n",
            "Epoch 17/200\n",
            "197/197 [==============================] - 0s 522us/sample - loss: 0.0536 - sparse_categorical_accuracy: 0.9898 - val_loss: 0.4178 - val_sparse_categorical_accuracy: 0.9200\n",
            "Epoch 18/200\n",
            "197/197 [==============================] - 0s 561us/sample - loss: 0.0373 - sparse_categorical_accuracy: 0.9949 - val_loss: 0.4971 - val_sparse_categorical_accuracy: 0.9000\n",
            "Epoch 19/200\n",
            "197/197 [==============================] - 0s 588us/sample - loss: 0.0214 - sparse_categorical_accuracy: 1.0000 - val_loss: 0.4932 - val_sparse_categorical_accuracy: 0.9200\n",
            "Epoch 20/200\n",
            "197/197 [==============================] - 0s 557us/sample - loss: 0.0145 - sparse_categorical_accuracy: 1.0000 - val_loss: 0.4936 - val_sparse_categorical_accuracy: 0.9200\n",
            "Epoch 21/200\n",
            "197/197 [==============================] - 0s 597us/sample - loss: 0.0180 - sparse_categorical_accuracy: 1.0000 - val_loss: 0.5513 - val_sparse_categorical_accuracy: 0.9400\n",
            "Epoch 22/200\n",
            "197/197 [==============================] - 0s 546us/sample - loss: 0.0231 - sparse_categorical_accuracy: 0.9949 - val_loss: 0.5876 - val_sparse_categorical_accuracy: 0.8800\n",
            "Epoch 23/200\n",
            "197/197 [==============================] - 0s 572us/sample - loss: 0.0153 - sparse_categorical_accuracy: 1.0000 - val_loss: 0.5393 - val_sparse_categorical_accuracy: 0.9400\n",
            "Epoch 24/200\n",
            "197/197 [==============================] - 0s 581us/sample - loss: 0.0196 - sparse_categorical_accuracy: 0.9949 - val_loss: 0.5228 - val_sparse_categorical_accuracy: 0.9000\n",
            "Epoch 25/200\n",
            "197/197 [==============================] - 0s 523us/sample - loss: 0.0168 - sparse_categorical_accuracy: 1.0000 - val_loss: 0.5755 - val_sparse_categorical_accuracy: 0.9000\n",
            "Epoch 26/200\n",
            "197/197 [==============================] - 0s 535us/sample - loss: 0.0091 - sparse_categorical_accuracy: 1.0000 - val_loss: 0.6116 - val_sparse_categorical_accuracy: 0.9200\n",
            "Epoch 27/200\n",
            "197/197 [==============================] - 0s 538us/sample - loss: 0.0189 - sparse_categorical_accuracy: 0.9949 - val_loss: 0.6788 - val_sparse_categorical_accuracy: 0.8600\n",
            "Epoch 28/200\n",
            "197/197 [==============================] - 0s 566us/sample - loss: 0.0693 - sparse_categorical_accuracy: 0.9797 - val_loss: 0.4578 - val_sparse_categorical_accuracy: 0.9400\n",
            "Epoch 29/200\n",
            "197/197 [==============================] - 0s 566us/sample - loss: 0.0805 - sparse_categorical_accuracy: 0.9797 - val_loss: 0.6229 - val_sparse_categorical_accuracy: 0.8600\n",
            "Epoch 30/200\n",
            "197/197 [==============================] - 0s 591us/sample - loss: 0.0607 - sparse_categorical_accuracy: 0.9797 - val_loss: 0.7408 - val_sparse_categorical_accuracy: 0.8800\n",
            "Epoch 31/200\n",
            "197/197 [==============================] - 0s 544us/sample - loss: 0.0213 - sparse_categorical_accuracy: 1.0000 - val_loss: 0.4949 - val_sparse_categorical_accuracy: 0.9200\n",
            "Epoch 32/200\n",
            "197/197 [==============================] - 0s 562us/sample - loss: 0.0309 - sparse_categorical_accuracy: 0.9949 - val_loss: 0.6493 - val_sparse_categorical_accuracy: 0.9000\n",
            "Epoch 33/200\n",
            "197/197 [==============================] - 0s 554us/sample - loss: 0.0311 - sparse_categorical_accuracy: 0.9898 - val_loss: 0.4806 - val_sparse_categorical_accuracy: 0.9400\n",
            "Epoch 34/200\n",
            "197/197 [==============================] - 0s 540us/sample - loss: 0.0396 - sparse_categorical_accuracy: 0.9797 - val_loss: 0.5609 - val_sparse_categorical_accuracy: 0.9400\n",
            "Epoch 35/200\n",
            "197/197 [==============================] - 0s 545us/sample - loss: 0.0200 - sparse_categorical_accuracy: 0.9949 - val_loss: 0.6376 - val_sparse_categorical_accuracy: 0.8800\n",
            "Epoch 36/200\n",
            "197/197 [==============================] - 0s 523us/sample - loss: 0.0097 - sparse_categorical_accuracy: 1.0000 - val_loss: 0.5291 - val_sparse_categorical_accuracy: 0.9200\n",
            "Epoch 37/200\n",
            "197/197 [==============================] - 0s 583us/sample - loss: 0.0107 - sparse_categorical_accuracy: 1.0000 - val_loss: 0.5039 - val_sparse_categorical_accuracy: 0.9200\n",
            "Epoch 38/200\n",
            "197/197 [==============================] - 0s 551us/sample - loss: 0.0107 - sparse_categorical_accuracy: 1.0000 - val_loss: 0.5713 - val_sparse_categorical_accuracy: 0.9400\n",
            "Epoch 39/200\n",
            "197/197 [==============================] - 0s 586us/sample - loss: 0.0053 - sparse_categorical_accuracy: 1.0000 - val_loss: 0.6144 - val_sparse_categorical_accuracy: 0.9400\n",
            "Epoch 40/200\n",
            "197/197 [==============================] - 0s 566us/sample - loss: 0.0020 - sparse_categorical_accuracy: 1.0000 - val_loss: 0.6316 - val_sparse_categorical_accuracy: 0.9400\n",
            "Epoch 41/200\n",
            "197/197 [==============================] - 0s 549us/sample - loss: 0.0034 - sparse_categorical_accuracy: 1.0000 - val_loss: 0.6362 - val_sparse_categorical_accuracy: 0.9200\n",
            "Epoch 42/200\n",
            "197/197 [==============================] - 0s 511us/sample - loss: 0.0034 - sparse_categorical_accuracy: 1.0000 - val_loss: 0.6146 - val_sparse_categorical_accuracy: 0.9400\n",
            "Epoch 43/200\n",
            "197/197 [==============================] - 0s 531us/sample - loss: 0.0034 - sparse_categorical_accuracy: 1.0000 - val_loss: 0.5968 - val_sparse_categorical_accuracy: 0.9400\n",
            "Epoch 44/200\n",
            "197/197 [==============================] - 0s 570us/sample - loss: 0.0031 - sparse_categorical_accuracy: 1.0000 - val_loss: 0.6018 - val_sparse_categorical_accuracy: 0.9400\n",
            "Epoch 45/200\n",
            "197/197 [==============================] - 0s 566us/sample - loss: 0.0021 - sparse_categorical_accuracy: 1.0000 - val_loss: 0.6180 - val_sparse_categorical_accuracy: 0.9400\n",
            "Epoch 46/200\n",
            "197/197 [==============================] - 0s 528us/sample - loss: 0.0022 - sparse_categorical_accuracy: 1.0000 - val_loss: 0.6315 - val_sparse_categorical_accuracy: 0.9400\n",
            "Epoch 47/200\n",
            "197/197 [==============================] - 0s 507us/sample - loss: 8.0809e-04 - sparse_categorical_accuracy: 1.0000 - val_loss: 0.6541 - val_sparse_categorical_accuracy: 0.9200\n",
            "Epoch 48/200\n",
            "197/197 [==============================] - 0s 536us/sample - loss: 0.0012 - sparse_categorical_accuracy: 1.0000 - val_loss: 0.6483 - val_sparse_categorical_accuracy: 0.9200\n",
            "Epoch 49/200\n",
            "197/197 [==============================] - 0s 558us/sample - loss: 0.0011 - sparse_categorical_accuracy: 1.0000 - val_loss: 0.6243 - val_sparse_categorical_accuracy: 0.9400\n",
            "Epoch 50/200\n",
            "197/197 [==============================] - 0s 532us/sample - loss: 0.0012 - sparse_categorical_accuracy: 1.0000 - val_loss: 0.6105 - val_sparse_categorical_accuracy: 0.9400\n",
            "Epoch 51/200\n",
            "197/197 [==============================] - 0s 534us/sample - loss: 0.0011 - sparse_categorical_accuracy: 1.0000 - val_loss: 0.6153 - val_sparse_categorical_accuracy: 0.9400\n",
            "Epoch 52/200\n",
            "197/197 [==============================] - 0s 542us/sample - loss: 7.1990e-04 - sparse_categorical_accuracy: 1.0000 - val_loss: 0.6208 - val_sparse_categorical_accuracy: 0.9400\n",
            "Epoch 53/200\n",
            "197/197 [==============================] - 0s 527us/sample - loss: 8.3970e-04 - sparse_categorical_accuracy: 1.0000 - val_loss: 0.6275 - val_sparse_categorical_accuracy: 0.9400\n",
            "Epoch 54/200\n",
            "197/197 [==============================] - 0s 537us/sample - loss: 0.0010 - sparse_categorical_accuracy: 1.0000 - val_loss: 0.6371 - val_sparse_categorical_accuracy: 0.9400\n",
            "Epoch 55/200\n",
            "197/197 [==============================] - 0s 567us/sample - loss: 0.0026 - sparse_categorical_accuracy: 1.0000 - val_loss: 0.6546 - val_sparse_categorical_accuracy: 0.9400\n",
            "Epoch 56/200\n",
            "197/197 [==============================] - 0s 547us/sample - loss: 0.0014 - sparse_categorical_accuracy: 1.0000 - val_loss: 0.6762 - val_sparse_categorical_accuracy: 0.9400\n",
            "Epoch 57/200\n",
            "197/197 [==============================] - 0s 552us/sample - loss: 5.9700e-04 - sparse_categorical_accuracy: 1.0000 - val_loss: 0.6660 - val_sparse_categorical_accuracy: 0.9400\n",
            "Epoch 58/200\n",
            "197/197 [==============================] - 0s 573us/sample - loss: 0.0029 - sparse_categorical_accuracy: 1.0000 - val_loss: 0.6622 - val_sparse_categorical_accuracy: 0.9200\n",
            "Epoch 59/200\n",
            "197/197 [==============================] - 0s 559us/sample - loss: 0.0018 - sparse_categorical_accuracy: 1.0000 - val_loss: 0.6731 - val_sparse_categorical_accuracy: 0.9200\n",
            "Epoch 60/200\n",
            "197/197 [==============================] - 0s 538us/sample - loss: 0.0037 - sparse_categorical_accuracy: 1.0000 - val_loss: 0.6847 - val_sparse_categorical_accuracy: 0.9400\n",
            "Epoch 61/200\n",
            "197/197 [==============================] - 0s 586us/sample - loss: 0.0023 - sparse_categorical_accuracy: 1.0000 - val_loss: 0.6512 - val_sparse_categorical_accuracy: 0.9400\n",
            "Epoch 62/200\n",
            "197/197 [==============================] - 0s 553us/sample - loss: 0.0018 - sparse_categorical_accuracy: 1.0000 - val_loss: 0.6368 - val_sparse_categorical_accuracy: 0.9400\n",
            "Epoch 63/200\n",
            "197/197 [==============================] - 0s 626us/sample - loss: 0.0014 - sparse_categorical_accuracy: 1.0000 - val_loss: 0.6490 - val_sparse_categorical_accuracy: 0.9400\n",
            "Epoch 64/200\n",
            "197/197 [==============================] - 0s 589us/sample - loss: 0.0010 - sparse_categorical_accuracy: 1.0000 - val_loss: 0.6629 - val_sparse_categorical_accuracy: 0.9400\n",
            "Epoch 65/200\n",
            "197/197 [==============================] - 0s 552us/sample - loss: 0.0013 - sparse_categorical_accuracy: 1.0000 - val_loss: 0.6487 - val_sparse_categorical_accuracy: 0.9400\n",
            "Epoch 66/200\n",
            "144/197 [====================>.........] - ETA: 0s - loss: 7.4657e-04 - sparse_categorical_accuracy: 1.0000Restoring model weights from the end of the best epoch.\n",
            "197/197 [==============================] - 0s 556us/sample - loss: 5.7910e-04 - sparse_categorical_accuracy: 1.0000 - val_loss: 0.6464 - val_sparse_categorical_accuracy: 0.9400\n",
            "Epoch 00066: early stopping\n"
          ],
          "name": "stdout"
        }
      ]
    },
    {
      "cell_type": "code",
      "metadata": {
        "id": "0YZoF-w56Kfs",
        "colab_type": "code",
        "outputId": "c2a731ca-9cee-420d-a68b-10ec48642353",
        "colab": {
          "base_uri": "https://localhost:8080/",
          "height": 370
        }
      },
      "source": [
        "datasets[index_ds]['model'].vizualizate_train(visualzation_accuracy_loss_values_epochs=visualzation_accuracy_loss_values_epochs, title = \"Precisión en el en el conjunto de validacion atraves de las epocas. \" + datasets[index_ds]['name'] )"
      ],
      "execution_count": 27,
      "outputs": [
        {
          "output_type": "display_data",
          "data": {
            "image/png": "[encoded data removed]",
            "text/plain": [
              "<Figure size 1080x360 with 2 Axes>"
            ]
          },
          "metadata": {
            "tags": []
          }
        }
      ]
    },
    {
      "cell_type": "code",
      "metadata": {
        "id": "u7DI3aRLd3ld",
        "colab_type": "code",
        "colab": {
          "base_uri": "https://localhost:8080/",
          "height": 68
        },
        "outputId": "d6f9fe24-d40f-4316-95dc-9c8ebf9f9424"
      },
      "source": [
        "  x_test = datasets[1][\"x_test\"]\n",
        "  y_test = datasets[1][\"y_test\"]\n",
        "  datasets[1]['model'].evaluate(x_test=x_test,y_test=y_test)"
      ],
      "execution_count": 28,
      "outputs": [
        {
          "output_type": "stream",
          "text": [
            "\r28/28 [==============================] - 0s 471us/sample - loss: 0.2032 - sparse_categorical_accuracy: 0.9286\n",
            "Precisión en el conjunto de prueba: 0.9285714030265808\n",
            "Valor de la perdidad en el conjunto de prueba: 0.20318087935447693\n"
          ],
          "name": "stdout"
        }
      ]
    },
    {
      "cell_type": "markdown",
      "metadata": {
        "id": "KJGlItMF6SC1",
        "colab_type": "text"
      },
      "source": [
        "#### Entrenamiento para nivel de fuerza Tx_0x03"
      ]
    },
    {
      "cell_type": "code",
      "metadata": {
        "id": "FPjkDvey6Zbv",
        "colab_type": "code",
        "outputId": "853e6fa5-bcfa-4ac9-fa1b-41c4533d3222",
        "colab": {
          "base_uri": "https://localhost:8080/",
          "height": 1000
        }
      },
      "source": [
        "index_ds = 2\n",
        "x_train = datasets[index_ds]['x_train']\n",
        "y_train = datasets[index_ds]['y_train']\n",
        "datasets[index_ds]['model'].run(x_train,y_train,early_stoping=True)"
      ],
      "execution_count": 29,
      "outputs": [
        {
          "output_type": "stream",
          "text": [
            "Train on 217 samples, validate on 55 samples\n",
            "Epoch 1/200\n",
            "217/217 [==============================] - 0s 2ms/sample - loss: 2.5007 - sparse_categorical_accuracy: 0.2212 - val_loss: 2.1586 - val_sparse_categorical_accuracy: 0.3273\n",
            "Epoch 2/200\n",
            "217/217 [==============================] - 0s 549us/sample - loss: 1.5807 - sparse_categorical_accuracy: 0.5576 - val_loss: 1.1399 - val_sparse_categorical_accuracy: 0.6182\n",
            "Epoch 3/200\n",
            "217/217 [==============================] - 0s 514us/sample - loss: 0.8740 - sparse_categorical_accuracy: 0.7281 - val_loss: 0.5300 - val_sparse_categorical_accuracy: 0.9273\n",
            "Epoch 4/200\n",
            "217/217 [==============================] - 0s 563us/sample - loss: 0.6700 - sparse_categorical_accuracy: 0.7788 - val_loss: 0.4454 - val_sparse_categorical_accuracy: 0.8545\n",
            "Epoch 5/200\n",
            "217/217 [==============================] - 0s 503us/sample - loss: 0.4079 - sparse_categorical_accuracy: 0.8571 - val_loss: 0.3268 - val_sparse_categorical_accuracy: 0.8727\n",
            "Epoch 6/200\n",
            "217/217 [==============================] - 0s 497us/sample - loss: 0.3325 - sparse_categorical_accuracy: 0.9032 - val_loss: 0.2384 - val_sparse_categorical_accuracy: 0.9455\n",
            "Epoch 7/200\n",
            "217/217 [==============================] - 0s 540us/sample - loss: 0.2482 - sparse_categorical_accuracy: 0.9309 - val_loss: 0.1514 - val_sparse_categorical_accuracy: 0.9455\n",
            "Epoch 8/200\n",
            "217/217 [==============================] - 0s 529us/sample - loss: 0.1415 - sparse_categorical_accuracy: 0.9677 - val_loss: 0.1359 - val_sparse_categorical_accuracy: 0.9455\n",
            "Epoch 9/200\n",
            "217/217 [==============================] - 0s 548us/sample - loss: 0.1691 - sparse_categorical_accuracy: 0.9309 - val_loss: 0.1658 - val_sparse_categorical_accuracy: 0.9273\n",
            "Epoch 10/200\n",
            "217/217 [==============================] - 0s 556us/sample - loss: 0.1196 - sparse_categorical_accuracy: 0.9631 - val_loss: 0.1293 - val_sparse_categorical_accuracy: 0.9455\n",
            "Epoch 11/200\n",
            "217/217 [==============================] - 0s 523us/sample - loss: 0.0673 - sparse_categorical_accuracy: 0.9908 - val_loss: 0.1823 - val_sparse_categorical_accuracy: 0.9273\n",
            "Epoch 12/200\n",
            "217/217 [==============================] - 0s 496us/sample - loss: 0.0619 - sparse_categorical_accuracy: 0.9816 - val_loss: 0.2058 - val_sparse_categorical_accuracy: 0.9273\n",
            "Epoch 13/200\n",
            "217/217 [==============================] - 0s 532us/sample - loss: 0.0720 - sparse_categorical_accuracy: 0.9677 - val_loss: 0.1035 - val_sparse_categorical_accuracy: 0.9455\n",
            "Epoch 14/200\n",
            "217/217 [==============================] - 0s 498us/sample - loss: 0.0849 - sparse_categorical_accuracy: 0.9724 - val_loss: 0.2090 - val_sparse_categorical_accuracy: 0.9455\n",
            "Epoch 15/200\n",
            "217/217 [==============================] - 0s 519us/sample - loss: 0.0601 - sparse_categorical_accuracy: 0.9862 - val_loss: 0.1454 - val_sparse_categorical_accuracy: 0.9455\n",
            "Epoch 16/200\n",
            "217/217 [==============================] - 0s 528us/sample - loss: 0.0359 - sparse_categorical_accuracy: 0.9954 - val_loss: 0.1238 - val_sparse_categorical_accuracy: 0.9455\n",
            "Epoch 17/200\n",
            "217/217 [==============================] - 0s 490us/sample - loss: 0.0213 - sparse_categorical_accuracy: 1.0000 - val_loss: 0.1286 - val_sparse_categorical_accuracy: 0.9636\n",
            "Epoch 18/200\n",
            "217/217 [==============================] - 0s 505us/sample - loss: 0.0665 - sparse_categorical_accuracy: 0.9816 - val_loss: 0.1463 - val_sparse_categorical_accuracy: 0.9455\n",
            "Epoch 19/200\n",
            "217/217 [==============================] - 0s 520us/sample - loss: 0.0329 - sparse_categorical_accuracy: 0.9862 - val_loss: 0.1919 - val_sparse_categorical_accuracy: 0.9455\n",
            "Epoch 20/200\n",
            "217/217 [==============================] - 0s 567us/sample - loss: 0.0505 - sparse_categorical_accuracy: 0.9816 - val_loss: 0.1711 - val_sparse_categorical_accuracy: 0.9455\n",
            "Epoch 21/200\n",
            "217/217 [==============================] - 0s 540us/sample - loss: 0.0323 - sparse_categorical_accuracy: 0.9816 - val_loss: 0.1834 - val_sparse_categorical_accuracy: 0.9455\n",
            "Epoch 22/200\n",
            "217/217 [==============================] - 0s 508us/sample - loss: 0.0267 - sparse_categorical_accuracy: 0.9954 - val_loss: 0.1152 - val_sparse_categorical_accuracy: 0.9636\n",
            "Epoch 23/200\n",
            "217/217 [==============================] - 0s 512us/sample - loss: 0.0273 - sparse_categorical_accuracy: 0.9954 - val_loss: 0.0814 - val_sparse_categorical_accuracy: 0.9818\n",
            "Epoch 24/200\n",
            "217/217 [==============================] - 0s 508us/sample - loss: 0.0206 - sparse_categorical_accuracy: 0.9954 - val_loss: 0.0807 - val_sparse_categorical_accuracy: 0.9636\n",
            "Epoch 25/200\n",
            "217/217 [==============================] - 0s 523us/sample - loss: 0.0213 - sparse_categorical_accuracy: 0.9954 - val_loss: 0.1642 - val_sparse_categorical_accuracy: 0.9455\n",
            "Epoch 26/200\n",
            "217/217 [==============================] - 0s 511us/sample - loss: 0.0204 - sparse_categorical_accuracy: 0.9908 - val_loss: 0.2119 - val_sparse_categorical_accuracy: 0.9455\n",
            "Epoch 27/200\n",
            "217/217 [==============================] - 0s 497us/sample - loss: 0.0128 - sparse_categorical_accuracy: 1.0000 - val_loss: 0.1575 - val_sparse_categorical_accuracy: 0.9455\n",
            "Epoch 28/200\n",
            "217/217 [==============================] - 0s 544us/sample - loss: 0.0250 - sparse_categorical_accuracy: 0.9954 - val_loss: 0.1285 - val_sparse_categorical_accuracy: 0.9455\n",
            "Epoch 29/200\n",
            "217/217 [==============================] - 0s 549us/sample - loss: 0.0085 - sparse_categorical_accuracy: 1.0000 - val_loss: 0.1200 - val_sparse_categorical_accuracy: 0.9455\n",
            "Epoch 30/200\n",
            "217/217 [==============================] - 0s 492us/sample - loss: 0.0108 - sparse_categorical_accuracy: 1.0000 - val_loss: 0.1401 - val_sparse_categorical_accuracy: 0.9455\n",
            "Epoch 31/200\n",
            "217/217 [==============================] - 0s 509us/sample - loss: 0.0122 - sparse_categorical_accuracy: 1.0000 - val_loss: 0.1120 - val_sparse_categorical_accuracy: 0.9636\n",
            "Epoch 32/200\n",
            "217/217 [==============================] - 0s 518us/sample - loss: 0.0057 - sparse_categorical_accuracy: 1.0000 - val_loss: 0.1370 - val_sparse_categorical_accuracy: 0.9455\n",
            "Epoch 33/200\n",
            "217/217 [==============================] - 0s 498us/sample - loss: 0.0054 - sparse_categorical_accuracy: 1.0000 - val_loss: 0.1403 - val_sparse_categorical_accuracy: 0.9455\n",
            "Epoch 34/200\n",
            "217/217 [==============================] - 0s 538us/sample - loss: 0.0051 - sparse_categorical_accuracy: 1.0000 - val_loss: 0.1128 - val_sparse_categorical_accuracy: 0.9636\n",
            "Epoch 35/200\n",
            "217/217 [==============================] - 0s 504us/sample - loss: 0.0038 - sparse_categorical_accuracy: 1.0000 - val_loss: 0.1352 - val_sparse_categorical_accuracy: 0.9455\n",
            "Epoch 36/200\n",
            "217/217 [==============================] - 0s 519us/sample - loss: 0.0034 - sparse_categorical_accuracy: 1.0000 - val_loss: 0.1841 - val_sparse_categorical_accuracy: 0.9273\n",
            "Epoch 37/200\n",
            "217/217 [==============================] - 0s 595us/sample - loss: 0.0026 - sparse_categorical_accuracy: 1.0000 - val_loss: 0.0947 - val_sparse_categorical_accuracy: 0.9636\n",
            "Epoch 38/200\n",
            "217/217 [==============================] - 0s 518us/sample - loss: 0.0023 - sparse_categorical_accuracy: 1.0000 - val_loss: 0.0982 - val_sparse_categorical_accuracy: 0.9636\n",
            "Epoch 39/200\n",
            "217/217 [==============================] - 0s 522us/sample - loss: 0.0023 - sparse_categorical_accuracy: 1.0000 - val_loss: 0.1201 - val_sparse_categorical_accuracy: 0.9636\n",
            "Epoch 40/200\n",
            "217/217 [==============================] - 0s 506us/sample - loss: 0.0207 - sparse_categorical_accuracy: 0.9908 - val_loss: 0.1314 - val_sparse_categorical_accuracy: 0.9636\n",
            "Epoch 41/200\n",
            "217/217 [==============================] - 0s 505us/sample - loss: 0.0424 - sparse_categorical_accuracy: 0.9954 - val_loss: 0.2506 - val_sparse_categorical_accuracy: 0.9273\n",
            "Epoch 42/200\n",
            "217/217 [==============================] - 0s 541us/sample - loss: 0.0624 - sparse_categorical_accuracy: 0.9816 - val_loss: 0.3572 - val_sparse_categorical_accuracy: 0.9273\n",
            "Epoch 43/200\n",
            "217/217 [==============================] - 0s 508us/sample - loss: 0.0249 - sparse_categorical_accuracy: 0.9954 - val_loss: 0.3488 - val_sparse_categorical_accuracy: 0.8909\n",
            "Epoch 44/200\n",
            "217/217 [==============================] - 0s 495us/sample - loss: 0.0401 - sparse_categorical_accuracy: 0.9908 - val_loss: 0.1721 - val_sparse_categorical_accuracy: 0.9636\n",
            "Epoch 45/200\n",
            "217/217 [==============================] - 0s 535us/sample - loss: 0.0257 - sparse_categorical_accuracy: 0.9908 - val_loss: 0.1667 - val_sparse_categorical_accuracy: 0.9636\n",
            "Epoch 46/200\n",
            "217/217 [==============================] - 0s 509us/sample - loss: 0.0169 - sparse_categorical_accuracy: 0.9954 - val_loss: 0.1890 - val_sparse_categorical_accuracy: 0.9091\n",
            "Epoch 47/200\n",
            "217/217 [==============================] - 0s 508us/sample - loss: 0.0065 - sparse_categorical_accuracy: 1.0000 - val_loss: 0.2181 - val_sparse_categorical_accuracy: 0.9273\n",
            "Epoch 48/200\n",
            "217/217 [==============================] - 0s 511us/sample - loss: 0.0369 - sparse_categorical_accuracy: 0.9908 - val_loss: 0.2631 - val_sparse_categorical_accuracy: 0.9091\n",
            "Epoch 49/200\n",
            "217/217 [==============================] - 0s 507us/sample - loss: 0.0147 - sparse_categorical_accuracy: 0.9954 - val_loss: 0.1491 - val_sparse_categorical_accuracy: 0.9455\n",
            "Epoch 50/200\n",
            "217/217 [==============================] - 0s 521us/sample - loss: 0.0177 - sparse_categorical_accuracy: 0.9954 - val_loss: 0.1894 - val_sparse_categorical_accuracy: 0.9455\n",
            "Epoch 51/200\n",
            "217/217 [==============================] - 0s 536us/sample - loss: 0.0137 - sparse_categorical_accuracy: 0.9954 - val_loss: 0.0943 - val_sparse_categorical_accuracy: 0.9818\n",
            "Epoch 52/200\n",
            "217/217 [==============================] - 0s 532us/sample - loss: 0.0075 - sparse_categorical_accuracy: 1.0000 - val_loss: 0.1195 - val_sparse_categorical_accuracy: 0.9636\n",
            "Epoch 53/200\n",
            "217/217 [==============================] - 0s 496us/sample - loss: 0.0051 - sparse_categorical_accuracy: 1.0000 - val_loss: 0.1215 - val_sparse_categorical_accuracy: 0.9636\n",
            "Epoch 54/200\n",
            "217/217 [==============================] - 0s 528us/sample - loss: 0.0204 - sparse_categorical_accuracy: 0.9954 - val_loss: 0.1136 - val_sparse_categorical_accuracy: 0.9636\n",
            "Epoch 55/200\n",
            "217/217 [==============================] - 0s 554us/sample - loss: 0.0501 - sparse_categorical_accuracy: 0.9816 - val_loss: 0.1171 - val_sparse_categorical_accuracy: 0.9455\n",
            "Epoch 56/200\n",
            "217/217 [==============================] - 0s 497us/sample - loss: 0.0394 - sparse_categorical_accuracy: 0.9954 - val_loss: 0.0810 - val_sparse_categorical_accuracy: 0.9818\n",
            "Epoch 57/200\n",
            "217/217 [==============================] - 0s 500us/sample - loss: 0.0095 - sparse_categorical_accuracy: 1.0000 - val_loss: 0.0954 - val_sparse_categorical_accuracy: 0.9818\n",
            "Epoch 58/200\n",
            "217/217 [==============================] - 0s 500us/sample - loss: 0.0012 - sparse_categorical_accuracy: 1.0000 - val_loss: 0.1017 - val_sparse_categorical_accuracy: 0.9636\n",
            "Epoch 59/200\n",
            "217/217 [==============================] - 0s 534us/sample - loss: 0.0120 - sparse_categorical_accuracy: 0.9954 - val_loss: 0.1505 - val_sparse_categorical_accuracy: 0.9636\n",
            "Epoch 60/200\n",
            "217/217 [==============================] - 0s 513us/sample - loss: 0.0128 - sparse_categorical_accuracy: 0.9954 - val_loss: 0.2116 - val_sparse_categorical_accuracy: 0.9455\n",
            "Epoch 61/200\n",
            "217/217 [==============================] - 0s 489us/sample - loss: 0.0188 - sparse_categorical_accuracy: 0.9908 - val_loss: 0.2210 - val_sparse_categorical_accuracy: 0.9091\n",
            "Epoch 62/200\n",
            "217/217 [==============================] - 0s 476us/sample - loss: 0.0152 - sparse_categorical_accuracy: 0.9954 - val_loss: 0.1226 - val_sparse_categorical_accuracy: 0.9455\n",
            "Epoch 63/200\n",
            "217/217 [==============================] - 0s 574us/sample - loss: 0.0481 - sparse_categorical_accuracy: 0.9908 - val_loss: 0.0520 - val_sparse_categorical_accuracy: 0.9818\n",
            "Epoch 64/200\n",
            "217/217 [==============================] - 0s 490us/sample - loss: 0.0183 - sparse_categorical_accuracy: 0.9908 - val_loss: 0.0928 - val_sparse_categorical_accuracy: 0.9818\n",
            "Epoch 65/200\n",
            "217/217 [==============================] - 0s 518us/sample - loss: 0.0050 - sparse_categorical_accuracy: 1.0000 - val_loss: 0.2732 - val_sparse_categorical_accuracy: 0.9455\n",
            "Epoch 66/200\n",
            "217/217 [==============================] - 0s 516us/sample - loss: 0.0040 - sparse_categorical_accuracy: 1.0000 - val_loss: 0.1075 - val_sparse_categorical_accuracy: 0.9818\n",
            "Epoch 67/200\n",
            "217/217 [==============================] - 0s 540us/sample - loss: 0.0018 - sparse_categorical_accuracy: 1.0000 - val_loss: 0.1055 - val_sparse_categorical_accuracy: 0.9818\n",
            "Epoch 68/200\n",
            "217/217 [==============================] - 0s 560us/sample - loss: 0.0010 - sparse_categorical_accuracy: 1.0000 - val_loss: 0.1115 - val_sparse_categorical_accuracy: 0.9818\n",
            "Epoch 69/200\n",
            "217/217 [==============================] - 0s 501us/sample - loss: 0.0052 - sparse_categorical_accuracy: 0.9954 - val_loss: 0.1066 - val_sparse_categorical_accuracy: 0.9818\n",
            "Epoch 70/200\n",
            "217/217 [==============================] - 0s 515us/sample - loss: 0.0112 - sparse_categorical_accuracy: 0.9954 - val_loss: 0.1615 - val_sparse_categorical_accuracy: 0.9455\n",
            "Epoch 71/200\n",
            "217/217 [==============================] - 0s 509us/sample - loss: 0.0279 - sparse_categorical_accuracy: 0.9908 - val_loss: 0.1486 - val_sparse_categorical_accuracy: 0.9818\n",
            "Epoch 72/200\n",
            "217/217 [==============================] - 0s 614us/sample - loss: 0.0243 - sparse_categorical_accuracy: 0.9908 - val_loss: 0.1633 - val_sparse_categorical_accuracy: 0.9636\n",
            "Epoch 73/200\n",
            "217/217 [==============================] - 0s 512us/sample - loss: 0.0152 - sparse_categorical_accuracy: 1.0000 - val_loss: 0.1125 - val_sparse_categorical_accuracy: 0.9818\n",
            "Epoch 74/200\n",
            "217/217 [==============================] - 0s 500us/sample - loss: 0.0057 - sparse_categorical_accuracy: 1.0000 - val_loss: 0.0824 - val_sparse_categorical_accuracy: 0.9818\n",
            "Epoch 75/200\n",
            "217/217 [==============================] - 0s 490us/sample - loss: 0.0019 - sparse_categorical_accuracy: 1.0000 - val_loss: 0.1558 - val_sparse_categorical_accuracy: 0.9455\n",
            "Epoch 76/200\n",
            "217/217 [==============================] - 0s 583us/sample - loss: 9.8765e-04 - sparse_categorical_accuracy: 1.0000 - val_loss: 0.1355 - val_sparse_categorical_accuracy: 0.9636\n",
            "Epoch 77/200\n",
            "217/217 [==============================] - 0s 511us/sample - loss: 0.0025 - sparse_categorical_accuracy: 1.0000 - val_loss: 0.1209 - val_sparse_categorical_accuracy: 0.9818\n",
            "Epoch 78/200\n",
            "217/217 [==============================] - 0s 506us/sample - loss: 6.5188e-04 - sparse_categorical_accuracy: 1.0000 - val_loss: 0.1347 - val_sparse_categorical_accuracy: 0.9636\n",
            "Epoch 79/200\n",
            "217/217 [==============================] - 0s 500us/sample - loss: 0.0014 - sparse_categorical_accuracy: 1.0000 - val_loss: 0.1455 - val_sparse_categorical_accuracy: 0.9455\n",
            "Epoch 80/200\n",
            "217/217 [==============================] - 0s 586us/sample - loss: 0.0030 - sparse_categorical_accuracy: 1.0000 - val_loss: 0.3113 - val_sparse_categorical_accuracy: 0.9273\n",
            "Epoch 81/200\n",
            "217/217 [==============================] - 0s 541us/sample - loss: 7.2014e-04 - sparse_categorical_accuracy: 1.0000 - val_loss: 0.2471 - val_sparse_categorical_accuracy: 0.9455\n",
            "Epoch 82/200\n",
            "217/217 [==============================] - 0s 523us/sample - loss: 4.1303e-04 - sparse_categorical_accuracy: 1.0000 - val_loss: 0.2162 - val_sparse_categorical_accuracy: 0.9455\n",
            "Epoch 83/200\n",
            "217/217 [==============================] - 0s 545us/sample - loss: 4.4185e-04 - sparse_categorical_accuracy: 1.0000 - val_loss: 0.2020 - val_sparse_categorical_accuracy: 0.9455\n",
            "Epoch 84/200\n",
            "217/217 [==============================] - 0s 493us/sample - loss: 0.0011 - sparse_categorical_accuracy: 1.0000 - val_loss: 0.1676 - val_sparse_categorical_accuracy: 0.9455\n",
            "Epoch 85/200\n",
            "217/217 [==============================] - 0s 531us/sample - loss: 0.0011 - sparse_categorical_accuracy: 1.0000 - val_loss: 0.1596 - val_sparse_categorical_accuracy: 0.9636\n",
            "Epoch 86/200\n",
            "217/217 [==============================] - 0s 601us/sample - loss: 5.7480e-04 - sparse_categorical_accuracy: 1.0000 - val_loss: 0.1551 - val_sparse_categorical_accuracy: 0.9636\n",
            "Epoch 87/200\n",
            "217/217 [==============================] - 0s 532us/sample - loss: 2.0128e-04 - sparse_categorical_accuracy: 1.0000 - val_loss: 0.1518 - val_sparse_categorical_accuracy: 0.9636\n",
            "Epoch 88/200\n",
            "217/217 [==============================] - 0s 532us/sample - loss: 3.6800e-04 - sparse_categorical_accuracy: 1.0000 - val_loss: 0.1485 - val_sparse_categorical_accuracy: 0.9636\n",
            "Epoch 89/200\n",
            "217/217 [==============================] - 0s 561us/sample - loss: 3.3555e-04 - sparse_categorical_accuracy: 1.0000 - val_loss: 0.1430 - val_sparse_categorical_accuracy: 0.9636\n",
            "Epoch 90/200\n",
            "217/217 [==============================] - 0s 517us/sample - loss: 2.6978e-04 - sparse_categorical_accuracy: 1.0000 - val_loss: 0.1384 - val_sparse_categorical_accuracy: 0.9636\n",
            "Epoch 91/200\n",
            "217/217 [==============================] - 0s 503us/sample - loss: 1.2935e-04 - sparse_categorical_accuracy: 1.0000 - val_loss: 0.1320 - val_sparse_categorical_accuracy: 0.9636\n",
            "Epoch 92/200\n",
            "217/217 [==============================] - 0s 525us/sample - loss: 6.3934e-04 - sparse_categorical_accuracy: 1.0000 - val_loss: 0.1288 - val_sparse_categorical_accuracy: 0.9636\n",
            "Epoch 93/200\n",
            "217/217 [==============================] - 0s 525us/sample - loss: 1.7034e-04 - sparse_categorical_accuracy: 1.0000 - val_loss: 0.1293 - val_sparse_categorical_accuracy: 0.9636\n",
            "Epoch 94/200\n",
            "217/217 [==============================] - 0s 528us/sample - loss: 2.1261e-04 - sparse_categorical_accuracy: 1.0000 - val_loss: 0.1278 - val_sparse_categorical_accuracy: 0.9636\n",
            "Epoch 95/200\n",
            "217/217 [==============================] - 0s 514us/sample - loss: 5.4045e-04 - sparse_categorical_accuracy: 1.0000 - val_loss: 0.1255 - val_sparse_categorical_accuracy: 0.9636\n",
            "Epoch 96/200\n",
            "217/217 [==============================] - 0s 545us/sample - loss: 2.5174e-04 - sparse_categorical_accuracy: 1.0000 - val_loss: 0.1253 - val_sparse_categorical_accuracy: 0.9636\n",
            "Epoch 97/200\n",
            "217/217 [==============================] - 0s 547us/sample - loss: 1.6503e-04 - sparse_categorical_accuracy: 1.0000 - val_loss: 0.1253 - val_sparse_categorical_accuracy: 0.9636\n",
            "Epoch 98/200\n",
            "217/217 [==============================] - 0s 519us/sample - loss: 1.5438e-04 - sparse_categorical_accuracy: 1.0000 - val_loss: 0.1253 - val_sparse_categorical_accuracy: 0.9636\n",
            "Epoch 99/200\n",
            "217/217 [==============================] - 0s 533us/sample - loss: 1.3562e-04 - sparse_categorical_accuracy: 1.0000 - val_loss: 0.1256 - val_sparse_categorical_accuracy: 0.9636\n",
            "Epoch 100/200\n",
            "217/217 [==============================] - 0s 522us/sample - loss: 1.3827e-04 - sparse_categorical_accuracy: 1.0000 - val_loss: 0.1240 - val_sparse_categorical_accuracy: 0.9636\n",
            "Epoch 101/200\n",
            "217/217 [==============================] - 0s 527us/sample - loss: 3.6097e-04 - sparse_categorical_accuracy: 1.0000 - val_loss: 0.1244 - val_sparse_categorical_accuracy: 0.9636\n",
            "Epoch 102/200\n",
            "217/217 [==============================] - 0s 518us/sample - loss: 1.1888e-04 - sparse_categorical_accuracy: 1.0000 - val_loss: 0.1279 - val_sparse_categorical_accuracy: 0.9636\n",
            "Epoch 103/200\n",
            "217/217 [==============================] - 0s 574us/sample - loss: 4.1012e-04 - sparse_categorical_accuracy: 1.0000 - val_loss: 0.1371 - val_sparse_categorical_accuracy: 0.9636\n",
            "Epoch 104/200\n",
            "217/217 [==============================] - 0s 553us/sample - loss: 3.1398e-04 - sparse_categorical_accuracy: 1.0000 - val_loss: 0.1359 - val_sparse_categorical_accuracy: 0.9636\n",
            "Epoch 105/200\n",
            "217/217 [==============================] - 0s 542us/sample - loss: 2.3080e-04 - sparse_categorical_accuracy: 1.0000 - val_loss: 0.1256 - val_sparse_categorical_accuracy: 0.9636\n",
            "Epoch 106/200\n",
            "217/217 [==============================] - 0s 577us/sample - loss: 3.2046e-04 - sparse_categorical_accuracy: 1.0000 - val_loss: 0.1306 - val_sparse_categorical_accuracy: 0.9636\n",
            "Epoch 107/200\n",
            "217/217 [==============================] - 0s 527us/sample - loss: 1.4179e-04 - sparse_categorical_accuracy: 1.0000 - val_loss: 0.1327 - val_sparse_categorical_accuracy: 0.9636\n",
            "Epoch 108/200\n",
            "217/217 [==============================] - 0s 566us/sample - loss: 1.3565e-04 - sparse_categorical_accuracy: 1.0000 - val_loss: 0.1317 - val_sparse_categorical_accuracy: 0.9636\n",
            "Epoch 109/200\n",
            "217/217 [==============================] - 0s 509us/sample - loss: 1.9365e-04 - sparse_categorical_accuracy: 1.0000 - val_loss: 0.1304 - val_sparse_categorical_accuracy: 0.9636\n",
            "Epoch 110/200\n",
            "217/217 [==============================] - 0s 478us/sample - loss: 1.9032e-04 - sparse_categorical_accuracy: 1.0000 - val_loss: 0.1269 - val_sparse_categorical_accuracy: 0.9636\n",
            "Epoch 111/200\n",
            "217/217 [==============================] - 0s 499us/sample - loss: 1.8724e-04 - sparse_categorical_accuracy: 1.0000 - val_loss: 0.1248 - val_sparse_categorical_accuracy: 0.9636\n",
            "Epoch 112/200\n",
            "217/217 [==============================] - 0s 529us/sample - loss: 1.4749e-04 - sparse_categorical_accuracy: 1.0000 - val_loss: 0.1298 - val_sparse_categorical_accuracy: 0.9636\n",
            "Epoch 113/200\n",
            "128/217 [================>.............] - ETA: 0s - loss: 4.9248e-04 - sparse_categorical_accuracy: 1.0000Restoring model weights from the end of the best epoch.\n",
            "217/217 [==============================] - 0s 555us/sample - loss: 3.4346e-04 - sparse_categorical_accuracy: 1.0000 - val_loss: 0.1367 - val_sparse_categorical_accuracy: 0.9636\n",
            "Epoch 00113: early stopping\n"
          ],
          "name": "stdout"
        }
      ]
    },
    {
      "cell_type": "code",
      "metadata": {
        "id": "7eyNl9_teiD-",
        "colab_type": "code",
        "outputId": "dd0d973f-e1c0-418c-f1de-f675089718b8",
        "colab": {
          "base_uri": "https://localhost:8080/",
          "height": 68
        }
      },
      "source": [
        "  x_test = datasets[2][\"x_test\"]\n",
        "  y_test = datasets[2][\"y_test\"]\n",
        "  datasets[2]['model'].evaluate(x_test=x_test,y_test=y_test)"
      ],
      "execution_count": 30,
      "outputs": [
        {
          "output_type": "stream",
          "text": [
            "\r31/31 [==============================] - 0s 375us/sample - loss: 0.2138 - sparse_categorical_accuracy: 0.9355\n",
            "Precisión en el conjunto de prueba: 0.9354838728904724\n",
            "Valor de la perdidad en el conjunto de prueba: 0.21379238367080688\n"
          ],
          "name": "stdout"
        }
      ]
    },
    {
      "cell_type": "code",
      "metadata": {
        "id": "wjvHnLAn6bP9",
        "colab_type": "code",
        "outputId": "dda3f056-7d17-4166-a9d8-36226253b92c",
        "colab": {
          "base_uri": "https://localhost:8080/",
          "height": 370
        }
      },
      "source": [
        "datasets[index_ds]['model'].vizualizate_train(visualzation_accuracy_loss_values_epochs=visualzation_accuracy_loss_values_epochs, title = \"Precisión en el en el conjunto de validacion atraves de las epocas. \" + datasets[index_ds]['name'] )"
      ],
      "execution_count": 31,
      "outputs": [
        {
          "output_type": "display_data",
          "data": {
            "image/png": "[encoded data removed]",
            "text/plain": [
              "<Figure size 1080x360 with 2 Axes>"
            ]
          },
          "metadata": {
            "tags": []
          }
        }
      ]
    },
    {
      "cell_type": "markdown",
      "metadata": {
        "id": "SCa_AjTH6qdc",
        "colab_type": "text"
      },
      "source": [
        "#### Entrenamiento para nivel de fuerza Tx_0x04"
      ]
    },
    {
      "cell_type": "code",
      "metadata": {
        "id": "fYkS4fQL6hFq",
        "colab_type": "code",
        "outputId": "6bad5152-638c-4949-f372-cb6728d312ad",
        "colab": {
          "base_uri": "https://localhost:8080/",
          "height": 1000
        }
      },
      "source": [
        "index_ds = 3\n",
        "x_train = datasets[index_ds]['x_train']\n",
        "y_train = datasets[index_ds]['y_train']\n",
        "datasets[index_ds]['model'].run(x_train,y_train,early_stoping=True)"
      ],
      "execution_count": 36,
      "outputs": [
        {
          "output_type": "stream",
          "text": [
            "Train on 234 samples, validate on 59 samples\n",
            "Epoch 1/200\n",
            "234/234 [==============================] - 0s 555us/sample - loss: 0.0056 - sparse_categorical_accuracy: 1.0000 - val_loss: 0.0236 - val_sparse_categorical_accuracy: 1.0000\n",
            "Epoch 2/200\n",
            "234/234 [==============================] - 0s 522us/sample - loss: 0.0045 - sparse_categorical_accuracy: 1.0000 - val_loss: 0.0383 - val_sparse_categorical_accuracy: 0.9831\n",
            "Epoch 3/200\n",
            "234/234 [==============================] - 0s 540us/sample - loss: 0.0041 - sparse_categorical_accuracy: 1.0000 - val_loss: 0.0487 - val_sparse_categorical_accuracy: 0.9661\n",
            "Epoch 4/200\n",
            "234/234 [==============================] - 0s 539us/sample - loss: 0.0046 - sparse_categorical_accuracy: 1.0000 - val_loss: 0.0297 - val_sparse_categorical_accuracy: 1.0000\n",
            "Epoch 5/200\n",
            "234/234 [==============================] - 0s 534us/sample - loss: 0.0125 - sparse_categorical_accuracy: 0.9957 - val_loss: 0.0708 - val_sparse_categorical_accuracy: 0.9831\n",
            "Epoch 6/200\n",
            "234/234 [==============================] - 0s 511us/sample - loss: 0.0104 - sparse_categorical_accuracy: 0.9957 - val_loss: 0.2012 - val_sparse_categorical_accuracy: 0.9492\n",
            "Epoch 7/200\n",
            "234/234 [==============================] - 0s 493us/sample - loss: 0.0822 - sparse_categorical_accuracy: 0.9701 - val_loss: 0.2332 - val_sparse_categorical_accuracy: 0.9153\n",
            "Epoch 8/200\n",
            "234/234 [==============================] - 0s 518us/sample - loss: 0.1233 - sparse_categorical_accuracy: 0.9487 - val_loss: 0.2433 - val_sparse_categorical_accuracy: 0.8475\n",
            "Epoch 9/200\n",
            "234/234 [==============================] - 0s 488us/sample - loss: 0.1082 - sparse_categorical_accuracy: 0.9615 - val_loss: 0.1657 - val_sparse_categorical_accuracy: 0.9322\n",
            "Epoch 10/200\n",
            "234/234 [==============================] - 0s 478us/sample - loss: 0.1593 - sparse_categorical_accuracy: 0.9487 - val_loss: 0.1810 - val_sparse_categorical_accuracy: 0.9153\n",
            "Epoch 11/200\n",
            "234/234 [==============================] - 0s 517us/sample - loss: 0.0795 - sparse_categorical_accuracy: 0.9658 - val_loss: 0.1124 - val_sparse_categorical_accuracy: 0.9492\n",
            "Epoch 12/200\n",
            "234/234 [==============================] - 0s 571us/sample - loss: 0.0372 - sparse_categorical_accuracy: 0.9786 - val_loss: 0.0630 - val_sparse_categorical_accuracy: 0.9831\n",
            "Epoch 13/200\n",
            "234/234 [==============================] - 0s 503us/sample - loss: 0.0174 - sparse_categorical_accuracy: 0.9915 - val_loss: 0.1114 - val_sparse_categorical_accuracy: 0.9661\n",
            "Epoch 14/200\n",
            "234/234 [==============================] - 0s 474us/sample - loss: 0.0103 - sparse_categorical_accuracy: 0.9957 - val_loss: 0.0255 - val_sparse_categorical_accuracy: 0.9831\n",
            "Epoch 15/200\n",
            "234/234 [==============================] - 0s 504us/sample - loss: 0.0074 - sparse_categorical_accuracy: 1.0000 - val_loss: 0.0477 - val_sparse_categorical_accuracy: 0.9661\n",
            "Epoch 16/200\n",
            "234/234 [==============================] - 0s 493us/sample - loss: 0.0035 - sparse_categorical_accuracy: 1.0000 - val_loss: 0.1414 - val_sparse_categorical_accuracy: 0.9661\n",
            "Epoch 17/200\n",
            "234/234 [==============================] - 0s 483us/sample - loss: 0.0168 - sparse_categorical_accuracy: 0.9915 - val_loss: 0.1616 - val_sparse_categorical_accuracy: 0.9661\n",
            "Epoch 18/200\n",
            "234/234 [==============================] - 0s 493us/sample - loss: 0.0055 - sparse_categorical_accuracy: 1.0000 - val_loss: 0.0975 - val_sparse_categorical_accuracy: 0.9661\n",
            "Epoch 19/200\n",
            "234/234 [==============================] - 0s 473us/sample - loss: 0.0013 - sparse_categorical_accuracy: 1.0000 - val_loss: 0.0423 - val_sparse_categorical_accuracy: 0.9831\n",
            "Epoch 20/200\n",
            "234/234 [==============================] - 0s 511us/sample - loss: 0.0015 - sparse_categorical_accuracy: 1.0000 - val_loss: 0.0415 - val_sparse_categorical_accuracy: 0.9831\n",
            "Epoch 21/200\n",
            "234/234 [==============================] - 0s 494us/sample - loss: 0.0021 - sparse_categorical_accuracy: 1.0000 - val_loss: 0.0683 - val_sparse_categorical_accuracy: 0.9661\n",
            "Epoch 22/200\n",
            "234/234 [==============================] - 0s 508us/sample - loss: 7.8982e-04 - sparse_categorical_accuracy: 1.0000 - val_loss: 0.0791 - val_sparse_categorical_accuracy: 0.9661\n",
            "Epoch 23/200\n",
            "234/234 [==============================] - 0s 508us/sample - loss: 6.1696e-04 - sparse_categorical_accuracy: 1.0000 - val_loss: 0.0781 - val_sparse_categorical_accuracy: 0.9661\n",
            "Epoch 24/200\n",
            "234/234 [==============================] - 0s 474us/sample - loss: 7.5681e-04 - sparse_categorical_accuracy: 1.0000 - val_loss: 0.0779 - val_sparse_categorical_accuracy: 0.9661\n",
            "Epoch 25/200\n",
            "234/234 [==============================] - 0s 494us/sample - loss: 8.5509e-04 - sparse_categorical_accuracy: 1.0000 - val_loss: 0.0780 - val_sparse_categorical_accuracy: 0.9661\n",
            "Epoch 26/200\n",
            "234/234 [==============================] - 0s 503us/sample - loss: 5.0484e-04 - sparse_categorical_accuracy: 1.0000 - val_loss: 0.0766 - val_sparse_categorical_accuracy: 0.9661\n",
            "Epoch 27/200\n",
            "234/234 [==============================] - 0s 508us/sample - loss: 5.2843e-04 - sparse_categorical_accuracy: 1.0000 - val_loss: 0.0763 - val_sparse_categorical_accuracy: 0.9661\n",
            "Epoch 28/200\n",
            "234/234 [==============================] - 0s 509us/sample - loss: 4.1732e-04 - sparse_categorical_accuracy: 1.0000 - val_loss: 0.0756 - val_sparse_categorical_accuracy: 0.9661\n",
            "Epoch 29/200\n",
            "234/234 [==============================] - 0s 543us/sample - loss: 3.2752e-04 - sparse_categorical_accuracy: 1.0000 - val_loss: 0.0736 - val_sparse_categorical_accuracy: 0.9661\n",
            "Epoch 30/200\n",
            "234/234 [==============================] - 0s 502us/sample - loss: 5.3391e-04 - sparse_categorical_accuracy: 1.0000 - val_loss: 0.0737 - val_sparse_categorical_accuracy: 0.9661\n",
            "Epoch 31/200\n",
            "234/234 [==============================] - 0s 494us/sample - loss: 9.3235e-04 - sparse_categorical_accuracy: 1.0000 - val_loss: 0.0621 - val_sparse_categorical_accuracy: 0.9661\n",
            "Epoch 32/200\n",
            "234/234 [==============================] - 0s 525us/sample - loss: 4.7224e-04 - sparse_categorical_accuracy: 1.0000 - val_loss: 0.0611 - val_sparse_categorical_accuracy: 0.9661\n",
            "Epoch 33/200\n",
            "234/234 [==============================] - 0s 506us/sample - loss: 2.8764e-04 - sparse_categorical_accuracy: 1.0000 - val_loss: 0.0599 - val_sparse_categorical_accuracy: 0.9661\n",
            "Epoch 34/200\n",
            "234/234 [==============================] - 0s 520us/sample - loss: 4.8513e-04 - sparse_categorical_accuracy: 1.0000 - val_loss: 0.0599 - val_sparse_categorical_accuracy: 0.9661\n",
            "Epoch 35/200\n",
            "234/234 [==============================] - 0s 520us/sample - loss: 8.5079e-04 - sparse_categorical_accuracy: 1.0000 - val_loss: 0.0579 - val_sparse_categorical_accuracy: 0.9831\n",
            "Epoch 36/200\n",
            "234/234 [==============================] - 0s 482us/sample - loss: 6.6916e-04 - sparse_categorical_accuracy: 1.0000 - val_loss: 0.0596 - val_sparse_categorical_accuracy: 0.9661\n",
            "Epoch 37/200\n",
            "234/234 [==============================] - 0s 549us/sample - loss: 6.8384e-04 - sparse_categorical_accuracy: 1.0000 - val_loss: 0.0587 - val_sparse_categorical_accuracy: 0.9661\n",
            "Epoch 38/200\n",
            "234/234 [==============================] - 0s 505us/sample - loss: 0.0019 - sparse_categorical_accuracy: 1.0000 - val_loss: 0.0913 - val_sparse_categorical_accuracy: 0.9661\n",
            "Epoch 39/200\n",
            "234/234 [==============================] - 0s 511us/sample - loss: 2.7153e-04 - sparse_categorical_accuracy: 1.0000 - val_loss: 0.1256 - val_sparse_categorical_accuracy: 0.9661\n",
            "Epoch 40/200\n",
            "234/234 [==============================] - 0s 467us/sample - loss: 7.7964e-04 - sparse_categorical_accuracy: 1.0000 - val_loss: 0.1212 - val_sparse_categorical_accuracy: 0.9661\n",
            "Epoch 41/200\n",
            "234/234 [==============================] - 0s 496us/sample - loss: 5.8148e-04 - sparse_categorical_accuracy: 1.0000 - val_loss: 0.1022 - val_sparse_categorical_accuracy: 0.9661\n",
            "Epoch 42/200\n",
            "234/234 [==============================] - 0s 496us/sample - loss: 6.1881e-04 - sparse_categorical_accuracy: 1.0000 - val_loss: 0.0891 - val_sparse_categorical_accuracy: 0.9661\n",
            "Epoch 43/200\n",
            "234/234 [==============================] - 0s 489us/sample - loss: 5.5416e-04 - sparse_categorical_accuracy: 1.0000 - val_loss: 0.0827 - val_sparse_categorical_accuracy: 0.9661\n",
            "Epoch 44/200\n",
            "234/234 [==============================] - 0s 503us/sample - loss: 5.9861e-04 - sparse_categorical_accuracy: 1.0000 - val_loss: 0.0739 - val_sparse_categorical_accuracy: 0.9661\n",
            "Epoch 45/200\n",
            "234/234 [==============================] - 0s 506us/sample - loss: 5.9555e-04 - sparse_categorical_accuracy: 1.0000 - val_loss: 0.0661 - val_sparse_categorical_accuracy: 0.9661\n",
            "Epoch 46/200\n",
            "234/234 [==============================] - 0s 504us/sample - loss: 6.2828e-04 - sparse_categorical_accuracy: 1.0000 - val_loss: 0.0715 - val_sparse_categorical_accuracy: 0.9661\n",
            "Epoch 47/200\n",
            "234/234 [==============================] - 0s 520us/sample - loss: 3.1988e-04 - sparse_categorical_accuracy: 1.0000 - val_loss: 0.0732 - val_sparse_categorical_accuracy: 0.9661\n",
            "Epoch 48/200\n",
            "234/234 [==============================] - 0s 475us/sample - loss: 3.6355e-04 - sparse_categorical_accuracy: 1.0000 - val_loss: 0.0739 - val_sparse_categorical_accuracy: 0.9661\n",
            "Epoch 49/200\n",
            "234/234 [==============================] - 0s 491us/sample - loss: 2.6190e-04 - sparse_categorical_accuracy: 1.0000 - val_loss: 0.0732 - val_sparse_categorical_accuracy: 0.9661\n",
            "Epoch 50/200\n",
            "234/234 [==============================] - 0s 536us/sample - loss: 3.7682e-04 - sparse_categorical_accuracy: 1.0000 - val_loss: 0.0726 - val_sparse_categorical_accuracy: 0.9661\n",
            "Epoch 51/200\n",
            "128/234 [===============>..............] - ETA: 0s - loss: 2.1878e-04 - sparse_categorical_accuracy: 1.0000Restoring model weights from the end of the best epoch.\n",
            "234/234 [==============================] - 0s 525us/sample - loss: 2.7417e-04 - sparse_categorical_accuracy: 1.0000 - val_loss: 0.0715 - val_sparse_categorical_accuracy: 0.9661\n",
            "Epoch 00051: early stopping\n"
          ],
          "name": "stdout"
        }
      ]
    },
    {
      "cell_type": "code",
      "metadata": {
        "id": "kQVBqzaD67mQ",
        "colab_type": "code",
        "outputId": "bef67eeb-f7a8-4789-cf06-b0e430795f87",
        "colab": {
          "base_uri": "https://localhost:8080/",
          "height": 370
        }
      },
      "source": [
        "datasets[index_ds]['model'].vizualizate_train(visualzation_accuracy_loss_values_epochs=visualzation_accuracy_loss_values_epochs, title = \"Precisión en el en el conjunto de validacion atraves de las epocas. \" + datasets[index_ds]['name'] )"
      ],
      "execution_count": 37,
      "outputs": [
        {
          "output_type": "display_data",
          "data": {
            "image/png": "[encoded data removed]",
            "text/plain": [
              "<Figure size 1080x360 with 2 Axes>"
            ]
          },
          "metadata": {
            "tags": []
          }
        }
      ]
    },
    {
      "cell_type": "code",
      "metadata": {
        "id": "6p3sjivkeA--",
        "colab_type": "code",
        "colab": {
          "base_uri": "https://localhost:8080/",
          "height": 68
        },
        "outputId": "19f0055f-0c04-4392-bb47-dcc8442296d8"
      },
      "source": [
        "  x_test = datasets[index_ds][\"x_test\"]\n",
        "  y_test = datasets[index_ds][\"y_test\"]\n",
        "  datasets[index_ds]['model'].evaluate(x_test=x_test,y_test=y_test)"
      ],
      "execution_count": 38,
      "outputs": [
        {
          "output_type": "stream",
          "text": [
            "33/33 [==============================] - 0s 502us/sample - loss: 0.0041 - sparse_categorical_accuracy: 1.0000\n",
            "Precisión en el conjunto de prueba: 1.0\n",
            "Valor de la perdidad en el conjunto de prueba: 0.004082565506299121\n"
          ],
          "name": "stdout"
        }
      ]
    },
    {
      "cell_type": "markdown",
      "metadata": {
        "id": "mXUf5Fzu7FM2",
        "colab_type": "text"
      },
      "source": [
        "#### Entrenamiento para nivel de fuerza Tx_0x05"
      ]
    },
    {
      "cell_type": "code",
      "metadata": {
        "id": "kCC5kInT7LZW",
        "colab_type": "code",
        "outputId": "e7218113-9c69-4bd1-b06b-7360d60e2734",
        "colab": {
          "base_uri": "https://localhost:8080/",
          "height": 1000
        }
      },
      "source": [
        "index_ds = 4\n",
        "x_train = datasets[index_ds]['x_train']\n",
        "y_train = datasets[index_ds]['y_train']\n",
        "datasets[index_ds]['model'].run(x_train,y_train,early_stoping=True)"
      ],
      "execution_count": 39,
      "outputs": [
        {
          "output_type": "stream",
          "text": [
            "Train on 222 samples, validate on 56 samples\n",
            "Epoch 1/200\n",
            "222/222 [==============================] - 0s 2ms/sample - loss: 2.5647 - sparse_categorical_accuracy: 0.2297 - val_loss: 2.2290 - val_sparse_categorical_accuracy: 0.3929\n",
            "Epoch 2/200\n",
            "222/222 [==============================] - 0s 481us/sample - loss: 1.8035 - sparse_categorical_accuracy: 0.4279 - val_loss: 1.2813 - val_sparse_categorical_accuracy: 0.6786\n",
            "Epoch 3/200\n",
            "222/222 [==============================] - 0s 494us/sample - loss: 1.0998 - sparse_categorical_accuracy: 0.5991 - val_loss: 0.8423 - val_sparse_categorical_accuracy: 0.6964\n",
            "Epoch 4/200\n",
            "222/222 [==============================] - 0s 514us/sample - loss: 0.8804 - sparse_categorical_accuracy: 0.6712 - val_loss: 0.8036 - val_sparse_categorical_accuracy: 0.6786\n",
            "Epoch 5/200\n",
            "222/222 [==============================] - 0s 497us/sample - loss: 0.6406 - sparse_categorical_accuracy: 0.7613 - val_loss: 0.6824 - val_sparse_categorical_accuracy: 0.7321\n",
            "Epoch 6/200\n",
            "222/222 [==============================] - 0s 549us/sample - loss: 0.5209 - sparse_categorical_accuracy: 0.8423 - val_loss: 0.4180 - val_sparse_categorical_accuracy: 0.9107\n",
            "Epoch 7/200\n",
            "222/222 [==============================] - 0s 575us/sample - loss: 0.3972 - sparse_categorical_accuracy: 0.8559 - val_loss: 0.4081 - val_sparse_categorical_accuracy: 0.8571\n",
            "Epoch 8/200\n",
            "222/222 [==============================] - 0s 536us/sample - loss: 0.4100 - sparse_categorical_accuracy: 0.8378 - val_loss: 0.3369 - val_sparse_categorical_accuracy: 0.9107\n",
            "Epoch 9/200\n",
            "222/222 [==============================] - 0s 483us/sample - loss: 0.2891 - sparse_categorical_accuracy: 0.9099 - val_loss: 0.3502 - val_sparse_categorical_accuracy: 0.8750\n",
            "Epoch 10/200\n",
            "222/222 [==============================] - 0s 501us/sample - loss: 0.2624 - sparse_categorical_accuracy: 0.9054 - val_loss: 0.3563 - val_sparse_categorical_accuracy: 0.9464\n",
            "Epoch 11/200\n",
            "222/222 [==============================] - 0s 492us/sample - loss: 0.2596 - sparse_categorical_accuracy: 0.9054 - val_loss: 0.3389 - val_sparse_categorical_accuracy: 0.8393\n",
            "Epoch 12/200\n",
            "222/222 [==============================] - 0s 501us/sample - loss: 0.2130 - sparse_categorical_accuracy: 0.9459 - val_loss: 0.3182 - val_sparse_categorical_accuracy: 0.9286\n",
            "Epoch 13/200\n",
            "222/222 [==============================] - 0s 516us/sample - loss: 0.1886 - sparse_categorical_accuracy: 0.9369 - val_loss: 0.2063 - val_sparse_categorical_accuracy: 0.9107\n",
            "Epoch 14/200\n",
            "222/222 [==============================] - 0s 521us/sample - loss: 0.1391 - sparse_categorical_accuracy: 0.9550 - val_loss: 0.2995 - val_sparse_categorical_accuracy: 0.9107\n",
            "Epoch 15/200\n",
            "222/222 [==============================] - 0s 521us/sample - loss: 0.1228 - sparse_categorical_accuracy: 0.9640 - val_loss: 0.2858 - val_sparse_categorical_accuracy: 0.9107\n",
            "Epoch 16/200\n",
            "222/222 [==============================] - 0s 640us/sample - loss: 0.0923 - sparse_categorical_accuracy: 0.9685 - val_loss: 0.2563 - val_sparse_categorical_accuracy: 0.9464\n",
            "Epoch 17/200\n",
            "222/222 [==============================] - 0s 548us/sample - loss: 0.0781 - sparse_categorical_accuracy: 0.9820 - val_loss: 0.1857 - val_sparse_categorical_accuracy: 0.9464\n",
            "Epoch 18/200\n",
            "222/222 [==============================] - 0s 504us/sample - loss: 0.0728 - sparse_categorical_accuracy: 0.9820 - val_loss: 0.1784 - val_sparse_categorical_accuracy: 0.9643\n",
            "Epoch 19/200\n",
            "222/222 [==============================] - 0s 494us/sample - loss: 0.0600 - sparse_categorical_accuracy: 0.9910 - val_loss: 0.2330 - val_sparse_categorical_accuracy: 0.9464\n",
            "Epoch 20/200\n",
            "222/222 [==============================] - 0s 494us/sample - loss: 0.0533 - sparse_categorical_accuracy: 0.9865 - val_loss: 0.2354 - val_sparse_categorical_accuracy: 0.9464\n",
            "Epoch 21/200\n",
            "222/222 [==============================] - 0s 557us/sample - loss: 0.0625 - sparse_categorical_accuracy: 0.9775 - val_loss: 0.1419 - val_sparse_categorical_accuracy: 0.9464\n",
            "Epoch 22/200\n",
            "222/222 [==============================] - 0s 502us/sample - loss: 0.0395 - sparse_categorical_accuracy: 0.9955 - val_loss: 0.2580 - val_sparse_categorical_accuracy: 0.9286\n",
            "Epoch 23/200\n",
            "222/222 [==============================] - 0s 487us/sample - loss: 0.0275 - sparse_categorical_accuracy: 1.0000 - val_loss: 0.2027 - val_sparse_categorical_accuracy: 0.9464\n",
            "Epoch 24/200\n",
            "222/222 [==============================] - 0s 527us/sample - loss: 0.0230 - sparse_categorical_accuracy: 1.0000 - val_loss: 0.1736 - val_sparse_categorical_accuracy: 0.9643\n",
            "Epoch 25/200\n",
            "222/222 [==============================] - 0s 491us/sample - loss: 0.0259 - sparse_categorical_accuracy: 1.0000 - val_loss: 0.3128 - val_sparse_categorical_accuracy: 0.9464\n",
            "Epoch 26/200\n",
            "222/222 [==============================] - 0s 556us/sample - loss: 0.0351 - sparse_categorical_accuracy: 0.9865 - val_loss: 0.1895 - val_sparse_categorical_accuracy: 0.9286\n",
            "Epoch 27/200\n",
            "222/222 [==============================] - 0s 548us/sample - loss: 0.0711 - sparse_categorical_accuracy: 0.9820 - val_loss: 0.3869 - val_sparse_categorical_accuracy: 0.9286\n",
            "Epoch 28/200\n",
            "222/222 [==============================] - 0s 483us/sample - loss: 0.0620 - sparse_categorical_accuracy: 0.9820 - val_loss: 0.2285 - val_sparse_categorical_accuracy: 0.9107\n",
            "Epoch 29/200\n",
            "222/222 [==============================] - 0s 495us/sample - loss: 0.0212 - sparse_categorical_accuracy: 1.0000 - val_loss: 0.1746 - val_sparse_categorical_accuracy: 0.9464\n",
            "Epoch 30/200\n",
            "222/222 [==============================] - 0s 526us/sample - loss: 0.0160 - sparse_categorical_accuracy: 1.0000 - val_loss: 0.1902 - val_sparse_categorical_accuracy: 0.9821\n",
            "Epoch 31/200\n",
            "222/222 [==============================] - 0s 527us/sample - loss: 0.0195 - sparse_categorical_accuracy: 0.9955 - val_loss: 0.2653 - val_sparse_categorical_accuracy: 0.9286\n",
            "Epoch 32/200\n",
            "222/222 [==============================] - 0s 485us/sample - loss: 0.0183 - sparse_categorical_accuracy: 0.9910 - val_loss: 0.2582 - val_sparse_categorical_accuracy: 0.9643\n",
            "Epoch 33/200\n",
            "222/222 [==============================] - 0s 539us/sample - loss: 0.0111 - sparse_categorical_accuracy: 0.9955 - val_loss: 0.3087 - val_sparse_categorical_accuracy: 0.9464\n",
            "Epoch 34/200\n",
            "222/222 [==============================] - 0s 491us/sample - loss: 0.0088 - sparse_categorical_accuracy: 1.0000 - val_loss: 0.3181 - val_sparse_categorical_accuracy: 0.9464\n",
            "Epoch 35/200\n",
            "222/222 [==============================] - 0s 532us/sample - loss: 0.0094 - sparse_categorical_accuracy: 1.0000 - val_loss: 0.2783 - val_sparse_categorical_accuracy: 0.9464\n",
            "Epoch 36/200\n",
            "222/222 [==============================] - 0s 561us/sample - loss: 0.0084 - sparse_categorical_accuracy: 1.0000 - val_loss: 0.2251 - val_sparse_categorical_accuracy: 0.9464\n",
            "Epoch 37/200\n",
            "222/222 [==============================] - 0s 504us/sample - loss: 0.0129 - sparse_categorical_accuracy: 0.9955 - val_loss: 0.2687 - val_sparse_categorical_accuracy: 0.9286\n",
            "Epoch 38/200\n",
            "222/222 [==============================] - 0s 513us/sample - loss: 0.0371 - sparse_categorical_accuracy: 0.9865 - val_loss: 0.2744 - val_sparse_categorical_accuracy: 0.9286\n",
            "Epoch 39/200\n",
            "222/222 [==============================] - 0s 488us/sample - loss: 0.0108 - sparse_categorical_accuracy: 0.9955 - val_loss: 0.2625 - val_sparse_categorical_accuracy: 0.9464\n",
            "Epoch 40/200\n",
            "222/222 [==============================] - 0s 514us/sample - loss: 0.0091 - sparse_categorical_accuracy: 1.0000 - val_loss: 0.2704 - val_sparse_categorical_accuracy: 0.9464\n",
            "Epoch 41/200\n",
            "222/222 [==============================] - 0s 544us/sample - loss: 0.0228 - sparse_categorical_accuracy: 0.9910 - val_loss: 0.4175 - val_sparse_categorical_accuracy: 0.9107\n",
            "Epoch 42/200\n",
            "222/222 [==============================] - 0s 500us/sample - loss: 0.0368 - sparse_categorical_accuracy: 0.9910 - val_loss: 0.2012 - val_sparse_categorical_accuracy: 0.9643\n",
            "Epoch 43/200\n",
            "222/222 [==============================] - 0s 483us/sample - loss: 0.0150 - sparse_categorical_accuracy: 0.9955 - val_loss: 0.2693 - val_sparse_categorical_accuracy: 0.9286\n",
            "Epoch 44/200\n",
            "222/222 [==============================] - 0s 528us/sample - loss: 0.0170 - sparse_categorical_accuracy: 0.9910 - val_loss: 0.2887 - val_sparse_categorical_accuracy: 0.9464\n",
            "Epoch 45/200\n",
            "222/222 [==============================] - 0s 507us/sample - loss: 0.0612 - sparse_categorical_accuracy: 0.9865 - val_loss: 0.4344 - val_sparse_categorical_accuracy: 0.9107\n",
            "Epoch 46/200\n",
            "222/222 [==============================] - 0s 479us/sample - loss: 0.1654 - sparse_categorical_accuracy: 0.9459 - val_loss: 0.2728 - val_sparse_categorical_accuracy: 0.9464\n",
            "Epoch 47/200\n",
            "222/222 [==============================] - 0s 526us/sample - loss: 0.1252 - sparse_categorical_accuracy: 0.9505 - val_loss: 0.1851 - val_sparse_categorical_accuracy: 0.9464\n",
            "Epoch 48/200\n",
            "222/222 [==============================] - 0s 511us/sample - loss: 0.0934 - sparse_categorical_accuracy: 0.9550 - val_loss: 0.6119 - val_sparse_categorical_accuracy: 0.8571\n",
            "Epoch 49/200\n",
            "222/222 [==============================] - 0s 520us/sample - loss: 0.0761 - sparse_categorical_accuracy: 0.9820 - val_loss: 0.1274 - val_sparse_categorical_accuracy: 0.9643\n",
            "Epoch 50/200\n",
            "222/222 [==============================] - 0s 550us/sample - loss: 0.0193 - sparse_categorical_accuracy: 0.9955 - val_loss: 0.3085 - val_sparse_categorical_accuracy: 0.9286\n",
            "Epoch 51/200\n",
            "222/222 [==============================] - 0s 501us/sample - loss: 0.0122 - sparse_categorical_accuracy: 1.0000 - val_loss: 0.2669 - val_sparse_categorical_accuracy: 0.9464\n",
            "Epoch 52/200\n",
            "222/222 [==============================] - 0s 536us/sample - loss: 0.0073 - sparse_categorical_accuracy: 1.0000 - val_loss: 0.1976 - val_sparse_categorical_accuracy: 0.9286\n",
            "Epoch 53/200\n",
            "222/222 [==============================] - 0s 522us/sample - loss: 0.0033 - sparse_categorical_accuracy: 1.0000 - val_loss: 0.1645 - val_sparse_categorical_accuracy: 0.9821\n",
            "Epoch 54/200\n",
            "222/222 [==============================] - 0s 483us/sample - loss: 0.0029 - sparse_categorical_accuracy: 1.0000 - val_loss: 0.1580 - val_sparse_categorical_accuracy: 0.9643\n",
            "Epoch 55/200\n",
            "222/222 [==============================] - 0s 542us/sample - loss: 0.0022 - sparse_categorical_accuracy: 1.0000 - val_loss: 0.1591 - val_sparse_categorical_accuracy: 0.9643\n",
            "Epoch 56/200\n",
            "222/222 [==============================] - 0s 522us/sample - loss: 0.0012 - sparse_categorical_accuracy: 1.0000 - val_loss: 0.1651 - val_sparse_categorical_accuracy: 0.9643\n",
            "Epoch 57/200\n",
            "222/222 [==============================] - 0s 489us/sample - loss: 0.0016 - sparse_categorical_accuracy: 1.0000 - val_loss: 0.1694 - val_sparse_categorical_accuracy: 0.9643\n",
            "Epoch 58/200\n",
            "222/222 [==============================] - 0s 488us/sample - loss: 0.0024 - sparse_categorical_accuracy: 1.0000 - val_loss: 0.1739 - val_sparse_categorical_accuracy: 0.9643\n",
            "Epoch 59/200\n",
            "222/222 [==============================] - 0s 552us/sample - loss: 0.0014 - sparse_categorical_accuracy: 1.0000 - val_loss: 0.1865 - val_sparse_categorical_accuracy: 0.9643\n",
            "Epoch 60/200\n",
            "222/222 [==============================] - 0s 517us/sample - loss: 0.0046 - sparse_categorical_accuracy: 1.0000 - val_loss: 0.2025 - val_sparse_categorical_accuracy: 0.9643\n",
            "Epoch 61/200\n",
            "222/222 [==============================] - 0s 486us/sample - loss: 0.0023 - sparse_categorical_accuracy: 1.0000 - val_loss: 0.2109 - val_sparse_categorical_accuracy: 0.9643\n",
            "Epoch 62/200\n",
            "222/222 [==============================] - 0s 502us/sample - loss: 0.0014 - sparse_categorical_accuracy: 1.0000 - val_loss: 0.2046 - val_sparse_categorical_accuracy: 0.9643\n",
            "Epoch 63/200\n",
            "222/222 [==============================] - 0s 473us/sample - loss: 9.8919e-04 - sparse_categorical_accuracy: 1.0000 - val_loss: 0.2010 - val_sparse_categorical_accuracy: 0.9643\n",
            "Epoch 64/200\n",
            "222/222 [==============================] - 0s 498us/sample - loss: 0.0014 - sparse_categorical_accuracy: 1.0000 - val_loss: 0.2004 - val_sparse_categorical_accuracy: 0.9643\n",
            "Epoch 65/200\n",
            "222/222 [==============================] - 0s 539us/sample - loss: 0.0011 - sparse_categorical_accuracy: 1.0000 - val_loss: 0.1907 - val_sparse_categorical_accuracy: 0.9643\n",
            "Epoch 66/200\n",
            "222/222 [==============================] - 0s 488us/sample - loss: 6.1908e-04 - sparse_categorical_accuracy: 1.0000 - val_loss: 0.1879 - val_sparse_categorical_accuracy: 0.9643\n",
            "Epoch 67/200\n",
            "222/222 [==============================] - 0s 487us/sample - loss: 0.0017 - sparse_categorical_accuracy: 1.0000 - val_loss: 0.1810 - val_sparse_categorical_accuracy: 0.9643\n",
            "Epoch 68/200\n",
            "222/222 [==============================] - 0s 527us/sample - loss: 7.6661e-04 - sparse_categorical_accuracy: 1.0000 - val_loss: 0.1771 - val_sparse_categorical_accuracy: 0.9821\n",
            "Epoch 69/200\n",
            "222/222 [==============================] - 0s 498us/sample - loss: 8.6730e-04 - sparse_categorical_accuracy: 1.0000 - val_loss: 0.1760 - val_sparse_categorical_accuracy: 0.9643\n",
            "Epoch 70/200\n",
            "222/222 [==============================] - 0s 509us/sample - loss: 7.6230e-04 - sparse_categorical_accuracy: 1.0000 - val_loss: 0.1786 - val_sparse_categorical_accuracy: 0.9643\n",
            "Epoch 71/200\n",
            "222/222 [==============================] - 0s 485us/sample - loss: 6.1710e-04 - sparse_categorical_accuracy: 1.0000 - val_loss: 0.1786 - val_sparse_categorical_accuracy: 0.9643\n",
            "Epoch 72/200\n",
            "222/222 [==============================] - 0s 479us/sample - loss: 6.4678e-04 - sparse_categorical_accuracy: 1.0000 - val_loss: 0.1751 - val_sparse_categorical_accuracy: 0.9643\n",
            "Epoch 73/200\n",
            "222/222 [==============================] - 0s 470us/sample - loss: 8.8717e-04 - sparse_categorical_accuracy: 1.0000 - val_loss: 0.1858 - val_sparse_categorical_accuracy: 0.9643\n",
            "Epoch 74/200\n",
            "222/222 [==============================] - 0s 505us/sample - loss: 9.3213e-04 - sparse_categorical_accuracy: 1.0000 - val_loss: 0.1934 - val_sparse_categorical_accuracy: 0.9643\n",
            "Epoch 75/200\n",
            "222/222 [==============================] - 0s 500us/sample - loss: 6.0947e-04 - sparse_categorical_accuracy: 1.0000 - val_loss: 0.1950 - val_sparse_categorical_accuracy: 0.9643\n",
            "Epoch 76/200\n",
            "222/222 [==============================] - 0s 491us/sample - loss: 0.0010 - sparse_categorical_accuracy: 1.0000 - val_loss: 0.1752 - val_sparse_categorical_accuracy: 0.9643\n",
            "Epoch 77/200\n",
            "222/222 [==============================] - 0s 531us/sample - loss: 3.6535e-04 - sparse_categorical_accuracy: 1.0000 - val_loss: 0.1677 - val_sparse_categorical_accuracy: 0.9643\n",
            "Epoch 78/200\n",
            "222/222 [==============================] - 0s 542us/sample - loss: 8.7249e-04 - sparse_categorical_accuracy: 1.0000 - val_loss: 0.1599 - val_sparse_categorical_accuracy: 0.9821\n",
            "Epoch 79/200\n",
            "222/222 [==============================] - 0s 498us/sample - loss: 9.2136e-04 - sparse_categorical_accuracy: 1.0000 - val_loss: 0.1600 - val_sparse_categorical_accuracy: 0.9821\n",
            "Epoch 80/200\n",
            "222/222 [==============================] - 0s 504us/sample - loss: 7.1875e-04 - sparse_categorical_accuracy: 1.0000 - val_loss: 0.1646 - val_sparse_categorical_accuracy: 0.9821\n",
            "Epoch 81/200\n",
            "222/222 [==============================] - 0s 500us/sample - loss: 0.0012 - sparse_categorical_accuracy: 1.0000 - val_loss: 0.1635 - val_sparse_categorical_accuracy: 0.9821\n",
            "Epoch 82/200\n",
            "222/222 [==============================] - 0s 507us/sample - loss: 8.1084e-04 - sparse_categorical_accuracy: 1.0000 - val_loss: 0.1833 - val_sparse_categorical_accuracy: 0.9821\n",
            "Epoch 83/200\n",
            "222/222 [==============================] - 0s 490us/sample - loss: 3.1703e-04 - sparse_categorical_accuracy: 1.0000 - val_loss: 0.1966 - val_sparse_categorical_accuracy: 0.9821\n",
            "Epoch 84/200\n",
            "222/222 [==============================] - 0s 503us/sample - loss: 5.3407e-04 - sparse_categorical_accuracy: 1.0000 - val_loss: 0.2003 - val_sparse_categorical_accuracy: 0.9643\n",
            "Epoch 85/200\n",
            "222/222 [==============================] - 0s 546us/sample - loss: 7.6996e-04 - sparse_categorical_accuracy: 1.0000 - val_loss: 0.2087 - val_sparse_categorical_accuracy: 0.9464\n",
            "Epoch 86/200\n",
            "222/222 [==============================] - 0s 478us/sample - loss: 0.0012 - sparse_categorical_accuracy: 1.0000 - val_loss: 0.2097 - val_sparse_categorical_accuracy: 0.9643\n",
            "Epoch 87/200\n",
            "222/222 [==============================] - 0s 488us/sample - loss: 4.4759e-04 - sparse_categorical_accuracy: 1.0000 - val_loss: 0.2184 - val_sparse_categorical_accuracy: 0.9643\n",
            "Epoch 88/200\n",
            "222/222 [==============================] - 0s 543us/sample - loss: 7.2054e-04 - sparse_categorical_accuracy: 1.0000 - val_loss: 0.2032 - val_sparse_categorical_accuracy: 0.9643\n",
            "Epoch 89/200\n",
            "222/222 [==============================] - 0s 529us/sample - loss: 3.2458e-04 - sparse_categorical_accuracy: 1.0000 - val_loss: 0.2003 - val_sparse_categorical_accuracy: 0.9643\n",
            "Epoch 90/200\n",
            "222/222 [==============================] - 0s 479us/sample - loss: 2.1294e-04 - sparse_categorical_accuracy: 1.0000 - val_loss: 0.2063 - val_sparse_categorical_accuracy: 0.9464\n",
            "Epoch 91/200\n",
            "222/222 [==============================] - 0s 531us/sample - loss: 3.0365e-04 - sparse_categorical_accuracy: 1.0000 - val_loss: 0.2074 - val_sparse_categorical_accuracy: 0.9464\n",
            "Epoch 92/200\n",
            "222/222 [==============================] - 0s 505us/sample - loss: 3.3888e-04 - sparse_categorical_accuracy: 1.0000 - val_loss: 0.2055 - val_sparse_categorical_accuracy: 0.9464\n",
            "Epoch 93/200\n",
            "222/222 [==============================] - 0s 498us/sample - loss: 4.6604e-04 - sparse_categorical_accuracy: 1.0000 - val_loss: 0.2013 - val_sparse_categorical_accuracy: 0.9464\n",
            "Epoch 94/200\n",
            "222/222 [==============================] - 0s 547us/sample - loss: 2.8531e-04 - sparse_categorical_accuracy: 1.0000 - val_loss: 0.1982 - val_sparse_categorical_accuracy: 0.9464\n",
            "Epoch 95/200\n",
            "222/222 [==============================] - 0s 512us/sample - loss: 4.0046e-04 - sparse_categorical_accuracy: 1.0000 - val_loss: 0.1951 - val_sparse_categorical_accuracy: 0.9643\n",
            "Epoch 96/200\n",
            "222/222 [==============================] - 0s 528us/sample - loss: 4.7924e-04 - sparse_categorical_accuracy: 1.0000 - val_loss: 0.1967 - val_sparse_categorical_accuracy: 0.9643\n",
            "Epoch 97/200\n",
            "222/222 [==============================] - 0s 530us/sample - loss: 2.8784e-04 - sparse_categorical_accuracy: 1.0000 - val_loss: 0.1939 - val_sparse_categorical_accuracy: 0.9464\n",
            "Epoch 98/200\n",
            "222/222 [==============================] - 0s 508us/sample - loss: 3.1857e-04 - sparse_categorical_accuracy: 1.0000 - val_loss: 0.1966 - val_sparse_categorical_accuracy: 0.9643\n",
            "Epoch 99/200\n",
            "144/222 [==================>...........] - ETA: 0s - loss: 2.9002e-04 - sparse_categorical_accuracy: 1.0000Restoring model weights from the end of the best epoch.\n",
            "222/222 [==============================] - 0s 508us/sample - loss: 2.7066e-04 - sparse_categorical_accuracy: 1.0000 - val_loss: 0.1948 - val_sparse_categorical_accuracy: 0.9643\n",
            "Epoch 00099: early stopping\n"
          ],
          "name": "stdout"
        }
      ]
    },
    {
      "cell_type": "code",
      "metadata": {
        "id": "PmUH3o0p7Upp",
        "colab_type": "code",
        "outputId": "9396aebb-32af-4ab8-827f-a392210764bb",
        "colab": {
          "base_uri": "https://localhost:8080/",
          "height": 370
        }
      },
      "source": [
        "datasets[index_ds]['model'].vizualizate_train(visualzation_accuracy_loss_values_epochs=visualzation_accuracy_loss_values_epochs, title = \"Precisión en el en el conjunto de validacion atraves de las epocas. \" + datasets[index_ds]['name'] )"
      ],
      "execution_count": 40,
      "outputs": [
        {
          "output_type": "display_data",
          "data": {
            "image/png": "[encoded data removed]",
            "text/plain": [
              "<Figure size 1080x360 with 2 Axes>"
            ]
          },
          "metadata": {
            "tags": []
          }
        }
      ]
    },
    {
      "cell_type": "code",
      "metadata": {
        "id": "6rRq_xmTePtZ",
        "colab_type": "code",
        "colab": {
          "base_uri": "https://localhost:8080/",
          "height": 68
        },
        "outputId": "30f160bb-ebee-45bd-b37c-23525e9bde38"
      },
      "source": [
        "  x_test = datasets[index_ds][\"x_test\"]\n",
        "  y_test = datasets[index_ds][\"y_test\"]\n",
        "  datasets[index_ds]['model'].evaluate(x_test=x_test,y_test=y_test)"
      ],
      "execution_count": 41,
      "outputs": [
        {
          "output_type": "stream",
          "text": [
            "\r31/31 [==============================] - 0s 366us/sample - loss: 0.9310 - sparse_categorical_accuracy: 0.8387\n",
            "Precisión en el conjunto de prueba: 0.8387096524238586\n",
            "Valor de la perdidad en el conjunto de prueba: 0.9309886693954468\n"
          ],
          "name": "stdout"
        }
      ]
    },
    {
      "cell_type": "markdown",
      "metadata": {
        "id": "BwjYyfEu7XSz",
        "colab_type": "text"
      },
      "source": [
        "#### Entrenamiento para nivel de fuerza Tx_0x06"
      ]
    },
    {
      "cell_type": "code",
      "metadata": {
        "id": "Xg9sBZt67jA_",
        "colab_type": "code",
        "outputId": "f3ec76f8-33ea-447d-888c-78fdbd4da6a6",
        "colab": {
          "base_uri": "https://localhost:8080/",
          "height": 1000
        }
      },
      "source": [
        "index_ds = 5\n",
        "x_train = datasets[index_ds]['x_train']\n",
        "y_train = datasets[index_ds]['y_train']\n",
        "datasets[index_ds]['model'].run(x_train,y_train,early_stoping=True)"
      ],
      "execution_count": 42,
      "outputs": [
        {
          "output_type": "stream",
          "text": [
            "Train on 219 samples, validate on 55 samples\n",
            "Epoch 1/200\n",
            "219/219 [==============================] - 0s 2ms/sample - loss: 2.4429 - sparse_categorical_accuracy: 0.2877 - val_loss: 1.9831 - val_sparse_categorical_accuracy: 0.3636\n",
            "Epoch 2/200\n",
            "219/219 [==============================] - 0s 523us/sample - loss: 1.5022 - sparse_categorical_accuracy: 0.4840 - val_loss: 1.0753 - val_sparse_categorical_accuracy: 0.5818\n",
            "Epoch 3/200\n",
            "219/219 [==============================] - 0s 524us/sample - loss: 0.8505 - sparse_categorical_accuracy: 0.6941 - val_loss: 0.4742 - val_sparse_categorical_accuracy: 0.8909\n",
            "Epoch 4/200\n",
            "219/219 [==============================] - 0s 513us/sample - loss: 0.5253 - sparse_categorical_accuracy: 0.8356 - val_loss: 0.3263 - val_sparse_categorical_accuracy: 0.8909\n",
            "Epoch 5/200\n",
            "219/219 [==============================] - 0s 578us/sample - loss: 0.4303 - sparse_categorical_accuracy: 0.8630 - val_loss: 0.2721 - val_sparse_categorical_accuracy: 0.9091\n",
            "Epoch 6/200\n",
            "219/219 [==============================] - 0s 513us/sample - loss: 0.2893 - sparse_categorical_accuracy: 0.8995 - val_loss: 0.1978 - val_sparse_categorical_accuracy: 0.9273\n",
            "Epoch 7/200\n",
            "219/219 [==============================] - 0s 521us/sample - loss: 0.2399 - sparse_categorical_accuracy: 0.9178 - val_loss: 0.1967 - val_sparse_categorical_accuracy: 0.9091\n",
            "Epoch 8/200\n",
            "219/219 [==============================] - 0s 521us/sample - loss: 0.2073 - sparse_categorical_accuracy: 0.9224 - val_loss: 0.1689 - val_sparse_categorical_accuracy: 0.9455\n",
            "Epoch 9/200\n",
            "219/219 [==============================] - 0s 508us/sample - loss: 0.1620 - sparse_categorical_accuracy: 0.9498 - val_loss: 0.1209 - val_sparse_categorical_accuracy: 0.9636\n",
            "Epoch 10/200\n",
            "219/219 [==============================] - 0s 524us/sample - loss: 0.1379 - sparse_categorical_accuracy: 0.9772 - val_loss: 0.1424 - val_sparse_categorical_accuracy: 0.9455\n",
            "Epoch 11/200\n",
            "219/219 [==============================] - 0s 543us/sample - loss: 0.0920 - sparse_categorical_accuracy: 0.9772 - val_loss: 0.1097 - val_sparse_categorical_accuracy: 0.9636\n",
            "Epoch 12/200\n",
            "219/219 [==============================] - 0s 531us/sample - loss: 0.0751 - sparse_categorical_accuracy: 0.9635 - val_loss: 0.0783 - val_sparse_categorical_accuracy: 0.9636\n",
            "Epoch 13/200\n",
            "219/219 [==============================] - 0s 525us/sample - loss: 0.0483 - sparse_categorical_accuracy: 0.9909 - val_loss: 0.0960 - val_sparse_categorical_accuracy: 0.9636\n",
            "Epoch 14/200\n",
            "219/219 [==============================] - 0s 569us/sample - loss: 0.0826 - sparse_categorical_accuracy: 0.9726 - val_loss: 0.1020 - val_sparse_categorical_accuracy: 0.9636\n",
            "Epoch 15/200\n",
            "219/219 [==============================] - 0s 503us/sample - loss: 0.0787 - sparse_categorical_accuracy: 0.9680 - val_loss: 0.0637 - val_sparse_categorical_accuracy: 0.9818\n",
            "Epoch 16/200\n",
            "219/219 [==============================] - 0s 517us/sample - loss: 0.0646 - sparse_categorical_accuracy: 0.9772 - val_loss: 0.0535 - val_sparse_categorical_accuracy: 0.9818\n",
            "Epoch 17/200\n",
            "219/219 [==============================] - 0s 492us/sample - loss: 0.0526 - sparse_categorical_accuracy: 0.9817 - val_loss: 0.1765 - val_sparse_categorical_accuracy: 0.9273\n",
            "Epoch 18/200\n",
            "219/219 [==============================] - 0s 507us/sample - loss: 0.1308 - sparse_categorical_accuracy: 0.9543 - val_loss: 0.0769 - val_sparse_categorical_accuracy: 0.9636\n",
            "Epoch 19/200\n",
            "219/219 [==============================] - 0s 489us/sample - loss: 0.1787 - sparse_categorical_accuracy: 0.9498 - val_loss: 0.3239 - val_sparse_categorical_accuracy: 0.8545\n",
            "Epoch 20/200\n",
            "219/219 [==============================] - 0s 482us/sample - loss: 0.0921 - sparse_categorical_accuracy: 0.9635 - val_loss: 0.0810 - val_sparse_categorical_accuracy: 0.9455\n",
            "Epoch 21/200\n",
            "219/219 [==============================] - 0s 523us/sample - loss: 0.0552 - sparse_categorical_accuracy: 0.9863 - val_loss: 0.0579 - val_sparse_categorical_accuracy: 0.9636\n",
            "Epoch 22/200\n",
            "219/219 [==============================] - 0s 509us/sample - loss: 0.0305 - sparse_categorical_accuracy: 0.9954 - val_loss: 0.0500 - val_sparse_categorical_accuracy: 0.9818\n",
            "Epoch 23/200\n",
            "219/219 [==============================] - 0s 539us/sample - loss: 0.0372 - sparse_categorical_accuracy: 0.9909 - val_loss: 0.0606 - val_sparse_categorical_accuracy: 0.9818\n",
            "Epoch 24/200\n",
            "219/219 [==============================] - 0s 493us/sample - loss: 0.0250 - sparse_categorical_accuracy: 0.9954 - val_loss: 0.0408 - val_sparse_categorical_accuracy: 0.9818\n",
            "Epoch 25/200\n",
            "219/219 [==============================] - 0s 505us/sample - loss: 0.0133 - sparse_categorical_accuracy: 1.0000 - val_loss: 0.0269 - val_sparse_categorical_accuracy: 1.0000\n",
            "Epoch 26/200\n",
            "219/219 [==============================] - 0s 487us/sample - loss: 0.0171 - sparse_categorical_accuracy: 0.9954 - val_loss: 0.0371 - val_sparse_categorical_accuracy: 0.9818\n",
            "Epoch 27/200\n",
            "219/219 [==============================] - 0s 520us/sample - loss: 0.0095 - sparse_categorical_accuracy: 1.0000 - val_loss: 0.0367 - val_sparse_categorical_accuracy: 0.9818\n",
            "Epoch 28/200\n",
            "219/219 [==============================] - 0s 490us/sample - loss: 0.0097 - sparse_categorical_accuracy: 1.0000 - val_loss: 0.0260 - val_sparse_categorical_accuracy: 1.0000\n",
            "Epoch 29/200\n",
            "219/219 [==============================] - 0s 550us/sample - loss: 0.0080 - sparse_categorical_accuracy: 1.0000 - val_loss: 0.0224 - val_sparse_categorical_accuracy: 1.0000\n",
            "Epoch 30/200\n",
            "219/219 [==============================] - 0s 538us/sample - loss: 0.0191 - sparse_categorical_accuracy: 0.9954 - val_loss: 0.0184 - val_sparse_categorical_accuracy: 1.0000\n",
            "Epoch 31/200\n",
            "219/219 [==============================] - 0s 540us/sample - loss: 0.0230 - sparse_categorical_accuracy: 0.9863 - val_loss: 0.0189 - val_sparse_categorical_accuracy: 1.0000\n",
            "Epoch 32/200\n",
            "219/219 [==============================] - 0s 533us/sample - loss: 0.0273 - sparse_categorical_accuracy: 0.9909 - val_loss: 0.0401 - val_sparse_categorical_accuracy: 0.9818\n",
            "Epoch 33/200\n",
            "219/219 [==============================] - 0s 578us/sample - loss: 0.0425 - sparse_categorical_accuracy: 0.9909 - val_loss: 0.1091 - val_sparse_categorical_accuracy: 0.9636\n",
            "Epoch 34/200\n",
            "219/219 [==============================] - 0s 540us/sample - loss: 0.0211 - sparse_categorical_accuracy: 0.9909 - val_loss: 0.0239 - val_sparse_categorical_accuracy: 1.0000\n",
            "Epoch 35/200\n",
            "219/219 [==============================] - 0s 549us/sample - loss: 0.0237 - sparse_categorical_accuracy: 0.9909 - val_loss: 0.1573 - val_sparse_categorical_accuracy: 0.9636\n",
            "Epoch 36/200\n",
            "219/219 [==============================] - 0s 498us/sample - loss: 0.0270 - sparse_categorical_accuracy: 0.9909 - val_loss: 0.0236 - val_sparse_categorical_accuracy: 1.0000\n",
            "Epoch 37/200\n",
            "219/219 [==============================] - 0s 505us/sample - loss: 0.0164 - sparse_categorical_accuracy: 1.0000 - val_loss: 0.0394 - val_sparse_categorical_accuracy: 0.9818\n",
            "Epoch 38/200\n",
            "219/219 [==============================] - 0s 501us/sample - loss: 0.0421 - sparse_categorical_accuracy: 0.9863 - val_loss: 0.1620 - val_sparse_categorical_accuracy: 0.9273\n",
            "Epoch 39/200\n",
            "219/219 [==============================] - 0s 514us/sample - loss: 0.0311 - sparse_categorical_accuracy: 0.9863 - val_loss: 0.0810 - val_sparse_categorical_accuracy: 0.9636\n",
            "Epoch 40/200\n",
            "219/219 [==============================] - 0s 523us/sample - loss: 0.0157 - sparse_categorical_accuracy: 1.0000 - val_loss: 0.0393 - val_sparse_categorical_accuracy: 0.9818\n",
            "Epoch 41/200\n",
            "219/219 [==============================] - 0s 502us/sample - loss: 0.0061 - sparse_categorical_accuracy: 1.0000 - val_loss: 0.0338 - val_sparse_categorical_accuracy: 1.0000\n",
            "Epoch 42/200\n",
            "219/219 [==============================] - 0s 514us/sample - loss: 0.0081 - sparse_categorical_accuracy: 1.0000 - val_loss: 0.0366 - val_sparse_categorical_accuracy: 1.0000\n",
            "Epoch 43/200\n",
            "219/219 [==============================] - 0s 492us/sample - loss: 0.0051 - sparse_categorical_accuracy: 1.0000 - val_loss: 0.0268 - val_sparse_categorical_accuracy: 1.0000\n",
            "Epoch 44/200\n",
            "219/219 [==============================] - 0s 514us/sample - loss: 0.0024 - sparse_categorical_accuracy: 1.0000 - val_loss: 0.0252 - val_sparse_categorical_accuracy: 0.9818\n",
            "Epoch 45/200\n",
            "219/219 [==============================] - 0s 511us/sample - loss: 0.0035 - sparse_categorical_accuracy: 1.0000 - val_loss: 0.0228 - val_sparse_categorical_accuracy: 1.0000\n",
            "Epoch 46/200\n",
            "219/219 [==============================] - 0s 487us/sample - loss: 0.0044 - sparse_categorical_accuracy: 1.0000 - val_loss: 0.0263 - val_sparse_categorical_accuracy: 1.0000\n",
            "Epoch 47/200\n",
            "219/219 [==============================] - 0s 517us/sample - loss: 0.0028 - sparse_categorical_accuracy: 1.0000 - val_loss: 0.0236 - val_sparse_categorical_accuracy: 1.0000\n",
            "Epoch 48/200\n",
            "219/219 [==============================] - 0s 507us/sample - loss: 0.0025 - sparse_categorical_accuracy: 1.0000 - val_loss: 0.0270 - val_sparse_categorical_accuracy: 1.0000\n",
            "Epoch 49/200\n",
            "219/219 [==============================] - 0s 556us/sample - loss: 0.0013 - sparse_categorical_accuracy: 1.0000 - val_loss: 0.0267 - val_sparse_categorical_accuracy: 1.0000\n",
            "Epoch 50/200\n",
            "219/219 [==============================] - 0s 496us/sample - loss: 0.0012 - sparse_categorical_accuracy: 1.0000 - val_loss: 0.0230 - val_sparse_categorical_accuracy: 1.0000\n",
            "Epoch 51/200\n",
            "219/219 [==============================] - 0s 514us/sample - loss: 0.0024 - sparse_categorical_accuracy: 1.0000 - val_loss: 0.0207 - val_sparse_categorical_accuracy: 1.0000\n",
            "Epoch 52/200\n",
            "219/219 [==============================] - 0s 521us/sample - loss: 0.0015 - sparse_categorical_accuracy: 1.0000 - val_loss: 0.0209 - val_sparse_categorical_accuracy: 1.0000\n",
            "Epoch 53/200\n",
            "219/219 [==============================] - 0s 521us/sample - loss: 8.8299e-04 - sparse_categorical_accuracy: 1.0000 - val_loss: 0.0193 - val_sparse_categorical_accuracy: 1.0000\n",
            "Epoch 54/200\n",
            "219/219 [==============================] - 0s 511us/sample - loss: 0.0010 - sparse_categorical_accuracy: 1.0000 - val_loss: 0.0164 - val_sparse_categorical_accuracy: 1.0000\n",
            "Epoch 55/200\n",
            "219/219 [==============================] - 0s 490us/sample - loss: 0.0010 - sparse_categorical_accuracy: 1.0000 - val_loss: 0.0218 - val_sparse_categorical_accuracy: 1.0000\n",
            "Epoch 56/200\n",
            "219/219 [==============================] - 0s 507us/sample - loss: 0.0032 - sparse_categorical_accuracy: 1.0000 - val_loss: 0.0187 - val_sparse_categorical_accuracy: 1.0000\n",
            "Epoch 57/200\n",
            "219/219 [==============================] - 0s 602us/sample - loss: 0.0037 - sparse_categorical_accuracy: 1.0000 - val_loss: 0.0201 - val_sparse_categorical_accuracy: 1.0000\n",
            "Epoch 58/200\n",
            "219/219 [==============================] - 0s 481us/sample - loss: 0.0073 - sparse_categorical_accuracy: 0.9954 - val_loss: 0.0183 - val_sparse_categorical_accuracy: 1.0000\n",
            "Epoch 59/200\n",
            "219/219 [==============================] - 0s 491us/sample - loss: 0.0074 - sparse_categorical_accuracy: 0.9954 - val_loss: 0.0250 - val_sparse_categorical_accuracy: 1.0000\n",
            "Epoch 60/200\n",
            "219/219 [==============================] - 0s 479us/sample - loss: 0.0122 - sparse_categorical_accuracy: 0.9909 - val_loss: 0.0435 - val_sparse_categorical_accuracy: 0.9818\n",
            "Epoch 61/200\n",
            "219/219 [==============================] - 0s 502us/sample - loss: 0.0265 - sparse_categorical_accuracy: 0.9909 - val_loss: 0.1203 - val_sparse_categorical_accuracy: 0.9455\n",
            "Epoch 62/200\n",
            "219/219 [==============================] - 0s 512us/sample - loss: 0.0552 - sparse_categorical_accuracy: 0.9909 - val_loss: 0.1015 - val_sparse_categorical_accuracy: 0.9818\n",
            "Epoch 63/200\n",
            "219/219 [==============================] - 0s 481us/sample - loss: 0.0492 - sparse_categorical_accuracy: 0.9817 - val_loss: 0.1425 - val_sparse_categorical_accuracy: 0.9636\n",
            "Epoch 64/200\n",
            "219/219 [==============================] - 0s 518us/sample - loss: 0.0111 - sparse_categorical_accuracy: 0.9954 - val_loss: 0.0340 - val_sparse_categorical_accuracy: 0.9818\n",
            "Epoch 65/200\n",
            "219/219 [==============================] - 0s 510us/sample - loss: 0.0048 - sparse_categorical_accuracy: 1.0000 - val_loss: 0.0124 - val_sparse_categorical_accuracy: 1.0000\n",
            "Epoch 66/200\n",
            "219/219 [==============================] - 0s 547us/sample - loss: 0.0047 - sparse_categorical_accuracy: 1.0000 - val_loss: 0.0142 - val_sparse_categorical_accuracy: 1.0000\n",
            "Epoch 67/200\n",
            "219/219 [==============================] - 0s 513us/sample - loss: 0.0017 - sparse_categorical_accuracy: 1.0000 - val_loss: 0.0191 - val_sparse_categorical_accuracy: 0.9818\n",
            "Epoch 68/200\n",
            "219/219 [==============================] - 0s 499us/sample - loss: 0.0020 - sparse_categorical_accuracy: 1.0000 - val_loss: 0.0137 - val_sparse_categorical_accuracy: 1.0000\n",
            "Epoch 69/200\n",
            "219/219 [==============================] - 0s 502us/sample - loss: 5.1381e-04 - sparse_categorical_accuracy: 1.0000 - val_loss: 0.0098 - val_sparse_categorical_accuracy: 1.0000\n",
            "Epoch 70/200\n",
            "219/219 [==============================] - 0s 530us/sample - loss: 0.0023 - sparse_categorical_accuracy: 1.0000 - val_loss: 0.0071 - val_sparse_categorical_accuracy: 1.0000\n",
            "Epoch 71/200\n",
            "219/219 [==============================] - 0s 507us/sample - loss: 0.0022 - sparse_categorical_accuracy: 1.0000 - val_loss: 0.0086 - val_sparse_categorical_accuracy: 1.0000\n",
            "Epoch 72/200\n",
            "219/219 [==============================] - 0s 519us/sample - loss: 0.0018 - sparse_categorical_accuracy: 1.0000 - val_loss: 0.0081 - val_sparse_categorical_accuracy: 1.0000\n",
            "Epoch 73/200\n",
            "219/219 [==============================] - 0s 507us/sample - loss: 5.6867e-04 - sparse_categorical_accuracy: 1.0000 - val_loss: 0.0073 - val_sparse_categorical_accuracy: 1.0000\n",
            "Epoch 74/200\n",
            "219/219 [==============================] - 0s 520us/sample - loss: 6.2402e-04 - sparse_categorical_accuracy: 1.0000 - val_loss: 0.0073 - val_sparse_categorical_accuracy: 1.0000\n",
            "Epoch 75/200\n",
            "219/219 [==============================] - 0s 537us/sample - loss: 7.3049e-04 - sparse_categorical_accuracy: 1.0000 - val_loss: 0.0066 - val_sparse_categorical_accuracy: 1.0000\n",
            "Epoch 76/200\n",
            "219/219 [==============================] - 0s 504us/sample - loss: 6.4838e-04 - sparse_categorical_accuracy: 1.0000 - val_loss: 0.0065 - val_sparse_categorical_accuracy: 1.0000\n",
            "Epoch 77/200\n",
            "219/219 [==============================] - 0s 569us/sample - loss: 4.6514e-04 - sparse_categorical_accuracy: 1.0000 - val_loss: 0.0065 - val_sparse_categorical_accuracy: 1.0000\n",
            "Epoch 78/200\n",
            "219/219 [==============================] - 0s 487us/sample - loss: 0.0032 - sparse_categorical_accuracy: 1.0000 - val_loss: 0.0276 - val_sparse_categorical_accuracy: 1.0000\n",
            "Epoch 79/200\n",
            "219/219 [==============================] - 0s 508us/sample - loss: 0.0025 - sparse_categorical_accuracy: 1.0000 - val_loss: 0.0078 - val_sparse_categorical_accuracy: 1.0000\n",
            "Epoch 80/200\n",
            "219/219 [==============================] - 0s 499us/sample - loss: 4.8663e-04 - sparse_categorical_accuracy: 1.0000 - val_loss: 0.0067 - val_sparse_categorical_accuracy: 1.0000\n",
            "Epoch 81/200\n",
            "219/219 [==============================] - 0s 517us/sample - loss: 6.3983e-04 - sparse_categorical_accuracy: 1.0000 - val_loss: 0.0078 - val_sparse_categorical_accuracy: 1.0000\n",
            "Epoch 82/200\n",
            "219/219 [==============================] - 0s 493us/sample - loss: 3.3010e-04 - sparse_categorical_accuracy: 1.0000 - val_loss: 0.0099 - val_sparse_categorical_accuracy: 1.0000\n",
            "Epoch 83/200\n",
            "219/219 [==============================] - 0s 503us/sample - loss: 3.7501e-04 - sparse_categorical_accuracy: 1.0000 - val_loss: 0.0103 - val_sparse_categorical_accuracy: 1.0000\n",
            "Epoch 84/200\n",
            "219/219 [==============================] - 0s 535us/sample - loss: 8.2980e-04 - sparse_categorical_accuracy: 1.0000 - val_loss: 0.0083 - val_sparse_categorical_accuracy: 1.0000\n",
            "Epoch 85/200\n",
            "219/219 [==============================] - 0s 531us/sample - loss: 3.0990e-04 - sparse_categorical_accuracy: 1.0000 - val_loss: 0.0080 - val_sparse_categorical_accuracy: 1.0000\n",
            "Epoch 86/200\n",
            "219/219 [==============================] - 0s 482us/sample - loss: 5.4475e-04 - sparse_categorical_accuracy: 1.0000 - val_loss: 0.0088 - val_sparse_categorical_accuracy: 1.0000\n",
            "Epoch 87/200\n",
            "219/219 [==============================] - 0s 523us/sample - loss: 3.9870e-04 - sparse_categorical_accuracy: 1.0000 - val_loss: 0.0140 - val_sparse_categorical_accuracy: 1.0000\n",
            "Epoch 88/200\n",
            "219/219 [==============================] - 0s 534us/sample - loss: 2.0911e-04 - sparse_categorical_accuracy: 1.0000 - val_loss: 0.0174 - val_sparse_categorical_accuracy: 0.9818\n",
            "Epoch 89/200\n",
            "219/219 [==============================] - 0s 519us/sample - loss: 3.0168e-04 - sparse_categorical_accuracy: 1.0000 - val_loss: 0.0175 - val_sparse_categorical_accuracy: 0.9818\n",
            "Epoch 90/200\n",
            "219/219 [==============================] - 0s 500us/sample - loss: 7.8359e-04 - sparse_categorical_accuracy: 1.0000 - val_loss: 0.0131 - val_sparse_categorical_accuracy: 1.0000\n",
            "Epoch 91/200\n",
            "219/219 [==============================] - 0s 516us/sample - loss: 3.5245e-04 - sparse_categorical_accuracy: 1.0000 - val_loss: 0.0094 - val_sparse_categorical_accuracy: 1.0000\n",
            "Epoch 92/200\n",
            "219/219 [==============================] - 0s 526us/sample - loss: 2.5974e-04 - sparse_categorical_accuracy: 1.0000 - val_loss: 0.0082 - val_sparse_categorical_accuracy: 1.0000\n",
            "Epoch 93/200\n",
            "219/219 [==============================] - 0s 543us/sample - loss: 5.9072e-04 - sparse_categorical_accuracy: 1.0000 - val_loss: 0.0084 - val_sparse_categorical_accuracy: 1.0000\n",
            "Epoch 94/200\n",
            "219/219 [==============================] - 0s 493us/sample - loss: 3.4346e-04 - sparse_categorical_accuracy: 1.0000 - val_loss: 0.0094 - val_sparse_categorical_accuracy: 1.0000\n",
            "Epoch 95/200\n",
            "219/219 [==============================] - 0s 517us/sample - loss: 3.0775e-04 - sparse_categorical_accuracy: 1.0000 - val_loss: 0.0093 - val_sparse_categorical_accuracy: 1.0000\n",
            "Epoch 96/200\n",
            "219/219 [==============================] - 0s 533us/sample - loss: 1.7270e-04 - sparse_categorical_accuracy: 1.0000 - val_loss: 0.0089 - val_sparse_categorical_accuracy: 1.0000\n",
            "Epoch 97/200\n",
            "219/219 [==============================] - 0s 520us/sample - loss: 3.0054e-04 - sparse_categorical_accuracy: 1.0000 - val_loss: 0.0086 - val_sparse_categorical_accuracy: 1.0000\n",
            "Epoch 98/200\n",
            "219/219 [==============================] - 0s 528us/sample - loss: 3.8983e-04 - sparse_categorical_accuracy: 1.0000 - val_loss: 0.0089 - val_sparse_categorical_accuracy: 1.0000\n",
            "Epoch 99/200\n",
            "219/219 [==============================] - 0s 502us/sample - loss: 2.3157e-04 - sparse_categorical_accuracy: 1.0000 - val_loss: 0.0101 - val_sparse_categorical_accuracy: 1.0000\n",
            "Epoch 100/200\n",
            "219/219 [==============================] - 0s 510us/sample - loss: 5.6470e-04 - sparse_categorical_accuracy: 1.0000 - val_loss: 0.0087 - val_sparse_categorical_accuracy: 1.0000\n",
            "Epoch 101/200\n",
            "219/219 [==============================] - 0s 551us/sample - loss: 3.5686e-04 - sparse_categorical_accuracy: 1.0000 - val_loss: 0.0078 - val_sparse_categorical_accuracy: 1.0000\n",
            "Epoch 102/200\n",
            "219/219 [==============================] - 0s 544us/sample - loss: 2.1551e-04 - sparse_categorical_accuracy: 1.0000 - val_loss: 0.0087 - val_sparse_categorical_accuracy: 1.0000\n",
            "Epoch 103/200\n",
            "219/219 [==============================] - 0s 466us/sample - loss: 2.3278e-04 - sparse_categorical_accuracy: 1.0000 - val_loss: 0.0085 - val_sparse_categorical_accuracy: 1.0000\n",
            "Epoch 104/200\n",
            "219/219 [==============================] - 0s 517us/sample - loss: 1.8413e-04 - sparse_categorical_accuracy: 1.0000 - val_loss: 0.0084 - val_sparse_categorical_accuracy: 1.0000\n",
            "Epoch 105/200\n",
            "219/219 [==============================] - 0s 538us/sample - loss: 4.2610e-04 - sparse_categorical_accuracy: 1.0000 - val_loss: 0.0079 - val_sparse_categorical_accuracy: 1.0000\n",
            "Epoch 106/200\n",
            "219/219 [==============================] - 0s 538us/sample - loss: 2.0370e-04 - sparse_categorical_accuracy: 1.0000 - val_loss: 0.0085 - val_sparse_categorical_accuracy: 1.0000\n",
            "Epoch 107/200\n",
            "219/219 [==============================] - 0s 529us/sample - loss: 1.3946e-04 - sparse_categorical_accuracy: 1.0000 - val_loss: 0.0091 - val_sparse_categorical_accuracy: 1.0000\n",
            "Epoch 108/200\n",
            "219/219 [==============================] - 0s 518us/sample - loss: 2.1510e-04 - sparse_categorical_accuracy: 1.0000 - val_loss: 0.0091 - val_sparse_categorical_accuracy: 1.0000\n",
            "Epoch 109/200\n",
            "219/219 [==============================] - 0s 490us/sample - loss: 3.3119e-04 - sparse_categorical_accuracy: 1.0000 - val_loss: 0.0085 - val_sparse_categorical_accuracy: 1.0000\n",
            "Epoch 110/200\n",
            "219/219 [==============================] - 0s 526us/sample - loss: 4.1651e-04 - sparse_categorical_accuracy: 1.0000 - val_loss: 0.0083 - val_sparse_categorical_accuracy: 1.0000\n",
            "Epoch 111/200\n",
            "219/219 [==============================] - 0s 486us/sample - loss: 1.2970e-04 - sparse_categorical_accuracy: 1.0000 - val_loss: 0.0079 - val_sparse_categorical_accuracy: 1.0000\n",
            "Epoch 112/200\n",
            "219/219 [==============================] - 0s 520us/sample - loss: 1.1366e-04 - sparse_categorical_accuracy: 1.0000 - val_loss: 0.0072 - val_sparse_categorical_accuracy: 1.0000\n",
            "Epoch 113/200\n",
            "219/219 [==============================] - 0s 499us/sample - loss: 1.7578e-04 - sparse_categorical_accuracy: 1.0000 - val_loss: 0.0071 - val_sparse_categorical_accuracy: 1.0000\n",
            "Epoch 114/200\n",
            "219/219 [==============================] - 0s 512us/sample - loss: 5.8944e-05 - sparse_categorical_accuracy: 1.0000 - val_loss: 0.0084 - val_sparse_categorical_accuracy: 1.0000\n",
            "Epoch 115/200\n",
            "219/219 [==============================] - 0s 512us/sample - loss: 1.6501e-04 - sparse_categorical_accuracy: 1.0000 - val_loss: 0.0081 - val_sparse_categorical_accuracy: 1.0000\n",
            "Epoch 116/200\n",
            "219/219 [==============================] - 0s 517us/sample - loss: 1.8886e-04 - sparse_categorical_accuracy: 1.0000 - val_loss: 0.0084 - val_sparse_categorical_accuracy: 1.0000\n",
            "Epoch 117/200\n",
            "219/219 [==============================] - 0s 515us/sample - loss: 2.0587e-04 - sparse_categorical_accuracy: 1.0000 - val_loss: 0.0074 - val_sparse_categorical_accuracy: 1.0000\n",
            "Epoch 118/200\n",
            "219/219 [==============================] - 0s 503us/sample - loss: 4.2765e-04 - sparse_categorical_accuracy: 1.0000 - val_loss: 0.0049 - val_sparse_categorical_accuracy: 1.0000\n",
            "Epoch 119/200\n",
            "219/219 [==============================] - 0s 562us/sample - loss: 1.9156e-04 - sparse_categorical_accuracy: 1.0000 - val_loss: 0.0047 - val_sparse_categorical_accuracy: 1.0000\n",
            "Epoch 120/200\n",
            "219/219 [==============================] - 0s 521us/sample - loss: 3.4896e-04 - sparse_categorical_accuracy: 1.0000 - val_loss: 0.0062 - val_sparse_categorical_accuracy: 1.0000\n",
            "Epoch 121/200\n",
            "219/219 [==============================] - 0s 541us/sample - loss: 2.6124e-04 - sparse_categorical_accuracy: 1.0000 - val_loss: 0.0065 - val_sparse_categorical_accuracy: 1.0000\n",
            "Epoch 122/200\n",
            "219/219 [==============================] - 0s 578us/sample - loss: 1.5197e-04 - sparse_categorical_accuracy: 1.0000 - val_loss: 0.0060 - val_sparse_categorical_accuracy: 1.0000\n",
            "Epoch 123/200\n",
            "219/219 [==============================] - 0s 573us/sample - loss: 6.4367e-04 - sparse_categorical_accuracy: 1.0000 - val_loss: 0.0054 - val_sparse_categorical_accuracy: 1.0000\n",
            "Epoch 124/200\n",
            "219/219 [==============================] - 0s 509us/sample - loss: 4.1161e-04 - sparse_categorical_accuracy: 1.0000 - val_loss: 0.0055 - val_sparse_categorical_accuracy: 1.0000\n",
            "Epoch 125/200\n",
            "219/219 [==============================] - 0s 498us/sample - loss: 9.8696e-05 - sparse_categorical_accuracy: 1.0000 - val_loss: 0.0063 - val_sparse_categorical_accuracy: 1.0000\n",
            "Epoch 126/200\n",
            "219/219 [==============================] - 0s 497us/sample - loss: 8.2033e-05 - sparse_categorical_accuracy: 1.0000 - val_loss: 0.0064 - val_sparse_categorical_accuracy: 1.0000\n",
            "Epoch 127/200\n",
            "219/219 [==============================] - 0s 507us/sample - loss: 1.3164e-04 - sparse_categorical_accuracy: 1.0000 - val_loss: 0.0064 - val_sparse_categorical_accuracy: 1.0000\n",
            "Epoch 128/200\n",
            "219/219 [==============================] - 0s 551us/sample - loss: 7.8621e-04 - sparse_categorical_accuracy: 1.0000 - val_loss: 0.0038 - val_sparse_categorical_accuracy: 1.0000\n",
            "Epoch 129/200\n",
            "219/219 [==============================] - 0s 499us/sample - loss: 1.7478e-04 - sparse_categorical_accuracy: 1.0000 - val_loss: 0.0036 - val_sparse_categorical_accuracy: 1.0000\n",
            "Epoch 130/200\n",
            "219/219 [==============================] - 0s 541us/sample - loss: 2.5934e-04 - sparse_categorical_accuracy: 1.0000 - val_loss: 0.0035 - val_sparse_categorical_accuracy: 1.0000\n",
            "Epoch 131/200\n",
            "219/219 [==============================] - 0s 516us/sample - loss: 2.2199e-04 - sparse_categorical_accuracy: 1.0000 - val_loss: 0.0038 - val_sparse_categorical_accuracy: 1.0000\n",
            "Epoch 132/200\n",
            "219/219 [==============================] - 0s 490us/sample - loss: 2.7089e-04 - sparse_categorical_accuracy: 1.0000 - val_loss: 0.0051 - val_sparse_categorical_accuracy: 1.0000\n",
            "Epoch 133/200\n",
            "219/219 [==============================] - 0s 502us/sample - loss: 1.0355e-04 - sparse_categorical_accuracy: 1.0000 - val_loss: 0.0063 - val_sparse_categorical_accuracy: 1.0000\n",
            "Epoch 134/200\n",
            "219/219 [==============================] - 0s 536us/sample - loss: 9.2780e-05 - sparse_categorical_accuracy: 1.0000 - val_loss: 0.0064 - val_sparse_categorical_accuracy: 1.0000\n",
            "Epoch 135/200\n",
            "219/219 [==============================] - 0s 507us/sample - loss: 2.7404e-04 - sparse_categorical_accuracy: 1.0000 - val_loss: 0.0067 - val_sparse_categorical_accuracy: 1.0000\n",
            "Epoch 136/200\n",
            "219/219 [==============================] - 0s 526us/sample - loss: 5.3419e-04 - sparse_categorical_accuracy: 1.0000 - val_loss: 0.0052 - val_sparse_categorical_accuracy: 1.0000\n",
            "Epoch 137/200\n",
            "219/219 [==============================] - 0s 525us/sample - loss: 7.3501e-04 - sparse_categorical_accuracy: 1.0000 - val_loss: 0.0041 - val_sparse_categorical_accuracy: 1.0000\n",
            "Epoch 138/200\n",
            "219/219 [==============================] - 0s 467us/sample - loss: 2.9351e-04 - sparse_categorical_accuracy: 1.0000 - val_loss: 0.0047 - val_sparse_categorical_accuracy: 1.0000\n",
            "Epoch 139/200\n",
            "219/219 [==============================] - 0s 503us/sample - loss: 7.5192e-05 - sparse_categorical_accuracy: 1.0000 - val_loss: 0.0048 - val_sparse_categorical_accuracy: 1.0000\n",
            "Epoch 140/200\n",
            "219/219 [==============================] - 0s 484us/sample - loss: 1.0759e-04 - sparse_categorical_accuracy: 1.0000 - val_loss: 0.0048 - val_sparse_categorical_accuracy: 1.0000\n",
            "Epoch 141/200\n",
            "219/219 [==============================] - 0s 548us/sample - loss: 2.3237e-04 - sparse_categorical_accuracy: 1.0000 - val_loss: 0.0055 - val_sparse_categorical_accuracy: 1.0000\n",
            "Epoch 142/200\n",
            "219/219 [==============================] - 0s 480us/sample - loss: 3.6610e-04 - sparse_categorical_accuracy: 1.0000 - val_loss: 0.0059 - val_sparse_categorical_accuracy: 1.0000\n",
            "Epoch 143/200\n",
            "219/219 [==============================] - 0s 489us/sample - loss: 9.3891e-05 - sparse_categorical_accuracy: 1.0000 - val_loss: 0.0058 - val_sparse_categorical_accuracy: 1.0000\n",
            "Epoch 144/200\n",
            "219/219 [==============================] - 0s 517us/sample - loss: 7.7004e-05 - sparse_categorical_accuracy: 1.0000 - val_loss: 0.0057 - val_sparse_categorical_accuracy: 1.0000\n",
            "Epoch 145/200\n",
            "219/219 [==============================] - 0s 638us/sample - loss: 2.2723e-04 - sparse_categorical_accuracy: 1.0000 - val_loss: 0.0064 - val_sparse_categorical_accuracy: 1.0000\n",
            "Epoch 146/200\n",
            "219/219 [==============================] - 0s 528us/sample - loss: 1.3524e-04 - sparse_categorical_accuracy: 1.0000 - val_loss: 0.0069 - val_sparse_categorical_accuracy: 1.0000\n",
            "Epoch 147/200\n",
            "219/219 [==============================] - 0s 563us/sample - loss: 1.5197e-04 - sparse_categorical_accuracy: 1.0000 - val_loss: 0.0074 - val_sparse_categorical_accuracy: 1.0000\n",
            "Epoch 148/200\n",
            "219/219 [==============================] - 0s 539us/sample - loss: 1.0356e-04 - sparse_categorical_accuracy: 1.0000 - val_loss: 0.0074 - val_sparse_categorical_accuracy: 1.0000\n",
            "Epoch 149/200\n",
            "219/219 [==============================] - 0s 508us/sample - loss: 1.9176e-04 - sparse_categorical_accuracy: 1.0000 - val_loss: 0.0066 - val_sparse_categorical_accuracy: 1.0000\n",
            "Epoch 150/200\n",
            "219/219 [==============================] - 0s 531us/sample - loss: 4.3685e-05 - sparse_categorical_accuracy: 1.0000 - val_loss: 0.0064 - val_sparse_categorical_accuracy: 1.0000\n",
            "Epoch 151/200\n",
            "219/219 [==============================] - 0s 508us/sample - loss: 5.5097e-05 - sparse_categorical_accuracy: 1.0000 - val_loss: 0.0065 - val_sparse_categorical_accuracy: 1.0000\n",
            "Epoch 152/200\n",
            "219/219 [==============================] - 0s 514us/sample - loss: 1.0205e-04 - sparse_categorical_accuracy: 1.0000 - val_loss: 0.0066 - val_sparse_categorical_accuracy: 1.0000\n",
            "Epoch 153/200\n",
            "219/219 [==============================] - 0s 538us/sample - loss: 1.1867e-04 - sparse_categorical_accuracy: 1.0000 - val_loss: 0.0064 - val_sparse_categorical_accuracy: 1.0000\n",
            "Epoch 154/200\n",
            "219/219 [==============================] - 0s 527us/sample - loss: 7.3462e-05 - sparse_categorical_accuracy: 1.0000 - val_loss: 0.0062 - val_sparse_categorical_accuracy: 1.0000\n",
            "Epoch 155/200\n",
            "219/219 [==============================] - 0s 486us/sample - loss: 1.9820e-04 - sparse_categorical_accuracy: 1.0000 - val_loss: 0.0053 - val_sparse_categorical_accuracy: 1.0000\n",
            "Epoch 156/200\n",
            "219/219 [==============================] - 0s 501us/sample - loss: 9.7491e-05 - sparse_categorical_accuracy: 1.0000 - val_loss: 0.0048 - val_sparse_categorical_accuracy: 1.0000\n",
            "Epoch 157/200\n",
            "219/219 [==============================] - 0s 532us/sample - loss: 1.0596e-04 - sparse_categorical_accuracy: 1.0000 - val_loss: 0.0049 - val_sparse_categorical_accuracy: 1.0000\n",
            "Epoch 158/200\n",
            "219/219 [==============================] - 0s 528us/sample - loss: 1.4068e-04 - sparse_categorical_accuracy: 1.0000 - val_loss: 0.0080 - val_sparse_categorical_accuracy: 1.0000\n",
            "Epoch 159/200\n",
            "219/219 [==============================] - 0s 506us/sample - loss: 9.3113e-05 - sparse_categorical_accuracy: 1.0000 - val_loss: 0.0105 - val_sparse_categorical_accuracy: 1.0000\n",
            "Epoch 160/200\n",
            "219/219 [==============================] - 0s 489us/sample - loss: 4.6297e-05 - sparse_categorical_accuracy: 1.0000 - val_loss: 0.0105 - val_sparse_categorical_accuracy: 1.0000\n",
            "Epoch 161/200\n",
            "219/219 [==============================] - 0s 526us/sample - loss: 6.3392e-05 - sparse_categorical_accuracy: 1.0000 - val_loss: 0.0096 - val_sparse_categorical_accuracy: 1.0000\n",
            "Epoch 162/200\n",
            "219/219 [==============================] - 0s 544us/sample - loss: 6.2281e-05 - sparse_categorical_accuracy: 1.0000 - val_loss: 0.0087 - val_sparse_categorical_accuracy: 1.0000\n",
            "Epoch 163/200\n",
            "219/219 [==============================] - 0s 572us/sample - loss: 1.2056e-04 - sparse_categorical_accuracy: 1.0000 - val_loss: 0.0112 - val_sparse_categorical_accuracy: 1.0000\n",
            "Epoch 164/200\n",
            "219/219 [==============================] - 0s 498us/sample - loss: 7.4067e-05 - sparse_categorical_accuracy: 1.0000 - val_loss: 0.0129 - val_sparse_categorical_accuracy: 1.0000\n",
            "Epoch 165/200\n",
            "219/219 [==============================] - 0s 523us/sample - loss: 7.5929e-05 - sparse_categorical_accuracy: 1.0000 - val_loss: 0.0125 - val_sparse_categorical_accuracy: 1.0000\n",
            "Epoch 166/200\n",
            "219/219 [==============================] - 0s 569us/sample - loss: 9.7467e-05 - sparse_categorical_accuracy: 1.0000 - val_loss: 0.0116 - val_sparse_categorical_accuracy: 1.0000\n",
            "Epoch 167/200\n",
            "219/219 [==============================] - 0s 570us/sample - loss: 8.2629e-05 - sparse_categorical_accuracy: 1.0000 - val_loss: 0.0103 - val_sparse_categorical_accuracy: 1.0000\n",
            "Epoch 168/200\n",
            "219/219 [==============================] - 0s 493us/sample - loss: 4.6614e-05 - sparse_categorical_accuracy: 1.0000 - val_loss: 0.0092 - val_sparse_categorical_accuracy: 1.0000\n",
            "Epoch 169/200\n",
            "219/219 [==============================] - 0s 472us/sample - loss: 9.0620e-05 - sparse_categorical_accuracy: 1.0000 - val_loss: 0.0084 - val_sparse_categorical_accuracy: 1.0000\n",
            "Epoch 170/200\n",
            "219/219 [==============================] - 0s 490us/sample - loss: 3.0054e-05 - sparse_categorical_accuracy: 1.0000 - val_loss: 0.0081 - val_sparse_categorical_accuracy: 1.0000\n",
            "Epoch 171/200\n",
            "219/219 [==============================] - 0s 516us/sample - loss: 6.2107e-05 - sparse_categorical_accuracy: 1.0000 - val_loss: 0.0076 - val_sparse_categorical_accuracy: 1.0000\n",
            "Epoch 172/200\n",
            "219/219 [==============================] - 0s 513us/sample - loss: 8.9626e-05 - sparse_categorical_accuracy: 1.0000 - val_loss: 0.0072 - val_sparse_categorical_accuracy: 1.0000\n",
            "Epoch 173/200\n",
            "219/219 [==============================] - 0s 477us/sample - loss: 7.8071e-05 - sparse_categorical_accuracy: 1.0000 - val_loss: 0.0072 - val_sparse_categorical_accuracy: 1.0000\n",
            "Epoch 174/200\n",
            "219/219 [==============================] - 0s 470us/sample - loss: 2.8699e-05 - sparse_categorical_accuracy: 1.0000 - val_loss: 0.0070 - val_sparse_categorical_accuracy: 1.0000\n",
            "Epoch 175/200\n",
            "219/219 [==============================] - 0s 501us/sample - loss: 2.1671e-04 - sparse_categorical_accuracy: 1.0000 - val_loss: 0.0072 - val_sparse_categorical_accuracy: 1.0000\n",
            "Epoch 176/200\n",
            "219/219 [==============================] - 0s 483us/sample - loss: 2.8260e-04 - sparse_categorical_accuracy: 1.0000 - val_loss: 0.0070 - val_sparse_categorical_accuracy: 1.0000\n",
            "Epoch 177/200\n",
            "219/219 [==============================] - 0s 502us/sample - loss: 3.0476e-05 - sparse_categorical_accuracy: 1.0000 - val_loss: 0.0063 - val_sparse_categorical_accuracy: 1.0000\n",
            "Epoch 178/200\n",
            "144/219 [==================>...........] - ETA: 0s - loss: 1.4125e-04 - sparse_categorical_accuracy: 1.0000Restoring model weights from the end of the best epoch.\n",
            "219/219 [==============================] - 0s 515us/sample - loss: 1.7179e-04 - sparse_categorical_accuracy: 1.0000 - val_loss: 0.0056 - val_sparse_categorical_accuracy: 1.0000\n",
            "Epoch 00178: early stopping\n"
          ],
          "name": "stdout"
        }
      ]
    },
    {
      "cell_type": "code",
      "metadata": {
        "id": "qkdDDDbm7mr6",
        "colab_type": "code",
        "outputId": "87caa5c9-0e6a-46f6-b5eb-c3c80a76fc0a",
        "colab": {
          "base_uri": "https://localhost:8080/",
          "height": 370
        }
      },
      "source": [
        "datasets[index_ds]['model'].vizualizate_train(visualzation_accuracy_loss_values_epochs=visualzation_accuracy_loss_values_epochs, title = \"Precisión en el en el conjunto de validacion atraves de las epocas. \" + datasets[index_ds]['name'] )"
      ],
      "execution_count": 43,
      "outputs": [
        {
          "output_type": "display_data",
          "data": {
            "image/png": "[encoded data removed]",
            "text/plain": [
              "<Figure size 1080x360 with 2 Axes>"
            ]
          },
          "metadata": {
            "tags": []
          }
        }
      ]
    },
    {
      "cell_type": "code",
      "metadata": {
        "id": "H0qGDH6_-1tw",
        "colab_type": "code",
        "colab": {
          "base_uri": "https://localhost:8080/",
          "height": 68
        },
        "outputId": "da61ad28-aab0-430f-ee62-3741e8a74774"
      },
      "source": [
        "  x_test = datasets[index_ds][\"x_test\"]\n",
        "  y_test = datasets[index_ds][\"y_test\"]\n",
        "  datasets[index_ds]['model'].evaluate(x_test=x_test,y_test=y_test)"
      ],
      "execution_count": 44,
      "outputs": [
        {
          "output_type": "stream",
          "text": [
            "\r31/31 [==============================] - 0s 220us/sample - loss: 0.0812 - sparse_categorical_accuracy: 0.9355\n",
            "Precisión en el conjunto de prueba: 0.9354838728904724\n",
            "Valor de la perdidad en el conjunto de prueba: 0.0811879113316536\n"
          ],
          "name": "stdout"
        }
      ]
    },
    {
      "cell_type": "markdown",
      "metadata": {
        "id": "QOw8nzE3dbMz",
        "colab_type": "text"
      },
      "source": [
        "## Criterio de aumento de datos"
      ]
    },
    {
      "cell_type": "code",
      "metadata": {
        "id": "A5WC3IQPedYP",
        "colab_type": "code",
        "colab": {}
      },
      "source": [
        "path_data = 'https://raw.githubusercontent.com/anthonymirandag/IndoorLocalization/master/data/Tx_0x01.csv'\n",
        "df = pd.read_csv(path_data)"
      ],
      "execution_count": 0,
      "outputs": []
    }
  ]
}