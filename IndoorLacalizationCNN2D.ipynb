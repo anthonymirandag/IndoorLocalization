{
  "nbformat": 4,
  "nbformat_minor": 0,
  "metadata": {
    "colab": {
      "name": "IndoorLacalizationCNN2D.ipynb",
      "provenance": [],
      "collapsed_sections": [],
      "include_colab_link": true
    },
    "kernelspec": {
      "name": "python3",
      "display_name": "Python 3"
    },
    "accelerator": "GPU"
  },
  "cells": [
    {
      "cell_type": "markdown",
      "metadata": {
        "id": "view-in-github",
        "colab_type": "text"
      },
      "source": [
        "<a href=\"https://colab.research.google.com/github/anthonymirandag/IndoorLocalization/blob/master/IndoorLacalizationCNN2D.ipynb\" target=\"_parent\"><img src=\"https://colab.research.google.com/assets/colab-badge.svg\" alt=\"Open In Colab\"/></a>"
      ]
    },
    {
      "cell_type": "code",
      "metadata": {
        "id": "KaR2BnB2hyYb",
        "colab_type": "code",
        "outputId": "5cd4f32e-e2a8-4564-c598-76414a18fa36",
        "colab": {
          "base_uri": "https://localhost:8080/",
          "height": 360
        }
      },
      "source": [
        "import numpy as np \n",
        "import pandas as pd\n",
        "import matplotlib.pyplot as plt\n",
        "import io\n",
        "import seaborn as sns\n",
        "from sklearn.preprocessing import LabelEncoder\n",
        "from sklearn.model_selection import train_test_split\n",
        "from sklearn.metrics import accuracy_score\n",
        "from sklearn.metrics import confusion_matrix\n",
        "from sklearn.preprocessing import StandardScaler\n",
        "!pip install tensorflow-gpu==2.0.0.alpha0\n",
        "import datetime\n",
        "import tensorflow as tf\n",
        "from tensorflow.keras.callbacks import EarlyStopping\n",
        "from sklearn.preprocessing import MinMaxScaler\n",
        "import math\n",
        "from sklearn.utils import shuffle\n",
        "#!pip install pyts\n",
        "#from pyts.image import GramianAngularField"
      ],
      "execution_count": 3,
      "outputs": [
        {
          "output_type": "stream",
          "text": [
            "Requirement already satisfied: tensorflow-gpu==2.0.0.alpha0 in /usr/local/lib/python3.6/dist-packages (2.0.0a0)\n",
            "Requirement already satisfied: keras-applications>=1.0.6 in /usr/local/lib/python3.6/dist-packages (from tensorflow-gpu==2.0.0.alpha0) (1.0.8)\n",
            "Requirement already satisfied: wheel>=0.26 in /usr/local/lib/python3.6/dist-packages (from tensorflow-gpu==2.0.0.alpha0) (0.33.6)\n",
            "Requirement already satisfied: keras-preprocessing>=1.0.5 in /usr/local/lib/python3.6/dist-packages (from tensorflow-gpu==2.0.0.alpha0) (1.1.0)\n",
            "Requirement already satisfied: protobuf>=3.6.1 in /usr/local/lib/python3.6/dist-packages (from tensorflow-gpu==2.0.0.alpha0) (3.10.0)\n",
            "Requirement already satisfied: google-pasta>=0.1.2 in /usr/local/lib/python3.6/dist-packages (from tensorflow-gpu==2.0.0.alpha0) (0.1.8)\n",
            "Requirement already satisfied: tf-estimator-nightly<1.14.0.dev2019030116,>=1.14.0.dev2019030115 in /usr/local/lib/python3.6/dist-packages (from tensorflow-gpu==2.0.0.alpha0) (1.14.0.dev2019030115)\n",
            "Requirement already satisfied: absl-py>=0.7.0 in /usr/local/lib/python3.6/dist-packages (from tensorflow-gpu==2.0.0.alpha0) (0.8.1)\n",
            "Requirement already satisfied: gast>=0.2.0 in /usr/local/lib/python3.6/dist-packages (from tensorflow-gpu==2.0.0.alpha0) (0.2.2)\n",
            "Requirement already satisfied: six>=1.10.0 in /usr/local/lib/python3.6/dist-packages (from tensorflow-gpu==2.0.0.alpha0) (1.12.0)\n",
            "Requirement already satisfied: numpy<2.0,>=1.14.5 in /usr/local/lib/python3.6/dist-packages (from tensorflow-gpu==2.0.0.alpha0) (1.17.4)\n",
            "Requirement already satisfied: grpcio>=1.8.6 in /usr/local/lib/python3.6/dist-packages (from tensorflow-gpu==2.0.0.alpha0) (1.15.0)\n",
            "Requirement already satisfied: termcolor>=1.1.0 in /usr/local/lib/python3.6/dist-packages (from tensorflow-gpu==2.0.0.alpha0) (1.1.0)\n",
            "Requirement already satisfied: tb-nightly<1.14.0a20190302,>=1.14.0a20190301 in /usr/local/lib/python3.6/dist-packages (from tensorflow-gpu==2.0.0.alpha0) (1.14.0a20190301)\n",
            "Requirement already satisfied: astor>=0.6.0 in /usr/local/lib/python3.6/dist-packages (from tensorflow-gpu==2.0.0.alpha0) (0.8.1)\n",
            "Requirement already satisfied: h5py in /usr/local/lib/python3.6/dist-packages (from keras-applications>=1.0.6->tensorflow-gpu==2.0.0.alpha0) (2.8.0)\n",
            "Requirement already satisfied: setuptools in /usr/local/lib/python3.6/dist-packages (from protobuf>=3.6.1->tensorflow-gpu==2.0.0.alpha0) (42.0.2)\n",
            "Requirement already satisfied: werkzeug>=0.11.15 in /usr/local/lib/python3.6/dist-packages (from tb-nightly<1.14.0a20190302,>=1.14.0a20190301->tensorflow-gpu==2.0.0.alpha0) (0.16.0)\n",
            "Requirement already satisfied: markdown>=2.6.8 in /usr/local/lib/python3.6/dist-packages (from tb-nightly<1.14.0a20190302,>=1.14.0a20190301->tensorflow-gpu==2.0.0.alpha0) (3.1.1)\n"
          ],
          "name": "stdout"
        }
      ]
    },
    {
      "cell_type": "markdown",
      "metadata": {
        "id": "pHbof6z2h8iJ",
        "colab_type": "text"
      },
      "source": [
        "## Carga de datos\n"
      ]
    },
    {
      "cell_type": "code",
      "metadata": {
        "id": "Za8ZJLkyiCoJ",
        "colab_type": "code",
        "colab": {}
      },
      "source": [
        "#path_data = 'https://raw.githubusercontent.com/anthonymirandag/IndoorLocalization/master/data/movil/Tx_0x01.csv'\n",
        "path_data = 'https://raw.githubusercontent.com/anthonymirandag/IndoorLocalization/master/data/Tx_0x02.csv'\n",
        "df = pd.read_csv(path_data)"
      ],
      "execution_count": 0,
      "outputs": []
    },
    {
      "cell_type": "code",
      "metadata": {
        "id": "gfyjtQmFiC0N",
        "colab_type": "code",
        "colab": {}
      },
      "source": [
        "#i_serie  = 0\n",
        "target_label = 'Sector'\n",
        "tam_slices = 20"
      ],
      "execution_count": 0,
      "outputs": []
    },
    {
      "cell_type": "markdown",
      "metadata": {
        "id": "vQ_Q9Euk1Loh",
        "colab_type": "text"
      },
      "source": [
        "## Utils Funciones"
      ]
    },
    {
      "cell_type": "code",
      "metadata": {
        "id": "u_zSBZ-01N09",
        "colab_type": "code",
        "colab": {}
      },
      "source": [
        "def scale_serie_minmax(serie):\n",
        "  #serie = serie.reshape(-1, 1)\n",
        "  scaler = MinMaxScaler(feature_range = (-1,1))\n",
        "  scaler.fit(serie)\n",
        "  serie_1 = scaler.transform(serie)\n",
        "  return serie_1"
      ],
      "execution_count": 0,
      "outputs": []
    },
    {
      "cell_type": "code",
      "metadata": {
        "id": "342mWDJE1QhN",
        "colab_type": "code",
        "colab": {}
      },
      "source": [
        "def imaging_time_series_GAF(serie):\n",
        "  # convert to polar\n",
        "  n = len(serie)\n",
        "  serie = serie.reshape(-1, 1)\n",
        "  ones = np.ones((1,n))\n",
        "  x = serie.dot(ones)\n",
        "  y = ones.transpose().dot(serie.transpose())\n",
        "  GAF = x*y - (np.sqrt(np.absolute(1.0-np.power(x,2)))*np.sqrt(np.absolute(1.0-np.power(y,2))))\n",
        "  return GAF "
      ],
      "execution_count": 0,
      "outputs": []
    },
    {
      "cell_type": "code",
      "metadata": {
        "id": "ZCOtRC0L1TaG",
        "colab_type": "code",
        "colab": {}
      },
      "source": [
        "def multi_serie_to_image(series):\n",
        "   n,n_var = series.shape\n",
        "   x_image = np.zeros((n,n,n_var))\n",
        "   for i in range(n_var):\n",
        "     serie = series[:,i]\n",
        "     #serie = scale_serie_minmax(serie)\n",
        "     image = imaging_time_series_GAF(serie)\n",
        "     x_image[:,:,i] = image\n",
        "   return x_image  "
      ],
      "execution_count": 0,
      "outputs": []
    },
    {
      "cell_type": "code",
      "metadata": {
        "id": "rYOgXnzL1Wuq",
        "colab_type": "code",
        "colab": {}
      },
      "source": [
        "def reshape_to_matrix_rssi(x_sector,size):\n",
        "  total_sample ,n = x_sector.shape\n",
        "  residual_elem = total_sample % size\n",
        "  return x_sector[0:total_sample-residual_elem,:].reshape(-1,size,n)\n"
      ],
      "execution_count": 0,
      "outputs": []
    },
    {
      "cell_type": "code",
      "metadata": {
        "id": "QqdgKaX61kJ1",
        "colab_type": "code",
        "colab": {}
      },
      "source": [
        "def train_test_split_rssi(df, test_size= 0.1, random_state=27, tam_slices =20):\n",
        "  x =  df.drop(target_label, axis= 1).values\n",
        "  y = df[target_label].values\n",
        "  labelencoder_y = LabelEncoder()\n",
        "  y = labelencoder_y.fit_transform(y)  \n",
        "  _, countsTotal = np.unique(y, return_counts=True)\n",
        "  n = x.shape[0]\n",
        "  data_shape = x.shape[1:]\n",
        "  n_rand = math.floor(np.floor(countsTotal/tam_slices).sum() * 0.1)\n",
        "  np.random.seed(random_state)\n",
        "  n_lables = np.unique(y).shape\n",
        "  rand_labels = np.random.randint(n_lables, size=n_rand)\n",
        "  unique, counts = np.unique(rand_labels, return_counts=True)\n",
        "  x_train = np.array([])\n",
        "  x_test = np.array([])\n",
        "  y_train = np.array([])  \n",
        "  y_test = np.array([])\n",
        "  for index, label in enumerate(unique):\n",
        "    tam_block = counts[index]*tam_slices\n",
        "    tam_total = y[y == label].shape[0]\n",
        "    init_block = np.random.randint(tam_total-tam_block,size=1)[0] \n",
        "    x_sector = x[y == label,:]\n",
        "    x_sector = scale_serie_minmax(x_sector)\n",
        "    map_split = [[0,init_block],[init_block+tam_block,tam_total]]\n",
        "    series_sector = np.array([])\n",
        "    for split in map_split:\n",
        "      for i in range(tam_slices):\n",
        "        if(split[0]==0 and i== 0 and label == 0 ):\n",
        "          series_sector = reshape_to_matrix_rssi(x_sector[0:split[1],:], tam_slices)\n",
        "          x_train =  series_sector\n",
        "          y_train = np.ones(series_sector.shape[0])*label \n",
        "        else:\n",
        "          series_sector = reshape_to_matrix_rssi(x_sector[split[0]+i:split[1],:],tam_slices)\n",
        "          x_train = np.concatenate((x_train, series_sector))\n",
        "          y_train = np.concatenate((y_train,np.ones(series_sector.shape[0])*label))\n",
        "    if(label == 0):\n",
        "      block_sector = reshape_to_matrix_rssi(x_sector[init_block:init_block+tam_block,:],tam_slices)\n",
        "      x_test = block_sector\n",
        "      y_test = np.ones(block_sector.shape[0])*label       \n",
        "    else:\n",
        "      block_sector = reshape_to_matrix_rssi(x_sector[init_block:init_block+tam_block,:],tam_slices)\n",
        "      x_test = np.concatenate((x_test,block_sector))\n",
        "      y_test = np.concatenate((y_test,np.ones(block_sector.shape[0])*label))\n",
        "  x_train,y_train = shuffle(x_train,y_train)\n",
        "  x_test,y_test = shuffle(x_test,y_test)\n",
        "\n",
        "  return x_train, x_test, y_train, y_test"
      ],
      "execution_count": 0,
      "outputs": []
    },
    {
      "cell_type": "code",
      "metadata": {
        "id": "Vxdrbdjr1qsP",
        "colab_type": "code",
        "colab": {}
      },
      "source": [
        "def transformer_gaf_multivariate(time_series,target_label,size = 20):\n",
        "  n,tam_serie,n_var =time_series.shape\n",
        "  images_time_series = np.zeros((n,size,size,n_var))\n",
        "  for i in range(n):\n",
        "    image = multi_serie_to_image(time_series[i,:,:])\n",
        "    images_time_series[i,:,:,:] = image \n",
        "  return images_time_series"
      ],
      "execution_count": 0,
      "outputs": []
    },
    {
      "cell_type": "code",
      "metadata": {
        "id": "ikMpNmCp1tl3",
        "colab_type": "code",
        "colab": {}
      },
      "source": [
        "def generate_images_aug(df,target_label ,size = 20):\n",
        "  # Escalado por sector\n",
        "  dataset = df.copy()\n",
        "  x_train, x_test, y_train, y_test = train_test_split_rssi(dataset,test_size= 0.1, random_state=27, tam_slices =tam_slices)\n",
        "  x_train = transformer_gaf_multivariate(x_train,target_label,size)\n",
        "  x_test = transformer_gaf_multivariate(x_test,target_label,size)\n",
        "  return x_train, x_test, y_train, y_test"
      ],
      "execution_count": 0,
      "outputs": []
    },
    {
      "cell_type": "code",
      "metadata": {
        "id": "6Q9FDSIe2qIU",
        "colab_type": "code",
        "colab": {}
      },
      "source": [
        "def transfrom_imaging_time_series(dataset,target_label ,size = 20):\n",
        "  sectors = dataset[target_label].unique()\n",
        "  x_images = np.array([])\n",
        "  y_labels = np.array([])\n",
        "  for sector  in sectors:\n",
        "    df_sector = dataset[dataset.Sector == sector]\n",
        "    x_sector =  df_sector.drop(target_label, axis= 1).values\n",
        "    total_sample ,n = x_sector.shape\n",
        "    residual_elem = total_sample % size\n",
        "    x_sector = scale_serie_minmax(x_sector)\n",
        "    #for i in range(n):\n",
        "    #  x_sector[:,i] = scale_serie_minmax(x_sector[:,i]).reshape((-1))\n",
        "    series_sector = x_sector[0:-residual_elem,:].reshape(-1,size,n)\n",
        "    total_series = series_sector.shape[0]\n",
        "    images_sector = np.zeros((total_series,size,size,n))\n",
        "    for i in range(total_series):\n",
        "      image = multi_serie_to_image(series_sector[i,:,:])\n",
        "      #print(image)\n",
        "      images_sector[i,:,:,:] = image  \n",
        "    labels = np.ones(images_sector.shape[0])*sector \n",
        "    if sector == sectors[0]: \n",
        "      x_images = images_sector\n",
        "      y_labels = labels.reshape(-1)\n",
        "    else: \n",
        "      x_images = np.concatenate((x_images, images_sector))\n",
        "      y_labels = np.concatenate((y_labels, labels.reshape(-1)))\n",
        "  labelencoder_y = LabelEncoder()\n",
        "  y_labels = labelencoder_y.fit_transform(y_labels)    \n",
        "  return  x_images, y_labels"
      ],
      "execution_count": 0,
      "outputs": []
    },
    {
      "cell_type": "markdown",
      "metadata": {
        "id": "iEhZWCPvgSKx",
        "colab_type": "text"
      },
      "source": [
        "### Criterio de aumento windows slicing"
      ]
    },
    {
      "cell_type": "code",
      "metadata": {
        "id": "GVx0yf9E2Onq",
        "colab_type": "code",
        "colab": {}
      },
      "source": [
        "x_train, x_test, y_train, y_test = generate_images_aug(df,target_label = target_label,size = tam_slices)"
      ],
      "execution_count": 0,
      "outputs": []
    },
    {
      "cell_type": "code",
      "metadata": {
        "id": "QTcol-zpgANB",
        "colab_type": "code",
        "colab": {
          "base_uri": "https://localhost:8080/",
          "height": 34
        },
        "outputId": "e1571812-9410-4ef5-a4ce-225721eb9d94"
      },
      "source": [
        "x_train.shape"
      ],
      "execution_count": 16,
      "outputs": [
        {
          "output_type": "execute_result",
          "data": {
            "text/plain": [
              "(5297, 20, 20, 5)"
            ]
          },
          "metadata": {
            "tags": []
          },
          "execution_count": 16
        }
      ]
    },
    {
      "cell_type": "code",
      "metadata": {
        "id": "y_6S7JyiGKOU",
        "colab_type": "code",
        "colab": {}
      },
      "source": [
        "path_data = 'https://raw.githubusercontent.com/anthonymirandag/IndoorLocalization/master/data/Tx_0x07.csv'\n",
        "df = pd.read_csv(path_data)"
      ],
      "execution_count": 0,
      "outputs": []
    },
    {
      "cell_type": "code",
      "metadata": {
        "id": "QZa4nMW4AFfT",
        "colab_type": "code",
        "colab": {}
      },
      "source": [
        "x_images ,  y_labels = transfrom_imaging_time_series(df,target_label = target_label,size = tam_slices)"
      ],
      "execution_count": 0,
      "outputs": []
    },
    {
      "cell_type": "code",
      "metadata": {
        "id": "lQhPBfS7AGWG",
        "colab_type": "code",
        "colab": {}
      },
      "source": [
        "x_train, x_test, y_train, y_test = train_test_split(x_images,y_labels, test_size= 0.10, random_state=27)"
      ],
      "execution_count": 0,
      "outputs": []
    },
    {
      "cell_type": "code",
      "metadata": {
        "id": "EXzDtQ9heAek",
        "colab_type": "code",
        "outputId": "1cb0543b-8e71-4c8d-c53f-0dbc8e601743",
        "colab": {
          "base_uri": "https://localhost:8080/",
          "height": 34
        }
      },
      "source": [
        "x_train.shape"
      ],
      "execution_count": 15,
      "outputs": [
        {
          "output_type": "execute_result",
          "data": {
            "text/plain": [
              "(5297, 20, 20, 5)"
            ]
          },
          "metadata": {
            "tags": []
          },
          "execution_count": 15
        }
      ]
    },
    {
      "cell_type": "markdown",
      "metadata": {
        "id": "JgwLaFC6fu9D",
        "colab_type": "text"
      },
      "source": [
        "### Visualizar imagen"
      ]
    },
    {
      "cell_type": "code",
      "metadata": {
        "id": "5QALdcNufyNa",
        "colab_type": "code",
        "colab": {}
      },
      "source": [
        "def visualizate_images_rssi(x_images):\n",
        "  n = x_images.shape[2]\n",
        "  fig = plt.figure(figsize=(12,8))\n",
        "  for i in range(n) :\n",
        "    image = x_images[:,:,i]\n",
        "    ax =fig.add_subplot(2, 3, i+1)\n",
        "    plt.axis('off')\n",
        "    ax.tick_params( axis='both', which='both', bottom='off', top=False, labelbottom='off', right='off', left='off', labelleft='off')\n",
        "    ax.set_title('Imagen de serie de tiempo Beacon {} '.format(i+1))\n",
        "    ax.matshow(image)"
      ],
      "execution_count": 0,
      "outputs": []
    },
    {
      "cell_type": "code",
      "metadata": {
        "id": "XUeOOwsJgBrO",
        "colab_type": "code",
        "colab": {
          "base_uri": "https://localhost:8080/",
          "height": 491
        },
        "outputId": "fa7b69a1-b3d2-4c6a-ed6e-7310e5e49a1d"
      },
      "source": [
        "visualizate_images_rssi(x_train[2])"
      ],
      "execution_count": 18,
      "outputs": [
        {
          "output_type": "display_data",
          "data": {
            "image/png": "[encoded data removed]",
            "text/plain": [
              "<Figure size 864x576 with 5 Axes>"
            ]
          },
          "metadata": {
            "tags": []
          }
        }
      ]
    },
    {
      "cell_type": "markdown",
      "metadata": {
        "id": "Y31sADq_-X6k",
        "colab_type": "text"
      },
      "source": [
        "## Modelo"
      ]
    },
    {
      "cell_type": "code",
      "metadata": {
        "id": "oyUSrQGt-OJm",
        "colab_type": "code",
        "outputId": "dedbec79-c4b2-4098-da1a-457b3a42a689",
        "colab": {
          "base_uri": "https://localhost:8080/",
          "height": 493
        }
      },
      "source": [
        "model = tf.keras.models.Sequential()\n",
        "model.add(tf.keras.layers.Conv2D(filters=64, kernel_size=3, padding=\"same\", activation=\"relu\", input_shape=[tam_slices, tam_slices, 5]))\n",
        "model.add(tf.keras.layers.MaxPool2D(pool_size=2, strides=2, padding='valid'))\n",
        "model.add(tf.keras.layers.Dropout(0.25))\n",
        "model.add(tf.keras.layers.Conv2D(filters=128, kernel_size=3, padding=\"same\", activation=\"relu\"))\n",
        "model.add(tf.keras.layers.MaxPool2D(pool_size=2, strides=2, padding='valid'))\n",
        "model.add(tf.keras.layers.Dropout(0.25))\n",
        "model.add(tf.keras.layers.Flatten())\n",
        "model.add(tf.keras.layers.Dense(units=128, activation='relu'))\n",
        "model.add(tf.keras.layers.Dropout(0.5))\n",
        "model.add(tf.keras.layers.Dense(units=15, activation='softmax'))\n",
        "model.summary()\n",
        "model.compile(loss=\"sparse_categorical_crossentropy\", optimizer='adam', metrics=[\"sparse_categorical_accuracy\"])"
      ],
      "execution_count": 19,
      "outputs": [
        {
          "output_type": "stream",
          "text": [
            "Model: \"sequential\"\n",
            "_________________________________________________________________\n",
            "Layer (type)                 Output Shape              Param #   \n",
            "=================================================================\n",
            "conv2d (Conv2D)              (None, 20, 20, 64)        2944      \n",
            "_________________________________________________________________\n",
            "max_pooling2d (MaxPooling2D) (None, 10, 10, 64)        0         \n",
            "_________________________________________________________________\n",
            "dropout (Dropout)            (None, 10, 10, 64)        0         \n",
            "_________________________________________________________________\n",
            "conv2d_1 (Conv2D)            (None, 10, 10, 128)       73856     \n",
            "_________________________________________________________________\n",
            "max_pooling2d_1 (MaxPooling2 (None, 5, 5, 128)         0         \n",
            "_________________________________________________________________\n",
            "dropout_1 (Dropout)          (None, 5, 5, 128)         0         \n",
            "_________________________________________________________________\n",
            "flatten (Flatten)            (None, 3200)              0         \n",
            "_________________________________________________________________\n",
            "dense (Dense)                (None, 128)               409728    \n",
            "_________________________________________________________________\n",
            "dropout_2 (Dropout)          (None, 128)               0         \n",
            "_________________________________________________________________\n",
            "dense_1 (Dense)              (None, 15)                1935      \n",
            "=================================================================\n",
            "Total params: 488,463\n",
            "Trainable params: 488,463\n",
            "Non-trainable params: 0\n",
            "_________________________________________________________________\n"
          ],
          "name": "stdout"
        }
      ]
    },
    {
      "cell_type": "code",
      "metadata": {
        "id": "UGWeLeXz-aj6",
        "colab_type": "code",
        "colab": {}
      },
      "source": [
        "monitor = EarlyStopping(monitor='val_loss', min_delta=1e-3, patience=10, verbose=1, mode='auto',restore_best_weights=True)"
      ],
      "execution_count": 0,
      "outputs": []
    },
    {
      "cell_type": "code",
      "metadata": {
        "id": "IexlpgdP-i3C",
        "colab_type": "code",
        "outputId": "884f0d26-9f57-46be-e4cd-68ee63357ca3",
        "colab": {
          "base_uri": "https://localhost:8080/",
          "height": 1000
        }
      },
      "source": [
        "history = model.fit(x_train, y_train, validation_split=0.10,callbacks=[monitor] ,batch_size=16, epochs=100 , verbose = 1)"
      ],
      "execution_count": 21,
      "outputs": [
        {
          "output_type": "stream",
          "text": [
            "Train on 4767 samples, validate on 530 samples\n",
            "Epoch 1/100\n",
            "4767/4767 [==============================] - 5s 1ms/sample - loss: 1.4281 - sparse_categorical_accuracy: 0.5190 - val_loss: 0.6647 - val_sparse_categorical_accuracy: 0.8057\n",
            "Epoch 2/100\n",
            "4767/4767 [==============================] - 1s 298us/sample - loss: 0.6345 - sparse_categorical_accuracy: 0.7875 - val_loss: 0.4025 - val_sparse_categorical_accuracy: 0.8434\n",
            "Epoch 3/100\n",
            "4767/4767 [==============================] - 1s 301us/sample - loss: 0.3859 - sparse_categorical_accuracy: 0.8655 - val_loss: 0.1797 - val_sparse_categorical_accuracy: 0.9509\n",
            "Epoch 4/100\n",
            "4767/4767 [==============================] - 1s 304us/sample - loss: 0.2552 - sparse_categorical_accuracy: 0.9134 - val_loss: 0.1042 - val_sparse_categorical_accuracy: 0.9660\n",
            "Epoch 5/100\n",
            "4767/4767 [==============================] - 1s 303us/sample - loss: 0.1623 - sparse_categorical_accuracy: 0.9461 - val_loss: 0.0792 - val_sparse_categorical_accuracy: 0.9660\n",
            "Epoch 6/100\n",
            "4767/4767 [==============================] - 1s 307us/sample - loss: 0.1198 - sparse_categorical_accuracy: 0.9597 - val_loss: 0.0361 - val_sparse_categorical_accuracy: 0.9868\n",
            "Epoch 7/100\n",
            "4767/4767 [==============================] - 1s 309us/sample - loss: 0.1209 - sparse_categorical_accuracy: 0.9568 - val_loss: 0.0442 - val_sparse_categorical_accuracy: 0.9849\n",
            "Epoch 8/100\n",
            "4767/4767 [==============================] - 1s 300us/sample - loss: 0.0690 - sparse_categorical_accuracy: 0.9767 - val_loss: 0.0180 - val_sparse_categorical_accuracy: 0.9925\n",
            "Epoch 9/100\n",
            "4767/4767 [==============================] - 1s 303us/sample - loss: 0.0763 - sparse_categorical_accuracy: 0.9755 - val_loss: 0.0179 - val_sparse_categorical_accuracy: 0.9943\n",
            "Epoch 10/100\n",
            "4767/4767 [==============================] - 1s 307us/sample - loss: 0.0970 - sparse_categorical_accuracy: 0.9700 - val_loss: 0.0160 - val_sparse_categorical_accuracy: 0.9981\n",
            "Epoch 11/100\n",
            "4767/4767 [==============================] - 1s 304us/sample - loss: 0.0728 - sparse_categorical_accuracy: 0.9799 - val_loss: 0.0326 - val_sparse_categorical_accuracy: 0.9887\n",
            "Epoch 12/100\n",
            "4767/4767 [==============================] - 1s 304us/sample - loss: 0.0527 - sparse_categorical_accuracy: 0.9822 - val_loss: 0.0080 - val_sparse_categorical_accuracy: 1.0000\n",
            "Epoch 13/100\n",
            "4767/4767 [==============================] - 1s 299us/sample - loss: 0.0847 - sparse_categorical_accuracy: 0.9746 - val_loss: 0.1944 - val_sparse_categorical_accuracy: 0.9321\n",
            "Epoch 14/100\n",
            "4767/4767 [==============================] - 1s 299us/sample - loss: 0.0424 - sparse_categorical_accuracy: 0.9876 - val_loss: 0.0104 - val_sparse_categorical_accuracy: 0.9943\n",
            "Epoch 15/100\n",
            "4767/4767 [==============================] - 1s 302us/sample - loss: 0.0252 - sparse_categorical_accuracy: 0.9933 - val_loss: 0.0309 - val_sparse_categorical_accuracy: 0.9887\n",
            "Epoch 16/100\n",
            "4767/4767 [==============================] - 1s 299us/sample - loss: 0.0610 - sparse_categorical_accuracy: 0.9824 - val_loss: 0.0394 - val_sparse_categorical_accuracy: 0.9849\n",
            "Epoch 17/100\n",
            "4767/4767 [==============================] - 1s 304us/sample - loss: 0.0310 - sparse_categorical_accuracy: 0.9920 - val_loss: 0.0166 - val_sparse_categorical_accuracy: 0.9943\n",
            "Epoch 18/100\n",
            "4767/4767 [==============================] - 1s 297us/sample - loss: 0.0484 - sparse_categorical_accuracy: 0.9859 - val_loss: 0.0042 - val_sparse_categorical_accuracy: 1.0000\n",
            "Epoch 19/100\n",
            "4767/4767 [==============================] - 1s 300us/sample - loss: 0.0104 - sparse_categorical_accuracy: 0.9960 - val_loss: 8.1713e-04 - val_sparse_categorical_accuracy: 1.0000\n",
            "Epoch 20/100\n",
            "4767/4767 [==============================] - 1s 299us/sample - loss: 0.0111 - sparse_categorical_accuracy: 0.9969 - val_loss: 0.0546 - val_sparse_categorical_accuracy: 0.9792\n",
            "Epoch 21/100\n",
            "4767/4767 [==============================] - 1s 301us/sample - loss: 0.1064 - sparse_categorical_accuracy: 0.9734 - val_loss: 0.0059 - val_sparse_categorical_accuracy: 0.9981\n",
            "Epoch 22/100\n",
            "4767/4767 [==============================] - 1s 303us/sample - loss: 0.0358 - sparse_categorical_accuracy: 0.9897 - val_loss: 0.0024 - val_sparse_categorical_accuracy: 1.0000\n",
            "Epoch 23/100\n",
            "4767/4767 [==============================] - 1s 298us/sample - loss: 0.0392 - sparse_categorical_accuracy: 0.9908 - val_loss: 0.0054 - val_sparse_categorical_accuracy: 0.9981\n",
            "Epoch 24/100\n",
            "4767/4767 [==============================] - 1s 294us/sample - loss: 0.0140 - sparse_categorical_accuracy: 0.9960 - val_loss: 4.7377e-04 - val_sparse_categorical_accuracy: 1.0000\n",
            "Epoch 25/100\n",
            "4767/4767 [==============================] - 1s 295us/sample - loss: 0.0056 - sparse_categorical_accuracy: 0.9990 - val_loss: 0.0013 - val_sparse_categorical_accuracy: 1.0000\n",
            "Epoch 26/100\n",
            "4767/4767 [==============================] - 1s 305us/sample - loss: 0.0383 - sparse_categorical_accuracy: 0.9914 - val_loss: 0.0903 - val_sparse_categorical_accuracy: 0.9774\n",
            "Epoch 27/100\n",
            "4767/4767 [==============================] - 1s 306us/sample - loss: 0.0830 - sparse_categorical_accuracy: 0.9788 - val_loss: 0.0121 - val_sparse_categorical_accuracy: 0.9962\n",
            "Epoch 28/100\n",
            "4767/4767 [==============================] - 1s 306us/sample - loss: 0.0125 - sparse_categorical_accuracy: 0.9956 - val_loss: 7.1650e-04 - val_sparse_categorical_accuracy: 1.0000\n",
            "Epoch 29/100\n",
            "4736/4767 [============================>.] - ETA: 0s - loss: 0.0261 - sparse_categorical_accuracy: 0.9932Restoring model weights from the end of the best epoch.\n",
            "4767/4767 [==============================] - 1s 306us/sample - loss: 0.0262 - sparse_categorical_accuracy: 0.9933 - val_loss: 0.0027 - val_sparse_categorical_accuracy: 0.9981\n",
            "Epoch 00029: early stopping\n"
          ],
          "name": "stdout"
        }
      ]
    },
    {
      "cell_type": "code",
      "metadata": {
        "id": "zfERqia3-p2X",
        "colab_type": "code",
        "colab": {}
      },
      "source": [
        "def visualzation_accuracy_loss_values_epochs(history):\n",
        "  fig, axs = plt.subplots(1, 2,figsize=(15, 5))\n",
        "  axs[0].plot(history.history['sparse_categorical_accuracy'])\n",
        "  axs[0].plot(history.history['val_sparse_categorical_accuracy'])\n",
        "  axs[0].set_title('Model accuracy')\n",
        "  axs[0].set_ylabel('Accuracy')\n",
        "  axs[0].set_xlabel('Epoch')\n",
        "  axs[0].legend(['Train', 'Test'], loc='upper left')\n",
        "  axs[1].plot(history.history['loss'])\n",
        "  axs[1].plot(history.history['val_loss'])\n",
        "  axs[1].set_title('Model loss')\n",
        "  axs[1].set_ylabel('Loss')\n",
        "  axs[1].set_xlabel('Epoch')\n",
        "  axs[1].legend(['Train', 'Test'], loc='upper left')"
      ],
      "execution_count": 0,
      "outputs": []
    },
    {
      "cell_type": "code",
      "metadata": {
        "id": "NAOxxbMS_1VZ",
        "colab_type": "code",
        "outputId": "469e6395-6525-4ab2-c676-b01fc39dbce9",
        "colab": {
          "base_uri": "https://localhost:8080/",
          "height": 350
        }
      },
      "source": [
        "visualzation_accuracy_loss_values_epochs(history)"
      ],
      "execution_count": 23,
      "outputs": [
        {
          "output_type": "display_data",
          "data": {
            "image/png": "[encoded data removed]",
            "text/plain": [
              "<Figure size 1080x360 with 2 Axes>"
            ]
          },
          "metadata": {
            "tags": []
          }
        }
      ]
    },
    {
      "cell_type": "code",
      "metadata": {
        "id": "4xPcWypC-0VQ",
        "colab_type": "code",
        "outputId": "4321ccea-6a08-4e92-ed23-e0871f099704",
        "colab": {
          "base_uri": "https://localhost:8080/",
          "height": 51
        }
      },
      "source": [
        "test_loss, test_accuracy = model.evaluate(x_test, y_test)\n",
        "print(\"Test accuracy: {}\".format(test_accuracy))  "
      ],
      "execution_count": 24,
      "outputs": [
        {
          "output_type": "stream",
          "text": [
            "34/34 [==============================] - 0s 367us/sample - loss: 1.9615 - sparse_categorical_accuracy: 0.7941\n",
            "Test accuracy: 0.7941176295280457\n"
          ],
          "name": "stdout"
        }
      ]
    }
  ]
}