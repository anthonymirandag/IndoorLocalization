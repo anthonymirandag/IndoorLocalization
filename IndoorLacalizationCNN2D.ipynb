{
  "nbformat": 4,
  "nbformat_minor": 0,
  "metadata": {
    "colab": {
      "name": "IndoorLacalizationCNN2D.ipynb",
      "provenance": [],
      "collapsed_sections": [],
      "include_colab_link": true
    },
    "kernelspec": {
      "name": "python3",
      "display_name": "Python 3"
    },
    "accelerator": "GPU"
  },
  "cells": [
    {
      "cell_type": "markdown",
      "metadata": {
        "id": "view-in-github",
        "colab_type": "text"
      },
      "source": [
        "<a href=\"https://colab.research.google.com/github/anthonymirandag/IndoorLocalization/blob/master/IndoorLacalizationCNN2D.ipynb\" target=\"_parent\"><img src=\"https://colab.research.google.com/assets/colab-badge.svg\" alt=\"Open In Colab\"/></a>"
      ]
    },
    {
      "cell_type": "code",
      "metadata": {
        "id": "KaR2BnB2hyYb",
        "colab_type": "code",
        "outputId": "0334cdd1-31ea-4866-f9fa-cb05dcdd70fb",
        "colab": {
          "base_uri": "https://localhost:8080/",
          "height": 360
        }
      },
      "source": [
        "import numpy as np \n",
        "import pandas as pd\n",
        "import matplotlib.pyplot as plt\n",
        "import io\n",
        "import seaborn as sns\n",
        "from sklearn.preprocessing import LabelEncoder\n",
        "from sklearn.model_selection import train_test_split\n",
        "from sklearn.metrics import accuracy_score\n",
        "from sklearn.metrics import confusion_matrix\n",
        "from sklearn.preprocessing import StandardScaler\n",
        "!pip install tensorflow-gpu==2.0.0.alpha0\n",
        "import datetime\n",
        "import tensorflow as tf\n",
        "from tensorflow.keras.callbacks import EarlyStopping\n",
        "from sklearn.preprocessing import MinMaxScaler\n",
        "import math\n",
        "from sklearn.utils import shuffle\n",
        "#!pip install pyts\n",
        "#from pyts.image import GramianAngularField"
      ],
      "execution_count": 0,
      "outputs": [
        {
          "output_type": "stream",
          "text": [
            "Requirement already satisfied: tensorflow-gpu==2.0.0.alpha0 in /usr/local/lib/python3.6/dist-packages (2.0.0a0)\n",
            "Requirement already satisfied: termcolor>=1.1.0 in /usr/local/lib/python3.6/dist-packages (from tensorflow-gpu==2.0.0.alpha0) (1.1.0)\n",
            "Requirement already satisfied: google-pasta>=0.1.2 in /usr/local/lib/python3.6/dist-packages (from tensorflow-gpu==2.0.0.alpha0) (0.1.8)\n",
            "Requirement already satisfied: keras-applications>=1.0.6 in /usr/local/lib/python3.6/dist-packages (from tensorflow-gpu==2.0.0.alpha0) (1.0.8)\n",
            "Requirement already satisfied: wheel>=0.26 in /usr/local/lib/python3.6/dist-packages (from tensorflow-gpu==2.0.0.alpha0) (0.33.6)\n",
            "Requirement already satisfied: numpy<2.0,>=1.14.5 in /usr/local/lib/python3.6/dist-packages (from tensorflow-gpu==2.0.0.alpha0) (1.17.4)\n",
            "Requirement already satisfied: astor>=0.6.0 in /usr/local/lib/python3.6/dist-packages (from tensorflow-gpu==2.0.0.alpha0) (0.8.1)\n",
            "Requirement already satisfied: six>=1.10.0 in /usr/local/lib/python3.6/dist-packages (from tensorflow-gpu==2.0.0.alpha0) (1.12.0)\n",
            "Requirement already satisfied: tb-nightly<1.14.0a20190302,>=1.14.0a20190301 in /usr/local/lib/python3.6/dist-packages (from tensorflow-gpu==2.0.0.alpha0) (1.14.0a20190301)\n",
            "Requirement already satisfied: keras-preprocessing>=1.0.5 in /usr/local/lib/python3.6/dist-packages (from tensorflow-gpu==2.0.0.alpha0) (1.1.0)\n",
            "Requirement already satisfied: absl-py>=0.7.0 in /usr/local/lib/python3.6/dist-packages (from tensorflow-gpu==2.0.0.alpha0) (0.8.1)\n",
            "Requirement already satisfied: tf-estimator-nightly<1.14.0.dev2019030116,>=1.14.0.dev2019030115 in /usr/local/lib/python3.6/dist-packages (from tensorflow-gpu==2.0.0.alpha0) (1.14.0.dev2019030115)\n",
            "Requirement already satisfied: protobuf>=3.6.1 in /usr/local/lib/python3.6/dist-packages (from tensorflow-gpu==2.0.0.alpha0) (3.10.0)\n",
            "Requirement already satisfied: grpcio>=1.8.6 in /usr/local/lib/python3.6/dist-packages (from tensorflow-gpu==2.0.0.alpha0) (1.15.0)\n",
            "Requirement already satisfied: gast>=0.2.0 in /usr/local/lib/python3.6/dist-packages (from tensorflow-gpu==2.0.0.alpha0) (0.2.2)\n",
            "Requirement already satisfied: h5py in /usr/local/lib/python3.6/dist-packages (from keras-applications>=1.0.6->tensorflow-gpu==2.0.0.alpha0) (2.8.0)\n",
            "Requirement already satisfied: markdown>=2.6.8 in /usr/local/lib/python3.6/dist-packages (from tb-nightly<1.14.0a20190302,>=1.14.0a20190301->tensorflow-gpu==2.0.0.alpha0) (3.1.1)\n",
            "Requirement already satisfied: werkzeug>=0.11.15 in /usr/local/lib/python3.6/dist-packages (from tb-nightly<1.14.0a20190302,>=1.14.0a20190301->tensorflow-gpu==2.0.0.alpha0) (0.16.0)\n",
            "Requirement already satisfied: setuptools in /usr/local/lib/python3.6/dist-packages (from protobuf>=3.6.1->tensorflow-gpu==2.0.0.alpha0) (42.0.2)\n"
          ],
          "name": "stdout"
        }
      ]
    },
    {
      "cell_type": "markdown",
      "metadata": {
        "id": "pHbof6z2h8iJ",
        "colab_type": "text"
      },
      "source": [
        "## Carga de datos\n"
      ]
    },
    {
      "cell_type": "code",
      "metadata": {
        "id": "Za8ZJLkyiCoJ",
        "colab_type": "code",
        "colab": {}
      },
      "source": [
        "#path_data = 'https://raw.githubusercontent.com/anthonymirandag/IndoorLocalization/master/data/movil/Tx_0x01.csv'\n",
        "path_data = 'https://raw.githubusercontent.com/anthonymirandag/IndoorLocalization/master/data/Tx_0x02.csv'\n",
        "df = pd.read_csv(path_data)"
      ],
      "execution_count": 0,
      "outputs": []
    },
    {
      "cell_type": "code",
      "metadata": {
        "id": "gfyjtQmFiC0N",
        "colab_type": "code",
        "colab": {}
      },
      "source": [
        "#i_serie  = 0\n",
        "target_label = 'Sector'\n",
        "tam_slices = 20"
      ],
      "execution_count": 0,
      "outputs": []
    },
    {
      "cell_type": "markdown",
      "metadata": {
        "id": "vQ_Q9Euk1Loh",
        "colab_type": "text"
      },
      "source": [
        "## Utils Funciones"
      ]
    },
    {
      "cell_type": "code",
      "metadata": {
        "id": "u_zSBZ-01N09",
        "colab_type": "code",
        "colab": {}
      },
      "source": [
        "def scale_serie_minmax(serie):\n",
        "  #serie = serie.reshape(-1, 1)\n",
        "  scaler = MinMaxScaler(feature_range = (-1,1))\n",
        "  scaler.fit(serie)\n",
        "  serie_1 = scaler.transform(serie)\n",
        "  return serie_1"
      ],
      "execution_count": 0,
      "outputs": []
    },
    {
      "cell_type": "code",
      "metadata": {
        "id": "342mWDJE1QhN",
        "colab_type": "code",
        "colab": {}
      },
      "source": [
        "def imaging_time_series_GAF(serie):\n",
        "  # convert to polar\n",
        "  n = len(serie)\n",
        "  serie = serie.reshape(-1, 1)\n",
        "  ones = np.ones((1,n))\n",
        "  x = serie.dot(ones)\n",
        "  y = ones.transpose().dot(serie.transpose())\n",
        "  GAF = x*y - (np.sqrt(np.absolute(1.0-np.power(x,2)))*np.sqrt(np.absolute(1.0-np.power(y,2))))\n",
        "  return GAF "
      ],
      "execution_count": 0,
      "outputs": []
    },
    {
      "cell_type": "code",
      "metadata": {
        "id": "ZCOtRC0L1TaG",
        "colab_type": "code",
        "colab": {}
      },
      "source": [
        "def multi_serie_to_image(series):\n",
        "   n,n_var = series.shape\n",
        "   x_image = np.zeros((n,n,n_var))\n",
        "   for i in range(n_var):\n",
        "     serie = series[:,i]\n",
        "     #serie = scale_serie_minmax(serie)\n",
        "     image = imaging_time_series_GAF(serie)\n",
        "     x_image[:,:,i] = image\n",
        "   return x_image  "
      ],
      "execution_count": 0,
      "outputs": []
    },
    {
      "cell_type": "code",
      "metadata": {
        "id": "rYOgXnzL1Wuq",
        "colab_type": "code",
        "colab": {}
      },
      "source": [
        "def reshape_to_matrix_rssi(x_sector,size):\n",
        "  total_sample ,n = x_sector.shape\n",
        "  residual_elem = total_sample % size\n",
        "  return x_sector[0:total_sample-residual_elem,:].reshape(-1,size,n)\n"
      ],
      "execution_count": 0,
      "outputs": []
    },
    {
      "cell_type": "code",
      "metadata": {
        "id": "QqdgKaX61kJ1",
        "colab_type": "code",
        "colab": {}
      },
      "source": [
        "def train_test_split_rssi(df, test_size= 0.1, random_state=27, tam_slices =20):\n",
        "  x =  df.drop(target_label, axis= 1).values\n",
        "  y = df[target_label].values\n",
        "  labelencoder_y = LabelEncoder()\n",
        "  y = labelencoder_y.fit_transform(y)  \n",
        "  _, countsTotal = np.unique(y, return_counts=True)\n",
        "  n = x.shape[0]\n",
        "  data_shape = x.shape[1:]\n",
        "  n_rand = math.floor(np.floor(countsTotal/tam_slices).sum() * 0.1)\n",
        "  print(n_rand)\n",
        "  np.random.seed(random_state)\n",
        "  n_lables = np.unique(y).shape\n",
        "  rand_labels = np.random.randint(n_lables, size=n_rand)\n",
        "  unique, counts = np.unique(rand_labels, return_counts=True)\n",
        "  x_train = np.array([])\n",
        "  x_test = np.array([])\n",
        "  y_train = np.array([])  \n",
        "  y_test = np.array([])\n",
        "  print(unique)\n",
        "  print(counts)\n",
        "  for index, label in enumerate(unique):\n",
        "    print('index',index)\n",
        "    print('label',label)\n",
        "    tam_block = counts[index]*tam_slices\n",
        "    tam_total = y[y == label].shape[0]\n",
        "    print('tam_total',tam_total)\n",
        "    print('tam_block',tam_block)\n",
        "    init_block = np.random.randint(tam_total-tam_block,size=1)[0] \n",
        "    print('init_block',init_block)\n",
        "    x_sector = x[y == label,:]\n",
        "    x_sector = scale_serie_minmax(x_sector)\n",
        "    map_split = [[0,init_block],[init_block+tam_block,tam_total]]\n",
        "    series_sector = np.array([])\n",
        "    for split in map_split:\n",
        "      print('split',split)\n",
        "      for i in range(tam_slices):\n",
        "        if(split[0]==0 and i== 0 and label == 0 ):\n",
        "          series_sector = reshape_to_matrix_rssi(x_sector[0:split[1],:], tam_slices)\n",
        "          x_train =  series_sector\n",
        "          y_train = np.ones(series_sector.shape[0])*label \n",
        "        else:\n",
        "          series_sector = reshape_to_matrix_rssi(x_sector[split[0]+i:split[1],:],tam_slices)\n",
        "          x_train = np.concatenate((x_train, series_sector))\n",
        "          y_train = np.concatenate((y_train,np.ones(series_sector.shape[0])*label))\n",
        "    if(label == 0):\n",
        "      block_sector = reshape_to_matrix_rssi(x_sector[init_block:init_block+tam_block,:],tam_slices)\n",
        "      x_test = block_sector\n",
        "      y_test = np.ones(block_sector.shape[0])*label       \n",
        "    else:\n",
        "      block_sector = reshape_to_matrix_rssi(x_sector[init_block:init_block+tam_block,:],tam_slices)\n",
        "      x_test = np.concatenate((x_test,block_sector))\n",
        "      y_test = np.concatenate((y_test,np.ones(block_sector.shape[0])*label))\n",
        "  x_train,y_train = shuffle(x_train,y_train)\n",
        "  x_test,y_test = shuffle(x_test,y_test)\n",
        "\n",
        "  return x_train, x_test, y_train, y_test"
      ],
      "execution_count": 0,
      "outputs": []
    },
    {
      "cell_type": "code",
      "metadata": {
        "id": "mRI1JiSw34nt",
        "colab_type": "code",
        "colab": {}
      },
      "source": [
        "# not used\n",
        "''' def train_test_split_rssi(df, test_size= 0.1, random_state=27, tam_slices =20):\n",
        "  x =  df.drop(target_label, axis= 1).values\n",
        "  y = df[target_label].values\n",
        "  labelencoder_y = LabelEncoder()\n",
        "  y = labelencoder_y.fit_transform(y)  \n",
        "  _, countsTotal = np.unique(y, return_counts=True)\n",
        "  n = x.shape[0]\n",
        "  data_shape = x.shape[1:]\n",
        "  n_rand = math.floor(np.floor(countsTotal/tam_slices).sum() * 0.1)\n",
        "  print(n_rand)\n",
        "  np.random.seed(random_state)\n",
        "  n_lables = np.unique(y).shape\n",
        "  rand_labels = np.random.randint(n_lables, size=n_rand)\n",
        "  unique, counts = np.unique(rand_labels, return_counts=True)\n",
        "  x_train = np.array([])\n",
        "  x_test = np.array([])\n",
        "  y_train = np.array([])  \n",
        "  y_test = np.array([])\n",
        "  print(unique)\n",
        "  print(counts)\n",
        "  for index, label in enumerate(unique):\n",
        "    print('index',index)\n",
        "    print('label',label)\n",
        "    tam_block = counts[index]*tam_slices\n",
        "    tam_total = y[y == label].shape[0]\n",
        "    print('tam_total',tam_total)\n",
        "    print('tam_block',tam_block)\n",
        "    init_block = np.random.randint(tam_total-tam_block,size=1)[0] \n",
        "    print('init_block',init_block)\n",
        "    x_sector = x[y == label,:]\n",
        "    map_split = [[0,init_block],[init_block+tam_block,tam_total]]\n",
        "    series_sector = np.array([])\n",
        "    for split in map_split:\n",
        "      print('split',split)\n",
        "      for i in range(tam_slices):\n",
        "        if(split[0]==0 and i== 0 and label == 0 ):\n",
        "          series_sector = reshape_to_matrix_rssi(x_sector[0:split[1],:], tam_slices)\n",
        "          x_train =  series_sector\n",
        "          y_train = np.ones(series_sector.shape[0])*label \n",
        "        else:\n",
        "          series_sector = reshape_to_matrix_rssi(x_sector[split[0]+i:split[1],:],tam_slices)\n",
        "          x_train = np.concatenate((x_train, series_sector))\n",
        "          y_train = np.concatenate((y_train,np.ones(series_sector.shape[0])*label))\n",
        "    if(label == 0):\n",
        "      block_sector = reshape_to_matrix_rssi(x_sector[init_block:init_block+tam_block,:],tam_slices)\n",
        "      x_test = block_sector\n",
        "      y_test = np.ones(block_sector.shape[0])*label       \n",
        "    else:\n",
        "      block_sector = reshape_to_matrix_rssi(x_sector[init_block:init_block+tam_block,:],tam_slices)\n",
        "      x_test = np.concatenate((x_test,block_sector))\n",
        "      y_test = np.concatenate((y_test,np.ones(block_sector.shape[0])*label))\n",
        "  x_train,y_train = shuffle(x_train,y_train)\n",
        "  x_test,y_test = shuffle(x_test,y_test)\n",
        "  return x_train, x_test, y_train, y_test '''"
      ],
      "execution_count": 0,
      "outputs": []
    },
    {
      "cell_type": "code",
      "metadata": {
        "id": "Vxdrbdjr1qsP",
        "colab_type": "code",
        "colab": {}
      },
      "source": [
        "def transformer_gaf_multivariate(time_series,target_label,size = 20):\n",
        "  n,tam_serie,n_var =time_series.shape\n",
        "  images_time_series = np.zeros((n,size,size,n_var))\n",
        "  for i in range(n):\n",
        "    image = multi_serie_to_image(time_series[i,:,:])\n",
        "    images_time_series[i,:,:,:] = image \n",
        "  return images_time_series"
      ],
      "execution_count": 0,
      "outputs": []
    },
    {
      "cell_type": "code",
      "metadata": {
        "id": "ikMpNmCp1tl3",
        "colab_type": "code",
        "colab": {}
      },
      "source": [
        "def generate_images_aug(df,target_label ,size = 20):\n",
        "  # Escalado por sector\n",
        "  dataset = df.copy()\n",
        "  x_train, x_test, y_train, y_test = train_test_split_rssi(dataset,test_size= 0.1, random_state=27, tam_slices =tam_slices)\n",
        "  x_train = transformer_gaf_multivariate(x_train,target_label,size)\n",
        "  x_test = transformer_gaf_multivariate(x_test,target_label,size)\n",
        "  return x_train, x_test, y_train, y_test"
      ],
      "execution_count": 0,
      "outputs": []
    },
    {
      "cell_type": "code",
      "metadata": {
        "id": "9ntbCROi1u3r",
        "colab_type": "code",
        "colab": {}
      },
      "source": [
        "# not used\n",
        "def generate_images(df,target_label ,size = 20):\n",
        "  dataset = df.copy()\n",
        "  sectors = dataset[target_label].unique()\n",
        "  x_images = np.array([])\n",
        "  y_labels = np.array([])\n",
        "  '''   for sector  in sectors:\n",
        "      df_sector = dataset[dataset.Sector == sector]\n",
        "      x_sector =  df_sector.drop(target_label, axis= 1)\n",
        "      columns = x_sector.columns\n",
        "      x_sector = scale_serie_minmax(x_sector)\n",
        "      dataset[columns][dataset.Sector == sector] = x_sector '''\n",
        "  for sector  in sectors:\n",
        "    df_sector = dataset[dataset.Sector == sector]\n",
        "    #x_sector =  df_sector.drop(target_label, axis= 1).values\n",
        "    x_sector =  df_sector.drop(target_label, axis= 1)\n",
        "    total_sample ,n = x_sector.shape\n",
        "    residual_elem = total_sample % size\n",
        "    x_sector = scale_serie_minmax(x_sector)\n",
        "    for i in range(size):\n",
        "      if(i==0):\n",
        "        series_sector = reshape_to_matrix_rssi(x_sector,size)\n",
        "      else:\n",
        "        series_sector = np.concatenate((series_sector,reshape_to_matrix_rssi(x_sector[i:,:],size) ))\n",
        "    total_series = series_sector.shape[0]\n",
        "    images_sector = np.zeros((total_series,size,size,n))\n",
        "    for i in range(total_series):\n",
        "      image = multi_serie_to_image(series_sector[i,:,:])\n",
        "      #print(image)\n",
        "      images_sector[i,:,:,:] = image  \n",
        "    labels = np.ones(images_sector.shape[0])*sector \n",
        "    if sector == sectors[0]: \n",
        "      x_images = images_sector\n",
        "      y_labels = labels.reshape(-1)\n",
        "    else: \n",
        "      x_images = np.concatenate((x_images, images_sector))\n",
        "      y_labels = np.concatenate((y_labels, labels.reshape(-1)))\n",
        "  labelencoder_y = LabelEncoder()\n",
        "  y_labels = labelencoder_y.fit_transform(y_labels)    \n",
        "  return  x_images, y_labels    \n",
        "   "
      ],
      "execution_count": 0,
      "outputs": []
    },
    {
      "cell_type": "code",
      "metadata": {
        "id": "7NJwsekz11zp",
        "colab_type": "code",
        "outputId": "5979fdea-cd7a-4a74-c7a5-d4962ef92475",
        "colab": {
          "base_uri": "https://localhost:8080/",
          "height": 149
        }
      },
      "source": [
        "# not used\n",
        "def generate_images(dataset,target_label ,size = 20):\n",
        "  sectors = dataset[target_label].unique()\n",
        "  x_images = np.array([])\n",
        "  y_labels = np.array([])\n",
        "  for sector  in sectors:\n",
        "    df_sector = dataset[dataset.Sector == sector]\n",
        "    x_sector =  df_sector.drop(target_label, axis= 1).values\n",
        "    total_sample ,n = x_sector.shape\n",
        "    residual_elem = total_sample % size\n",
        "    x_sector = scale_serie_minmax(x_sector)\n",
        "    for i in range(size):\n",
        "      if(i==0):\n",
        "        series_sector = reshape_to_matrix_rssi(x_sector,size)\n",
        "      else:\n",
        "        series_sector = np.concatenate((series_sector,reshape_to_matrix_rssi(x_sector[i:,:],size) x_sector[0+i:total_sample+i-residual_elem,:].reshape(-1,size,n)))\n",
        "    total_series = series_sector.shape[0]\n",
        "    images_sector = np.zeros((total_series,size,size,n))\n",
        "    for i in range(total_series):\n",
        "      image = multi_serie_to_image(series_sector[i,:,:])\n",
        "      #print(image)\n",
        "      images_sector[i,:,:,:] = image  \n",
        "    labels = np.ones(images_sector.shape[0])*sector \n",
        "    if sector == sectors[0]: \n",
        "      x_images = images_sector\n",
        "      y_labels = labels.reshape(-1)\n",
        "    else: \n",
        "      x_images = np.concatenate((x_images, images_sector))\n",
        "      y_labels = np.concatenate((y_labels, labels.reshape(-1)))\n",
        "  labelencoder_y = LabelEncoder()\n",
        "  y_labels = labelencoder_y.fit_transform(y_labels)    \n",
        "  return  x_images, y_labels    "
      ],
      "execution_count": 0,
      "outputs": [
        {
          "output_type": "error",
          "ename": "SyntaxError",
          "evalue": "ignored",
          "traceback": [
            "\u001b[0;36m  File \u001b[0;32m\"<ipython-input-12-643128498cf1>\"\u001b[0;36m, line \u001b[0;32m15\u001b[0m\n\u001b[0;31m    series_sector = np.concatenate((series_sector,reshape_to_matrix_rssi(x_sector[i:,:],size) x_sector[0+i:total_sample+i-residual_elem,:].reshape(-1,size,n)))\u001b[0m\n\u001b[0m                                                                                                     ^\u001b[0m\n\u001b[0;31mSyntaxError\u001b[0m\u001b[0;31m:\u001b[0m invalid syntax\n"
          ]
        }
      ]
    },
    {
      "cell_type": "code",
      "metadata": {
        "id": "6Q9FDSIe2qIU",
        "colab_type": "code",
        "colab": {}
      },
      "source": [
        "def transfrom_imaging_time_series(dataset,target_label ,size = 20):\n",
        "  sectors = dataset[target_label].unique()\n",
        "  x_images = np.array([])\n",
        "  y_labels = np.array([])\n",
        "  for sector  in sectors:\n",
        "    df_sector = dataset[dataset.Sector == sector]\n",
        "    x_sector =  df_sector.drop(target_label, axis= 1).values\n",
        "    total_sample ,n = x_sector.shape\n",
        "    residual_elem = total_sample % size\n",
        "    x_sector = scale_serie_minmax(x_sector)\n",
        "    #for i in range(n):\n",
        "    #  x_sector[:,i] = scale_serie_minmax(x_sector[:,i]).reshape((-1))\n",
        "    series_sector = x_sector[0:-residual_elem,:].reshape(-1,size,n)\n",
        "    total_series = series_sector.shape[0]\n",
        "    images_sector = np.zeros((total_series,size,size,n))\n",
        "    for i in range(total_series):\n",
        "      image = multi_serie_to_image(series_sector[i,:,:])\n",
        "      #print(image)\n",
        "      images_sector[i,:,:,:] = image  \n",
        "    labels = np.ones(images_sector.shape[0])*sector \n",
        "    if sector == sectors[0]: \n",
        "      x_images = images_sector\n",
        "      y_labels = labels.reshape(-1)\n",
        "    else: \n",
        "      x_images = np.concatenate((x_images, images_sector))\n",
        "      y_labels = np.concatenate((y_labels, labels.reshape(-1)))\n",
        "  labelencoder_y = LabelEncoder()\n",
        "  y_labels = labelencoder_y.fit_transform(y_labels)    \n",
        "  return  x_images, y_labels"
      ],
      "execution_count": 0,
      "outputs": []
    },
    {
      "cell_type": "code",
      "metadata": {
        "id": "GVx0yf9E2Onq",
        "colab_type": "code",
        "outputId": "21eb755e-00c6-4e40-d32b-36ceb676423e",
        "colab": {
          "base_uri": "https://localhost:8080/",
          "height": 1000
        }
      },
      "source": [
        "x_train, x_test, y_train, y_test = generate_images_aug(df,target_label = target_label,size = tam_slices)"
      ],
      "execution_count": 0,
      "outputs": [
        {
          "output_type": "stream",
          "text": [
            "27\n",
            "[ 0  1  2  3  4  5  6  8  9 10 12 13 14]\n",
            "[2 3 1 4 1 2 1 4 1 3 1 2 2]\n",
            "index 0\n",
            "label 0\n",
            "tam_total 368\n",
            "tam_block 40\n",
            "init_block 259\n",
            "split [0, 259]\n",
            "split [299, 368]\n",
            "index 1\n",
            "label 1\n",
            "tam_total 360\n",
            "tam_block 60\n",
            "init_block 218\n",
            "split [0, 218]\n",
            "split [278, 360]\n",
            "index 2\n",
            "label 2\n",
            "tam_total 256\n",
            "tam_block 20\n",
            "init_block 118\n",
            "split [0, 118]\n",
            "split [138, 256]\n",
            "index 3\n",
            "label 3\n",
            "tam_total 432\n",
            "tam_block 80\n",
            "init_block 204\n",
            "split [0, 204]\n",
            "split [284, 432]\n",
            "index 4\n",
            "label 4\n",
            "tam_total 408\n",
            "tam_block 20\n",
            "init_block 318\n",
            "split [0, 318]\n",
            "split [338, 408]\n",
            "index 5\n",
            "label 5\n",
            "tam_total 378\n",
            "tam_block 40\n",
            "init_block 327\n",
            "split [0, 327]\n",
            "split [367, 378]\n",
            "index 6\n",
            "label 6\n",
            "tam_total 399\n",
            "tam_block 20\n",
            "init_block 93\n",
            "split [0, 93]\n",
            "split [113, 399]\n",
            "index 7\n",
            "label 8\n",
            "tam_total 393\n",
            "tam_block 80\n",
            "init_block 295\n",
            "split [0, 295]\n",
            "split [375, 393]\n",
            "index 8\n",
            "label 9\n",
            "tam_total 404\n",
            "tam_block 20\n",
            "init_block 187\n",
            "split [0, 187]\n",
            "split [207, 404]\n",
            "index 9\n",
            "label 10\n",
            "tam_total 352\n",
            "tam_block 60\n",
            "init_block 53\n",
            "split [0, 53]\n",
            "split [113, 352]\n",
            "index 10\n",
            "label 12\n",
            "tam_total 375\n",
            "tam_block 20\n",
            "init_block 33\n",
            "split [0, 33]\n",
            "split [53, 375]\n",
            "index 11\n",
            "label 13\n",
            "tam_total 478\n",
            "tam_block 40\n",
            "init_block 322\n",
            "split [0, 322]\n",
            "split [362, 478]\n",
            "index 12\n",
            "label 14\n",
            "tam_total 367\n",
            "tam_block 40\n",
            "init_block 79\n",
            "split [0, 79]\n",
            "split [119, 367]\n"
          ],
          "name": "stdout"
        }
      ]
    },
    {
      "cell_type": "code",
      "metadata": {
        "id": "y_6S7JyiGKOU",
        "colab_type": "code",
        "colab": {}
      },
      "source": [
        "path_data = 'https://raw.githubusercontent.com/anthonymirandag/IndoorLocalization/master/data/Tx_0x07.csv'\n",
        "df = pd.read_csv(path_data)"
      ],
      "execution_count": 0,
      "outputs": []
    },
    {
      "cell_type": "code",
      "metadata": {
        "id": "QZa4nMW4AFfT",
        "colab_type": "code",
        "colab": {}
      },
      "source": [
        "x_images ,  y_labels = transfrom_imaging_time_series(df,target_label = target_label,size = tam_slices)"
      ],
      "execution_count": 0,
      "outputs": []
    },
    {
      "cell_type": "code",
      "metadata": {
        "id": "lQhPBfS7AGWG",
        "colab_type": "code",
        "colab": {}
      },
      "source": [
        "x_train, x_test, y_train, y_test = train_test_split(x_images,y_labels, test_size= 0.10, random_state=27)"
      ],
      "execution_count": 0,
      "outputs": []
    },
    {
      "cell_type": "code",
      "metadata": {
        "id": "EXzDtQ9heAek",
        "colab_type": "code",
        "outputId": "10b2daa6-a1a4-44e8-f842-557de68e5e04",
        "colab": {
          "base_uri": "https://localhost:8080/",
          "height": 34
        }
      },
      "source": [
        "x_train.shape"
      ],
      "execution_count": 0,
      "outputs": [
        {
          "output_type": "execute_result",
          "data": {
            "text/plain": [
              "(234, 20, 20, 5)"
            ]
          },
          "metadata": {
            "tags": []
          },
          "execution_count": 434
        }
      ]
    },
    {
      "cell_type": "markdown",
      "metadata": {
        "id": "Y31sADq_-X6k",
        "colab_type": "text"
      },
      "source": [
        "## Modelo"
      ]
    },
    {
      "cell_type": "code",
      "metadata": {
        "id": "oyUSrQGt-OJm",
        "colab_type": "code",
        "outputId": "3f2bacfd-f377-4c21-c60e-463144489e20",
        "colab": {
          "base_uri": "https://localhost:8080/",
          "height": 493
        }
      },
      "source": [
        "model = tf.keras.models.Sequential()\n",
        "model.add(tf.keras.layers.Conv2D(filters=64, kernel_size=3, padding=\"same\", activation=\"relu\", input_shape=[tam_slices, tam_slices, 5]))\n",
        "model.add(tf.keras.layers.MaxPool2D(pool_size=2, strides=2, padding='valid'))\n",
        "model.add(tf.keras.layers.Dropout(0.25))\n",
        "model.add(tf.keras.layers.Conv2D(filters=128, kernel_size=3, padding=\"same\", activation=\"relu\"))\n",
        "model.add(tf.keras.layers.MaxPool2D(pool_size=2, strides=2, padding='valid'))\n",
        "model.add(tf.keras.layers.Dropout(0.25))\n",
        "model.add(tf.keras.layers.Flatten())\n",
        "model.add(tf.keras.layers.Dense(units=128, activation='relu'))\n",
        "model.add(tf.keras.layers.Dropout(0.5))\n",
        "model.add(tf.keras.layers.Dense(units=15, activation='softmax'))\n",
        "model.summary()\n",
        "model.compile(loss=\"sparse_categorical_crossentropy\", optimizer='adam', metrics=[\"sparse_categorical_accuracy\"])"
      ],
      "execution_count": 0,
      "outputs": [
        {
          "output_type": "stream",
          "text": [
            "Model: \"sequential_51\"\n",
            "_________________________________________________________________\n",
            "Layer (type)                 Output Shape              Param #   \n",
            "=================================================================\n",
            "conv2d_102 (Conv2D)          (None, 20, 20, 64)        2944      \n",
            "_________________________________________________________________\n",
            "max_pooling2d_102 (MaxPoolin (None, 10, 10, 64)        0         \n",
            "_________________________________________________________________\n",
            "dropout_153 (Dropout)        (None, 10, 10, 64)        0         \n",
            "_________________________________________________________________\n",
            "conv2d_103 (Conv2D)          (None, 10, 10, 128)       73856     \n",
            "_________________________________________________________________\n",
            "max_pooling2d_103 (MaxPoolin (None, 5, 5, 128)         0         \n",
            "_________________________________________________________________\n",
            "dropout_154 (Dropout)        (None, 5, 5, 128)         0         \n",
            "_________________________________________________________________\n",
            "flatten_51 (Flatten)         (None, 3200)              0         \n",
            "_________________________________________________________________\n",
            "dense_102 (Dense)            (None, 128)               409728    \n",
            "_________________________________________________________________\n",
            "dropout_155 (Dropout)        (None, 128)               0         \n",
            "_________________________________________________________________\n",
            "dense_103 (Dense)            (None, 15)                1935      \n",
            "=================================================================\n",
            "Total params: 488,463\n",
            "Trainable params: 488,463\n",
            "Non-trainable params: 0\n",
            "_________________________________________________________________\n"
          ],
          "name": "stdout"
        }
      ]
    },
    {
      "cell_type": "code",
      "metadata": {
        "id": "UGWeLeXz-aj6",
        "colab_type": "code",
        "colab": {}
      },
      "source": [
        "monitor = EarlyStopping(monitor='val_loss', min_delta=1e-3, patience=10, verbose=1, mode='auto',restore_best_weights=True)"
      ],
      "execution_count": 0,
      "outputs": []
    },
    {
      "cell_type": "code",
      "metadata": {
        "id": "IexlpgdP-i3C",
        "colab_type": "code",
        "outputId": "54f524c7-a6b2-484a-9c01-a1817f4fa762",
        "colab": {
          "base_uri": "https://localhost:8080/",
          "height": 1000
        }
      },
      "source": [
        "history = model.fit(x_train, y_train, validation_split=0.10,callbacks=[monitor] ,batch_size=16, epochs=100 , verbose = 1)"
      ],
      "execution_count": 0,
      "outputs": [
        {
          "output_type": "stream",
          "text": [
            "Train on 210 samples, validate on 24 samples\n",
            "Epoch 1/100\n",
            "210/210 [==============================] - 0s 2ms/sample - loss: 2.5700 - sparse_categorical_accuracy: 0.1571 - val_loss: 2.4416 - val_sparse_categorical_accuracy: 0.2083\n",
            "Epoch 2/100\n",
            "210/210 [==============================] - 0s 422us/sample - loss: 2.2201 - sparse_categorical_accuracy: 0.2619 - val_loss: 2.1498 - val_sparse_categorical_accuracy: 0.2083\n",
            "Epoch 3/100\n",
            "210/210 [==============================] - 0s 354us/sample - loss: 2.1573 - sparse_categorical_accuracy: 0.2333 - val_loss: 2.0849 - val_sparse_categorical_accuracy: 0.3333\n",
            "Epoch 4/100\n",
            "210/210 [==============================] - 0s 345us/sample - loss: 2.0519 - sparse_categorical_accuracy: 0.2857 - val_loss: 2.0310 - val_sparse_categorical_accuracy: 0.2917\n",
            "Epoch 5/100\n",
            "210/210 [==============================] - 0s 419us/sample - loss: 1.8930 - sparse_categorical_accuracy: 0.3619 - val_loss: 1.7880 - val_sparse_categorical_accuracy: 0.2917\n",
            "Epoch 6/100\n",
            "210/210 [==============================] - 0s 347us/sample - loss: 1.7755 - sparse_categorical_accuracy: 0.4238 - val_loss: 1.6218 - val_sparse_categorical_accuracy: 0.5417\n",
            "Epoch 7/100\n",
            "210/210 [==============================] - 0s 363us/sample - loss: 1.6922 - sparse_categorical_accuracy: 0.4238 - val_loss: 1.4816 - val_sparse_categorical_accuracy: 0.5000\n",
            "Epoch 8/100\n",
            "210/210 [==============================] - 0s 322us/sample - loss: 1.7449 - sparse_categorical_accuracy: 0.4000 - val_loss: 1.7466 - val_sparse_categorical_accuracy: 0.4167\n",
            "Epoch 9/100\n",
            "210/210 [==============================] - 0s 306us/sample - loss: 1.6427 - sparse_categorical_accuracy: 0.4571 - val_loss: 1.5357 - val_sparse_categorical_accuracy: 0.5833\n",
            "Epoch 10/100\n",
            "210/210 [==============================] - 0s 339us/sample - loss: 1.5138 - sparse_categorical_accuracy: 0.4857 - val_loss: 1.5056 - val_sparse_categorical_accuracy: 0.5833\n",
            "Epoch 11/100\n",
            "210/210 [==============================] - 0s 379us/sample - loss: 1.3343 - sparse_categorical_accuracy: 0.5667 - val_loss: 1.4630 - val_sparse_categorical_accuracy: 0.5000\n",
            "Epoch 12/100\n",
            "210/210 [==============================] - 0s 391us/sample - loss: 1.3121 - sparse_categorical_accuracy: 0.5619 - val_loss: 1.3986 - val_sparse_categorical_accuracy: 0.5833\n",
            "Epoch 13/100\n",
            "210/210 [==============================] - 0s 346us/sample - loss: 1.2420 - sparse_categorical_accuracy: 0.5857 - val_loss: 1.2522 - val_sparse_categorical_accuracy: 0.6667\n",
            "Epoch 14/100\n",
            "210/210 [==============================] - 0s 394us/sample - loss: 1.2629 - sparse_categorical_accuracy: 0.5238 - val_loss: 1.2406 - val_sparse_categorical_accuracy: 0.6250\n",
            "Epoch 15/100\n",
            "210/210 [==============================] - 0s 383us/sample - loss: 1.2376 - sparse_categorical_accuracy: 0.5429 - val_loss: 1.1016 - val_sparse_categorical_accuracy: 0.5833\n",
            "Epoch 16/100\n",
            "210/210 [==============================] - 0s 395us/sample - loss: 1.0367 - sparse_categorical_accuracy: 0.6524 - val_loss: 0.9531 - val_sparse_categorical_accuracy: 0.7917\n",
            "Epoch 17/100\n",
            "210/210 [==============================] - 0s 354us/sample - loss: 0.9137 - sparse_categorical_accuracy: 0.6857 - val_loss: 0.9139 - val_sparse_categorical_accuracy: 0.7500\n",
            "Epoch 18/100\n",
            "210/210 [==============================] - 0s 337us/sample - loss: 1.0661 - sparse_categorical_accuracy: 0.6095 - val_loss: 1.0053 - val_sparse_categorical_accuracy: 0.7500\n",
            "Epoch 19/100\n",
            "210/210 [==============================] - 0s 303us/sample - loss: 0.8526 - sparse_categorical_accuracy: 0.6714 - val_loss: 0.9221 - val_sparse_categorical_accuracy: 0.7083\n",
            "Epoch 20/100\n",
            "210/210 [==============================] - 0s 368us/sample - loss: 0.9555 - sparse_categorical_accuracy: 0.6571 - val_loss: 0.7999 - val_sparse_categorical_accuracy: 0.7083\n",
            "Epoch 21/100\n",
            "210/210 [==============================] - 0s 328us/sample - loss: 0.8579 - sparse_categorical_accuracy: 0.7048 - val_loss: 0.8256 - val_sparse_categorical_accuracy: 0.7500\n",
            "Epoch 22/100\n",
            "210/210 [==============================] - 0s 331us/sample - loss: 0.8166 - sparse_categorical_accuracy: 0.7095 - val_loss: 0.8473 - val_sparse_categorical_accuracy: 0.7083\n",
            "Epoch 23/100\n",
            "210/210 [==============================] - 0s 334us/sample - loss: 0.7768 - sparse_categorical_accuracy: 0.7429 - val_loss: 0.9382 - val_sparse_categorical_accuracy: 0.7083\n",
            "Epoch 24/100\n",
            "210/210 [==============================] - 0s 341us/sample - loss: 0.8291 - sparse_categorical_accuracy: 0.7143 - val_loss: 0.7796 - val_sparse_categorical_accuracy: 0.7500\n",
            "Epoch 25/100\n",
            "210/210 [==============================] - 0s 340us/sample - loss: 0.7925 - sparse_categorical_accuracy: 0.7095 - val_loss: 1.1233 - val_sparse_categorical_accuracy: 0.6667\n",
            "Epoch 26/100\n",
            "210/210 [==============================] - 0s 329us/sample - loss: 0.6754 - sparse_categorical_accuracy: 0.7667 - val_loss: 0.8166 - val_sparse_categorical_accuracy: 0.7500\n",
            "Epoch 27/100\n",
            "210/210 [==============================] - 0s 389us/sample - loss: 0.6632 - sparse_categorical_accuracy: 0.7333 - val_loss: 0.9313 - val_sparse_categorical_accuracy: 0.7083\n",
            "Epoch 28/100\n",
            "210/210 [==============================] - 0s 335us/sample - loss: 0.6905 - sparse_categorical_accuracy: 0.7571 - val_loss: 0.8351 - val_sparse_categorical_accuracy: 0.7917\n",
            "Epoch 29/100\n",
            "210/210 [==============================] - 0s 338us/sample - loss: 0.7310 - sparse_categorical_accuracy: 0.7333 - val_loss: 0.9019 - val_sparse_categorical_accuracy: 0.7083\n",
            "Epoch 30/100\n",
            "210/210 [==============================] - 0s 344us/sample - loss: 0.6248 - sparse_categorical_accuracy: 0.7762 - val_loss: 0.8228 - val_sparse_categorical_accuracy: 0.7083\n",
            "Epoch 31/100\n",
            "210/210 [==============================] - 0s 300us/sample - loss: 0.5671 - sparse_categorical_accuracy: 0.8000 - val_loss: 1.0164 - val_sparse_categorical_accuracy: 0.6667\n",
            "Epoch 32/100\n",
            "210/210 [==============================] - 0s 325us/sample - loss: 0.7864 - sparse_categorical_accuracy: 0.7619 - val_loss: 1.1099 - val_sparse_categorical_accuracy: 0.6667\n",
            "Epoch 33/100\n",
            "210/210 [==============================] - 0s 337us/sample - loss: 0.6853 - sparse_categorical_accuracy: 0.7476 - val_loss: 0.9313 - val_sparse_categorical_accuracy: 0.7500\n",
            "Epoch 34/100\n",
            "208/210 [============================>.] - ETA: 0s - loss: 0.6035 - sparse_categorical_accuracy: 0.7644Restoring model weights from the end of the best epoch.\n",
            "210/210 [==============================] - 0s 339us/sample - loss: 0.5979 - sparse_categorical_accuracy: 0.7667 - val_loss: 1.0223 - val_sparse_categorical_accuracy: 0.7083\n",
            "Epoch 00034: early stopping\n"
          ],
          "name": "stdout"
        }
      ]
    },
    {
      "cell_type": "code",
      "metadata": {
        "id": "zfERqia3-p2X",
        "colab_type": "code",
        "colab": {}
      },
      "source": [
        "def visualzation_accuracy_loss_values_epochs(history):\n",
        "  fig, axs = plt.subplots(1, 2,figsize=(15, 5))\n",
        "  axs[0].plot(history.history['sparse_categorical_accuracy'])\n",
        "  axs[0].plot(history.history['val_sparse_categorical_accuracy'])\n",
        "  axs[0].set_title('Model accuracy')\n",
        "  axs[0].set_ylabel('Accuracy')\n",
        "  axs[0].set_xlabel('Epoch')\n",
        "  axs[0].legend(['Train', 'Test'], loc='upper left')\n",
        "  axs[1].plot(history.history['loss'])\n",
        "  axs[1].plot(history.history['val_loss'])\n",
        "  axs[1].set_title('Model loss')\n",
        "  axs[1].set_ylabel('Loss')\n",
        "  axs[1].set_xlabel('Epoch')\n",
        "  axs[1].legend(['Train', 'Test'], loc='upper left')"
      ],
      "execution_count": 0,
      "outputs": []
    },
    {
      "cell_type": "code",
      "metadata": {
        "id": "NAOxxbMS_1VZ",
        "colab_type": "code",
        "outputId": "c4805df6-c729-4e1e-d90a-40bd10c019f3",
        "colab": {
          "base_uri": "https://localhost:8080/",
          "height": 350
        }
      },
      "source": [
        "visualzation_accuracy_loss_values_epochs(history)"
      ],
      "execution_count": 0,
      "outputs": [
        {
          "output_type": "display_data",
          "data": {
            "image/png": "[encoded data removed]",
            "text/plain": [
              "<Figure size 1080x360 with 2 Axes>"
            ]
          },
          "metadata": {
            "tags": []
          }
        }
      ]
    },
    {
      "cell_type": "code",
      "metadata": {
        "id": "4xPcWypC-0VQ",
        "colab_type": "code",
        "outputId": "860fbbaf-c463-458c-ee2c-132c9a70a00f",
        "colab": {
          "base_uri": "https://localhost:8080/",
          "height": 51
        }
      },
      "source": [
        "test_loss, test_accuracy = model.evaluate(x_test, y_test)\n",
        "print(\"Test accuracy: {}\".format(test_accuracy))  "
      ],
      "execution_count": 0,
      "outputs": [
        {
          "output_type": "stream",
          "text": [
            "\r26/26 [==============================] - 0s 231us/sample - loss: 1.2086 - sparse_categorical_accuracy: 0.6923\n",
            "Test accuracy: 0.692307710647583\n"
          ],
          "name": "stdout"
        }
      ]
    },
    {
      "cell_type": "code",
      "metadata": {
        "id": "q1ESnDUcAa1G",
        "colab_type": "code",
        "outputId": "cbdfdb57-1df8-431f-ddd0-25147b96c950",
        "colab": {
          "base_uri": "https://localhost:8080/",
          "height": 34
        }
      },
      "source": [
        "x_test.shape"
      ],
      "execution_count": 0,
      "outputs": [
        {
          "output_type": "execute_result",
          "data": {
            "text/plain": [
              "(34, 20, 20, 5)"
            ]
          },
          "metadata": {
            "tags": []
          },
          "execution_count": 85
        }
      ]
    },
    {
      "cell_type": "code",
      "metadata": {
        "id": "57xiaf25_-dy",
        "colab_type": "code",
        "outputId": "5e395477-2be3-4c5c-8c53-74d15a3a8d84",
        "colab": {
          "base_uri": "https://localhost:8080/",
          "height": 34
        }
      },
      "source": [
        "x_test.shape"
      ],
      "execution_count": 0,
      "outputs": [
        {
          "output_type": "execute_result",
          "data": {
            "text/plain": [
              "(81, 20, 20, 5)"
            ]
          },
          "metadata": {
            "tags": []
          },
          "execution_count": 49
        }
      ]
    }
  ]
}