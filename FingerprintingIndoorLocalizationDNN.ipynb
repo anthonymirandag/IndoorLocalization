{
  "nbformat": 4,
  "nbformat_minor": 0,
  "metadata": {
    "colab": {
      "name": "FingerprintingIndoorLocalizationDNN.ipynb",
      "provenance": [],
      "collapsed_sections": [
        "jfD-rajd1qfL",
        "YIZ3OHF3utVx"
      ],
      "include_colab_link": true
    },
    "kernelspec": {
      "name": "python3",
      "display_name": "Python 3"
    },
    "accelerator": "GPU"
  },
  "cells": [
    {
      "cell_type": "markdown",
      "metadata": {
        "id": "view-in-github",
        "colab_type": "text"
      },
      "source": [
        "<a href=\"https://colab.research.google.com/github/anthonymirandag/IndoorLocalization/blob/master/FingerprintingIndoorLocalizationDNN.ipynb\" target=\"_parent\"><img src=\"https://colab.research.google.com/assets/colab-badge.svg\" alt=\"Open In Colab\"/></a>"
      ]
    },
    {
      "cell_type": "markdown",
      "metadata": {
        "id": "Dt99lcRSdqEQ",
        "colab_type": "text"
      },
      "source": [
        "# **1.** Importacion de librerias"
      ]
    },
    {
      "cell_type": "code",
      "metadata": {
        "id": "krHSrmmVdGBH",
        "colab_type": "code",
        "outputId": "813d5454-6e8f-49a6-c497-dabf574685df",
        "colab": {
          "base_uri": "https://localhost:8080/",
          "height": 496
        }
      },
      "source": [
        "import numpy as np \n",
        "import pandas as pd\n",
        "import matplotlib.pyplot as plt\n",
        "import io\n",
        "import seaborn as sns\n",
        "from sklearn.preprocessing import LabelEncoder\n",
        "from sklearn.model_selection import train_test_split\n",
        "from sklearn.metrics import accuracy_score\n",
        "from sklearn.metrics import confusion_matrix\n",
        "from sklearn.preprocessing import StandardScaler\n",
        "!pip install tensorflow-gpu==2.0.0.alpha0\n",
        "import datetime"
      ],
      "execution_count": 1,
      "outputs": [
        {
          "output_type": "stream",
          "text": [
            "Collecting tensorflow-gpu==2.0.0.alpha0\n",
            "\u001b[?25l  Downloading https://files.pythonhosted.org/packages/1a/66/32cffad095253219d53f6b6c2a436637bbe45ac4e7be0244557210dc3918/tensorflow_gpu-2.0.0a0-cp36-cp36m-manylinux1_x86_64.whl (332.1MB)\n",
            "\u001b[K     |████████████████████████████████| 332.1MB 48kB/s \n",
            "\u001b[?25hRequirement already satisfied: numpy<2.0,>=1.14.5 in /usr/local/lib/python3.6/dist-packages (from tensorflow-gpu==2.0.0.alpha0) (1.17.4)\n",
            "Requirement already satisfied: termcolor>=1.1.0 in /usr/local/lib/python3.6/dist-packages (from tensorflow-gpu==2.0.0.alpha0) (1.1.0)\n",
            "Requirement already satisfied: google-pasta>=0.1.2 in /usr/local/lib/python3.6/dist-packages (from tensorflow-gpu==2.0.0.alpha0) (0.1.8)\n",
            "Requirement already satisfied: keras-applications>=1.0.6 in /usr/local/lib/python3.6/dist-packages (from tensorflow-gpu==2.0.0.alpha0) (1.0.8)\n",
            "Requirement already satisfied: absl-py>=0.7.0 in /usr/local/lib/python3.6/dist-packages (from tensorflow-gpu==2.0.0.alpha0) (0.8.1)\n",
            "Requirement already satisfied: astor>=0.6.0 in /usr/local/lib/python3.6/dist-packages (from tensorflow-gpu==2.0.0.alpha0) (0.8.1)\n",
            "Requirement already satisfied: keras-preprocessing>=1.0.5 in /usr/local/lib/python3.6/dist-packages (from tensorflow-gpu==2.0.0.alpha0) (1.1.0)\n",
            "Requirement already satisfied: six>=1.10.0 in /usr/local/lib/python3.6/dist-packages (from tensorflow-gpu==2.0.0.alpha0) (1.12.0)\n",
            "Collecting tf-estimator-nightly<1.14.0.dev2019030116,>=1.14.0.dev2019030115\n",
            "\u001b[?25l  Downloading https://files.pythonhosted.org/packages/13/82/f16063b4eed210dc2ab057930ac1da4fbe1e91b7b051a6c8370b401e6ae7/tf_estimator_nightly-1.14.0.dev2019030115-py2.py3-none-any.whl (411kB)\n",
            "\u001b[K     |████████████████████████████████| 419kB 39.0MB/s \n",
            "\u001b[?25hRequirement already satisfied: wheel>=0.26 in /usr/local/lib/python3.6/dist-packages (from tensorflow-gpu==2.0.0.alpha0) (0.33.6)\n",
            "Requirement already satisfied: gast>=0.2.0 in /usr/local/lib/python3.6/dist-packages (from tensorflow-gpu==2.0.0.alpha0) (0.2.2)\n",
            "Requirement already satisfied: grpcio>=1.8.6 in /usr/local/lib/python3.6/dist-packages (from tensorflow-gpu==2.0.0.alpha0) (1.15.0)\n",
            "Requirement already satisfied: protobuf>=3.6.1 in /usr/local/lib/python3.6/dist-packages (from tensorflow-gpu==2.0.0.alpha0) (3.10.0)\n",
            "Collecting tb-nightly<1.14.0a20190302,>=1.14.0a20190301\n",
            "\u001b[?25l  Downloading https://files.pythonhosted.org/packages/a9/51/aa1d756644bf4624c03844115e4ac4058eff77acd786b26315f051a4b195/tb_nightly-1.14.0a20190301-py3-none-any.whl (3.0MB)\n",
            "\u001b[K     |████████████████████████████████| 3.0MB 31.1MB/s \n",
            "\u001b[?25hRequirement already satisfied: h5py in /usr/local/lib/python3.6/dist-packages (from keras-applications>=1.0.6->tensorflow-gpu==2.0.0.alpha0) (2.8.0)\n",
            "Requirement already satisfied: setuptools in /usr/local/lib/python3.6/dist-packages (from protobuf>=3.6.1->tensorflow-gpu==2.0.0.alpha0) (42.0.2)\n",
            "Requirement already satisfied: markdown>=2.6.8 in /usr/local/lib/python3.6/dist-packages (from tb-nightly<1.14.0a20190302,>=1.14.0a20190301->tensorflow-gpu==2.0.0.alpha0) (3.1.1)\n",
            "Requirement already satisfied: werkzeug>=0.11.15 in /usr/local/lib/python3.6/dist-packages (from tb-nightly<1.14.0a20190302,>=1.14.0a20190301->tensorflow-gpu==2.0.0.alpha0) (0.16.0)\n",
            "Installing collected packages: tf-estimator-nightly, tb-nightly, tensorflow-gpu\n",
            "Successfully installed tb-nightly-1.14.0a20190301 tensorflow-gpu-2.0.0a0 tf-estimator-nightly-1.14.0.dev2019030115\n"
          ],
          "name": "stdout"
        }
      ]
    },
    {
      "cell_type": "code",
      "metadata": {
        "id": "FwRu0fKXZaKm",
        "colab_type": "code",
        "outputId": "c9da9023-7fe7-4e48-ab00-7c3e81654ada",
        "colab": {
          "base_uri": "https://localhost:8080/",
          "height": 445
        }
      },
      "source": [
        "import tensorflow as tf\n",
        "from tensorflow.keras.callbacks import EarlyStopping"
      ],
      "execution_count": 9,
      "outputs": [
        {
          "output_type": "stream",
          "text": [
            "/usr/local/lib/python3.6/dist-packages/tensorflow/python/framework/dtypes.py:523: FutureWarning: Passing (type, 1) or '1type' as a synonym of type is deprecated; in a future version of numpy, it will be understood as (type, (1,)) / '(1,)type'.\n",
            "  _np_qint8 = np.dtype([(\"qint8\", np.int8, 1)])\n",
            "/usr/local/lib/python3.6/dist-packages/tensorflow/python/framework/dtypes.py:524: FutureWarning: Passing (type, 1) or '1type' as a synonym of type is deprecated; in a future version of numpy, it will be understood as (type, (1,)) / '(1,)type'.\n",
            "  _np_quint8 = np.dtype([(\"quint8\", np.uint8, 1)])\n",
            "/usr/local/lib/python3.6/dist-packages/tensorflow/python/framework/dtypes.py:525: FutureWarning: Passing (type, 1) or '1type' as a synonym of type is deprecated; in a future version of numpy, it will be understood as (type, (1,)) / '(1,)type'.\n",
            "  _np_qint16 = np.dtype([(\"qint16\", np.int16, 1)])\n",
            "/usr/local/lib/python3.6/dist-packages/tensorflow/python/framework/dtypes.py:526: FutureWarning: Passing (type, 1) or '1type' as a synonym of type is deprecated; in a future version of numpy, it will be understood as (type, (1,)) / '(1,)type'.\n",
            "  _np_quint16 = np.dtype([(\"quint16\", np.uint16, 1)])\n",
            "/usr/local/lib/python3.6/dist-packages/tensorflow/python/framework/dtypes.py:527: FutureWarning: Passing (type, 1) or '1type' as a synonym of type is deprecated; in a future version of numpy, it will be understood as (type, (1,)) / '(1,)type'.\n",
            "  _np_qint32 = np.dtype([(\"qint32\", np.int32, 1)])\n",
            "/usr/local/lib/python3.6/dist-packages/tensorflow/python/framework/dtypes.py:532: FutureWarning: Passing (type, 1) or '1type' as a synonym of type is deprecated; in a future version of numpy, it will be understood as (type, (1,)) / '(1,)type'.\n",
            "  np_resource = np.dtype([(\"resource\", np.ubyte, 1)])\n",
            "/usr/local/lib/python3.6/dist-packages/tensorboard/compat/tensorflow_stub/dtypes.py:541: FutureWarning: Passing (type, 1) or '1type' as a synonym of type is deprecated; in a future version of numpy, it will be understood as (type, (1,)) / '(1,)type'.\n",
            "  _np_qint8 = np.dtype([(\"qint8\", np.int8, 1)])\n",
            "/usr/local/lib/python3.6/dist-packages/tensorboard/compat/tensorflow_stub/dtypes.py:542: FutureWarning: Passing (type, 1) or '1type' as a synonym of type is deprecated; in a future version of numpy, it will be understood as (type, (1,)) / '(1,)type'.\n",
            "  _np_quint8 = np.dtype([(\"quint8\", np.uint8, 1)])\n",
            "/usr/local/lib/python3.6/dist-packages/tensorboard/compat/tensorflow_stub/dtypes.py:543: FutureWarning: Passing (type, 1) or '1type' as a synonym of type is deprecated; in a future version of numpy, it will be understood as (type, (1,)) / '(1,)type'.\n",
            "  _np_qint16 = np.dtype([(\"qint16\", np.int16, 1)])\n",
            "/usr/local/lib/python3.6/dist-packages/tensorboard/compat/tensorflow_stub/dtypes.py:544: FutureWarning: Passing (type, 1) or '1type' as a synonym of type is deprecated; in a future version of numpy, it will be understood as (type, (1,)) / '(1,)type'.\n",
            "  _np_quint16 = np.dtype([(\"quint16\", np.uint16, 1)])\n",
            "/usr/local/lib/python3.6/dist-packages/tensorboard/compat/tensorflow_stub/dtypes.py:545: FutureWarning: Passing (type, 1) or '1type' as a synonym of type is deprecated; in a future version of numpy, it will be understood as (type, (1,)) / '(1,)type'.\n",
            "  _np_qint32 = np.dtype([(\"qint32\", np.int32, 1)])\n",
            "/usr/local/lib/python3.6/dist-packages/tensorboard/compat/tensorflow_stub/dtypes.py:550: FutureWarning: Passing (type, 1) or '1type' as a synonym of type is deprecated; in a future version of numpy, it will be understood as (type, (1,)) / '(1,)type'.\n",
            "  np_resource = np.dtype([(\"resource\", np.ubyte, 1)])\n"
          ],
          "name": "stderr"
        }
      ]
    },
    {
      "cell_type": "code",
      "metadata": {
        "id": "GxZ8GUSOZtsA",
        "colab_type": "code",
        "outputId": "84f51cb4-6097-4bf2-eca1-2b5fab437218",
        "colab": {
          "base_uri": "https://localhost:8080/",
          "height": 1000
        }
      },
      "source": [
        "!pip install --upgrade tensorflow"
      ],
      "execution_count": 0,
      "outputs": [
        {
          "output_type": "stream",
          "text": [
            "Collecting tensorflow\n",
            "\u001b[?25l  Downloading https://files.pythonhosted.org/packages/46/0f/7bd55361168bb32796b360ad15a25de6966c9c1beb58a8e30c01c8279862/tensorflow-2.0.0-cp36-cp36m-manylinux2010_x86_64.whl (86.3MB)\n",
            "\u001b[K     |████████████████████████████████| 86.3MB 161kB/s \n",
            "\u001b[?25hRequirement already satisfied, skipping upgrade: six>=1.10.0 in /usr/local/lib/python3.6/dist-packages (from tensorflow) (1.12.0)\n",
            "Requirement already satisfied, skipping upgrade: astor>=0.6.0 in /usr/local/lib/python3.6/dist-packages (from tensorflow) (0.8.0)\n",
            "Requirement already satisfied, skipping upgrade: protobuf>=3.6.1 in /usr/local/lib/python3.6/dist-packages (from tensorflow) (3.10.0)\n",
            "Requirement already satisfied, skipping upgrade: wheel>=0.26 in /usr/local/lib/python3.6/dist-packages (from tensorflow) (0.33.6)\n",
            "Requirement already satisfied, skipping upgrade: gast==0.2.2 in /usr/local/lib/python3.6/dist-packages (from tensorflow) (0.2.2)\n",
            "Collecting tensorflow-estimator<2.1.0,>=2.0.0\n",
            "\u001b[?25l  Downloading https://files.pythonhosted.org/packages/fc/08/8b927337b7019c374719145d1dceba21a8bb909b93b1ad6f8fb7d22c1ca1/tensorflow_estimator-2.0.1-py2.py3-none-any.whl (449kB)\n",
            "\u001b[K     |████████████████████████████████| 450kB 44.4MB/s \n",
            "\u001b[?25hRequirement already satisfied, skipping upgrade: grpcio>=1.8.6 in /usr/local/lib/python3.6/dist-packages (from tensorflow) (1.15.0)\n",
            "Requirement already satisfied, skipping upgrade: keras-preprocessing>=1.0.5 in /usr/local/lib/python3.6/dist-packages (from tensorflow) (1.1.0)\n",
            "Requirement already satisfied, skipping upgrade: wrapt>=1.11.1 in /usr/local/lib/python3.6/dist-packages (from tensorflow) (1.11.2)\n",
            "Requirement already satisfied, skipping upgrade: numpy<2.0,>=1.16.0 in /usr/local/lib/python3.6/dist-packages (from tensorflow) (1.17.4)\n",
            "Requirement already satisfied, skipping upgrade: termcolor>=1.1.0 in /usr/local/lib/python3.6/dist-packages (from tensorflow) (1.1.0)\n",
            "Collecting tensorboard<2.1.0,>=2.0.0\n",
            "\u001b[?25l  Downloading https://files.pythonhosted.org/packages/d3/9e/a48cd34dd7b672ffc227b566f7d16d63c62c58b542d54efa45848c395dd4/tensorboard-2.0.1-py3-none-any.whl (3.8MB)\n",
            "\u001b[K     |████████████████████████████████| 3.8MB 34.9MB/s \n",
            "\u001b[?25hRequirement already satisfied, skipping upgrade: opt-einsum>=2.3.2 in /usr/local/lib/python3.6/dist-packages (from tensorflow) (3.1.0)\n",
            "Requirement already satisfied, skipping upgrade: google-pasta>=0.1.6 in /usr/local/lib/python3.6/dist-packages (from tensorflow) (0.1.8)\n",
            "Requirement already satisfied, skipping upgrade: absl-py>=0.7.0 in /usr/local/lib/python3.6/dist-packages (from tensorflow) (0.8.1)\n",
            "Requirement already satisfied, skipping upgrade: keras-applications>=1.0.8 in /usr/local/lib/python3.6/dist-packages (from tensorflow) (1.0.8)\n",
            "Requirement already satisfied, skipping upgrade: setuptools in /usr/local/lib/python3.6/dist-packages (from protobuf>=3.6.1->tensorflow) (41.6.0)\n",
            "Requirement already satisfied, skipping upgrade: werkzeug>=0.11.15 in /usr/local/lib/python3.6/dist-packages (from tensorboard<2.1.0,>=2.0.0->tensorflow) (0.16.0)\n",
            "Collecting google-auth<2,>=1.6.3\n",
            "\u001b[?25l  Downloading https://files.pythonhosted.org/packages/7b/cb/786dc53d93494784935a62947643b48250b84a882474e714f9af5e1a1928/google_auth-1.7.1-py2.py3-none-any.whl (74kB)\n",
            "\u001b[K     |████████████████████████████████| 81kB 9.9MB/s \n",
            "\u001b[?25hRequirement already satisfied, skipping upgrade: markdown>=2.6.8 in /usr/local/lib/python3.6/dist-packages (from tensorboard<2.1.0,>=2.0.0->tensorflow) (3.1.1)\n",
            "Requirement already satisfied, skipping upgrade: google-auth-oauthlib<0.5,>=0.4.1 in /usr/local/lib/python3.6/dist-packages (from tensorboard<2.1.0,>=2.0.0->tensorflow) (0.4.1)\n",
            "Requirement already satisfied, skipping upgrade: h5py in /usr/local/lib/python3.6/dist-packages (from keras-applications>=1.0.8->tensorflow) (2.8.0)\n",
            "Requirement already satisfied, skipping upgrade: rsa<4.1,>=3.1.4 in /usr/local/lib/python3.6/dist-packages (from google-auth<2,>=1.6.3->tensorboard<2.1.0,>=2.0.0->tensorflow) (4.0)\n",
            "Requirement already satisfied, skipping upgrade: pyasn1-modules>=0.2.1 in /usr/local/lib/python3.6/dist-packages (from google-auth<2,>=1.6.3->tensorboard<2.1.0,>=2.0.0->tensorflow) (0.2.7)\n",
            "Requirement already satisfied, skipping upgrade: cachetools<3.2,>=2.0.0 in /usr/local/lib/python3.6/dist-packages (from google-auth<2,>=1.6.3->tensorboard<2.1.0,>=2.0.0->tensorflow) (3.1.1)\n",
            "Requirement already satisfied, skipping upgrade: requests-oauthlib>=0.7.0 in /usr/local/lib/python3.6/dist-packages (from google-auth-oauthlib<0.5,>=0.4.1->tensorboard<2.1.0,>=2.0.0->tensorflow) (1.3.0)\n",
            "Requirement already satisfied, skipping upgrade: pyasn1>=0.1.3 in /usr/local/lib/python3.6/dist-packages (from rsa<4.1,>=3.1.4->google-auth<2,>=1.6.3->tensorboard<2.1.0,>=2.0.0->tensorflow) (0.4.7)\n",
            "Requirement already satisfied, skipping upgrade: oauthlib>=3.0.0 in /usr/local/lib/python3.6/dist-packages (from requests-oauthlib>=0.7.0->google-auth-oauthlib<0.5,>=0.4.1->tensorboard<2.1.0,>=2.0.0->tensorflow) (3.1.0)\n",
            "Requirement already satisfied, skipping upgrade: requests>=2.0.0 in /usr/local/lib/python3.6/dist-packages (from requests-oauthlib>=0.7.0->google-auth-oauthlib<0.5,>=0.4.1->tensorboard<2.1.0,>=2.0.0->tensorflow) (2.21.0)\n",
            "Requirement already satisfied, skipping upgrade: certifi>=2017.4.17 in /usr/local/lib/python3.6/dist-packages (from requests>=2.0.0->requests-oauthlib>=0.7.0->google-auth-oauthlib<0.5,>=0.4.1->tensorboard<2.1.0,>=2.0.0->tensorflow) (2019.9.11)\n",
            "Requirement already satisfied, skipping upgrade: urllib3<1.25,>=1.21.1 in /usr/local/lib/python3.6/dist-packages (from requests>=2.0.0->requests-oauthlib>=0.7.0->google-auth-oauthlib<0.5,>=0.4.1->tensorboard<2.1.0,>=2.0.0->tensorflow) (1.24.3)\n",
            "Requirement already satisfied, skipping upgrade: idna<2.9,>=2.5 in /usr/local/lib/python3.6/dist-packages (from requests>=2.0.0->requests-oauthlib>=0.7.0->google-auth-oauthlib<0.5,>=0.4.1->tensorboard<2.1.0,>=2.0.0->tensorflow) (2.8)\n",
            "Requirement already satisfied, skipping upgrade: chardet<3.1.0,>=3.0.2 in /usr/local/lib/python3.6/dist-packages (from requests>=2.0.0->requests-oauthlib>=0.7.0->google-auth-oauthlib<0.5,>=0.4.1->tensorboard<2.1.0,>=2.0.0->tensorflow) (3.0.4)\n",
            "\u001b[31mERROR: tensorboard 2.0.1 has requirement grpcio>=1.24.3, but you'll have grpcio 1.15.0 which is incompatible.\u001b[0m\n",
            "\u001b[31mERROR: google-colab 1.0.0 has requirement google-auth~=1.4.0, but you'll have google-auth 1.7.1 which is incompatible.\u001b[0m\n",
            "Installing collected packages: tensorflow-estimator, google-auth, tensorboard, tensorflow\n",
            "  Found existing installation: tensorflow-estimator 1.15.1\n",
            "    Uninstalling tensorflow-estimator-1.15.1:\n",
            "      Successfully uninstalled tensorflow-estimator-1.15.1\n",
            "  Found existing installation: google-auth 1.4.2\n",
            "    Uninstalling google-auth-1.4.2:\n",
            "      Successfully uninstalled google-auth-1.4.2\n",
            "  Found existing installation: tensorboard 1.15.0\n",
            "    Uninstalling tensorboard-1.15.0:\n",
            "      Successfully uninstalled tensorboard-1.15.0\n",
            "  Found existing installation: tensorflow 1.15.0\n",
            "    Uninstalling tensorflow-1.15.0:\n",
            "      Successfully uninstalled tensorflow-1.15.0\n",
            "Successfully installed google-auth-1.7.1 tensorboard-2.0.1 tensorflow-2.0.0 tensorflow-estimator-2.0.1\n"
          ],
          "name": "stdout"
        },
        {
          "output_type": "display_data",
          "data": {
            "application/vnd.colab-display-data+json": {
              "pip_warning": {
                "packages": [
                  "google"
                ]
              }
            }
          },
          "metadata": {
            "tags": []
          }
        }
      ]
    },
    {
      "cell_type": "markdown",
      "metadata": {
        "id": "rePG7IyMmfnS",
        "colab_type": "text"
      },
      "source": [
        "# **2.** Preprocedado de datos"
      ]
    },
    {
      "cell_type": "markdown",
      "metadata": {
        "colab_type": "text",
        "id": "x9JiGuGceLen"
      },
      "source": [
        "## Carga de datos"
      ]
    },
    {
      "cell_type": "code",
      "metadata": {
        "id": "Ue3A3fQWdf8t",
        "colab_type": "code",
        "colab": {}
      },
      "source": [
        "#path_data = \"/content/gdrive/My Drive/ProyectoTesis/datasets/Tx_full.csv\"\n",
        "path_data = 'https://raw.githubusercontent.com/anthonymirandag/IndoorLocalization/master/data/Tx_0x01.csv'\n",
        "df = pd.read_csv(path_data)"
      ],
      "execution_count": 0,
      "outputs": []
    },
    {
      "cell_type": "code",
      "metadata": {
        "id": "YXVZnHOxkIRb",
        "colab_type": "code",
        "colab": {}
      },
      "source": [
        "target_label =  'Sector'\n",
        "\n",
        "x = df.drop(target_label , axis= 1)\n",
        "y = df[target_label]\n",
        "labelencoder_y = LabelEncoder()\n",
        "y = labelencoder_y.fit_transform(y)\n",
        "#y = df[target_label].astype(int) - 1 "
      ],
      "execution_count": 0,
      "outputs": []
    },
    {
      "cell_type": "markdown",
      "metadata": {
        "id": "pGFhjy53joq8",
        "colab_type": "text"
      },
      "source": [
        "## Normalizacion de los datos de entrada\n"
      ]
    },
    {
      "cell_type": "code",
      "metadata": {
        "id": "Ir2JUuorjsNx",
        "colab_type": "code",
        "colab": {}
      },
      "source": [
        "scaler = StandardScaler()\n",
        "scaler.fit(x)\n",
        "x = scaler.transform(x)"
      ],
      "execution_count": 0,
      "outputs": []
    },
    {
      "cell_type": "code",
      "metadata": {
        "id": "e6nh9LXLj2ES",
        "colab_type": "code",
        "outputId": "5f0a3ead-1f1d-49c4-819f-c060af31d099",
        "colab": {
          "base_uri": "https://localhost:8080/",
          "height": 136
        }
      },
      "source": [
        "x"
      ],
      "execution_count": 0,
      "outputs": [
        {
          "output_type": "execute_result",
          "data": {
            "text/plain": [
              "array([[ 0.10518246,  0.98342957,  1.87879222, -0.32343564, -0.03082775],\n",
              "       [ 0.61971557, -0.25637626,  1.59255362,  0.02782819,  1.05202996],\n",
              "       [-0.06632858,  0.82845384,  1.87879222, -0.32343564, -0.21130404],\n",
              "       ...,\n",
              "       [-0.23783962,  0.82845384, -0.6973552 , -1.55285907,  1.41298253],\n",
              "       [-0.23783962,  0.98342957, -0.6973552 , -1.37722715,  1.41298253],\n",
              "       [-0.23783962,  0.82845384, -0.6973552 , -0.8503314 ,  1.41298253]])"
            ]
          },
          "metadata": {
            "tags": []
          },
          "execution_count": 30
        }
      ]
    },
    {
      "cell_type": "markdown",
      "metadata": {
        "id": "xj6jKmvCeF_g",
        "colab_type": "text"
      },
      "source": [
        "## Division del conjunto de datos\n"
      ]
    },
    {
      "cell_type": "code",
      "metadata": {
        "id": "L1vg7gyBgKbx",
        "colab_type": "code",
        "colab": {}
      },
      "source": [
        "x_train, x_test, y_train, y_test = train_test_split(x,y, test_size= 0.10, random_state=27)"
      ],
      "execution_count": 0,
      "outputs": []
    },
    {
      "cell_type": "markdown",
      "metadata": {
        "id": "-ku27Im7gLQH",
        "colab_type": "text"
      },
      "source": [
        "# **3.** Creacion del modelo : \n",
        "### Percentron multicapa.\n",
        " Hiperparametros :\n",
        "* 3 capas ocultas con 128 neuronas\n",
        "* Capa de activacion rectificador uniforme\n",
        "* learning rate = 0.00001\n",
        "* optimazador adam\n",
        "\n"
      ]
    },
    {
      "cell_type": "code",
      "metadata": {
        "id": "WHKMZotJoOae",
        "colab_type": "code",
        "colab": {
          "base_uri": "https://localhost:8080/",
          "height": 34
        },
        "outputId": "7bba5701-f697-4778-c998-243bbb4a93a6"
      },
      "source": [
        "model = tf.keras.models.Sequential()\n",
        "model.add(tf.keras.layers.Dense(units=64, activation='relu', input_shape=(5, )))\n",
        "model.add(tf.keras.layers.Dense(units=64, activation='relu'))\n",
        "model.add(tf.keras.layers.Dense(units=64, activation='relu'))\n",
        "model.add(tf.keras.layers.Dense(units=15, activation='softmax')),"
      ],
      "execution_count": 10,
      "outputs": [
        {
          "output_type": "execute_result",
          "data": {
            "text/plain": [
              "(None,)"
            ]
          },
          "metadata": {
            "tags": []
          },
          "execution_count": 10
        }
      ]
    },
    {
      "cell_type": "code",
      "metadata": {
        "id": "u3iFochAJ4lS",
        "colab_type": "code",
        "colab": {
          "base_uri": "https://localhost:8080/",
          "height": 289
        },
        "outputId": "58e8b136-f2ac-43e1-f4f7-4692514b6935"
      },
      "source": [
        "model.summary()"
      ],
      "execution_count": 12,
      "outputs": [
        {
          "output_type": "stream",
          "text": [
            "Model: \"sequential\"\n",
            "_________________________________________________________________\n",
            "Layer (type)                 Output Shape              Param #   \n",
            "=================================================================\n",
            "dense (Dense)                (None, 64)                384       \n",
            "_________________________________________________________________\n",
            "dense_1 (Dense)              (None, 64)                4160      \n",
            "_________________________________________________________________\n",
            "dense_2 (Dense)              (None, 64)                4160      \n",
            "_________________________________________________________________\n",
            "dense_3 (Dense)              (None, 15)                975       \n",
            "=================================================================\n",
            "Total params: 9,679\n",
            "Trainable params: 9,679\n",
            "Non-trainable params: 0\n",
            "_________________________________________________________________\n"
          ],
          "name": "stdout"
        }
      ]
    },
    {
      "cell_type": "markdown",
      "metadata": {
        "id": "sXKqE06Ooe8Z",
        "colab_type": "text"
      },
      "source": [
        "### Compilar modelo"
      ]
    },
    {
      "cell_type": "code",
      "metadata": {
        "id": "Ip285-85o7hP",
        "colab_type": "code",
        "colab": {}
      },
      "source": [
        "model.compile(optimizer='adam', loss='sparse_categorical_crossentropy',metrics=['sparse_categorical_accuracy'])"
      ],
      "execution_count": 0,
      "outputs": []
    },
    {
      "cell_type": "markdown",
      "metadata": {
        "id": "9kEfGzqdpUle",
        "colab_type": "text"
      },
      "source": [
        "### Entranar el modelo"
      ]
    },
    {
      "cell_type": "code",
      "metadata": {
        "id": "JWcCTlO-pXY6",
        "colab_type": "code",
        "outputId": "5a672f62-f8d7-4430-c991-8d837d226196",
        "colab": {
          "base_uri": "https://localhost:8080/",
          "height": 1000
        }
      },
      "source": [
        "history = model.fit(x_train, y_train, validation_split=0.25 ,batch_size=64, epochs=200 , verbose = 1)"
      ],
      "execution_count": 14,
      "outputs": [
        {
          "output_type": "stream",
          "text": [
            "Train on 4638 samples, validate on 1547 samples\n",
            "Epoch 1/200\n",
            "4638/4638 [==============================] - 1s 274us/sample - loss: 2.2208 - sparse_categorical_accuracy: 0.3616 - val_loss: 1.5394 - val_sparse_categorical_accuracy: 0.5326\n",
            "Epoch 2/200\n",
            "4638/4638 [==============================] - 0s 91us/sample - loss: 1.2724 - sparse_categorical_accuracy: 0.5869 - val_loss: 1.1132 - val_sparse_categorical_accuracy: 0.6070\n",
            "Epoch 3/200\n",
            "4638/4638 [==============================] - 0s 100us/sample - loss: 1.0589 - sparse_categorical_accuracy: 0.6227 - val_loss: 1.0157 - val_sparse_categorical_accuracy: 0.6264\n",
            "Epoch 4/200\n",
            "4638/4638 [==============================] - 0s 90us/sample - loss: 0.9872 - sparse_categorical_accuracy: 0.6436 - val_loss: 0.9649 - val_sparse_categorical_accuracy: 0.6548\n",
            "Epoch 5/200\n",
            "4638/4638 [==============================] - 0s 89us/sample - loss: 0.9308 - sparse_categorical_accuracy: 0.6514 - val_loss: 0.9220 - val_sparse_categorical_accuracy: 0.6665\n",
            "Epoch 6/200\n",
            "4638/4638 [==============================] - 0s 88us/sample - loss: 0.8938 - sparse_categorical_accuracy: 0.6615 - val_loss: 0.8939 - val_sparse_categorical_accuracy: 0.6781\n",
            "Epoch 7/200\n",
            "4638/4638 [==============================] - 0s 95us/sample - loss: 0.8555 - sparse_categorical_accuracy: 0.6749 - val_loss: 0.8594 - val_sparse_categorical_accuracy: 0.6865\n",
            "Epoch 8/200\n",
            "4638/4638 [==============================] - 0s 93us/sample - loss: 0.8332 - sparse_categorical_accuracy: 0.6867 - val_loss: 0.8437 - val_sparse_categorical_accuracy: 0.6936\n",
            "Epoch 9/200\n",
            "4638/4638 [==============================] - 0s 92us/sample - loss: 0.8024 - sparse_categorical_accuracy: 0.7014 - val_loss: 0.8313 - val_sparse_categorical_accuracy: 0.7065\n",
            "Epoch 10/200\n",
            "4638/4638 [==============================] - 0s 88us/sample - loss: 0.7899 - sparse_categorical_accuracy: 0.7012 - val_loss: 0.8197 - val_sparse_categorical_accuracy: 0.7052\n",
            "Epoch 11/200\n",
            "4638/4638 [==============================] - 0s 91us/sample - loss: 0.7682 - sparse_categorical_accuracy: 0.7145 - val_loss: 0.8022 - val_sparse_categorical_accuracy: 0.7169\n",
            "Epoch 12/200\n",
            "4638/4638 [==============================] - 0s 90us/sample - loss: 0.7427 - sparse_categorical_accuracy: 0.7264 - val_loss: 0.7914 - val_sparse_categorical_accuracy: 0.7227\n",
            "Epoch 13/200\n",
            "4638/4638 [==============================] - 0s 87us/sample - loss: 0.7407 - sparse_categorical_accuracy: 0.7257 - val_loss: 0.7773 - val_sparse_categorical_accuracy: 0.7298\n",
            "Epoch 14/200\n",
            "4638/4638 [==============================] - 0s 91us/sample - loss: 0.7197 - sparse_categorical_accuracy: 0.7348 - val_loss: 0.7531 - val_sparse_categorical_accuracy: 0.7330\n",
            "Epoch 15/200\n",
            "4638/4638 [==============================] - 0s 89us/sample - loss: 0.7074 - sparse_categorical_accuracy: 0.7419 - val_loss: 0.7664 - val_sparse_categorical_accuracy: 0.7343\n",
            "Epoch 16/200\n",
            "4638/4638 [==============================] - 0s 97us/sample - loss: 0.6988 - sparse_categorical_accuracy: 0.7497 - val_loss: 0.7642 - val_sparse_categorical_accuracy: 0.7350\n",
            "Epoch 17/200\n",
            "4638/4638 [==============================] - 0s 89us/sample - loss: 0.6846 - sparse_categorical_accuracy: 0.7516 - val_loss: 0.7463 - val_sparse_categorical_accuracy: 0.7408\n",
            "Epoch 18/200\n",
            "4638/4638 [==============================] - 0s 90us/sample - loss: 0.6760 - sparse_categorical_accuracy: 0.7542 - val_loss: 0.7241 - val_sparse_categorical_accuracy: 0.7511\n",
            "Epoch 19/200\n",
            "4638/4638 [==============================] - 0s 92us/sample - loss: 0.6613 - sparse_categorical_accuracy: 0.7609 - val_loss: 0.7252 - val_sparse_categorical_accuracy: 0.7563\n",
            "Epoch 20/200\n",
            "4638/4638 [==============================] - 0s 90us/sample - loss: 0.6511 - sparse_categorical_accuracy: 0.7658 - val_loss: 0.7165 - val_sparse_categorical_accuracy: 0.7479\n",
            "Epoch 21/200\n",
            "4638/4638 [==============================] - 0s 92us/sample - loss: 0.6459 - sparse_categorical_accuracy: 0.7637 - val_loss: 0.7153 - val_sparse_categorical_accuracy: 0.7563\n",
            "Epoch 22/200\n",
            "4638/4638 [==============================] - 0s 88us/sample - loss: 0.6384 - sparse_categorical_accuracy: 0.7710 - val_loss: 0.7273 - val_sparse_categorical_accuracy: 0.7524\n",
            "Epoch 23/200\n",
            "4638/4638 [==============================] - 0s 96us/sample - loss: 0.6294 - sparse_categorical_accuracy: 0.7801 - val_loss: 0.7024 - val_sparse_categorical_accuracy: 0.7621\n",
            "Epoch 24/200\n",
            "4638/4638 [==============================] - 0s 93us/sample - loss: 0.6190 - sparse_categorical_accuracy: 0.7784 - val_loss: 0.7108 - val_sparse_categorical_accuracy: 0.7595\n",
            "Epoch 25/200\n",
            "4638/4638 [==============================] - 0s 92us/sample - loss: 0.6166 - sparse_categorical_accuracy: 0.7760 - val_loss: 0.7008 - val_sparse_categorical_accuracy: 0.7666\n",
            "Epoch 26/200\n",
            "4638/4638 [==============================] - 0s 92us/sample - loss: 0.6110 - sparse_categorical_accuracy: 0.7762 - val_loss: 0.6945 - val_sparse_categorical_accuracy: 0.7660\n",
            "Epoch 27/200\n",
            "4638/4638 [==============================] - 0s 92us/sample - loss: 0.5996 - sparse_categorical_accuracy: 0.7835 - val_loss: 0.6956 - val_sparse_categorical_accuracy: 0.7673\n",
            "Epoch 28/200\n",
            "4638/4638 [==============================] - 0s 90us/sample - loss: 0.5974 - sparse_categorical_accuracy: 0.7874 - val_loss: 0.6949 - val_sparse_categorical_accuracy: 0.7666\n",
            "Epoch 29/200\n",
            "4638/4638 [==============================] - 0s 88us/sample - loss: 0.5850 - sparse_categorical_accuracy: 0.7893 - val_loss: 0.6820 - val_sparse_categorical_accuracy: 0.7763\n",
            "Epoch 30/200\n",
            "4638/4638 [==============================] - 0s 90us/sample - loss: 0.5823 - sparse_categorical_accuracy: 0.7962 - val_loss: 0.6917 - val_sparse_categorical_accuracy: 0.7654\n",
            "Epoch 31/200\n",
            "4638/4638 [==============================] - 0s 88us/sample - loss: 0.5771 - sparse_categorical_accuracy: 0.7945 - val_loss: 0.6811 - val_sparse_categorical_accuracy: 0.7712\n",
            "Epoch 32/200\n",
            "4638/4638 [==============================] - 0s 90us/sample - loss: 0.5715 - sparse_categorical_accuracy: 0.8003 - val_loss: 0.6856 - val_sparse_categorical_accuracy: 0.7770\n",
            "Epoch 33/200\n",
            "4638/4638 [==============================] - 0s 92us/sample - loss: 0.5720 - sparse_categorical_accuracy: 0.7980 - val_loss: 0.6843 - val_sparse_categorical_accuracy: 0.7692\n",
            "Epoch 34/200\n",
            "4638/4638 [==============================] - 0s 90us/sample - loss: 0.5674 - sparse_categorical_accuracy: 0.8016 - val_loss: 0.6662 - val_sparse_categorical_accuracy: 0.7815\n",
            "Epoch 35/200\n",
            "4638/4638 [==============================] - 0s 89us/sample - loss: 0.5623 - sparse_categorical_accuracy: 0.8008 - val_loss: 0.6600 - val_sparse_categorical_accuracy: 0.7763\n",
            "Epoch 36/200\n",
            "4638/4638 [==============================] - 0s 88us/sample - loss: 0.5565 - sparse_categorical_accuracy: 0.8027 - val_loss: 0.6562 - val_sparse_categorical_accuracy: 0.7789\n",
            "Epoch 37/200\n",
            "4638/4638 [==============================] - 0s 93us/sample - loss: 0.5543 - sparse_categorical_accuracy: 0.8023 - val_loss: 0.6694 - val_sparse_categorical_accuracy: 0.7789\n",
            "Epoch 38/200\n",
            "4638/4638 [==============================] - 0s 91us/sample - loss: 0.5489 - sparse_categorical_accuracy: 0.8006 - val_loss: 0.6559 - val_sparse_categorical_accuracy: 0.7880\n",
            "Epoch 39/200\n",
            "4638/4638 [==============================] - 0s 90us/sample - loss: 0.5469 - sparse_categorical_accuracy: 0.8057 - val_loss: 0.6567 - val_sparse_categorical_accuracy: 0.7822\n",
            "Epoch 40/200\n",
            "4638/4638 [==============================] - 0s 92us/sample - loss: 0.5391 - sparse_categorical_accuracy: 0.8094 - val_loss: 0.6513 - val_sparse_categorical_accuracy: 0.7828\n",
            "Epoch 41/200\n",
            "4638/4638 [==============================] - 0s 88us/sample - loss: 0.5318 - sparse_categorical_accuracy: 0.8148 - val_loss: 0.6685 - val_sparse_categorical_accuracy: 0.7789\n",
            "Epoch 42/200\n",
            "4638/4638 [==============================] - 0s 90us/sample - loss: 0.5334 - sparse_categorical_accuracy: 0.8103 - val_loss: 0.6503 - val_sparse_categorical_accuracy: 0.7841\n",
            "Epoch 43/200\n",
            "4638/4638 [==============================] - 0s 90us/sample - loss: 0.5305 - sparse_categorical_accuracy: 0.8126 - val_loss: 0.6647 - val_sparse_categorical_accuracy: 0.7731\n",
            "Epoch 44/200\n",
            "4638/4638 [==============================] - 0s 91us/sample - loss: 0.5233 - sparse_categorical_accuracy: 0.8122 - val_loss: 0.6373 - val_sparse_categorical_accuracy: 0.7957\n",
            "Epoch 45/200\n",
            "4638/4638 [==============================] - 0s 89us/sample - loss: 0.5207 - sparse_categorical_accuracy: 0.8116 - val_loss: 0.6384 - val_sparse_categorical_accuracy: 0.7860\n",
            "Epoch 46/200\n",
            "4638/4638 [==============================] - 0s 93us/sample - loss: 0.5127 - sparse_categorical_accuracy: 0.8182 - val_loss: 0.6443 - val_sparse_categorical_accuracy: 0.7802\n",
            "Epoch 47/200\n",
            "4638/4638 [==============================] - 0s 89us/sample - loss: 0.5148 - sparse_categorical_accuracy: 0.8176 - val_loss: 0.6310 - val_sparse_categorical_accuracy: 0.7990\n",
            "Epoch 48/200\n",
            "4638/4638 [==============================] - 0s 90us/sample - loss: 0.5094 - sparse_categorical_accuracy: 0.8189 - val_loss: 0.6443 - val_sparse_categorical_accuracy: 0.7880\n",
            "Epoch 49/200\n",
            "4638/4638 [==============================] - 0s 88us/sample - loss: 0.5031 - sparse_categorical_accuracy: 0.8228 - val_loss: 0.6345 - val_sparse_categorical_accuracy: 0.7983\n",
            "Epoch 50/200\n",
            "4638/4638 [==============================] - 0s 89us/sample - loss: 0.5047 - sparse_categorical_accuracy: 0.8262 - val_loss: 0.6453 - val_sparse_categorical_accuracy: 0.7893\n",
            "Epoch 51/200\n",
            "4638/4638 [==============================] - 0s 92us/sample - loss: 0.5026 - sparse_categorical_accuracy: 0.8230 - val_loss: 0.6567 - val_sparse_categorical_accuracy: 0.7835\n",
            "Epoch 52/200\n",
            "4638/4638 [==============================] - 0s 96us/sample - loss: 0.4980 - sparse_categorical_accuracy: 0.8228 - val_loss: 0.6544 - val_sparse_categorical_accuracy: 0.7841\n",
            "Epoch 53/200\n",
            "4638/4638 [==============================] - 0s 91us/sample - loss: 0.4966 - sparse_categorical_accuracy: 0.8210 - val_loss: 0.6337 - val_sparse_categorical_accuracy: 0.8016\n",
            "Epoch 54/200\n",
            "4638/4638 [==============================] - 0s 89us/sample - loss: 0.4912 - sparse_categorical_accuracy: 0.8230 - val_loss: 0.6390 - val_sparse_categorical_accuracy: 0.7880\n",
            "Epoch 55/200\n",
            "4638/4638 [==============================] - 0s 92us/sample - loss: 0.4883 - sparse_categorical_accuracy: 0.8260 - val_loss: 0.6321 - val_sparse_categorical_accuracy: 0.7925\n",
            "Epoch 56/200\n",
            "4638/4638 [==============================] - 0s 90us/sample - loss: 0.4804 - sparse_categorical_accuracy: 0.8325 - val_loss: 0.6498 - val_sparse_categorical_accuracy: 0.7860\n",
            "Epoch 57/200\n",
            "4638/4638 [==============================] - 0s 93us/sample - loss: 0.4833 - sparse_categorical_accuracy: 0.8284 - val_loss: 0.6464 - val_sparse_categorical_accuracy: 0.7841\n",
            "Epoch 58/200\n",
            "4638/4638 [==============================] - 0s 93us/sample - loss: 0.4806 - sparse_categorical_accuracy: 0.8305 - val_loss: 0.6451 - val_sparse_categorical_accuracy: 0.7886\n",
            "Epoch 59/200\n",
            "4638/4638 [==============================] - 0s 86us/sample - loss: 0.4778 - sparse_categorical_accuracy: 0.8353 - val_loss: 0.6091 - val_sparse_categorical_accuracy: 0.8054\n",
            "Epoch 60/200\n",
            "4638/4638 [==============================] - 0s 90us/sample - loss: 0.4736 - sparse_categorical_accuracy: 0.8340 - val_loss: 0.6347 - val_sparse_categorical_accuracy: 0.7938\n",
            "Epoch 61/200\n",
            "4638/4638 [==============================] - 0s 93us/sample - loss: 0.4738 - sparse_categorical_accuracy: 0.8279 - val_loss: 0.6542 - val_sparse_categorical_accuracy: 0.7822\n",
            "Epoch 62/200\n",
            "4638/4638 [==============================] - 0s 90us/sample - loss: 0.4704 - sparse_categorical_accuracy: 0.8277 - val_loss: 0.6580 - val_sparse_categorical_accuracy: 0.7789\n",
            "Epoch 63/200\n",
            "4638/4638 [==============================] - 0s 91us/sample - loss: 0.4708 - sparse_categorical_accuracy: 0.8325 - val_loss: 0.6223 - val_sparse_categorical_accuracy: 0.7970\n",
            "Epoch 64/200\n",
            "4638/4638 [==============================] - 0s 92us/sample - loss: 0.4597 - sparse_categorical_accuracy: 0.8379 - val_loss: 0.6837 - val_sparse_categorical_accuracy: 0.7738\n",
            "Epoch 65/200\n",
            "4638/4638 [==============================] - 0s 91us/sample - loss: 0.4622 - sparse_categorical_accuracy: 0.8353 - val_loss: 0.6415 - val_sparse_categorical_accuracy: 0.7990\n",
            "Epoch 66/200\n",
            "4638/4638 [==============================] - 0s 88us/sample - loss: 0.4556 - sparse_categorical_accuracy: 0.8407 - val_loss: 0.6278 - val_sparse_categorical_accuracy: 0.8041\n",
            "Epoch 67/200\n",
            "4638/4638 [==============================] - 0s 91us/sample - loss: 0.4579 - sparse_categorical_accuracy: 0.8389 - val_loss: 0.6366 - val_sparse_categorical_accuracy: 0.7951\n",
            "Epoch 68/200\n",
            "4638/4638 [==============================] - 0s 90us/sample - loss: 0.4524 - sparse_categorical_accuracy: 0.8463 - val_loss: 0.6420 - val_sparse_categorical_accuracy: 0.7919\n",
            "Epoch 69/200\n",
            "4638/4638 [==============================] - 0s 92us/sample - loss: 0.4577 - sparse_categorical_accuracy: 0.8379 - val_loss: 0.6297 - val_sparse_categorical_accuracy: 0.7944\n",
            "Epoch 70/200\n",
            "4638/4638 [==============================] - 0s 88us/sample - loss: 0.4471 - sparse_categorical_accuracy: 0.8433 - val_loss: 0.6466 - val_sparse_categorical_accuracy: 0.7841\n",
            "Epoch 71/200\n",
            "4638/4638 [==============================] - 0s 90us/sample - loss: 0.4468 - sparse_categorical_accuracy: 0.8404 - val_loss: 0.6311 - val_sparse_categorical_accuracy: 0.8041\n",
            "Epoch 72/200\n",
            "4638/4638 [==============================] - 0s 91us/sample - loss: 0.4453 - sparse_categorical_accuracy: 0.8415 - val_loss: 0.6342 - val_sparse_categorical_accuracy: 0.7893\n",
            "Epoch 73/200\n",
            "4638/4638 [==============================] - 0s 92us/sample - loss: 0.4521 - sparse_categorical_accuracy: 0.8417 - val_loss: 0.6380 - val_sparse_categorical_accuracy: 0.7951\n",
            "Epoch 74/200\n",
            "4638/4638 [==============================] - 0s 93us/sample - loss: 0.4421 - sparse_categorical_accuracy: 0.8411 - val_loss: 0.6206 - val_sparse_categorical_accuracy: 0.8009\n",
            "Epoch 75/200\n",
            "4638/4638 [==============================] - 0s 88us/sample - loss: 0.4376 - sparse_categorical_accuracy: 0.8456 - val_loss: 0.6336 - val_sparse_categorical_accuracy: 0.7977\n",
            "Epoch 76/200\n",
            "4638/4638 [==============================] - 0s 92us/sample - loss: 0.4468 - sparse_categorical_accuracy: 0.8409 - val_loss: 0.6249 - val_sparse_categorical_accuracy: 0.7990\n",
            "Epoch 77/200\n",
            "4638/4638 [==============================] - 0s 93us/sample - loss: 0.4356 - sparse_categorical_accuracy: 0.8469 - val_loss: 0.6648 - val_sparse_categorical_accuracy: 0.7770\n",
            "Epoch 78/200\n",
            "4638/4638 [==============================] - 0s 87us/sample - loss: 0.4384 - sparse_categorical_accuracy: 0.8476 - val_loss: 0.6303 - val_sparse_categorical_accuracy: 0.7944\n",
            "Epoch 79/200\n",
            "4638/4638 [==============================] - 0s 93us/sample - loss: 0.4319 - sparse_categorical_accuracy: 0.8465 - val_loss: 0.6267 - val_sparse_categorical_accuracy: 0.8022\n",
            "Epoch 80/200\n",
            "4638/4638 [==============================] - 0s 89us/sample - loss: 0.4269 - sparse_categorical_accuracy: 0.8504 - val_loss: 0.6213 - val_sparse_categorical_accuracy: 0.8054\n",
            "Epoch 81/200\n",
            "4638/4638 [==============================] - 0s 93us/sample - loss: 0.4278 - sparse_categorical_accuracy: 0.8441 - val_loss: 0.6247 - val_sparse_categorical_accuracy: 0.8022\n",
            "Epoch 82/200\n",
            "4638/4638 [==============================] - 0s 95us/sample - loss: 0.4236 - sparse_categorical_accuracy: 0.8493 - val_loss: 0.6421 - val_sparse_categorical_accuracy: 0.7886\n",
            "Epoch 83/200\n",
            "4638/4638 [==============================] - 0s 90us/sample - loss: 0.4242 - sparse_categorical_accuracy: 0.8497 - val_loss: 0.6295 - val_sparse_categorical_accuracy: 0.8061\n",
            "Epoch 84/200\n",
            "4638/4638 [==============================] - 0s 90us/sample - loss: 0.4166 - sparse_categorical_accuracy: 0.8502 - val_loss: 0.6209 - val_sparse_categorical_accuracy: 0.7996\n",
            "Epoch 85/200\n",
            "4638/4638 [==============================] - 0s 90us/sample - loss: 0.4161 - sparse_categorical_accuracy: 0.8517 - val_loss: 0.6342 - val_sparse_categorical_accuracy: 0.7970\n",
            "Epoch 86/200\n",
            "4638/4638 [==============================] - 0s 92us/sample - loss: 0.4166 - sparse_categorical_accuracy: 0.8534 - val_loss: 0.6359 - val_sparse_categorical_accuracy: 0.7977\n",
            "Epoch 87/200\n",
            "4638/4638 [==============================] - 0s 90us/sample - loss: 0.4062 - sparse_categorical_accuracy: 0.8607 - val_loss: 0.6499 - val_sparse_categorical_accuracy: 0.7970\n",
            "Epoch 88/200\n",
            "4638/4638 [==============================] - 0s 92us/sample - loss: 0.4142 - sparse_categorical_accuracy: 0.8532 - val_loss: 0.6206 - val_sparse_categorical_accuracy: 0.8067\n",
            "Epoch 89/200\n",
            "4638/4638 [==============================] - 0s 87us/sample - loss: 0.4101 - sparse_categorical_accuracy: 0.8590 - val_loss: 0.6448 - val_sparse_categorical_accuracy: 0.7919\n",
            "Epoch 90/200\n",
            "4638/4638 [==============================] - 0s 88us/sample - loss: 0.4129 - sparse_categorical_accuracy: 0.8502 - val_loss: 0.6412 - val_sparse_categorical_accuracy: 0.7938\n",
            "Epoch 91/200\n",
            "4638/4638 [==============================] - 0s 94us/sample - loss: 0.4075 - sparse_categorical_accuracy: 0.8553 - val_loss: 0.6401 - val_sparse_categorical_accuracy: 0.8016\n",
            "Epoch 92/200\n",
            "4638/4638 [==============================] - 0s 89us/sample - loss: 0.4032 - sparse_categorical_accuracy: 0.8592 - val_loss: 0.6367 - val_sparse_categorical_accuracy: 0.8009\n",
            "Epoch 93/200\n",
            "4638/4638 [==============================] - 0s 92us/sample - loss: 0.4025 - sparse_categorical_accuracy: 0.8560 - val_loss: 0.6259 - val_sparse_categorical_accuracy: 0.7996\n",
            "Epoch 94/200\n",
            "4638/4638 [==============================] - 0s 90us/sample - loss: 0.3982 - sparse_categorical_accuracy: 0.8581 - val_loss: 0.6512 - val_sparse_categorical_accuracy: 0.7977\n",
            "Epoch 95/200\n",
            "4638/4638 [==============================] - 0s 96us/sample - loss: 0.4080 - sparse_categorical_accuracy: 0.8510 - val_loss: 0.6373 - val_sparse_categorical_accuracy: 0.7970\n",
            "Epoch 96/200\n",
            "4638/4638 [==============================] - 0s 94us/sample - loss: 0.4028 - sparse_categorical_accuracy: 0.8562 - val_loss: 0.6295 - val_sparse_categorical_accuracy: 0.7990\n",
            "Epoch 97/200\n",
            "4638/4638 [==============================] - 0s 90us/sample - loss: 0.4000 - sparse_categorical_accuracy: 0.8599 - val_loss: 0.6490 - val_sparse_categorical_accuracy: 0.7906\n",
            "Epoch 98/200\n",
            "4638/4638 [==============================] - 0s 92us/sample - loss: 0.3942 - sparse_categorical_accuracy: 0.8603 - val_loss: 0.6330 - val_sparse_categorical_accuracy: 0.8009\n",
            "Epoch 99/200\n",
            "4638/4638 [==============================] - 0s 91us/sample - loss: 0.3885 - sparse_categorical_accuracy: 0.8592 - val_loss: 0.6366 - val_sparse_categorical_accuracy: 0.7990\n",
            "Epoch 100/200\n",
            "4638/4638 [==============================] - 0s 92us/sample - loss: 0.4021 - sparse_categorical_accuracy: 0.8514 - val_loss: 0.6422 - val_sparse_categorical_accuracy: 0.8074\n",
            "Epoch 101/200\n",
            "4638/4638 [==============================] - 0s 89us/sample - loss: 0.3854 - sparse_categorical_accuracy: 0.8642 - val_loss: 0.6374 - val_sparse_categorical_accuracy: 0.8041\n",
            "Epoch 102/200\n",
            "4638/4638 [==============================] - 0s 91us/sample - loss: 0.3878 - sparse_categorical_accuracy: 0.8611 - val_loss: 0.6708 - val_sparse_categorical_accuracy: 0.7815\n",
            "Epoch 103/200\n",
            "4638/4638 [==============================] - 0s 92us/sample - loss: 0.3915 - sparse_categorical_accuracy: 0.8586 - val_loss: 0.6312 - val_sparse_categorical_accuracy: 0.8016\n",
            "Epoch 104/200\n",
            "4638/4638 [==============================] - 0s 89us/sample - loss: 0.3849 - sparse_categorical_accuracy: 0.8670 - val_loss: 0.6348 - val_sparse_categorical_accuracy: 0.8022\n",
            "Epoch 105/200\n",
            "4638/4638 [==============================] - 0s 90us/sample - loss: 0.3882 - sparse_categorical_accuracy: 0.8678 - val_loss: 0.6490 - val_sparse_categorical_accuracy: 0.7970\n",
            "Epoch 106/200\n",
            "4638/4638 [==============================] - 0s 91us/sample - loss: 0.3849 - sparse_categorical_accuracy: 0.8588 - val_loss: 0.6275 - val_sparse_categorical_accuracy: 0.8100\n",
            "Epoch 107/200\n",
            "4638/4638 [==============================] - 0s 86us/sample - loss: 0.3843 - sparse_categorical_accuracy: 0.8575 - val_loss: 0.6506 - val_sparse_categorical_accuracy: 0.7996\n",
            "Epoch 108/200\n",
            "4638/4638 [==============================] - 0s 94us/sample - loss: 0.3792 - sparse_categorical_accuracy: 0.8652 - val_loss: 0.6637 - val_sparse_categorical_accuracy: 0.7957\n",
            "Epoch 109/200\n",
            "4638/4638 [==============================] - 0s 89us/sample - loss: 0.3787 - sparse_categorical_accuracy: 0.8657 - val_loss: 0.6353 - val_sparse_categorical_accuracy: 0.8132\n",
            "Epoch 110/200\n",
            "4638/4638 [==============================] - 0s 89us/sample - loss: 0.3811 - sparse_categorical_accuracy: 0.8631 - val_loss: 0.6410 - val_sparse_categorical_accuracy: 0.8074\n",
            "Epoch 111/200\n",
            "4638/4638 [==============================] - 0s 88us/sample - loss: 0.3730 - sparse_categorical_accuracy: 0.8674 - val_loss: 0.6532 - val_sparse_categorical_accuracy: 0.7899\n",
            "Epoch 112/200\n",
            "4638/4638 [==============================] - 0s 93us/sample - loss: 0.3721 - sparse_categorical_accuracy: 0.8706 - val_loss: 0.6432 - val_sparse_categorical_accuracy: 0.7990\n",
            "Epoch 113/200\n",
            "4638/4638 [==============================] - 0s 89us/sample - loss: 0.3766 - sparse_categorical_accuracy: 0.8659 - val_loss: 0.6520 - val_sparse_categorical_accuracy: 0.8009\n",
            "Epoch 114/200\n",
            "4638/4638 [==============================] - 0s 90us/sample - loss: 0.3679 - sparse_categorical_accuracy: 0.8732 - val_loss: 0.6524 - val_sparse_categorical_accuracy: 0.7983\n",
            "Epoch 115/200\n",
            "4638/4638 [==============================] - 0s 92us/sample - loss: 0.3640 - sparse_categorical_accuracy: 0.8713 - val_loss: 0.6395 - val_sparse_categorical_accuracy: 0.7996\n",
            "Epoch 116/200\n",
            "4638/4638 [==============================] - 0s 92us/sample - loss: 0.3651 - sparse_categorical_accuracy: 0.8689 - val_loss: 0.6275 - val_sparse_categorical_accuracy: 0.8138\n",
            "Epoch 117/200\n",
            "4638/4638 [==============================] - 0s 91us/sample - loss: 0.3677 - sparse_categorical_accuracy: 0.8702 - val_loss: 0.6463 - val_sparse_categorical_accuracy: 0.8022\n",
            "Epoch 118/200\n",
            "4638/4638 [==============================] - 0s 89us/sample - loss: 0.3626 - sparse_categorical_accuracy: 0.8704 - val_loss: 0.6650 - val_sparse_categorical_accuracy: 0.7925\n",
            "Epoch 119/200\n",
            "4638/4638 [==============================] - 0s 88us/sample - loss: 0.3662 - sparse_categorical_accuracy: 0.8678 - val_loss: 0.6453 - val_sparse_categorical_accuracy: 0.7957\n",
            "Epoch 120/200\n",
            "4638/4638 [==============================] - 0s 89us/sample - loss: 0.3629 - sparse_categorical_accuracy: 0.8698 - val_loss: 0.6684 - val_sparse_categorical_accuracy: 0.7977\n",
            "Epoch 121/200\n",
            "4638/4638 [==============================] - 0s 89us/sample - loss: 0.3616 - sparse_categorical_accuracy: 0.8670 - val_loss: 0.6331 - val_sparse_categorical_accuracy: 0.8080\n",
            "Epoch 122/200\n",
            "4638/4638 [==============================] - 0s 91us/sample - loss: 0.3625 - sparse_categorical_accuracy: 0.8715 - val_loss: 0.6804 - val_sparse_categorical_accuracy: 0.7867\n",
            "Epoch 123/200\n",
            "4638/4638 [==============================] - 0s 89us/sample - loss: 0.3569 - sparse_categorical_accuracy: 0.8758 - val_loss: 0.6778 - val_sparse_categorical_accuracy: 0.7951\n",
            "Epoch 124/200\n",
            "4638/4638 [==============================] - 0s 91us/sample - loss: 0.3606 - sparse_categorical_accuracy: 0.8715 - val_loss: 0.6451 - val_sparse_categorical_accuracy: 0.8061\n",
            "Epoch 125/200\n",
            "4638/4638 [==============================] - 0s 89us/sample - loss: 0.3533 - sparse_categorical_accuracy: 0.8704 - val_loss: 0.6679 - val_sparse_categorical_accuracy: 0.7970\n",
            "Epoch 126/200\n",
            "4638/4638 [==============================] - 0s 88us/sample - loss: 0.3487 - sparse_categorical_accuracy: 0.8765 - val_loss: 0.6565 - val_sparse_categorical_accuracy: 0.8093\n",
            "Epoch 127/200\n",
            "4638/4638 [==============================] - 0s 90us/sample - loss: 0.3530 - sparse_categorical_accuracy: 0.8730 - val_loss: 0.6374 - val_sparse_categorical_accuracy: 0.8119\n",
            "Epoch 128/200\n",
            "4638/4638 [==============================] - 0s 88us/sample - loss: 0.3536 - sparse_categorical_accuracy: 0.8765 - val_loss: 0.6637 - val_sparse_categorical_accuracy: 0.8003\n",
            "Epoch 129/200\n",
            "4638/4638 [==============================] - 0s 90us/sample - loss: 0.3505 - sparse_categorical_accuracy: 0.8756 - val_loss: 0.6653 - val_sparse_categorical_accuracy: 0.7957\n",
            "Epoch 130/200\n",
            "4638/4638 [==============================] - 0s 88us/sample - loss: 0.3506 - sparse_categorical_accuracy: 0.8745 - val_loss: 0.6491 - val_sparse_categorical_accuracy: 0.8035\n",
            "Epoch 131/200\n",
            "4638/4638 [==============================] - 0s 91us/sample - loss: 0.3496 - sparse_categorical_accuracy: 0.8769 - val_loss: 0.6549 - val_sparse_categorical_accuracy: 0.8003\n",
            "Epoch 132/200\n",
            "4638/4638 [==============================] - 0s 91us/sample - loss: 0.3450 - sparse_categorical_accuracy: 0.8749 - val_loss: 0.6534 - val_sparse_categorical_accuracy: 0.7990\n",
            "Epoch 133/200\n",
            "4638/4638 [==============================] - 0s 91us/sample - loss: 0.3412 - sparse_categorical_accuracy: 0.8795 - val_loss: 0.6621 - val_sparse_categorical_accuracy: 0.8028\n",
            "Epoch 134/200\n",
            "4638/4638 [==============================] - 0s 92us/sample - loss: 0.3435 - sparse_categorical_accuracy: 0.8756 - val_loss: 0.6675 - val_sparse_categorical_accuracy: 0.8074\n",
            "Epoch 135/200\n",
            "4638/4638 [==============================] - 0s 88us/sample - loss: 0.3382 - sparse_categorical_accuracy: 0.8780 - val_loss: 0.6630 - val_sparse_categorical_accuracy: 0.7996\n",
            "Epoch 136/200\n",
            "4638/4638 [==============================] - 0s 88us/sample - loss: 0.3385 - sparse_categorical_accuracy: 0.8816 - val_loss: 0.6623 - val_sparse_categorical_accuracy: 0.8035\n",
            "Epoch 137/200\n",
            "4638/4638 [==============================] - 0s 92us/sample - loss: 0.3346 - sparse_categorical_accuracy: 0.8784 - val_loss: 0.6723 - val_sparse_categorical_accuracy: 0.7983\n",
            "Epoch 138/200\n",
            "4638/4638 [==============================] - 0s 90us/sample - loss: 0.3329 - sparse_categorical_accuracy: 0.8810 - val_loss: 0.6805 - val_sparse_categorical_accuracy: 0.7964\n",
            "Epoch 139/200\n",
            "4638/4638 [==============================] - 0s 90us/sample - loss: 0.3364 - sparse_categorical_accuracy: 0.8775 - val_loss: 0.6497 - val_sparse_categorical_accuracy: 0.8145\n",
            "Epoch 140/200\n",
            "4638/4638 [==============================] - 0s 89us/sample - loss: 0.3285 - sparse_categorical_accuracy: 0.8810 - val_loss: 0.6905 - val_sparse_categorical_accuracy: 0.8016\n",
            "Epoch 141/200\n",
            "4638/4638 [==============================] - 0s 92us/sample - loss: 0.3354 - sparse_categorical_accuracy: 0.8784 - val_loss: 0.6550 - val_sparse_categorical_accuracy: 0.8093\n",
            "Epoch 142/200\n",
            "4638/4638 [==============================] - 0s 90us/sample - loss: 0.3338 - sparse_categorical_accuracy: 0.8812 - val_loss: 0.6808 - val_sparse_categorical_accuracy: 0.7964\n",
            "Epoch 143/200\n",
            "4638/4638 [==============================] - 0s 89us/sample - loss: 0.3324 - sparse_categorical_accuracy: 0.8801 - val_loss: 0.6764 - val_sparse_categorical_accuracy: 0.8009\n",
            "Epoch 144/200\n",
            "4638/4638 [==============================] - 0s 92us/sample - loss: 0.3298 - sparse_categorical_accuracy: 0.8812 - val_loss: 0.6814 - val_sparse_categorical_accuracy: 0.8022\n",
            "Epoch 145/200\n",
            "4638/4638 [==============================] - 0s 90us/sample - loss: 0.3277 - sparse_categorical_accuracy: 0.8812 - val_loss: 0.6979 - val_sparse_categorical_accuracy: 0.7919\n",
            "Epoch 146/200\n",
            "4638/4638 [==============================] - 0s 91us/sample - loss: 0.3217 - sparse_categorical_accuracy: 0.8877 - val_loss: 0.6650 - val_sparse_categorical_accuracy: 0.8003\n",
            "Epoch 147/200\n",
            "4638/4638 [==============================] - 0s 93us/sample - loss: 0.3296 - sparse_categorical_accuracy: 0.8844 - val_loss: 0.6752 - val_sparse_categorical_accuracy: 0.8087\n",
            "Epoch 148/200\n",
            "4638/4638 [==============================] - 0s 90us/sample - loss: 0.3252 - sparse_categorical_accuracy: 0.8825 - val_loss: 0.6691 - val_sparse_categorical_accuracy: 0.8100\n",
            "Epoch 149/200\n",
            "4638/4638 [==============================] - 0s 92us/sample - loss: 0.3181 - sparse_categorical_accuracy: 0.8806 - val_loss: 0.6990 - val_sparse_categorical_accuracy: 0.7925\n",
            "Epoch 150/200\n",
            "4638/4638 [==============================] - 0s 93us/sample - loss: 0.3237 - sparse_categorical_accuracy: 0.8834 - val_loss: 0.7008 - val_sparse_categorical_accuracy: 0.8009\n",
            "Epoch 151/200\n",
            "4638/4638 [==============================] - 0s 94us/sample - loss: 0.3222 - sparse_categorical_accuracy: 0.8838 - val_loss: 0.6634 - val_sparse_categorical_accuracy: 0.8061\n",
            "Epoch 152/200\n",
            "4638/4638 [==============================] - 0s 90us/sample - loss: 0.3190 - sparse_categorical_accuracy: 0.8818 - val_loss: 0.6685 - val_sparse_categorical_accuracy: 0.8054\n",
            "Epoch 153/200\n",
            "4638/4638 [==============================] - 0s 93us/sample - loss: 0.3111 - sparse_categorical_accuracy: 0.8894 - val_loss: 0.6762 - val_sparse_categorical_accuracy: 0.8022\n",
            "Epoch 154/200\n",
            "4638/4638 [==============================] - 0s 89us/sample - loss: 0.3212 - sparse_categorical_accuracy: 0.8834 - val_loss: 0.7004 - val_sparse_categorical_accuracy: 0.7880\n",
            "Epoch 155/200\n",
            "4638/4638 [==============================] - 0s 88us/sample - loss: 0.3176 - sparse_categorical_accuracy: 0.8868 - val_loss: 0.6792 - val_sparse_categorical_accuracy: 0.8048\n",
            "Epoch 156/200\n",
            "4638/4638 [==============================] - 0s 93us/sample - loss: 0.3212 - sparse_categorical_accuracy: 0.8859 - val_loss: 0.7031 - val_sparse_categorical_accuracy: 0.7931\n",
            "Epoch 157/200\n",
            "4638/4638 [==============================] - 0s 90us/sample - loss: 0.3134 - sparse_categorical_accuracy: 0.8870 - val_loss: 0.7004 - val_sparse_categorical_accuracy: 0.7964\n",
            "Epoch 158/200\n",
            "4638/4638 [==============================] - 0s 91us/sample - loss: 0.3116 - sparse_categorical_accuracy: 0.8857 - val_loss: 0.6979 - val_sparse_categorical_accuracy: 0.7873\n",
            "Epoch 159/200\n",
            "4638/4638 [==============================] - 0s 91us/sample - loss: 0.3054 - sparse_categorical_accuracy: 0.8905 - val_loss: 0.6912 - val_sparse_categorical_accuracy: 0.8048\n",
            "Epoch 160/200\n",
            "4638/4638 [==============================] - 0s 92us/sample - loss: 0.3093 - sparse_categorical_accuracy: 0.8881 - val_loss: 0.6956 - val_sparse_categorical_accuracy: 0.7996\n",
            "Epoch 161/200\n",
            "4638/4638 [==============================] - 0s 93us/sample - loss: 0.3130 - sparse_categorical_accuracy: 0.8859 - val_loss: 0.7000 - val_sparse_categorical_accuracy: 0.8016\n",
            "Epoch 162/200\n",
            "4638/4638 [==============================] - 0s 91us/sample - loss: 0.3094 - sparse_categorical_accuracy: 0.8883 - val_loss: 0.6934 - val_sparse_categorical_accuracy: 0.7957\n",
            "Epoch 163/200\n",
            "4638/4638 [==============================] - 0s 91us/sample - loss: 0.3062 - sparse_categorical_accuracy: 0.8926 - val_loss: 0.6802 - val_sparse_categorical_accuracy: 0.8041\n",
            "Epoch 164/200\n",
            "4638/4638 [==============================] - 0s 87us/sample - loss: 0.3014 - sparse_categorical_accuracy: 0.8887 - val_loss: 0.6823 - val_sparse_categorical_accuracy: 0.8035\n",
            "Epoch 165/200\n",
            "4638/4638 [==============================] - 0s 86us/sample - loss: 0.3035 - sparse_categorical_accuracy: 0.8883 - val_loss: 0.6950 - val_sparse_categorical_accuracy: 0.8016\n",
            "Epoch 166/200\n",
            "4638/4638 [==============================] - 0s 92us/sample - loss: 0.2987 - sparse_categorical_accuracy: 0.8890 - val_loss: 0.7256 - val_sparse_categorical_accuracy: 0.7931\n",
            "Epoch 167/200\n",
            "4638/4638 [==============================] - 0s 89us/sample - loss: 0.3046 - sparse_categorical_accuracy: 0.8890 - val_loss: 0.7199 - val_sparse_categorical_accuracy: 0.7873\n",
            "Epoch 168/200\n",
            "4638/4638 [==============================] - 0s 93us/sample - loss: 0.2951 - sparse_categorical_accuracy: 0.8941 - val_loss: 0.7018 - val_sparse_categorical_accuracy: 0.7996\n",
            "Epoch 169/200\n",
            "4638/4638 [==============================] - 0s 89us/sample - loss: 0.2976 - sparse_categorical_accuracy: 0.8926 - val_loss: 0.7057 - val_sparse_categorical_accuracy: 0.8054\n",
            "Epoch 170/200\n",
            "4638/4638 [==============================] - 0s 89us/sample - loss: 0.3002 - sparse_categorical_accuracy: 0.8855 - val_loss: 0.7055 - val_sparse_categorical_accuracy: 0.8041\n",
            "Epoch 171/200\n",
            "4638/4638 [==============================] - 0s 88us/sample - loss: 0.2913 - sparse_categorical_accuracy: 0.8887 - val_loss: 0.7045 - val_sparse_categorical_accuracy: 0.8048\n",
            "Epoch 172/200\n",
            "4638/4638 [==============================] - 0s 91us/sample - loss: 0.2937 - sparse_categorical_accuracy: 0.8890 - val_loss: 0.7028 - val_sparse_categorical_accuracy: 0.7964\n",
            "Epoch 173/200\n",
            "4638/4638 [==============================] - 0s 92us/sample - loss: 0.2921 - sparse_categorical_accuracy: 0.8920 - val_loss: 0.7023 - val_sparse_categorical_accuracy: 0.8048\n",
            "Epoch 174/200\n",
            "4638/4638 [==============================] - 0s 86us/sample - loss: 0.2980 - sparse_categorical_accuracy: 0.8872 - val_loss: 0.7181 - val_sparse_categorical_accuracy: 0.7938\n",
            "Epoch 175/200\n",
            "4638/4638 [==============================] - 0s 92us/sample - loss: 0.2919 - sparse_categorical_accuracy: 0.8937 - val_loss: 0.7093 - val_sparse_categorical_accuracy: 0.7996\n",
            "Epoch 176/200\n",
            "4638/4638 [==============================] - 0s 90us/sample - loss: 0.2898 - sparse_categorical_accuracy: 0.8956 - val_loss: 0.7158 - val_sparse_categorical_accuracy: 0.7983\n",
            "Epoch 177/200\n",
            "4638/4638 [==============================] - 0s 85us/sample - loss: 0.2900 - sparse_categorical_accuracy: 0.8952 - val_loss: 0.7103 - val_sparse_categorical_accuracy: 0.8048\n",
            "Epoch 178/200\n",
            "4638/4638 [==============================] - 0s 92us/sample - loss: 0.2937 - sparse_categorical_accuracy: 0.8920 - val_loss: 0.7257 - val_sparse_categorical_accuracy: 0.7925\n",
            "Epoch 179/200\n",
            "4638/4638 [==============================] - 0s 92us/sample - loss: 0.2923 - sparse_categorical_accuracy: 0.8956 - val_loss: 0.7190 - val_sparse_categorical_accuracy: 0.8016\n",
            "Epoch 180/200\n",
            "4638/4638 [==============================] - 0s 94us/sample - loss: 0.2860 - sparse_categorical_accuracy: 0.8993 - val_loss: 0.7219 - val_sparse_categorical_accuracy: 0.8035\n",
            "Epoch 181/200\n",
            "4638/4638 [==============================] - 0s 88us/sample - loss: 0.2803 - sparse_categorical_accuracy: 0.8956 - val_loss: 0.7364 - val_sparse_categorical_accuracy: 0.7886\n",
            "Epoch 182/200\n",
            "4638/4638 [==============================] - 0s 87us/sample - loss: 0.2849 - sparse_categorical_accuracy: 0.8946 - val_loss: 0.7299 - val_sparse_categorical_accuracy: 0.7957\n",
            "Epoch 183/200\n",
            "4638/4638 [==============================] - 0s 93us/sample - loss: 0.2870 - sparse_categorical_accuracy: 0.8900 - val_loss: 0.7020 - val_sparse_categorical_accuracy: 0.8119\n",
            "Epoch 184/200\n",
            "4638/4638 [==============================] - 0s 90us/sample - loss: 0.2850 - sparse_categorical_accuracy: 0.8954 - val_loss: 0.7290 - val_sparse_categorical_accuracy: 0.8048\n",
            "Epoch 185/200\n",
            "4638/4638 [==============================] - 0s 93us/sample - loss: 0.2787 - sparse_categorical_accuracy: 0.8993 - val_loss: 0.7378 - val_sparse_categorical_accuracy: 0.7938\n",
            "Epoch 186/200\n",
            "4638/4638 [==============================] - 0s 90us/sample - loss: 0.2836 - sparse_categorical_accuracy: 0.8984 - val_loss: 0.7127 - val_sparse_categorical_accuracy: 0.8106\n",
            "Epoch 187/200\n",
            "4638/4638 [==============================] - 0s 93us/sample - loss: 0.2809 - sparse_categorical_accuracy: 0.8941 - val_loss: 0.7282 - val_sparse_categorical_accuracy: 0.8003\n",
            "Epoch 188/200\n",
            "4638/4638 [==============================] - 0s 88us/sample - loss: 0.2840 - sparse_categorical_accuracy: 0.8959 - val_loss: 0.7200 - val_sparse_categorical_accuracy: 0.8067\n",
            "Epoch 189/200\n",
            "4638/4638 [==============================] - 0s 91us/sample - loss: 0.2759 - sparse_categorical_accuracy: 0.9004 - val_loss: 0.7360 - val_sparse_categorical_accuracy: 0.7990\n",
            "Epoch 190/200\n",
            "4638/4638 [==============================] - 0s 91us/sample - loss: 0.2709 - sparse_categorical_accuracy: 0.8995 - val_loss: 0.7274 - val_sparse_categorical_accuracy: 0.8035\n",
            "Epoch 191/200\n",
            "4638/4638 [==============================] - 0s 90us/sample - loss: 0.2837 - sparse_categorical_accuracy: 0.9004 - val_loss: 0.7514 - val_sparse_categorical_accuracy: 0.7873\n",
            "Epoch 192/200\n",
            "4638/4638 [==============================] - 0s 88us/sample - loss: 0.2720 - sparse_categorical_accuracy: 0.9015 - val_loss: 0.7459 - val_sparse_categorical_accuracy: 0.7964\n",
            "Epoch 193/200\n",
            "4638/4638 [==============================] - 0s 88us/sample - loss: 0.2763 - sparse_categorical_accuracy: 0.9021 - val_loss: 0.7317 - val_sparse_categorical_accuracy: 0.8048\n",
            "Epoch 194/200\n",
            "4638/4638 [==============================] - 0s 86us/sample - loss: 0.2680 - sparse_categorical_accuracy: 0.9002 - val_loss: 0.7416 - val_sparse_categorical_accuracy: 0.8080\n",
            "Epoch 195/200\n",
            "4638/4638 [==============================] - 0s 89us/sample - loss: 0.2666 - sparse_categorical_accuracy: 0.9019 - val_loss: 0.7413 - val_sparse_categorical_accuracy: 0.8061\n",
            "Epoch 196/200\n",
            "4638/4638 [==============================] - 0s 89us/sample - loss: 0.2648 - sparse_categorical_accuracy: 0.9008 - val_loss: 0.7503 - val_sparse_categorical_accuracy: 0.7990\n",
            "Epoch 197/200\n",
            "4638/4638 [==============================] - 0s 90us/sample - loss: 0.2717 - sparse_categorical_accuracy: 0.9004 - val_loss: 0.7364 - val_sparse_categorical_accuracy: 0.8022\n",
            "Epoch 198/200\n",
            "4638/4638 [==============================] - 0s 91us/sample - loss: 0.2659 - sparse_categorical_accuracy: 0.9043 - val_loss: 0.7651 - val_sparse_categorical_accuracy: 0.7996\n",
            "Epoch 199/200\n",
            "4638/4638 [==============================] - 0s 90us/sample - loss: 0.2665 - sparse_categorical_accuracy: 0.9038 - val_loss: 0.7489 - val_sparse_categorical_accuracy: 0.7977\n",
            "Epoch 200/200\n",
            "4638/4638 [==============================] - 0s 89us/sample - loss: 0.2703 - sparse_categorical_accuracy: 0.9045 - val_loss: 0.7629 - val_sparse_categorical_accuracy: 0.7931\n"
          ],
          "name": "stdout"
        }
      ]
    },
    {
      "cell_type": "markdown",
      "metadata": {
        "id": "ZmOSaTFUqEcZ",
        "colab_type": "text"
      },
      "source": [
        "### Plot training & validation accuracy values\n",
        "### Plot training & validation loss values\n"
      ]
    },
    {
      "cell_type": "code",
      "metadata": {
        "id": "oaKnXAHKqgYf",
        "colab_type": "code",
        "colab": {}
      },
      "source": [
        "def visualzation_accuracy_loss_values_epochs(history):\n",
        "  fig, axs = plt.subplots(1, 2,figsize=(15, 5))\n",
        "  axs[0].plot(history.history['sparse_categorical_accuracy'])\n",
        "  axs[0].plot(history.history['val_sparse_categorical_accuracy'])\n",
        "  axs[0].set_title('Model accuracy')\n",
        "  axs[0].set_ylabel('Accuracy')\n",
        "  axs[0].set_xlabel('Epoch')\n",
        "  axs[0].legend(['Train', 'Test'], loc='upper left')\n",
        "  axs[1].plot(history.history['loss'])\n",
        "  axs[1].plot(history.history['val_loss'])\n",
        "  axs[1].set_title('Model loss')\n",
        "  axs[1].set_ylabel('Loss')\n",
        "  axs[1].set_xlabel('Epoch')\n",
        "  axs[1].legend(['Train', 'Test'], loc='upper left')\n"
      ],
      "execution_count": 0,
      "outputs": []
    },
    {
      "cell_type": "code",
      "metadata": {
        "id": "he23uApZ0k0b",
        "colab_type": "code",
        "outputId": "b20c69b2-77ff-40ec-f216-f17f1dc76217",
        "colab": {
          "base_uri": "https://localhost:8080/",
          "height": 350
        }
      },
      "source": [
        "visualzation_accuracy_loss_values_epochs(history)"
      ],
      "execution_count": 16,
      "outputs": [
        {
          "output_type": "display_data",
          "data": {
            "image/png": "[encoded data removed]",
            "text/plain": [
              "<Figure size 1080x360 with 2 Axes>"
            ]
          },
          "metadata": {
            "tags": []
          }
        }
      ]
    },
    {
      "cell_type": "markdown",
      "metadata": {
        "id": "t4d5l5aktG3s",
        "colab_type": "text"
      },
      "source": [
        "### Evaluación del modelo y predicción"
      ]
    },
    {
      "cell_type": "code",
      "metadata": {
        "id": "ZJKuVFWcsjGf",
        "colab_type": "code",
        "outputId": "de82016e-56ec-4099-9dbc-1bd023508633",
        "colab": {
          "base_uri": "https://localhost:8080/",
          "height": 51
        }
      },
      "source": [
        "test_loss, test_accuracy = model.evaluate(x_test, y_test)\n",
        "print(\"Test accuracy: {}\".format(test_accuracy))"
      ],
      "execution_count": 17,
      "outputs": [
        {
          "output_type": "stream",
          "text": [
            "688/688 [==============================] - 0s 110us/sample - loss: 0.7288 - sparse_categorical_accuracy: 0.7951\n",
            "Test accuracy: 0.7950581312179565\n"
          ],
          "name": "stdout"
        }
      ]
    },
    {
      "cell_type": "markdown",
      "metadata": {
        "id": "HxbUuIAeuoy_",
        "colab_type": "text"
      },
      "source": [
        "## Metodos de regularizacion"
      ]
    },
    {
      "cell_type": "markdown",
      "metadata": {
        "id": "YIZ3OHF3utVx",
        "colab_type": "text"
      },
      "source": [
        "#### Dropout"
      ]
    },
    {
      "cell_type": "code",
      "metadata": {
        "id": "_AxysxHK0q3x",
        "colab_type": "code",
        "colab": {}
      },
      "source": [
        "model = tf.keras.models.Sequential()\n",
        "model.add(tf.keras.layers.Dense(units=64, activation='relu', input_shape=(5, )))\n",
        "model.add(tf.keras.layers.Dense(units=64, activation='relu'))\n",
        "model.add(tf.keras.layers.Dense(units=64, activation='relu'))\n",
        "model.add(tf.keras.layers.Dropout(0.2))\n",
        "model.add(tf.keras.layers.Dense(units=15, activation='softmax'))\n",
        "model.compile(optimizer='adam', loss='sparse_categorical_crossentropy',metrics=['sparse_categorical_accuracy'])\n"
      ],
      "execution_count": 0,
      "outputs": []
    },
    {
      "cell_type": "code",
      "metadata": {
        "id": "6AzSEzSa0HjX",
        "colab_type": "code",
        "outputId": "90343bc0-2fd0-4a67-d113-eb15e68f879a",
        "colab": {
          "base_uri": "https://localhost:8080/",
          "height": 1000
        }
      },
      "source": [
        "history = model.fit(x_train, y_train, validation_split=0.25 ,batch_size=64, epochs=200 , verbose = 1)"
      ],
      "execution_count": 19,
      "outputs": [
        {
          "output_type": "stream",
          "text": [
            "Train on 4638 samples, validate on 1547 samples\n",
            "Epoch 1/200\n",
            "4638/4638 [==============================] - 1s 153us/sample - loss: 2.2551 - sparse_categorical_accuracy: 0.2934 - val_loss: 1.6696 - val_sparse_categorical_accuracy: 0.4738\n",
            "Epoch 2/200\n",
            "4638/4638 [==============================] - 0s 99us/sample - loss: 1.4610 - sparse_categorical_accuracy: 0.5114 - val_loss: 1.1927 - val_sparse_categorical_accuracy: 0.5895\n",
            "Epoch 3/200\n",
            "4638/4638 [==============================] - 0s 99us/sample - loss: 1.2237 - sparse_categorical_accuracy: 0.5660 - val_loss: 1.0842 - val_sparse_categorical_accuracy: 0.6134\n",
            "Epoch 4/200\n",
            "4638/4638 [==============================] - 0s 95us/sample - loss: 1.1322 - sparse_categorical_accuracy: 0.6020 - val_loss: 1.0260 - val_sparse_categorical_accuracy: 0.6399\n",
            "Epoch 5/200\n",
            "4638/4638 [==============================] - 0s 98us/sample - loss: 1.0774 - sparse_categorical_accuracy: 0.6134 - val_loss: 0.9699 - val_sparse_categorical_accuracy: 0.6542\n",
            "Epoch 6/200\n",
            "4638/4638 [==============================] - 0s 93us/sample - loss: 1.0222 - sparse_categorical_accuracy: 0.6268 - val_loss: 0.9400 - val_sparse_categorical_accuracy: 0.6652\n",
            "Epoch 7/200\n",
            "4638/4638 [==============================] - 0s 97us/sample - loss: 0.9824 - sparse_categorical_accuracy: 0.6373 - val_loss: 0.9156 - val_sparse_categorical_accuracy: 0.6632\n",
            "Epoch 8/200\n",
            "4638/4638 [==============================] - 0s 93us/sample - loss: 0.9437 - sparse_categorical_accuracy: 0.6481 - val_loss: 0.8809 - val_sparse_categorical_accuracy: 0.6871\n",
            "Epoch 9/200\n",
            "4638/4638 [==============================] - 0s 97us/sample - loss: 0.9141 - sparse_categorical_accuracy: 0.6598 - val_loss: 0.8544 - val_sparse_categorical_accuracy: 0.6897\n",
            "Epoch 10/200\n",
            "4638/4638 [==============================] - 0s 97us/sample - loss: 0.8802 - sparse_categorical_accuracy: 0.6777 - val_loss: 0.8408 - val_sparse_categorical_accuracy: 0.7027\n",
            "Epoch 11/200\n",
            "4638/4638 [==============================] - 0s 96us/sample - loss: 0.8627 - sparse_categorical_accuracy: 0.6774 - val_loss: 0.8186 - val_sparse_categorical_accuracy: 0.7169\n",
            "Epoch 12/200\n",
            "4638/4638 [==============================] - 0s 97us/sample - loss: 0.8568 - sparse_categorical_accuracy: 0.6874 - val_loss: 0.8091 - val_sparse_categorical_accuracy: 0.7123\n",
            "Epoch 13/200\n",
            "4638/4638 [==============================] - 0s 97us/sample - loss: 0.8287 - sparse_categorical_accuracy: 0.6908 - val_loss: 0.7931 - val_sparse_categorical_accuracy: 0.7233\n",
            "Epoch 14/200\n",
            "4638/4638 [==============================] - 0s 98us/sample - loss: 0.8178 - sparse_categorical_accuracy: 0.6964 - val_loss: 0.7825 - val_sparse_categorical_accuracy: 0.7201\n",
            "Epoch 15/200\n",
            "4638/4638 [==============================] - 0s 97us/sample - loss: 0.8046 - sparse_categorical_accuracy: 0.7042 - val_loss: 0.7785 - val_sparse_categorical_accuracy: 0.7253\n",
            "Epoch 16/200\n",
            "4638/4638 [==============================] - 0s 93us/sample - loss: 0.7946 - sparse_categorical_accuracy: 0.7089 - val_loss: 0.7712 - val_sparse_categorical_accuracy: 0.7292\n",
            "Epoch 17/200\n",
            "4638/4638 [==============================] - 0s 97us/sample - loss: 0.7790 - sparse_categorical_accuracy: 0.7171 - val_loss: 0.7520 - val_sparse_categorical_accuracy: 0.7453\n",
            "Epoch 18/200\n",
            "4638/4638 [==============================] - 0s 97us/sample - loss: 0.7737 - sparse_categorical_accuracy: 0.7137 - val_loss: 0.7407 - val_sparse_categorical_accuracy: 0.7343\n",
            "Epoch 19/200\n",
            "4638/4638 [==============================] - 0s 94us/sample - loss: 0.7547 - sparse_categorical_accuracy: 0.7324 - val_loss: 0.7373 - val_sparse_categorical_accuracy: 0.7369\n",
            "Epoch 20/200\n",
            "4638/4638 [==============================] - 0s 95us/sample - loss: 0.7494 - sparse_categorical_accuracy: 0.7303 - val_loss: 0.7365 - val_sparse_categorical_accuracy: 0.7356\n",
            "Epoch 21/200\n",
            "4638/4638 [==============================] - 0s 95us/sample - loss: 0.7348 - sparse_categorical_accuracy: 0.7290 - val_loss: 0.7248 - val_sparse_categorical_accuracy: 0.7479\n",
            "Epoch 22/200\n",
            "4638/4638 [==============================] - 0s 94us/sample - loss: 0.7205 - sparse_categorical_accuracy: 0.7337 - val_loss: 0.7195 - val_sparse_categorical_accuracy: 0.7460\n",
            "Epoch 23/200\n",
            "4638/4638 [==============================] - 0s 95us/sample - loss: 0.7169 - sparse_categorical_accuracy: 0.7387 - val_loss: 0.7155 - val_sparse_categorical_accuracy: 0.7447\n",
            "Epoch 24/200\n",
            "4638/4638 [==============================] - 0s 98us/sample - loss: 0.7013 - sparse_categorical_accuracy: 0.7464 - val_loss: 0.7188 - val_sparse_categorical_accuracy: 0.7427\n",
            "Epoch 25/200\n",
            "4638/4638 [==============================] - 0s 98us/sample - loss: 0.7019 - sparse_categorical_accuracy: 0.7514 - val_loss: 0.7025 - val_sparse_categorical_accuracy: 0.7505\n",
            "Epoch 26/200\n",
            "4638/4638 [==============================] - 0s 98us/sample - loss: 0.6981 - sparse_categorical_accuracy: 0.7488 - val_loss: 0.7116 - val_sparse_categorical_accuracy: 0.7615\n",
            "Epoch 27/200\n",
            "4638/4638 [==============================] - 0s 100us/sample - loss: 0.6838 - sparse_categorical_accuracy: 0.7512 - val_loss: 0.7018 - val_sparse_categorical_accuracy: 0.7473\n",
            "Epoch 28/200\n",
            "4638/4638 [==============================] - 0s 93us/sample - loss: 0.6741 - sparse_categorical_accuracy: 0.7525 - val_loss: 0.7018 - val_sparse_categorical_accuracy: 0.7460\n",
            "Epoch 29/200\n",
            "4638/4638 [==============================] - 0s 90us/sample - loss: 0.6812 - sparse_categorical_accuracy: 0.7523 - val_loss: 0.6974 - val_sparse_categorical_accuracy: 0.7414\n",
            "Epoch 30/200\n",
            "4638/4638 [==============================] - 0s 94us/sample - loss: 0.6731 - sparse_categorical_accuracy: 0.7570 - val_loss: 0.6916 - val_sparse_categorical_accuracy: 0.7589\n",
            "Epoch 31/200\n",
            "4638/4638 [==============================] - 0s 92us/sample - loss: 0.6631 - sparse_categorical_accuracy: 0.7551 - val_loss: 0.6871 - val_sparse_categorical_accuracy: 0.7589\n",
            "Epoch 32/200\n",
            "4638/4638 [==============================] - 0s 94us/sample - loss: 0.6474 - sparse_categorical_accuracy: 0.7699 - val_loss: 0.6924 - val_sparse_categorical_accuracy: 0.7576\n",
            "Epoch 33/200\n",
            "4638/4638 [==============================] - 0s 93us/sample - loss: 0.6601 - sparse_categorical_accuracy: 0.7605 - val_loss: 0.6847 - val_sparse_categorical_accuracy: 0.7582\n",
            "Epoch 34/200\n",
            "4638/4638 [==============================] - 0s 98us/sample - loss: 0.6445 - sparse_categorical_accuracy: 0.7699 - val_loss: 0.6967 - val_sparse_categorical_accuracy: 0.7621\n",
            "Epoch 35/200\n",
            "4638/4638 [==============================] - 0s 95us/sample - loss: 0.6370 - sparse_categorical_accuracy: 0.7633 - val_loss: 0.6792 - val_sparse_categorical_accuracy: 0.7582\n",
            "Epoch 36/200\n",
            "4638/4638 [==============================] - 0s 92us/sample - loss: 0.6413 - sparse_categorical_accuracy: 0.7730 - val_loss: 0.6794 - val_sparse_categorical_accuracy: 0.7563\n",
            "Epoch 37/200\n",
            "4638/4638 [==============================] - 0s 98us/sample - loss: 0.6365 - sparse_categorical_accuracy: 0.7706 - val_loss: 0.6778 - val_sparse_categorical_accuracy: 0.7608\n",
            "Epoch 38/200\n",
            "4638/4638 [==============================] - 0s 95us/sample - loss: 0.6255 - sparse_categorical_accuracy: 0.7708 - val_loss: 0.6791 - val_sparse_categorical_accuracy: 0.7641\n",
            "Epoch 39/200\n",
            "4638/4638 [==============================] - 0s 95us/sample - loss: 0.6242 - sparse_categorical_accuracy: 0.7702 - val_loss: 0.6780 - val_sparse_categorical_accuracy: 0.7628\n",
            "Epoch 40/200\n",
            "4638/4638 [==============================] - 0s 95us/sample - loss: 0.6193 - sparse_categorical_accuracy: 0.7824 - val_loss: 0.6712 - val_sparse_categorical_accuracy: 0.7595\n",
            "Epoch 41/200\n",
            "4638/4638 [==============================] - 0s 102us/sample - loss: 0.6048 - sparse_categorical_accuracy: 0.7874 - val_loss: 0.6692 - val_sparse_categorical_accuracy: 0.7712\n",
            "Epoch 42/200\n",
            "4638/4638 [==============================] - 0s 94us/sample - loss: 0.6165 - sparse_categorical_accuracy: 0.7809 - val_loss: 0.6595 - val_sparse_categorical_accuracy: 0.7666\n",
            "Epoch 43/200\n",
            "4638/4638 [==============================] - 0s 92us/sample - loss: 0.6043 - sparse_categorical_accuracy: 0.7837 - val_loss: 0.6824 - val_sparse_categorical_accuracy: 0.7602\n",
            "Epoch 44/200\n",
            "4638/4638 [==============================] - 0s 97us/sample - loss: 0.5941 - sparse_categorical_accuracy: 0.7857 - val_loss: 0.6663 - val_sparse_categorical_accuracy: 0.7647\n",
            "Epoch 45/200\n",
            "4638/4638 [==============================] - 0s 96us/sample - loss: 0.5980 - sparse_categorical_accuracy: 0.7842 - val_loss: 0.6593 - val_sparse_categorical_accuracy: 0.7712\n",
            "Epoch 46/200\n",
            "4638/4638 [==============================] - 0s 98us/sample - loss: 0.5951 - sparse_categorical_accuracy: 0.7904 - val_loss: 0.6593 - val_sparse_categorical_accuracy: 0.7712\n",
            "Epoch 47/200\n",
            "4638/4638 [==============================] - 0s 91us/sample - loss: 0.5954 - sparse_categorical_accuracy: 0.7876 - val_loss: 0.6615 - val_sparse_categorical_accuracy: 0.7647\n",
            "Epoch 48/200\n",
            "4638/4638 [==============================] - 0s 97us/sample - loss: 0.5881 - sparse_categorical_accuracy: 0.7857 - val_loss: 0.6487 - val_sparse_categorical_accuracy: 0.7744\n",
            "Epoch 49/200\n",
            "4638/4638 [==============================] - 0s 94us/sample - loss: 0.5848 - sparse_categorical_accuracy: 0.7891 - val_loss: 0.6469 - val_sparse_categorical_accuracy: 0.7770\n",
            "Epoch 50/200\n",
            "4638/4638 [==============================] - 0s 96us/sample - loss: 0.5816 - sparse_categorical_accuracy: 0.7891 - val_loss: 0.6427 - val_sparse_categorical_accuracy: 0.7763\n",
            "Epoch 51/200\n",
            "4638/4638 [==============================] - 0s 97us/sample - loss: 0.5728 - sparse_categorical_accuracy: 0.7922 - val_loss: 0.6390 - val_sparse_categorical_accuracy: 0.7835\n",
            "Epoch 52/200\n",
            "4638/4638 [==============================] - 0s 88us/sample - loss: 0.5754 - sparse_categorical_accuracy: 0.7913 - val_loss: 0.6561 - val_sparse_categorical_accuracy: 0.7731\n",
            "Epoch 53/200\n",
            "4638/4638 [==============================] - 0s 98us/sample - loss: 0.5756 - sparse_categorical_accuracy: 0.7945 - val_loss: 0.6394 - val_sparse_categorical_accuracy: 0.7822\n",
            "Epoch 54/200\n",
            "4638/4638 [==============================] - 0s 97us/sample - loss: 0.5615 - sparse_categorical_accuracy: 0.8008 - val_loss: 0.6507 - val_sparse_categorical_accuracy: 0.7712\n",
            "Epoch 55/200\n",
            "4638/4638 [==============================] - 0s 97us/sample - loss: 0.5632 - sparse_categorical_accuracy: 0.7926 - val_loss: 0.6444 - val_sparse_categorical_accuracy: 0.7763\n",
            "Epoch 56/200\n",
            "4638/4638 [==============================] - 0s 93us/sample - loss: 0.5600 - sparse_categorical_accuracy: 0.7980 - val_loss: 0.6462 - val_sparse_categorical_accuracy: 0.7847\n",
            "Epoch 57/200\n",
            "4638/4638 [==============================] - 0s 96us/sample - loss: 0.5680 - sparse_categorical_accuracy: 0.8006 - val_loss: 0.6316 - val_sparse_categorical_accuracy: 0.7822\n",
            "Epoch 58/200\n",
            "4638/4638 [==============================] - 0s 93us/sample - loss: 0.5450 - sparse_categorical_accuracy: 0.8064 - val_loss: 0.6517 - val_sparse_categorical_accuracy: 0.7712\n",
            "Epoch 59/200\n",
            "4638/4638 [==============================] - 0s 94us/sample - loss: 0.5472 - sparse_categorical_accuracy: 0.8003 - val_loss: 0.6407 - val_sparse_categorical_accuracy: 0.7822\n",
            "Epoch 60/200\n",
            "4638/4638 [==============================] - 0s 97us/sample - loss: 0.5461 - sparse_categorical_accuracy: 0.8088 - val_loss: 0.6335 - val_sparse_categorical_accuracy: 0.7867\n",
            "Epoch 61/200\n",
            "4638/4638 [==============================] - 0s 94us/sample - loss: 0.5501 - sparse_categorical_accuracy: 0.7980 - val_loss: 0.6446 - val_sparse_categorical_accuracy: 0.7796\n",
            "Epoch 62/200\n",
            "4638/4638 [==============================] - 0s 95us/sample - loss: 0.5409 - sparse_categorical_accuracy: 0.8081 - val_loss: 0.6391 - val_sparse_categorical_accuracy: 0.7802\n",
            "Epoch 63/200\n",
            "4638/4638 [==============================] - 0s 93us/sample - loss: 0.5348 - sparse_categorical_accuracy: 0.8042 - val_loss: 0.6341 - val_sparse_categorical_accuracy: 0.7854\n",
            "Epoch 64/200\n",
            "4638/4638 [==============================] - 0s 97us/sample - loss: 0.5334 - sparse_categorical_accuracy: 0.8055 - val_loss: 0.6430 - val_sparse_categorical_accuracy: 0.7835\n",
            "Epoch 65/200\n",
            "4638/4638 [==============================] - 0s 92us/sample - loss: 0.5407 - sparse_categorical_accuracy: 0.8094 - val_loss: 0.6361 - val_sparse_categorical_accuracy: 0.7899\n",
            "Epoch 66/200\n",
            "4638/4638 [==============================] - 0s 97us/sample - loss: 0.5365 - sparse_categorical_accuracy: 0.8040 - val_loss: 0.6370 - val_sparse_categorical_accuracy: 0.7893\n",
            "Epoch 67/200\n",
            "4638/4638 [==============================] - 0s 100us/sample - loss: 0.5234 - sparse_categorical_accuracy: 0.8122 - val_loss: 0.6388 - val_sparse_categorical_accuracy: 0.7886\n",
            "Epoch 68/200\n",
            "4638/4638 [==============================] - 0s 91us/sample - loss: 0.5156 - sparse_categorical_accuracy: 0.8206 - val_loss: 0.6291 - val_sparse_categorical_accuracy: 0.7860\n",
            "Epoch 69/200\n",
            "4638/4638 [==============================] - 0s 94us/sample - loss: 0.5265 - sparse_categorical_accuracy: 0.8116 - val_loss: 0.6299 - val_sparse_categorical_accuracy: 0.7912\n",
            "Epoch 70/200\n",
            "4638/4638 [==============================] - 0s 96us/sample - loss: 0.5216 - sparse_categorical_accuracy: 0.8113 - val_loss: 0.6378 - val_sparse_categorical_accuracy: 0.7919\n",
            "Epoch 71/200\n",
            "4638/4638 [==============================] - 0s 95us/sample - loss: 0.5201 - sparse_categorical_accuracy: 0.8100 - val_loss: 0.6334 - val_sparse_categorical_accuracy: 0.7873\n",
            "Epoch 72/200\n",
            "4638/4638 [==============================] - 0s 90us/sample - loss: 0.5136 - sparse_categorical_accuracy: 0.8167 - val_loss: 0.6319 - val_sparse_categorical_accuracy: 0.7880\n",
            "Epoch 73/200\n",
            "4638/4638 [==============================] - 0s 94us/sample - loss: 0.5244 - sparse_categorical_accuracy: 0.8141 - val_loss: 0.6314 - val_sparse_categorical_accuracy: 0.7938\n",
            "Epoch 74/200\n",
            "4638/4638 [==============================] - 0s 93us/sample - loss: 0.5046 - sparse_categorical_accuracy: 0.8191 - val_loss: 0.6279 - val_sparse_categorical_accuracy: 0.7983\n",
            "Epoch 75/200\n",
            "4638/4638 [==============================] - 0s 94us/sample - loss: 0.5113 - sparse_categorical_accuracy: 0.8200 - val_loss: 0.6406 - val_sparse_categorical_accuracy: 0.7822\n",
            "Epoch 76/200\n",
            "4638/4638 [==============================] - 0s 95us/sample - loss: 0.5104 - sparse_categorical_accuracy: 0.8150 - val_loss: 0.6326 - val_sparse_categorical_accuracy: 0.7854\n",
            "Epoch 77/200\n",
            "4638/4638 [==============================] - 0s 93us/sample - loss: 0.5136 - sparse_categorical_accuracy: 0.8139 - val_loss: 0.6378 - val_sparse_categorical_accuracy: 0.7899\n",
            "Epoch 78/200\n",
            "4638/4638 [==============================] - 0s 95us/sample - loss: 0.5026 - sparse_categorical_accuracy: 0.8180 - val_loss: 0.6368 - val_sparse_categorical_accuracy: 0.7886\n",
            "Epoch 79/200\n",
            "4638/4638 [==============================] - 0s 91us/sample - loss: 0.4993 - sparse_categorical_accuracy: 0.8213 - val_loss: 0.6393 - val_sparse_categorical_accuracy: 0.7867\n",
            "Epoch 80/200\n",
            "4638/4638 [==============================] - 0s 94us/sample - loss: 0.5000 - sparse_categorical_accuracy: 0.8217 - val_loss: 0.6342 - val_sparse_categorical_accuracy: 0.7847\n",
            "Epoch 81/200\n",
            "4638/4638 [==============================] - 0s 92us/sample - loss: 0.4966 - sparse_categorical_accuracy: 0.8241 - val_loss: 0.6439 - val_sparse_categorical_accuracy: 0.7906\n",
            "Epoch 82/200\n",
            "4638/4638 [==============================] - 0s 92us/sample - loss: 0.4968 - sparse_categorical_accuracy: 0.8195 - val_loss: 0.6356 - val_sparse_categorical_accuracy: 0.7912\n",
            "Epoch 83/200\n",
            "4638/4638 [==============================] - 0s 98us/sample - loss: 0.4979 - sparse_categorical_accuracy: 0.8204 - val_loss: 0.6243 - val_sparse_categorical_accuracy: 0.7931\n",
            "Epoch 84/200\n",
            "4638/4638 [==============================] - 0s 95us/sample - loss: 0.4908 - sparse_categorical_accuracy: 0.8208 - val_loss: 0.6300 - val_sparse_categorical_accuracy: 0.7919\n",
            "Epoch 85/200\n",
            "4638/4638 [==============================] - 0s 96us/sample - loss: 0.4936 - sparse_categorical_accuracy: 0.8215 - val_loss: 0.6296 - val_sparse_categorical_accuracy: 0.7931\n",
            "Epoch 86/200\n",
            "4638/4638 [==============================] - 0s 95us/sample - loss: 0.4936 - sparse_categorical_accuracy: 0.8234 - val_loss: 0.6346 - val_sparse_categorical_accuracy: 0.7919\n",
            "Epoch 87/200\n",
            "4638/4638 [==============================] - 0s 97us/sample - loss: 0.4817 - sparse_categorical_accuracy: 0.8234 - val_loss: 0.6430 - val_sparse_categorical_accuracy: 0.7919\n",
            "Epoch 88/200\n",
            "4638/4638 [==============================] - 0s 92us/sample - loss: 0.4880 - sparse_categorical_accuracy: 0.8247 - val_loss: 0.6311 - val_sparse_categorical_accuracy: 0.7919\n",
            "Epoch 89/200\n",
            "4638/4638 [==============================] - 0s 98us/sample - loss: 0.4838 - sparse_categorical_accuracy: 0.8279 - val_loss: 0.6296 - val_sparse_categorical_accuracy: 0.7938\n",
            "Epoch 90/200\n",
            "4638/4638 [==============================] - 0s 99us/sample - loss: 0.4836 - sparse_categorical_accuracy: 0.8245 - val_loss: 0.6243 - val_sparse_categorical_accuracy: 0.8003\n",
            "Epoch 91/200\n",
            "4638/4638 [==============================] - 0s 100us/sample - loss: 0.4891 - sparse_categorical_accuracy: 0.8197 - val_loss: 0.6290 - val_sparse_categorical_accuracy: 0.7996\n",
            "Epoch 92/200\n",
            "4638/4638 [==============================] - 0s 97us/sample - loss: 0.4812 - sparse_categorical_accuracy: 0.8247 - val_loss: 0.6277 - val_sparse_categorical_accuracy: 0.8009\n",
            "Epoch 93/200\n",
            "4638/4638 [==============================] - 0s 96us/sample - loss: 0.4765 - sparse_categorical_accuracy: 0.8264 - val_loss: 0.6243 - val_sparse_categorical_accuracy: 0.7951\n",
            "Epoch 94/200\n",
            "4638/4638 [==============================] - 0s 97us/sample - loss: 0.4715 - sparse_categorical_accuracy: 0.8295 - val_loss: 0.6320 - val_sparse_categorical_accuracy: 0.7919\n",
            "Epoch 95/200\n",
            "4638/4638 [==============================] - 0s 98us/sample - loss: 0.4760 - sparse_categorical_accuracy: 0.8299 - val_loss: 0.6306 - val_sparse_categorical_accuracy: 0.7990\n",
            "Epoch 96/200\n",
            "4638/4638 [==============================] - 0s 99us/sample - loss: 0.4679 - sparse_categorical_accuracy: 0.8279 - val_loss: 0.6518 - val_sparse_categorical_accuracy: 0.7931\n",
            "Epoch 97/200\n",
            "4638/4638 [==============================] - 0s 96us/sample - loss: 0.4663 - sparse_categorical_accuracy: 0.8325 - val_loss: 0.6271 - val_sparse_categorical_accuracy: 0.7977\n",
            "Epoch 98/200\n",
            "4638/4638 [==============================] - 0s 97us/sample - loss: 0.4732 - sparse_categorical_accuracy: 0.8299 - val_loss: 0.6236 - val_sparse_categorical_accuracy: 0.8028\n",
            "Epoch 99/200\n",
            "4638/4638 [==============================] - 0s 98us/sample - loss: 0.4771 - sparse_categorical_accuracy: 0.8228 - val_loss: 0.6357 - val_sparse_categorical_accuracy: 0.7925\n",
            "Epoch 100/200\n",
            "4638/4638 [==============================] - 0s 95us/sample - loss: 0.4693 - sparse_categorical_accuracy: 0.8277 - val_loss: 0.6243 - val_sparse_categorical_accuracy: 0.7970\n",
            "Epoch 101/200\n",
            "4638/4638 [==============================] - 0s 98us/sample - loss: 0.4636 - sparse_categorical_accuracy: 0.8307 - val_loss: 0.6181 - val_sparse_categorical_accuracy: 0.8016\n",
            "Epoch 102/200\n",
            "4638/4638 [==============================] - 0s 95us/sample - loss: 0.4612 - sparse_categorical_accuracy: 0.8344 - val_loss: 0.6405 - val_sparse_categorical_accuracy: 0.7964\n",
            "Epoch 103/200\n",
            "4638/4638 [==============================] - 0s 99us/sample - loss: 0.4574 - sparse_categorical_accuracy: 0.8279 - val_loss: 0.6370 - val_sparse_categorical_accuracy: 0.7990\n",
            "Epoch 104/200\n",
            "4638/4638 [==============================] - 0s 96us/sample - loss: 0.4603 - sparse_categorical_accuracy: 0.8342 - val_loss: 0.6230 - val_sparse_categorical_accuracy: 0.8016\n",
            "Epoch 105/200\n",
            "4638/4638 [==============================] - 0s 94us/sample - loss: 0.4582 - sparse_categorical_accuracy: 0.8342 - val_loss: 0.6204 - val_sparse_categorical_accuracy: 0.7990\n",
            "Epoch 106/200\n",
            "4638/4638 [==============================] - 0s 94us/sample - loss: 0.4647 - sparse_categorical_accuracy: 0.8381 - val_loss: 0.6368 - val_sparse_categorical_accuracy: 0.7964\n",
            "Epoch 107/200\n",
            "4638/4638 [==============================] - 0s 95us/sample - loss: 0.4527 - sparse_categorical_accuracy: 0.8368 - val_loss: 0.6417 - val_sparse_categorical_accuracy: 0.7938\n",
            "Epoch 108/200\n",
            "4638/4638 [==============================] - 0s 96us/sample - loss: 0.4570 - sparse_categorical_accuracy: 0.8361 - val_loss: 0.6391 - val_sparse_categorical_accuracy: 0.7977\n",
            "Epoch 109/200\n",
            "4638/4638 [==============================] - 0s 97us/sample - loss: 0.4611 - sparse_categorical_accuracy: 0.8277 - val_loss: 0.6337 - val_sparse_categorical_accuracy: 0.7970\n",
            "Epoch 110/200\n",
            "4638/4638 [==============================] - 0s 94us/sample - loss: 0.4450 - sparse_categorical_accuracy: 0.8333 - val_loss: 0.6427 - val_sparse_categorical_accuracy: 0.8016\n",
            "Epoch 111/200\n",
            "4638/4638 [==============================] - 0s 93us/sample - loss: 0.4598 - sparse_categorical_accuracy: 0.8286 - val_loss: 0.6472 - val_sparse_categorical_accuracy: 0.8016\n",
            "Epoch 112/200\n",
            "4638/4638 [==============================] - 0s 92us/sample - loss: 0.4482 - sparse_categorical_accuracy: 0.8348 - val_loss: 0.6297 - val_sparse_categorical_accuracy: 0.8003\n",
            "Epoch 113/200\n",
            "4638/4638 [==============================] - 0s 93us/sample - loss: 0.4418 - sparse_categorical_accuracy: 0.8424 - val_loss: 0.6323 - val_sparse_categorical_accuracy: 0.8022\n",
            "Epoch 114/200\n",
            "4638/4638 [==============================] - 0s 94us/sample - loss: 0.4466 - sparse_categorical_accuracy: 0.8357 - val_loss: 0.6522 - val_sparse_categorical_accuracy: 0.7944\n",
            "Epoch 115/200\n",
            "4638/4638 [==============================] - 0s 95us/sample - loss: 0.4396 - sparse_categorical_accuracy: 0.8383 - val_loss: 0.6526 - val_sparse_categorical_accuracy: 0.7925\n",
            "Epoch 116/200\n",
            "4638/4638 [==============================] - 0s 94us/sample - loss: 0.4429 - sparse_categorical_accuracy: 0.8379 - val_loss: 0.6486 - val_sparse_categorical_accuracy: 0.7977\n",
            "Epoch 117/200\n",
            "4638/4638 [==============================] - 0s 93us/sample - loss: 0.4480 - sparse_categorical_accuracy: 0.8338 - val_loss: 0.6326 - val_sparse_categorical_accuracy: 0.8028\n",
            "Epoch 118/200\n",
            "4638/4638 [==============================] - 0s 100us/sample - loss: 0.4414 - sparse_categorical_accuracy: 0.8307 - val_loss: 0.6503 - val_sparse_categorical_accuracy: 0.7977\n",
            "Epoch 119/200\n",
            "4638/4638 [==============================] - 0s 98us/sample - loss: 0.4385 - sparse_categorical_accuracy: 0.8396 - val_loss: 0.6407 - val_sparse_categorical_accuracy: 0.7970\n",
            "Epoch 120/200\n",
            "4638/4638 [==============================] - 0s 94us/sample - loss: 0.4436 - sparse_categorical_accuracy: 0.8383 - val_loss: 0.6448 - val_sparse_categorical_accuracy: 0.7951\n",
            "Epoch 121/200\n",
            "4638/4638 [==============================] - 0s 94us/sample - loss: 0.4405 - sparse_categorical_accuracy: 0.8409 - val_loss: 0.6478 - val_sparse_categorical_accuracy: 0.7944\n",
            "Epoch 122/200\n",
            "4638/4638 [==============================] - 0s 99us/sample - loss: 0.4395 - sparse_categorical_accuracy: 0.8370 - val_loss: 0.6406 - val_sparse_categorical_accuracy: 0.8041\n",
            "Epoch 123/200\n",
            "4638/4638 [==============================] - 0s 94us/sample - loss: 0.4413 - sparse_categorical_accuracy: 0.8338 - val_loss: 0.6462 - val_sparse_categorical_accuracy: 0.7951\n",
            "Epoch 124/200\n",
            "4638/4638 [==============================] - 0s 99us/sample - loss: 0.4381 - sparse_categorical_accuracy: 0.8424 - val_loss: 0.6475 - val_sparse_categorical_accuracy: 0.7970\n",
            "Epoch 125/200\n",
            "4638/4638 [==============================] - 0s 95us/sample - loss: 0.4296 - sparse_categorical_accuracy: 0.8441 - val_loss: 0.6411 - val_sparse_categorical_accuracy: 0.8016\n",
            "Epoch 126/200\n",
            "4638/4638 [==============================] - 0s 97us/sample - loss: 0.4413 - sparse_categorical_accuracy: 0.8357 - val_loss: 0.6377 - val_sparse_categorical_accuracy: 0.7931\n",
            "Epoch 127/200\n",
            "4638/4638 [==============================] - 0s 95us/sample - loss: 0.4281 - sparse_categorical_accuracy: 0.8407 - val_loss: 0.6456 - val_sparse_categorical_accuracy: 0.8054\n",
            "Epoch 128/200\n",
            "4638/4638 [==============================] - 0s 98us/sample - loss: 0.4320 - sparse_categorical_accuracy: 0.8389 - val_loss: 0.6468 - val_sparse_categorical_accuracy: 0.7944\n",
            "Epoch 129/200\n",
            "4638/4638 [==============================] - 0s 94us/sample - loss: 0.4139 - sparse_categorical_accuracy: 0.8482 - val_loss: 0.6448 - val_sparse_categorical_accuracy: 0.8022\n",
            "Epoch 130/200\n",
            "4638/4638 [==============================] - 0s 91us/sample - loss: 0.4302 - sparse_categorical_accuracy: 0.8381 - val_loss: 0.6463 - val_sparse_categorical_accuracy: 0.8009\n",
            "Epoch 131/200\n",
            "4638/4638 [==============================] - 0s 91us/sample - loss: 0.4234 - sparse_categorical_accuracy: 0.8454 - val_loss: 0.6450 - val_sparse_categorical_accuracy: 0.7925\n",
            "Epoch 132/200\n",
            "4638/4638 [==============================] - 0s 90us/sample - loss: 0.4321 - sparse_categorical_accuracy: 0.8424 - val_loss: 0.6398 - val_sparse_categorical_accuracy: 0.8054\n",
            "Epoch 133/200\n",
            "4638/4638 [==============================] - 0s 96us/sample - loss: 0.4205 - sparse_categorical_accuracy: 0.8441 - val_loss: 0.6360 - val_sparse_categorical_accuracy: 0.8022\n",
            "Epoch 134/200\n",
            "4638/4638 [==============================] - 0s 95us/sample - loss: 0.4220 - sparse_categorical_accuracy: 0.8428 - val_loss: 0.6451 - val_sparse_categorical_accuracy: 0.7944\n",
            "Epoch 135/200\n",
            "4638/4638 [==============================] - 0s 94us/sample - loss: 0.4223 - sparse_categorical_accuracy: 0.8448 - val_loss: 0.6581 - val_sparse_categorical_accuracy: 0.7964\n",
            "Epoch 136/200\n",
            "4638/4638 [==============================] - 0s 96us/sample - loss: 0.4234 - sparse_categorical_accuracy: 0.8439 - val_loss: 0.6604 - val_sparse_categorical_accuracy: 0.8003\n",
            "Epoch 137/200\n",
            "4638/4638 [==============================] - 0s 94us/sample - loss: 0.4155 - sparse_categorical_accuracy: 0.8467 - val_loss: 0.6501 - val_sparse_categorical_accuracy: 0.8041\n",
            "Epoch 138/200\n",
            "4638/4638 [==============================] - 0s 103us/sample - loss: 0.4094 - sparse_categorical_accuracy: 0.8504 - val_loss: 0.6457 - val_sparse_categorical_accuracy: 0.8035\n",
            "Epoch 139/200\n",
            "4638/4638 [==============================] - 0s 96us/sample - loss: 0.4192 - sparse_categorical_accuracy: 0.8456 - val_loss: 0.6407 - val_sparse_categorical_accuracy: 0.8041\n",
            "Epoch 140/200\n",
            "4638/4638 [==============================] - 0s 96us/sample - loss: 0.4110 - sparse_categorical_accuracy: 0.8540 - val_loss: 0.6495 - val_sparse_categorical_accuracy: 0.7977\n",
            "Epoch 141/200\n",
            "4638/4638 [==============================] - 0s 90us/sample - loss: 0.4059 - sparse_categorical_accuracy: 0.8514 - val_loss: 0.6552 - val_sparse_categorical_accuracy: 0.8061\n",
            "Epoch 142/200\n",
            "4638/4638 [==============================] - 0s 100us/sample - loss: 0.4085 - sparse_categorical_accuracy: 0.8508 - val_loss: 0.6631 - val_sparse_categorical_accuracy: 0.7964\n",
            "Epoch 143/200\n",
            "4638/4638 [==============================] - 0s 95us/sample - loss: 0.4156 - sparse_categorical_accuracy: 0.8435 - val_loss: 0.6555 - val_sparse_categorical_accuracy: 0.7944\n",
            "Epoch 144/200\n",
            "4638/4638 [==============================] - 0s 92us/sample - loss: 0.4028 - sparse_categorical_accuracy: 0.8512 - val_loss: 0.6501 - val_sparse_categorical_accuracy: 0.7983\n",
            "Epoch 145/200\n",
            "4638/4638 [==============================] - 0s 98us/sample - loss: 0.4002 - sparse_categorical_accuracy: 0.8491 - val_loss: 0.6695 - val_sparse_categorical_accuracy: 0.7899\n",
            "Epoch 146/200\n",
            "4638/4638 [==============================] - 0s 97us/sample - loss: 0.4046 - sparse_categorical_accuracy: 0.8506 - val_loss: 0.6628 - val_sparse_categorical_accuracy: 0.7944\n",
            "Epoch 147/200\n",
            "4638/4638 [==============================] - 0s 98us/sample - loss: 0.4018 - sparse_categorical_accuracy: 0.8465 - val_loss: 0.6533 - val_sparse_categorical_accuracy: 0.7996\n",
            "Epoch 148/200\n",
            "4638/4638 [==============================] - 0s 92us/sample - loss: 0.3953 - sparse_categorical_accuracy: 0.8573 - val_loss: 0.6594 - val_sparse_categorical_accuracy: 0.7996\n",
            "Epoch 149/200\n",
            "4638/4638 [==============================] - 0s 98us/sample - loss: 0.3995 - sparse_categorical_accuracy: 0.8512 - val_loss: 0.6458 - val_sparse_categorical_accuracy: 0.8035\n",
            "Epoch 150/200\n",
            "4638/4638 [==============================] - 0s 97us/sample - loss: 0.3931 - sparse_categorical_accuracy: 0.8523 - val_loss: 0.6501 - val_sparse_categorical_accuracy: 0.7970\n",
            "Epoch 151/200\n",
            "4638/4638 [==============================] - 0s 98us/sample - loss: 0.3981 - sparse_categorical_accuracy: 0.8519 - val_loss: 0.6589 - val_sparse_categorical_accuracy: 0.8022\n",
            "Epoch 152/200\n",
            "4638/4638 [==============================] - 0s 94us/sample - loss: 0.3936 - sparse_categorical_accuracy: 0.8545 - val_loss: 0.6480 - val_sparse_categorical_accuracy: 0.8028\n",
            "Epoch 153/200\n",
            "4638/4638 [==============================] - 0s 94us/sample - loss: 0.3905 - sparse_categorical_accuracy: 0.8588 - val_loss: 0.6598 - val_sparse_categorical_accuracy: 0.8003\n",
            "Epoch 154/200\n",
            "4638/4638 [==============================] - 0s 98us/sample - loss: 0.3946 - sparse_categorical_accuracy: 0.8484 - val_loss: 0.6565 - val_sparse_categorical_accuracy: 0.7983\n",
            "Epoch 155/200\n",
            "4638/4638 [==============================] - 0s 94us/sample - loss: 0.4000 - sparse_categorical_accuracy: 0.8504 - val_loss: 0.6546 - val_sparse_categorical_accuracy: 0.7964\n",
            "Epoch 156/200\n",
            "4638/4638 [==============================] - 0s 93us/sample - loss: 0.3969 - sparse_categorical_accuracy: 0.8523 - val_loss: 0.6666 - val_sparse_categorical_accuracy: 0.8061\n",
            "Epoch 157/200\n",
            "4638/4638 [==============================] - 0s 92us/sample - loss: 0.3947 - sparse_categorical_accuracy: 0.8486 - val_loss: 0.6650 - val_sparse_categorical_accuracy: 0.7957\n",
            "Epoch 158/200\n",
            "4638/4638 [==============================] - 0s 96us/sample - loss: 0.3934 - sparse_categorical_accuracy: 0.8575 - val_loss: 0.6678 - val_sparse_categorical_accuracy: 0.8028\n",
            "Epoch 159/200\n",
            "4638/4638 [==============================] - 0s 94us/sample - loss: 0.3891 - sparse_categorical_accuracy: 0.8553 - val_loss: 0.6685 - val_sparse_categorical_accuracy: 0.7964\n",
            "Epoch 160/200\n",
            "4638/4638 [==============================] - 0s 94us/sample - loss: 0.3958 - sparse_categorical_accuracy: 0.8514 - val_loss: 0.6714 - val_sparse_categorical_accuracy: 0.8041\n",
            "Epoch 161/200\n",
            "4638/4638 [==============================] - 0s 95us/sample - loss: 0.3884 - sparse_categorical_accuracy: 0.8514 - val_loss: 0.6731 - val_sparse_categorical_accuracy: 0.7983\n",
            "Epoch 162/200\n",
            "4638/4638 [==============================] - 0s 93us/sample - loss: 0.3886 - sparse_categorical_accuracy: 0.8506 - val_loss: 0.6498 - val_sparse_categorical_accuracy: 0.8061\n",
            "Epoch 163/200\n",
            "4638/4638 [==============================] - 0s 96us/sample - loss: 0.3875 - sparse_categorical_accuracy: 0.8596 - val_loss: 0.6632 - val_sparse_categorical_accuracy: 0.8016\n",
            "Epoch 164/200\n",
            "4638/4638 [==============================] - 0s 96us/sample - loss: 0.3841 - sparse_categorical_accuracy: 0.8549 - val_loss: 0.6636 - val_sparse_categorical_accuracy: 0.8054\n",
            "Epoch 165/200\n",
            "4638/4638 [==============================] - 0s 102us/sample - loss: 0.3842 - sparse_categorical_accuracy: 0.8596 - val_loss: 0.6583 - val_sparse_categorical_accuracy: 0.8022\n",
            "Epoch 166/200\n",
            "4638/4638 [==============================] - 0s 101us/sample - loss: 0.3775 - sparse_categorical_accuracy: 0.8592 - val_loss: 0.6700 - val_sparse_categorical_accuracy: 0.8035\n",
            "Epoch 167/200\n",
            "4638/4638 [==============================] - 0s 100us/sample - loss: 0.3849 - sparse_categorical_accuracy: 0.8629 - val_loss: 0.6688 - val_sparse_categorical_accuracy: 0.8041\n",
            "Epoch 168/200\n",
            "4638/4638 [==============================] - 0s 98us/sample - loss: 0.3772 - sparse_categorical_accuracy: 0.8586 - val_loss: 0.6745 - val_sparse_categorical_accuracy: 0.7977\n",
            "Epoch 169/200\n",
            "4638/4638 [==============================] - 0s 101us/sample - loss: 0.3785 - sparse_categorical_accuracy: 0.8601 - val_loss: 0.6749 - val_sparse_categorical_accuracy: 0.8003\n",
            "Epoch 170/200\n",
            "4638/4638 [==============================] - 0s 94us/sample - loss: 0.3743 - sparse_categorical_accuracy: 0.8588 - val_loss: 0.6690 - val_sparse_categorical_accuracy: 0.8003\n",
            "Epoch 171/200\n",
            "4638/4638 [==============================] - 0s 98us/sample - loss: 0.3814 - sparse_categorical_accuracy: 0.8560 - val_loss: 0.6819 - val_sparse_categorical_accuracy: 0.8022\n",
            "Epoch 172/200\n",
            "4638/4638 [==============================] - 0s 98us/sample - loss: 0.3733 - sparse_categorical_accuracy: 0.8590 - val_loss: 0.6784 - val_sparse_categorical_accuracy: 0.7983\n",
            "Epoch 173/200\n",
            "4638/4638 [==============================] - 0s 101us/sample - loss: 0.3728 - sparse_categorical_accuracy: 0.8618 - val_loss: 0.6677 - val_sparse_categorical_accuracy: 0.8035\n",
            "Epoch 174/200\n",
            "4638/4638 [==============================] - 0s 98us/sample - loss: 0.3796 - sparse_categorical_accuracy: 0.8551 - val_loss: 0.6764 - val_sparse_categorical_accuracy: 0.8003\n",
            "Epoch 175/200\n",
            "4638/4638 [==============================] - 0s 98us/sample - loss: 0.3848 - sparse_categorical_accuracy: 0.8599 - val_loss: 0.6818 - val_sparse_categorical_accuracy: 0.8080\n",
            "Epoch 176/200\n",
            "4638/4638 [==============================] - 0s 97us/sample - loss: 0.3738 - sparse_categorical_accuracy: 0.8603 - val_loss: 0.6778 - val_sparse_categorical_accuracy: 0.7970\n",
            "Epoch 177/200\n",
            "4638/4638 [==============================] - 0s 95us/sample - loss: 0.3716 - sparse_categorical_accuracy: 0.8605 - val_loss: 0.6713 - val_sparse_categorical_accuracy: 0.8022\n",
            "Epoch 178/200\n",
            "4638/4638 [==============================] - 0s 99us/sample - loss: 0.3648 - sparse_categorical_accuracy: 0.8596 - val_loss: 0.6950 - val_sparse_categorical_accuracy: 0.7951\n",
            "Epoch 179/200\n",
            "4638/4638 [==============================] - 0s 98us/sample - loss: 0.3675 - sparse_categorical_accuracy: 0.8614 - val_loss: 0.6626 - val_sparse_categorical_accuracy: 0.8028\n",
            "Epoch 180/200\n",
            "4638/4638 [==============================] - 0s 100us/sample - loss: 0.3711 - sparse_categorical_accuracy: 0.8607 - val_loss: 0.6783 - val_sparse_categorical_accuracy: 0.8009\n",
            "Epoch 181/200\n",
            "4638/4638 [==============================] - 0s 102us/sample - loss: 0.3694 - sparse_categorical_accuracy: 0.8601 - val_loss: 0.6888 - val_sparse_categorical_accuracy: 0.7996\n",
            "Epoch 182/200\n",
            "4638/4638 [==============================] - 0s 102us/sample - loss: 0.3636 - sparse_categorical_accuracy: 0.8676 - val_loss: 0.7030 - val_sparse_categorical_accuracy: 0.7977\n",
            "Epoch 183/200\n",
            "4638/4638 [==============================] - 0s 99us/sample - loss: 0.3702 - sparse_categorical_accuracy: 0.8639 - val_loss: 0.7027 - val_sparse_categorical_accuracy: 0.8028\n",
            "Epoch 184/200\n",
            "4638/4638 [==============================] - 0s 95us/sample - loss: 0.3682 - sparse_categorical_accuracy: 0.8631 - val_loss: 0.6820 - val_sparse_categorical_accuracy: 0.7970\n",
            "Epoch 185/200\n",
            "4638/4638 [==============================] - 0s 101us/sample - loss: 0.3764 - sparse_categorical_accuracy: 0.8573 - val_loss: 0.6937 - val_sparse_categorical_accuracy: 0.7970\n",
            "Epoch 186/200\n",
            "4638/4638 [==============================] - 0s 93us/sample - loss: 0.3640 - sparse_categorical_accuracy: 0.8607 - val_loss: 0.6981 - val_sparse_categorical_accuracy: 0.8009\n",
            "Epoch 187/200\n",
            "4638/4638 [==============================] - 0s 94us/sample - loss: 0.3641 - sparse_categorical_accuracy: 0.8624 - val_loss: 0.6887 - val_sparse_categorical_accuracy: 0.8003\n",
            "Epoch 188/200\n",
            "4638/4638 [==============================] - 0s 93us/sample - loss: 0.3647 - sparse_categorical_accuracy: 0.8622 - val_loss: 0.6928 - val_sparse_categorical_accuracy: 0.7996\n",
            "Epoch 189/200\n",
            "4638/4638 [==============================] - 0s 101us/sample - loss: 0.3610 - sparse_categorical_accuracy: 0.8620 - val_loss: 0.6758 - val_sparse_categorical_accuracy: 0.8041\n",
            "Epoch 190/200\n",
            "4638/4638 [==============================] - 0s 99us/sample - loss: 0.3629 - sparse_categorical_accuracy: 0.8678 - val_loss: 0.7110 - val_sparse_categorical_accuracy: 0.8022\n",
            "Epoch 191/200\n",
            "4638/4638 [==============================] - 0s 98us/sample - loss: 0.3612 - sparse_categorical_accuracy: 0.8577 - val_loss: 0.6859 - val_sparse_categorical_accuracy: 0.7990\n",
            "Epoch 192/200\n",
            "4638/4638 [==============================] - 0s 99us/sample - loss: 0.3629 - sparse_categorical_accuracy: 0.8631 - val_loss: 0.6847 - val_sparse_categorical_accuracy: 0.7990\n",
            "Epoch 193/200\n",
            "4638/4638 [==============================] - 0s 93us/sample - loss: 0.3606 - sparse_categorical_accuracy: 0.8670 - val_loss: 0.6902 - val_sparse_categorical_accuracy: 0.7944\n",
            "Epoch 194/200\n",
            "4638/4638 [==============================] - 0s 96us/sample - loss: 0.3504 - sparse_categorical_accuracy: 0.8652 - val_loss: 0.6836 - val_sparse_categorical_accuracy: 0.8022\n",
            "Epoch 195/200\n",
            "4638/4638 [==============================] - 0s 93us/sample - loss: 0.3572 - sparse_categorical_accuracy: 0.8644 - val_loss: 0.6977 - val_sparse_categorical_accuracy: 0.8009\n",
            "Epoch 196/200\n",
            "4638/4638 [==============================] - 0s 96us/sample - loss: 0.3604 - sparse_categorical_accuracy: 0.8652 - val_loss: 0.6975 - val_sparse_categorical_accuracy: 0.8022\n",
            "Epoch 197/200\n",
            "4638/4638 [==============================] - 0s 94us/sample - loss: 0.3479 - sparse_categorical_accuracy: 0.8717 - val_loss: 0.6924 - val_sparse_categorical_accuracy: 0.8009\n",
            "Epoch 198/200\n",
            "4638/4638 [==============================] - 0s 93us/sample - loss: 0.3515 - sparse_categorical_accuracy: 0.8672 - val_loss: 0.6961 - val_sparse_categorical_accuracy: 0.7996\n",
            "Epoch 199/200\n",
            "4638/4638 [==============================] - 0s 92us/sample - loss: 0.3498 - sparse_categorical_accuracy: 0.8635 - val_loss: 0.6963 - val_sparse_categorical_accuracy: 0.8028\n",
            "Epoch 200/200\n",
            "4638/4638 [==============================] - 0s 96us/sample - loss: 0.3495 - sparse_categorical_accuracy: 0.8741 - val_loss: 0.6902 - val_sparse_categorical_accuracy: 0.7964\n"
          ],
          "name": "stdout"
        }
      ]
    },
    {
      "cell_type": "code",
      "metadata": {
        "id": "QqMJNrSX3rgj",
        "colab_type": "code",
        "outputId": "5de50623-e663-4621-d8a7-2251845968bc",
        "colab": {
          "base_uri": "https://localhost:8080/",
          "height": 350
        }
      },
      "source": [
        "visualzation_accuracy_loss_values_epochs(history)"
      ],
      "execution_count": 20,
      "outputs": [
        {
          "output_type": "display_data",
          "data": {
            "image/png": "[encoded data removed]",
            "text/plain": [
              "<Figure size 1080x360 with 2 Axes>"
            ]
          },
          "metadata": {
            "tags": []
          }
        }
      ]
    },
    {
      "cell_type": "code",
      "metadata": {
        "id": "TsCLnPGx3t1p",
        "colab_type": "code",
        "outputId": "36879a0b-bbfc-4e4b-968d-3a6a613b797b",
        "colab": {
          "base_uri": "https://localhost:8080/",
          "height": 51
        }
      },
      "source": [
        "test_loss, test_accuracy = model.evaluate(x_test, y_test)\n",
        "print(\"Test accuracy: {}\".format(test_accuracy))"
      ],
      "execution_count": 21,
      "outputs": [
        {
          "output_type": "stream",
          "text": [
            "688/688 [==============================] - 0s 104us/sample - loss: 0.6689 - sparse_categorical_accuracy: 0.8169\n",
            "Test accuracy: 0.8168604373931885\n"
          ],
          "name": "stdout"
        }
      ]
    },
    {
      "cell_type": "markdown",
      "metadata": {
        "id": "SJpAP0X75pOr",
        "colab_type": "text"
      },
      "source": [
        "#### Early Stopping"
      ]
    },
    {
      "cell_type": "code",
      "metadata": {
        "id": "4WECMvSFdm_G",
        "colab_type": "code",
        "colab": {}
      },
      "source": [
        "model = tf.keras.models.Sequential()\n",
        "model.add(tf.keras.layers.Dense(units=64, activation='relu', input_shape=(5, )))\n",
        "model.add(tf.keras.layers.Dense(units=64, activation='relu'))\n",
        "model.add(tf.keras.layers.Dense(units=64, activation='relu'))\n",
        "model.add(tf.keras.layers.Dense(units=15, activation='softmax'))\n",
        "model.compile(optimizer='adam', loss='sparse_categorical_crossentropy',metrics=['sparse_categorical_accuracy'])\n"
      ],
      "execution_count": 0,
      "outputs": []
    },
    {
      "cell_type": "code",
      "metadata": {
        "id": "rv3ZG6nsel7I",
        "colab_type": "code",
        "colab": {}
      },
      "source": [
        "monitor = EarlyStopping(monitor='val_loss', min_delta=1e-3, patience=5, verbose=1, mode='auto',\n",
        "        restore_best_weights=True)"
      ],
      "execution_count": 0,
      "outputs": []
    },
    {
      "cell_type": "code",
      "metadata": {
        "id": "fg_aqyPueuxy",
        "colab_type": "code",
        "outputId": "681361d3-ed1d-410c-be69-6227c732590b",
        "colab": {
          "base_uri": "https://localhost:8080/",
          "height": 1000
        }
      },
      "source": [
        "history = model.fit(x_train, y_train, validation_split=0.25 ,callbacks=[monitor],batch_size=64, epochs=200 , verbose = 1)"
      ],
      "execution_count": 24,
      "outputs": [
        {
          "output_type": "stream",
          "text": [
            "Train on 4638 samples, validate on 1547 samples\n",
            "Epoch 1/200\n",
            "4638/4638 [==============================] - 1s 141us/sample - loss: 2.1127 - sparse_categorical_accuracy: 0.4181 - val_loss: 1.4798 - val_sparse_categorical_accuracy: 0.5527\n",
            "Epoch 2/200\n",
            "4638/4638 [==============================] - 0s 91us/sample - loss: 1.2682 - sparse_categorical_accuracy: 0.5858 - val_loss: 1.1684 - val_sparse_categorical_accuracy: 0.5895\n",
            "Epoch 3/200\n",
            "4638/4638 [==============================] - 0s 88us/sample - loss: 1.0990 - sparse_categorical_accuracy: 0.6164 - val_loss: 1.0617 - val_sparse_categorical_accuracy: 0.6225\n",
            "Epoch 4/200\n",
            "4638/4638 [==============================] - 0s 91us/sample - loss: 1.0212 - sparse_categorical_accuracy: 0.6272 - val_loss: 1.0048 - val_sparse_categorical_accuracy: 0.6348\n",
            "Epoch 5/200\n",
            "4638/4638 [==============================] - 0s 94us/sample - loss: 0.9639 - sparse_categorical_accuracy: 0.6507 - val_loss: 0.9643 - val_sparse_categorical_accuracy: 0.6574\n",
            "Epoch 6/200\n",
            "4638/4638 [==============================] - 0s 89us/sample - loss: 0.9167 - sparse_categorical_accuracy: 0.6636 - val_loss: 0.9121 - val_sparse_categorical_accuracy: 0.6684\n",
            "Epoch 7/200\n",
            "4638/4638 [==============================] - 0s 93us/sample - loss: 0.8776 - sparse_categorical_accuracy: 0.6738 - val_loss: 0.8896 - val_sparse_categorical_accuracy: 0.6736\n",
            "Epoch 8/200\n",
            "4638/4638 [==============================] - 0s 91us/sample - loss: 0.8510 - sparse_categorical_accuracy: 0.6839 - val_loss: 0.8706 - val_sparse_categorical_accuracy: 0.6761\n",
            "Epoch 9/200\n",
            "4638/4638 [==============================] - 0s 90us/sample - loss: 0.8274 - sparse_categorical_accuracy: 0.6956 - val_loss: 0.8716 - val_sparse_categorical_accuracy: 0.6716\n",
            "Epoch 10/200\n",
            "4638/4638 [==============================] - 0s 90us/sample - loss: 0.8131 - sparse_categorical_accuracy: 0.6936 - val_loss: 0.8298 - val_sparse_categorical_accuracy: 0.6942\n",
            "Epoch 11/200\n",
            "4638/4638 [==============================] - 0s 88us/sample - loss: 0.7839 - sparse_categorical_accuracy: 0.7089 - val_loss: 0.8081 - val_sparse_categorical_accuracy: 0.7091\n",
            "Epoch 12/200\n",
            "4638/4638 [==============================] - 0s 94us/sample - loss: 0.7677 - sparse_categorical_accuracy: 0.7171 - val_loss: 0.7966 - val_sparse_categorical_accuracy: 0.7188\n",
            "Epoch 13/200\n",
            "4638/4638 [==============================] - 0s 90us/sample - loss: 0.7456 - sparse_categorical_accuracy: 0.7262 - val_loss: 0.7829 - val_sparse_categorical_accuracy: 0.7162\n",
            "Epoch 14/200\n",
            "4638/4638 [==============================] - 0s 92us/sample - loss: 0.7370 - sparse_categorical_accuracy: 0.7346 - val_loss: 0.7616 - val_sparse_categorical_accuracy: 0.7337\n",
            "Epoch 15/200\n",
            "4638/4638 [==============================] - 0s 90us/sample - loss: 0.7192 - sparse_categorical_accuracy: 0.7426 - val_loss: 0.7579 - val_sparse_categorical_accuracy: 0.7304\n",
            "Epoch 16/200\n",
            "4638/4638 [==============================] - 0s 89us/sample - loss: 0.7043 - sparse_categorical_accuracy: 0.7471 - val_loss: 0.7431 - val_sparse_categorical_accuracy: 0.7427\n",
            "Epoch 17/200\n",
            "4638/4638 [==============================] - 0s 93us/sample - loss: 0.6968 - sparse_categorical_accuracy: 0.7546 - val_loss: 0.7462 - val_sparse_categorical_accuracy: 0.7298\n",
            "Epoch 18/200\n",
            "4638/4638 [==============================] - 0s 89us/sample - loss: 0.6912 - sparse_categorical_accuracy: 0.7592 - val_loss: 0.7392 - val_sparse_categorical_accuracy: 0.7408\n",
            "Epoch 19/200\n",
            "4638/4638 [==============================] - 0s 92us/sample - loss: 0.6731 - sparse_categorical_accuracy: 0.7592 - val_loss: 0.7340 - val_sparse_categorical_accuracy: 0.7427\n",
            "Epoch 20/200\n",
            "4638/4638 [==============================] - 0s 92us/sample - loss: 0.6726 - sparse_categorical_accuracy: 0.7572 - val_loss: 0.7146 - val_sparse_categorical_accuracy: 0.7511\n",
            "Epoch 21/200\n",
            "4638/4638 [==============================] - 0s 94us/sample - loss: 0.6621 - sparse_categorical_accuracy: 0.7648 - val_loss: 0.7236 - val_sparse_categorical_accuracy: 0.7414\n",
            "Epoch 22/200\n",
            "4638/4638 [==============================] - 0s 92us/sample - loss: 0.6558 - sparse_categorical_accuracy: 0.7678 - val_loss: 0.6993 - val_sparse_categorical_accuracy: 0.7569\n",
            "Epoch 23/200\n",
            "4638/4638 [==============================] - 0s 97us/sample - loss: 0.6419 - sparse_categorical_accuracy: 0.7768 - val_loss: 0.7054 - val_sparse_categorical_accuracy: 0.7511\n",
            "Epoch 24/200\n",
            "4638/4638 [==============================] - 0s 92us/sample - loss: 0.6411 - sparse_categorical_accuracy: 0.7719 - val_loss: 0.7019 - val_sparse_categorical_accuracy: 0.7602\n",
            "Epoch 25/200\n",
            "4638/4638 [==============================] - 0s 88us/sample - loss: 0.6271 - sparse_categorical_accuracy: 0.7779 - val_loss: 0.7039 - val_sparse_categorical_accuracy: 0.7544\n",
            "Epoch 26/200\n",
            "4638/4638 [==============================] - 0s 93us/sample - loss: 0.6228 - sparse_categorical_accuracy: 0.7812 - val_loss: 0.6872 - val_sparse_categorical_accuracy: 0.7647\n",
            "Epoch 27/200\n",
            "4638/4638 [==============================] - 0s 88us/sample - loss: 0.6188 - sparse_categorical_accuracy: 0.7786 - val_loss: 0.7047 - val_sparse_categorical_accuracy: 0.7589\n",
            "Epoch 28/200\n",
            "4638/4638 [==============================] - 0s 87us/sample - loss: 0.6118 - sparse_categorical_accuracy: 0.7842 - val_loss: 0.6857 - val_sparse_categorical_accuracy: 0.7589\n",
            "Epoch 29/200\n",
            "4638/4638 [==============================] - 0s 91us/sample - loss: 0.6087 - sparse_categorical_accuracy: 0.7824 - val_loss: 0.6801 - val_sparse_categorical_accuracy: 0.7582\n",
            "Epoch 30/200\n",
            "4638/4638 [==============================] - 0s 90us/sample - loss: 0.5974 - sparse_categorical_accuracy: 0.7824 - val_loss: 0.6997 - val_sparse_categorical_accuracy: 0.7557\n",
            "Epoch 31/200\n",
            "4638/4638 [==============================] - 0s 96us/sample - loss: 0.5949 - sparse_categorical_accuracy: 0.7878 - val_loss: 0.6968 - val_sparse_categorical_accuracy: 0.7582\n",
            "Epoch 32/200\n",
            "4638/4638 [==============================] - 0s 89us/sample - loss: 0.5945 - sparse_categorical_accuracy: 0.7885 - val_loss: 0.6799 - val_sparse_categorical_accuracy: 0.7660\n",
            "Epoch 33/200\n",
            "4638/4638 [==============================] - 0s 93us/sample - loss: 0.5901 - sparse_categorical_accuracy: 0.7829 - val_loss: 0.6792 - val_sparse_categorical_accuracy: 0.7679\n",
            "Epoch 34/200\n",
            "4416/4638 [===========================>..] - ETA: 0s - loss: 0.5782 - sparse_categorical_accuracy: 0.7953Restoring model weights from the end of the best epoch.\n",
            "4638/4638 [==============================] - 0s 90us/sample - loss: 0.5794 - sparse_categorical_accuracy: 0.7943 - val_loss: 0.6834 - val_sparse_categorical_accuracy: 0.7569\n",
            "Epoch 00034: early stopping\n"
          ],
          "name": "stdout"
        }
      ]
    },
    {
      "cell_type": "code",
      "metadata": {
        "id": "eJsw5o-xdxUN",
        "colab_type": "code",
        "outputId": "39339835-cfd9-40e5-e7cb-1313dd349779",
        "colab": {
          "base_uri": "https://localhost:8080/",
          "height": 350
        }
      },
      "source": [
        "visualzation_accuracy_loss_values_epochs(history)"
      ],
      "execution_count": 25,
      "outputs": [
        {
          "output_type": "display_data",
          "data": {
            "image/png": "[encoded data removed]",
            "text/plain": [
              "<Figure size 1080x360 with 2 Axes>"
            ]
          },
          "metadata": {
            "tags": []
          }
        }
      ]
    },
    {
      "cell_type": "code",
      "metadata": {
        "id": "hmUSH0kafeJ8",
        "colab_type": "code",
        "outputId": "073f3f16-17c6-41c3-9da8-04883c9798bf",
        "colab": {
          "base_uri": "https://localhost:8080/",
          "height": 51
        }
      },
      "source": [
        "test_loss, test_accuracy = model.evaluate(x_test, y_test)\n",
        "print(\"Test accuracy: {}\".format(test_accuracy))"
      ],
      "execution_count": 26,
      "outputs": [
        {
          "output_type": "stream",
          "text": [
            "688/688 [==============================] - 0s 109us/sample - loss: 0.6840 - sparse_categorical_accuracy: 0.7907\n",
            "Test accuracy: 0.7906976938247681\n"
          ],
          "name": "stdout"
        }
      ]
    },
    {
      "cell_type": "markdown",
      "metadata": {
        "id": "pp41smbMgEeY",
        "colab_type": "text"
      },
      "source": [
        "####Dropout +  Early Stopping\n"
      ]
    },
    {
      "cell_type": "code",
      "metadata": {
        "id": "lugXwvCWgmQZ",
        "colab_type": "code",
        "colab": {}
      },
      "source": [
        "model = tf.keras.models.Sequential()\n",
        "model.add(tf.keras.layers.Dense(units=64, activation='relu', input_shape=(5, )))\n",
        "model.add(tf.keras.layers.Dense(units=64, activation='relu'))\n",
        "model.add(tf.keras.layers.Dense(units=64, activation='relu'))\n",
        "model.add(tf.keras.layers.Dropout(0.2))\n",
        "model.add(tf.keras.layers.Dense(units=15, activation='softmax'))\n",
        "model.compile(optimizer='adam', loss='sparse_categorical_crossentropy',metrics=['sparse_categorical_accuracy'])"
      ],
      "execution_count": 0,
      "outputs": []
    },
    {
      "cell_type": "code",
      "metadata": {
        "id": "tIm40ViMhyZz",
        "colab_type": "code",
        "colab": {}
      },
      "source": [
        "monitor = EarlyStopping(monitor='val_loss', min_delta=1e-3, patience=5, verbose=1, mode='auto',\n",
        "        restore_best_weights=True)"
      ],
      "execution_count": 0,
      "outputs": []
    },
    {
      "cell_type": "code",
      "metadata": {
        "id": "f6I2dmL_iZKN",
        "colab_type": "code",
        "outputId": "2d1dfd5d-9821-4e44-a554-c18d354a646d",
        "colab": {
          "base_uri": "https://localhost:8080/",
          "height": 1000
        }
      },
      "source": [
        "history = model.fit(x_train, y_train, validation_split=0.25 ,callbacks=[monitor],batch_size=64, epochs=200 , verbose = 1)"
      ],
      "execution_count": 29,
      "outputs": [
        {
          "output_type": "stream",
          "text": [
            "Train on 4638 samples, validate on 1547 samples\n",
            "Epoch 1/200\n",
            "4638/4638 [==============================] - 1s 155us/sample - loss: 2.2319 - sparse_categorical_accuracy: 0.3228 - val_loss: 1.5840 - val_sparse_categorical_accuracy: 0.5152\n",
            "Epoch 2/200\n",
            "4638/4638 [==============================] - 0s 99us/sample - loss: 1.4036 - sparse_categorical_accuracy: 0.5364 - val_loss: 1.1661 - val_sparse_categorical_accuracy: 0.5973\n",
            "Epoch 3/200\n",
            "4638/4638 [==============================] - 0s 95us/sample - loss: 1.2094 - sparse_categorical_accuracy: 0.5683 - val_loss: 1.0714 - val_sparse_categorical_accuracy: 0.6122\n",
            "Epoch 4/200\n",
            "4638/4638 [==============================] - 0s 99us/sample - loss: 1.1131 - sparse_categorical_accuracy: 0.5953 - val_loss: 1.0183 - val_sparse_categorical_accuracy: 0.6290\n",
            "Epoch 5/200\n",
            "4638/4638 [==============================] - 0s 94us/sample - loss: 1.0566 - sparse_categorical_accuracy: 0.6246 - val_loss: 0.9645 - val_sparse_categorical_accuracy: 0.6542\n",
            "Epoch 6/200\n",
            "4638/4638 [==============================] - 0s 101us/sample - loss: 1.0198 - sparse_categorical_accuracy: 0.6317 - val_loss: 0.9313 - val_sparse_categorical_accuracy: 0.6697\n",
            "Epoch 7/200\n",
            "4638/4638 [==============================] - 0s 91us/sample - loss: 0.9862 - sparse_categorical_accuracy: 0.6419 - val_loss: 0.9254 - val_sparse_categorical_accuracy: 0.6619\n",
            "Epoch 8/200\n",
            "4638/4638 [==============================] - 0s 95us/sample - loss: 0.9541 - sparse_categorical_accuracy: 0.6481 - val_loss: 0.8960 - val_sparse_categorical_accuracy: 0.6755\n",
            "Epoch 9/200\n",
            "4638/4638 [==============================] - 0s 93us/sample - loss: 0.9369 - sparse_categorical_accuracy: 0.6498 - val_loss: 0.8596 - val_sparse_categorical_accuracy: 0.6884\n",
            "Epoch 10/200\n",
            "4638/4638 [==============================] - 0s 94us/sample - loss: 0.9108 - sparse_categorical_accuracy: 0.6621 - val_loss: 0.8452 - val_sparse_categorical_accuracy: 0.6878\n",
            "Epoch 11/200\n",
            "4638/4638 [==============================] - 0s 102us/sample - loss: 0.8804 - sparse_categorical_accuracy: 0.6759 - val_loss: 0.8328 - val_sparse_categorical_accuracy: 0.7020\n",
            "Epoch 12/200\n",
            "4638/4638 [==============================] - 0s 99us/sample - loss: 0.8609 - sparse_categorical_accuracy: 0.6848 - val_loss: 0.8201 - val_sparse_categorical_accuracy: 0.7052\n",
            "Epoch 13/200\n",
            "4638/4638 [==============================] - 0s 102us/sample - loss: 0.8443 - sparse_categorical_accuracy: 0.6947 - val_loss: 0.8018 - val_sparse_categorical_accuracy: 0.7136\n",
            "Epoch 14/200\n",
            "4638/4638 [==============================] - 0s 102us/sample - loss: 0.8268 - sparse_categorical_accuracy: 0.6962 - val_loss: 0.7951 - val_sparse_categorical_accuracy: 0.7052\n",
            "Epoch 15/200\n",
            "4638/4638 [==============================] - 0s 103us/sample - loss: 0.8107 - sparse_categorical_accuracy: 0.7012 - val_loss: 0.7823 - val_sparse_categorical_accuracy: 0.7195\n",
            "Epoch 16/200\n",
            "4638/4638 [==============================] - 0s 99us/sample - loss: 0.7967 - sparse_categorical_accuracy: 0.7167 - val_loss: 0.7646 - val_sparse_categorical_accuracy: 0.7246\n",
            "Epoch 17/200\n",
            "4638/4638 [==============================] - 0s 101us/sample - loss: 0.7802 - sparse_categorical_accuracy: 0.7236 - val_loss: 0.7651 - val_sparse_categorical_accuracy: 0.7240\n",
            "Epoch 18/200\n",
            "4638/4638 [==============================] - 0s 103us/sample - loss: 0.7616 - sparse_categorical_accuracy: 0.7199 - val_loss: 0.7563 - val_sparse_categorical_accuracy: 0.7304\n",
            "Epoch 19/200\n",
            "4638/4638 [==============================] - 0s 102us/sample - loss: 0.7494 - sparse_categorical_accuracy: 0.7331 - val_loss: 0.7390 - val_sparse_categorical_accuracy: 0.7337\n",
            "Epoch 20/200\n",
            "4638/4638 [==============================] - 0s 97us/sample - loss: 0.7334 - sparse_categorical_accuracy: 0.7318 - val_loss: 0.7356 - val_sparse_categorical_accuracy: 0.7414\n",
            "Epoch 21/200\n",
            "4638/4638 [==============================] - 0s 99us/sample - loss: 0.7355 - sparse_categorical_accuracy: 0.7285 - val_loss: 0.7299 - val_sparse_categorical_accuracy: 0.7453\n",
            "Epoch 22/200\n",
            "4638/4638 [==============================] - 0s 99us/sample - loss: 0.7230 - sparse_categorical_accuracy: 0.7342 - val_loss: 0.7147 - val_sparse_categorical_accuracy: 0.7485\n",
            "Epoch 23/200\n",
            "4638/4638 [==============================] - 0s 96us/sample - loss: 0.7227 - sparse_categorical_accuracy: 0.7393 - val_loss: 0.7165 - val_sparse_categorical_accuracy: 0.7473\n",
            "Epoch 24/200\n",
            "4638/4638 [==============================] - 0s 98us/sample - loss: 0.7087 - sparse_categorical_accuracy: 0.7495 - val_loss: 0.7150 - val_sparse_categorical_accuracy: 0.7569\n",
            "Epoch 25/200\n",
            "4638/4638 [==============================] - 0s 95us/sample - loss: 0.7081 - sparse_categorical_accuracy: 0.7462 - val_loss: 0.7168 - val_sparse_categorical_accuracy: 0.7479\n",
            "Epoch 26/200\n",
            "4638/4638 [==============================] - 0s 97us/sample - loss: 0.6966 - sparse_categorical_accuracy: 0.7508 - val_loss: 0.6990 - val_sparse_categorical_accuracy: 0.7492\n",
            "Epoch 27/200\n",
            "4638/4638 [==============================] - 0s 91us/sample - loss: 0.6791 - sparse_categorical_accuracy: 0.7561 - val_loss: 0.7162 - val_sparse_categorical_accuracy: 0.7524\n",
            "Epoch 28/200\n",
            "4638/4638 [==============================] - 0s 98us/sample - loss: 0.6762 - sparse_categorical_accuracy: 0.7574 - val_loss: 0.6902 - val_sparse_categorical_accuracy: 0.7628\n",
            "Epoch 29/200\n",
            "4638/4638 [==============================] - 0s 93us/sample - loss: 0.6666 - sparse_categorical_accuracy: 0.7579 - val_loss: 0.6874 - val_sparse_categorical_accuracy: 0.7621\n",
            "Epoch 30/200\n",
            "4638/4638 [==============================] - 0s 90us/sample - loss: 0.6620 - sparse_categorical_accuracy: 0.7600 - val_loss: 0.6823 - val_sparse_categorical_accuracy: 0.7582\n",
            "Epoch 31/200\n",
            "4638/4638 [==============================] - 0s 92us/sample - loss: 0.6590 - sparse_categorical_accuracy: 0.7613 - val_loss: 0.6804 - val_sparse_categorical_accuracy: 0.7673\n",
            "Epoch 32/200\n",
            "4638/4638 [==============================] - 0s 91us/sample - loss: 0.6472 - sparse_categorical_accuracy: 0.7652 - val_loss: 0.6862 - val_sparse_categorical_accuracy: 0.7595\n",
            "Epoch 33/200\n",
            "4638/4638 [==============================] - 0s 100us/sample - loss: 0.6477 - sparse_categorical_accuracy: 0.7667 - val_loss: 0.6752 - val_sparse_categorical_accuracy: 0.7679\n",
            "Epoch 34/200\n",
            "4638/4638 [==============================] - 0s 96us/sample - loss: 0.6376 - sparse_categorical_accuracy: 0.7762 - val_loss: 0.6712 - val_sparse_categorical_accuracy: 0.7641\n",
            "Epoch 35/200\n",
            "4638/4638 [==============================] - 0s 99us/sample - loss: 0.6333 - sparse_categorical_accuracy: 0.7708 - val_loss: 0.6644 - val_sparse_categorical_accuracy: 0.7712\n",
            "Epoch 36/200\n",
            "4638/4638 [==============================] - 0s 95us/sample - loss: 0.6353 - sparse_categorical_accuracy: 0.7790 - val_loss: 0.6647 - val_sparse_categorical_accuracy: 0.7718\n",
            "Epoch 37/200\n",
            "4638/4638 [==============================] - 0s 97us/sample - loss: 0.6269 - sparse_categorical_accuracy: 0.7771 - val_loss: 0.6593 - val_sparse_categorical_accuracy: 0.7770\n",
            "Epoch 38/200\n",
            "4638/4638 [==============================] - 0s 94us/sample - loss: 0.6194 - sparse_categorical_accuracy: 0.7809 - val_loss: 0.6614 - val_sparse_categorical_accuracy: 0.7738\n",
            "Epoch 39/200\n",
            "4638/4638 [==============================] - 0s 96us/sample - loss: 0.6122 - sparse_categorical_accuracy: 0.7835 - val_loss: 0.6678 - val_sparse_categorical_accuracy: 0.7731\n",
            "Epoch 40/200\n",
            "4638/4638 [==============================] - 0s 96us/sample - loss: 0.6212 - sparse_categorical_accuracy: 0.7786 - val_loss: 0.6631 - val_sparse_categorical_accuracy: 0.7725\n",
            "Epoch 41/200\n",
            "4638/4638 [==============================] - 0s 94us/sample - loss: 0.6016 - sparse_categorical_accuracy: 0.7915 - val_loss: 0.6591 - val_sparse_categorical_accuracy: 0.7750\n",
            "Epoch 42/200\n",
            "4638/4638 [==============================] - 0s 102us/sample - loss: 0.6025 - sparse_categorical_accuracy: 0.7844 - val_loss: 0.6453 - val_sparse_categorical_accuracy: 0.7789\n",
            "Epoch 43/200\n",
            "4638/4638 [==============================] - 0s 93us/sample - loss: 0.5960 - sparse_categorical_accuracy: 0.7885 - val_loss: 0.6540 - val_sparse_categorical_accuracy: 0.7738\n",
            "Epoch 44/200\n",
            "4638/4638 [==============================] - 0s 97us/sample - loss: 0.5981 - sparse_categorical_accuracy: 0.7837 - val_loss: 0.6459 - val_sparse_categorical_accuracy: 0.7783\n",
            "Epoch 45/200\n",
            "4638/4638 [==============================] - 0s 92us/sample - loss: 0.5894 - sparse_categorical_accuracy: 0.7915 - val_loss: 0.6581 - val_sparse_categorical_accuracy: 0.7815\n",
            "Epoch 46/200\n",
            "4638/4638 [==============================] - 0s 93us/sample - loss: 0.5819 - sparse_categorical_accuracy: 0.7939 - val_loss: 0.6621 - val_sparse_categorical_accuracy: 0.7847\n",
            "Epoch 47/200\n",
            "4480/4638 [===========================>..] - ETA: 0s - loss: 0.5832 - sparse_categorical_accuracy: 0.7859Restoring model weights from the end of the best epoch.\n",
            "4638/4638 [==============================] - 0s 98us/sample - loss: 0.5832 - sparse_categorical_accuracy: 0.7859 - val_loss: 0.6518 - val_sparse_categorical_accuracy: 0.7783\n",
            "Epoch 00047: early stopping\n"
          ],
          "name": "stdout"
        }
      ]
    },
    {
      "cell_type": "code",
      "metadata": {
        "id": "zrN1-OBNitza",
        "colab_type": "code",
        "outputId": "d77abb4c-274f-4e04-a247-0870d742be45",
        "colab": {
          "base_uri": "https://localhost:8080/",
          "height": 350
        }
      },
      "source": [
        "visualzation_accuracy_loss_values_epochs(history)"
      ],
      "execution_count": 30,
      "outputs": [
        {
          "output_type": "display_data",
          "data": {
            "image/png": "[encoded data removed]",
            "text/plain": [
              "<Figure size 1080x360 with 2 Axes>"
            ]
          },
          "metadata": {
            "tags": []
          }
        }
      ]
    },
    {
      "cell_type": "code",
      "metadata": {
        "id": "xtN2NFdkixC1",
        "colab_type": "code",
        "outputId": "0fbf5e09-a4e8-4775-9bd9-34a07dc83c43",
        "colab": {
          "base_uri": "https://localhost:8080/",
          "height": 51
        }
      },
      "source": [
        "test_loss, test_accuracy = model.evaluate(x_test, y_test)\n",
        "print(\"Test accuracy: {}\".format(test_accuracy))"
      ],
      "execution_count": 31,
      "outputs": [
        {
          "output_type": "stream",
          "text": [
            "688/688 [==============================] - 0s 103us/sample - loss: 0.6359 - sparse_categorical_accuracy: 0.7951\n",
            "Test accuracy: 0.7950581312179565\n"
          ],
          "name": "stdout"
        }
      ]
    }
  ]
}