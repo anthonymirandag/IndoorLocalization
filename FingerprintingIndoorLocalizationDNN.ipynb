{
  "nbformat": 4,
  "nbformat_minor": 0,
  "metadata": {
    "colab": {
      "name": "FingerprintingIndoorLocalizationDNN.ipynb",
      "provenance": [],
      "collapsed_sections": [
        "jfD-rajd1qfL",
        "YIZ3OHF3utVx"
      ],
      "toc_visible": true,
      "include_colab_link": true
    },
    "kernelspec": {
      "name": "python3",
      "display_name": "Python 3"
    },
    "accelerator": "GPU"
  },
  "cells": [
    {
      "cell_type": "markdown",
      "metadata": {
        "id": "view-in-github",
        "colab_type": "text"
      },
      "source": [
        "<a href=\"https://colab.research.google.com/github/anthonymirandag/IndoorLocalization/blob/master/FingerprintingIndoorLocalizationDNN.ipynb\" target=\"_parent\"><img src=\"https://colab.research.google.com/assets/colab-badge.svg\" alt=\"Open In Colab\"/></a>"
      ]
    },
    {
      "cell_type": "markdown",
      "metadata": {
        "id": "Dt99lcRSdqEQ",
        "colab_type": "text"
      },
      "source": [
        "# **1.** Importacion de librerias"
      ]
    },
    {
      "cell_type": "code",
      "metadata": {
        "id": "krHSrmmVdGBH",
        "colab_type": "code",
        "colab": {
          "base_uri": "https://localhost:8080/",
          "height": 360
        },
        "outputId": "0f7c8cdf-a2c1-4bfc-8fb7-64e3c7de48e6"
      },
      "source": [
        "import numpy as np \n",
        "import pandas as pd\n",
        "import matplotlib.pyplot as plt\n",
        "import io\n",
        "import seaborn as sns\n",
        "from sklearn.preprocessing import LabelEncoder\n",
        "from sklearn.model_selection import train_test_split\n",
        "from sklearn.metrics import accuracy_score\n",
        "from sklearn.metrics import confusion_matrix\n",
        "from sklearn.preprocessing import StandardScaler\n",
        "!pip install tensorflow-gpu==2.0.0.alpha0\n",
        "import datetime\n",
        "import tensorflow as tf\n",
        "from tensorflow.keras.callbacks import EarlyStopping\n"
      ],
      "execution_count": 3,
      "outputs": [
        {
          "output_type": "stream",
          "text": [
            "Requirement already satisfied: tensorflow-gpu==2.0.0.alpha0 in /usr/local/lib/python3.6/dist-packages (2.0.0a0)\n",
            "Requirement already satisfied: grpcio>=1.8.6 in /usr/local/lib/python3.6/dist-packages (from tensorflow-gpu==2.0.0.alpha0) (1.15.0)\n",
            "Requirement already satisfied: termcolor>=1.1.0 in /usr/local/lib/python3.6/dist-packages (from tensorflow-gpu==2.0.0.alpha0) (1.1.0)\n",
            "Requirement already satisfied: numpy<2.0,>=1.14.5 in /usr/local/lib/python3.6/dist-packages (from tensorflow-gpu==2.0.0.alpha0) (1.17.4)\n",
            "Requirement already satisfied: astor>=0.6.0 in /usr/local/lib/python3.6/dist-packages (from tensorflow-gpu==2.0.0.alpha0) (0.8.0)\n",
            "Requirement already satisfied: six>=1.10.0 in /usr/local/lib/python3.6/dist-packages (from tensorflow-gpu==2.0.0.alpha0) (1.12.0)\n",
            "Requirement already satisfied: absl-py>=0.7.0 in /usr/local/lib/python3.6/dist-packages (from tensorflow-gpu==2.0.0.alpha0) (0.8.1)\n",
            "Requirement already satisfied: wheel>=0.26 in /usr/local/lib/python3.6/dist-packages (from tensorflow-gpu==2.0.0.alpha0) (0.33.6)\n",
            "Requirement already satisfied: gast>=0.2.0 in /usr/local/lib/python3.6/dist-packages (from tensorflow-gpu==2.0.0.alpha0) (0.2.2)\n",
            "Requirement already satisfied: keras-applications>=1.0.6 in /usr/local/lib/python3.6/dist-packages (from tensorflow-gpu==2.0.0.alpha0) (1.0.8)\n",
            "Requirement already satisfied: protobuf>=3.6.1 in /usr/local/lib/python3.6/dist-packages (from tensorflow-gpu==2.0.0.alpha0) (3.10.0)\n",
            "Requirement already satisfied: tb-nightly<1.14.0a20190302,>=1.14.0a20190301 in /usr/local/lib/python3.6/dist-packages (from tensorflow-gpu==2.0.0.alpha0) (1.14.0a20190301)\n",
            "Requirement already satisfied: tf-estimator-nightly<1.14.0.dev2019030116,>=1.14.0.dev2019030115 in /usr/local/lib/python3.6/dist-packages (from tensorflow-gpu==2.0.0.alpha0) (1.14.0.dev2019030115)\n",
            "Requirement already satisfied: keras-preprocessing>=1.0.5 in /usr/local/lib/python3.6/dist-packages (from tensorflow-gpu==2.0.0.alpha0) (1.1.0)\n",
            "Requirement already satisfied: google-pasta>=0.1.2 in /usr/local/lib/python3.6/dist-packages (from tensorflow-gpu==2.0.0.alpha0) (0.1.8)\n",
            "Requirement already satisfied: h5py in /usr/local/lib/python3.6/dist-packages (from keras-applications>=1.0.6->tensorflow-gpu==2.0.0.alpha0) (2.8.0)\n",
            "Requirement already satisfied: setuptools in /usr/local/lib/python3.6/dist-packages (from protobuf>=3.6.1->tensorflow-gpu==2.0.0.alpha0) (41.4.0)\n",
            "Requirement already satisfied: werkzeug>=0.11.15 in /usr/local/lib/python3.6/dist-packages (from tb-nightly<1.14.0a20190302,>=1.14.0a20190301->tensorflow-gpu==2.0.0.alpha0) (0.16.0)\n",
            "Requirement already satisfied: markdown>=2.6.8 in /usr/local/lib/python3.6/dist-packages (from tb-nightly<1.14.0a20190302,>=1.14.0a20190301->tensorflow-gpu==2.0.0.alpha0) (3.1.1)\n"
          ],
          "name": "stdout"
        }
      ]
    },
    {
      "cell_type": "code",
      "metadata": {
        "id": "8JhINnGcdZDR",
        "colab_type": "code",
        "colab": {
          "base_uri": "https://localhost:8080/",
          "height": 122
        },
        "outputId": "2b66f301-d435-48db-abe8-3c0d41e61266"
      },
      "source": [
        "from google.colab import drive\n",
        "drive.mount('/content/gdrive')"
      ],
      "execution_count": 4,
      "outputs": [
        {
          "output_type": "stream",
          "text": [
            "Go to this URL in a browser: https://accounts.google.com/o/oauth2/auth?client_id=947318989803-6bn6qk8qdgf4n4g3pfee6491hc0brc4i.apps.googleusercontent.com&redirect_uri=urn%3aietf%3awg%3aoauth%3a2.0%3aoob&response_type=code&scope=email%20https%3a%2f%2fwww.googleapis.com%2fauth%2fdocs.test%20https%3a%2f%2fwww.googleapis.com%2fauth%2fdrive%20https%3a%2f%2fwww.googleapis.com%2fauth%2fdrive.photos.readonly%20https%3a%2f%2fwww.googleapis.com%2fauth%2fpeopleapi.readonly\n",
            "\n",
            "Enter your authorization code:\n",
            "··········\n",
            "Mounted at /content/gdrive\n"
          ],
          "name": "stdout"
        }
      ]
    },
    {
      "cell_type": "markdown",
      "metadata": {
        "id": "rePG7IyMmfnS",
        "colab_type": "text"
      },
      "source": [
        "# **2.** Preprocedado de datos"
      ]
    },
    {
      "cell_type": "markdown",
      "metadata": {
        "colab_type": "text",
        "id": "x9JiGuGceLen"
      },
      "source": [
        "## Carga de datos"
      ]
    },
    {
      "cell_type": "code",
      "metadata": {
        "id": "Ue3A3fQWdf8t",
        "colab_type": "code",
        "colab": {}
      },
      "source": [
        "drive_path = \"/content/gdrive/My Drive/ProyectoTesis/datasets\"\n",
        "df = pd.read_csv(drive_path+'/Tx_full.csv')"
      ],
      "execution_count": 0,
      "outputs": []
    },
    {
      "cell_type": "code",
      "metadata": {
        "id": "YXVZnHOxkIRb",
        "colab_type": "code",
        "colab": {}
      },
      "source": [
        "target_label =  'Sector'\n",
        "\n",
        "x = df.drop(target_label , axis= 1)\n",
        "y = df[target_label]\n",
        "labelencoder_y = LabelEncoder()\n",
        "y = labelencoder_y.fit_transform(y)\n",
        "#y = df[target_label].astype(int) - 1 "
      ],
      "execution_count": 0,
      "outputs": []
    },
    {
      "cell_type": "markdown",
      "metadata": {
        "id": "pGFhjy53joq8",
        "colab_type": "text"
      },
      "source": [
        "## Normalizacion de los datos de entrada\n"
      ]
    },
    {
      "cell_type": "code",
      "metadata": {
        "id": "Ir2JUuorjsNx",
        "colab_type": "code",
        "colab": {}
      },
      "source": [
        "scaler = StandardScaler()\n",
        "scaler.fit(x)\n",
        "x = scaler.transform(x)"
      ],
      "execution_count": 0,
      "outputs": []
    },
    {
      "cell_type": "code",
      "metadata": {
        "id": "e6nh9LXLj2ES",
        "colab_type": "code",
        "colab": {
          "base_uri": "https://localhost:8080/",
          "height": 136
        },
        "outputId": "5f0a3ead-1f1d-49c4-819f-c060af31d099"
      },
      "source": [
        "x"
      ],
      "execution_count": 30,
      "outputs": [
        {
          "output_type": "execute_result",
          "data": {
            "text/plain": [
              "array([[ 0.10518246,  0.98342957,  1.87879222, -0.32343564, -0.03082775],\n",
              "       [ 0.61971557, -0.25637626,  1.59255362,  0.02782819,  1.05202996],\n",
              "       [-0.06632858,  0.82845384,  1.87879222, -0.32343564, -0.21130404],\n",
              "       ...,\n",
              "       [-0.23783962,  0.82845384, -0.6973552 , -1.55285907,  1.41298253],\n",
              "       [-0.23783962,  0.98342957, -0.6973552 , -1.37722715,  1.41298253],\n",
              "       [-0.23783962,  0.82845384, -0.6973552 , -0.8503314 ,  1.41298253]])"
            ]
          },
          "metadata": {
            "tags": []
          },
          "execution_count": 30
        }
      ]
    },
    {
      "cell_type": "markdown",
      "metadata": {
        "id": "xj6jKmvCeF_g",
        "colab_type": "text"
      },
      "source": [
        "## Division del conjunto de datos\n"
      ]
    },
    {
      "cell_type": "code",
      "metadata": {
        "id": "L1vg7gyBgKbx",
        "colab_type": "code",
        "colab": {}
      },
      "source": [
        "x_train, x_test, y_train, y_test = train_test_split(x,y, test_size= 0.10, random_state=27)"
      ],
      "execution_count": 0,
      "outputs": []
    },
    {
      "cell_type": "markdown",
      "metadata": {
        "id": "-ku27Im7gLQH",
        "colab_type": "text"
      },
      "source": [
        "# **3.** Creacion del modelo : \n",
        "### Percentron multicapa.\n",
        " Hiperparametros :\n",
        "* 3 capas ocultas con 128 neuronas\n",
        "* Capa de activacion rectificador uniforme\n",
        "* learning rate = 0.00001\n",
        "* optimazador adam\n",
        "\n"
      ]
    },
    {
      "cell_type": "code",
      "metadata": {
        "id": "WHKMZotJoOae",
        "colab_type": "code",
        "colab": {}
      },
      "source": [
        "model = tf.keras.models.Sequential()\n",
        "model.add(tf.keras.layers.Dense(units=64, activation='relu', input_shape=(5, )))\n",
        "model.add(tf.keras.layers.Dense(units=64, activation='relu'))\n",
        "model.add(tf.keras.layers.Dense(units=64, activation='relu'))\n",
        "model.add(tf.keras.layers.Dense(units=15, activation='softmax'))"
      ],
      "execution_count": 0,
      "outputs": []
    },
    {
      "cell_type": "markdown",
      "metadata": {
        "id": "sXKqE06Ooe8Z",
        "colab_type": "text"
      },
      "source": [
        "### Compilar modelo"
      ]
    },
    {
      "cell_type": "code",
      "metadata": {
        "id": "Ip285-85o7hP",
        "colab_type": "code",
        "colab": {}
      },
      "source": [
        "model.compile(optimizer='adam', loss='sparse_categorical_crossentropy',metrics=['sparse_categorical_accuracy'])"
      ],
      "execution_count": 0,
      "outputs": []
    },
    {
      "cell_type": "markdown",
      "metadata": {
        "id": "9kEfGzqdpUle",
        "colab_type": "text"
      },
      "source": [
        "### Entranar el modelo"
      ]
    },
    {
      "cell_type": "code",
      "metadata": {
        "id": "JWcCTlO-pXY6",
        "colab_type": "code",
        "colab": {
          "base_uri": "https://localhost:8080/",
          "height": 1000
        },
        "outputId": "640d5904-52a0-4410-d3d7-28dea21cc615"
      },
      "source": [
        "history = model.fit(x_train, y_train, validation_split=0.25 ,batch_size=64, epochs=200 , verbose = 1)"
      ],
      "execution_count": 40,
      "outputs": [
        {
          "output_type": "stream",
          "text": [
            "Train on 8268 samples, validate on 2757 samples\n",
            "Epoch 1/200\n",
            "8268/8268 [==============================] - 1s 88us/sample - loss: 1.9570 - sparse_categorical_accuracy: 0.4028 - val_loss: 1.4351 - val_sparse_categorical_accuracy: 0.5078\n",
            "Epoch 2/200\n",
            "8268/8268 [==============================] - 1s 67us/sample - loss: 1.2961 - sparse_categorical_accuracy: 0.5582 - val_loss: 1.2133 - val_sparse_categorical_accuracy: 0.5778\n",
            "Epoch 3/200\n",
            "8268/8268 [==============================] - 1s 67us/sample - loss: 1.1349 - sparse_categorical_accuracy: 0.6110 - val_loss: 1.0917 - val_sparse_categorical_accuracy: 0.6318\n",
            "Epoch 4/200\n",
            "8268/8268 [==============================] - 1s 69us/sample - loss: 1.0425 - sparse_categorical_accuracy: 0.6427 - val_loss: 1.0287 - val_sparse_categorical_accuracy: 0.6554\n",
            "Epoch 5/200\n",
            "8268/8268 [==============================] - 1s 66us/sample - loss: 0.9796 - sparse_categorical_accuracy: 0.6638 - val_loss: 0.9815 - val_sparse_categorical_accuracy: 0.6638\n",
            "Epoch 6/200\n",
            "8268/8268 [==============================] - 1s 66us/sample - loss: 0.9311 - sparse_categorical_accuracy: 0.6815 - val_loss: 0.9391 - val_sparse_categorical_accuracy: 0.6754\n",
            "Epoch 7/200\n",
            "8268/8268 [==============================] - 1s 64us/sample - loss: 0.8924 - sparse_categorical_accuracy: 0.6948 - val_loss: 0.8975 - val_sparse_categorical_accuracy: 0.7018\n",
            "Epoch 8/200\n",
            "8268/8268 [==============================] - 1s 66us/sample - loss: 0.8583 - sparse_categorical_accuracy: 0.7037 - val_loss: 0.8821 - val_sparse_categorical_accuracy: 0.7011\n",
            "Epoch 9/200\n",
            "8268/8268 [==============================] - 1s 61us/sample - loss: 0.8338 - sparse_categorical_accuracy: 0.7059 - val_loss: 0.8449 - val_sparse_categorical_accuracy: 0.7037\n",
            "Epoch 10/200\n",
            "8268/8268 [==============================] - 1s 61us/sample - loss: 0.8043 - sparse_categorical_accuracy: 0.7184 - val_loss: 0.8409 - val_sparse_categorical_accuracy: 0.7232\n",
            "Epoch 11/200\n",
            "8268/8268 [==============================] - 1s 61us/sample - loss: 0.7866 - sparse_categorical_accuracy: 0.7258 - val_loss: 0.8241 - val_sparse_categorical_accuracy: 0.7222\n",
            "Epoch 12/200\n",
            "8268/8268 [==============================] - 1s 62us/sample - loss: 0.7600 - sparse_categorical_accuracy: 0.7371 - val_loss: 0.7995 - val_sparse_categorical_accuracy: 0.7254\n",
            "Epoch 13/200\n",
            "8268/8268 [==============================] - 1s 62us/sample - loss: 0.7434 - sparse_categorical_accuracy: 0.7400 - val_loss: 0.7629 - val_sparse_categorical_accuracy: 0.7454\n",
            "Epoch 14/200\n",
            "8268/8268 [==============================] - 1s 61us/sample - loss: 0.7233 - sparse_categorical_accuracy: 0.7508 - val_loss: 0.7720 - val_sparse_categorical_accuracy: 0.7425\n",
            "Epoch 15/200\n",
            "8268/8268 [==============================] - 1s 63us/sample - loss: 0.7096 - sparse_categorical_accuracy: 0.7536 - val_loss: 0.7487 - val_sparse_categorical_accuracy: 0.7476\n",
            "Epoch 16/200\n",
            "8268/8268 [==============================] - 1s 64us/sample - loss: 0.6893 - sparse_categorical_accuracy: 0.7592 - val_loss: 0.7456 - val_sparse_categorical_accuracy: 0.7428\n",
            "Epoch 17/200\n",
            "8268/8268 [==============================] - 1s 66us/sample - loss: 0.6785 - sparse_categorical_accuracy: 0.7600 - val_loss: 0.7377 - val_sparse_categorical_accuracy: 0.7584\n",
            "Epoch 18/200\n",
            "8268/8268 [==============================] - 1s 64us/sample - loss: 0.6625 - sparse_categorical_accuracy: 0.7696 - val_loss: 0.7112 - val_sparse_categorical_accuracy: 0.7584\n",
            "Epoch 19/200\n",
            "8268/8268 [==============================] - 1s 62us/sample - loss: 0.6516 - sparse_categorical_accuracy: 0.7736 - val_loss: 0.6927 - val_sparse_categorical_accuracy: 0.7686\n",
            "Epoch 20/200\n",
            "8268/8268 [==============================] - 1s 63us/sample - loss: 0.6356 - sparse_categorical_accuracy: 0.7781 - val_loss: 0.6884 - val_sparse_categorical_accuracy: 0.7715\n",
            "Epoch 21/200\n",
            "8268/8268 [==============================] - 1s 62us/sample - loss: 0.6254 - sparse_categorical_accuracy: 0.7795 - val_loss: 0.6700 - val_sparse_categorical_accuracy: 0.7733\n",
            "Epoch 22/200\n",
            "8268/8268 [==============================] - 1s 61us/sample - loss: 0.6161 - sparse_categorical_accuracy: 0.7862 - val_loss: 0.6716 - val_sparse_categorical_accuracy: 0.7711\n",
            "Epoch 23/200\n",
            "8268/8268 [==============================] - 1s 64us/sample - loss: 0.6083 - sparse_categorical_accuracy: 0.7852 - val_loss: 0.6518 - val_sparse_categorical_accuracy: 0.7820\n",
            "Epoch 24/200\n",
            "8268/8268 [==============================] - 1s 64us/sample - loss: 0.5965 - sparse_categorical_accuracy: 0.7941 - val_loss: 0.6410 - val_sparse_categorical_accuracy: 0.7824\n",
            "Epoch 25/200\n",
            "8268/8268 [==============================] - 1s 61us/sample - loss: 0.5889 - sparse_categorical_accuracy: 0.7929 - val_loss: 0.6481 - val_sparse_categorical_accuracy: 0.7780\n",
            "Epoch 26/200\n",
            "8268/8268 [==============================] - 1s 62us/sample - loss: 0.5765 - sparse_categorical_accuracy: 0.7975 - val_loss: 0.6338 - val_sparse_categorical_accuracy: 0.7896\n",
            "Epoch 27/200\n",
            "8268/8268 [==============================] - 1s 63us/sample - loss: 0.5711 - sparse_categorical_accuracy: 0.7978 - val_loss: 0.6257 - val_sparse_categorical_accuracy: 0.7904\n",
            "Epoch 28/200\n",
            "8268/8268 [==============================] - 1s 62us/sample - loss: 0.5612 - sparse_categorical_accuracy: 0.8055 - val_loss: 0.6130 - val_sparse_categorical_accuracy: 0.7933\n",
            "Epoch 29/200\n",
            "8268/8268 [==============================] - 1s 64us/sample - loss: 0.5515 - sparse_categorical_accuracy: 0.8061 - val_loss: 0.6196 - val_sparse_categorical_accuracy: 0.7878\n",
            "Epoch 30/200\n",
            "8268/8268 [==============================] - 0s 60us/sample - loss: 0.5464 - sparse_categorical_accuracy: 0.8089 - val_loss: 0.6043 - val_sparse_categorical_accuracy: 0.7940\n",
            "Epoch 31/200\n",
            "8268/8268 [==============================] - 1s 63us/sample - loss: 0.5344 - sparse_categorical_accuracy: 0.8123 - val_loss: 0.5963 - val_sparse_categorical_accuracy: 0.7900\n",
            "Epoch 32/200\n",
            "8268/8268 [==============================] - 1s 63us/sample - loss: 0.5287 - sparse_categorical_accuracy: 0.8163 - val_loss: 0.6161 - val_sparse_categorical_accuracy: 0.7914\n",
            "Epoch 33/200\n",
            "8268/8268 [==============================] - 1s 65us/sample - loss: 0.5281 - sparse_categorical_accuracy: 0.8129 - val_loss: 0.5911 - val_sparse_categorical_accuracy: 0.8052\n",
            "Epoch 34/200\n",
            "8268/8268 [==============================] - 0s 59us/sample - loss: 0.5151 - sparse_categorical_accuracy: 0.8181 - val_loss: 0.5860 - val_sparse_categorical_accuracy: 0.8034\n",
            "Epoch 35/200\n",
            "8268/8268 [==============================] - 1s 64us/sample - loss: 0.5127 - sparse_categorical_accuracy: 0.8203 - val_loss: 0.5759 - val_sparse_categorical_accuracy: 0.8016\n",
            "Epoch 36/200\n",
            "8268/8268 [==============================] - 1s 62us/sample - loss: 0.5040 - sparse_categorical_accuracy: 0.8250 - val_loss: 0.5853 - val_sparse_categorical_accuracy: 0.8027\n",
            "Epoch 37/200\n",
            "8268/8268 [==============================] - 1s 67us/sample - loss: 0.4960 - sparse_categorical_accuracy: 0.8249 - val_loss: 0.5759 - val_sparse_categorical_accuracy: 0.8070\n",
            "Epoch 38/200\n",
            "8268/8268 [==============================] - 1s 63us/sample - loss: 0.4919 - sparse_categorical_accuracy: 0.8314 - val_loss: 0.5723 - val_sparse_categorical_accuracy: 0.8110\n",
            "Epoch 39/200\n",
            "8268/8268 [==============================] - 1s 67us/sample - loss: 0.4885 - sparse_categorical_accuracy: 0.8283 - val_loss: 0.5541 - val_sparse_categorical_accuracy: 0.8165\n",
            "Epoch 40/200\n",
            "8268/8268 [==============================] - 1s 61us/sample - loss: 0.4859 - sparse_categorical_accuracy: 0.8278 - val_loss: 0.5722 - val_sparse_categorical_accuracy: 0.8020\n",
            "Epoch 41/200\n",
            "8268/8268 [==============================] - 1s 65us/sample - loss: 0.4787 - sparse_categorical_accuracy: 0.8295 - val_loss: 0.5722 - val_sparse_categorical_accuracy: 0.8092\n",
            "Epoch 42/200\n",
            "8268/8268 [==============================] - 1s 65us/sample - loss: 0.4775 - sparse_categorical_accuracy: 0.8320 - val_loss: 0.5656 - val_sparse_categorical_accuracy: 0.8045\n",
            "Epoch 43/200\n",
            "8268/8268 [==============================] - 1s 66us/sample - loss: 0.4617 - sparse_categorical_accuracy: 0.8399 - val_loss: 0.5405 - val_sparse_categorical_accuracy: 0.8161\n",
            "Epoch 44/200\n",
            "8268/8268 [==============================] - 1s 66us/sample - loss: 0.4610 - sparse_categorical_accuracy: 0.8397 - val_loss: 0.5424 - val_sparse_categorical_accuracy: 0.8205\n",
            "Epoch 45/200\n",
            "8268/8268 [==============================] - 1s 62us/sample - loss: 0.4549 - sparse_categorical_accuracy: 0.8403 - val_loss: 0.5569 - val_sparse_categorical_accuracy: 0.8154\n",
            "Epoch 46/200\n",
            "8268/8268 [==============================] - 1s 64us/sample - loss: 0.4556 - sparse_categorical_accuracy: 0.8391 - val_loss: 0.5366 - val_sparse_categorical_accuracy: 0.8165\n",
            "Epoch 47/200\n",
            "8268/8268 [==============================] - 1s 62us/sample - loss: 0.4460 - sparse_categorical_accuracy: 0.8379 - val_loss: 0.5217 - val_sparse_categorical_accuracy: 0.8237\n",
            "Epoch 48/200\n",
            "8268/8268 [==============================] - 1s 63us/sample - loss: 0.4426 - sparse_categorical_accuracy: 0.8417 - val_loss: 0.5256 - val_sparse_categorical_accuracy: 0.8223\n",
            "Epoch 49/200\n",
            "8268/8268 [==============================] - 1s 62us/sample - loss: 0.4396 - sparse_categorical_accuracy: 0.8469 - val_loss: 0.5322 - val_sparse_categorical_accuracy: 0.8215\n",
            "Epoch 50/200\n",
            "8268/8268 [==============================] - 1s 64us/sample - loss: 0.4358 - sparse_categorical_accuracy: 0.8506 - val_loss: 0.5306 - val_sparse_categorical_accuracy: 0.8303\n",
            "Epoch 51/200\n",
            "8268/8268 [==============================] - 1s 61us/sample - loss: 0.4352 - sparse_categorical_accuracy: 0.8480 - val_loss: 0.5246 - val_sparse_categorical_accuracy: 0.8288\n",
            "Epoch 52/200\n",
            "8268/8268 [==============================] - 1s 68us/sample - loss: 0.4245 - sparse_categorical_accuracy: 0.8511 - val_loss: 0.5174 - val_sparse_categorical_accuracy: 0.8313\n",
            "Epoch 53/200\n",
            "8268/8268 [==============================] - 1s 61us/sample - loss: 0.4220 - sparse_categorical_accuracy: 0.8516 - val_loss: 0.5261 - val_sparse_categorical_accuracy: 0.8194\n",
            "Epoch 54/200\n",
            "8268/8268 [==============================] - 1s 68us/sample - loss: 0.4240 - sparse_categorical_accuracy: 0.8563 - val_loss: 0.5272 - val_sparse_categorical_accuracy: 0.8263\n",
            "Epoch 55/200\n",
            "8268/8268 [==============================] - 0s 60us/sample - loss: 0.4206 - sparse_categorical_accuracy: 0.8515 - val_loss: 0.5132 - val_sparse_categorical_accuracy: 0.8244\n",
            "Epoch 56/200\n",
            "8268/8268 [==============================] - 1s 64us/sample - loss: 0.4149 - sparse_categorical_accuracy: 0.8524 - val_loss: 0.5213 - val_sparse_categorical_accuracy: 0.8299\n",
            "Epoch 57/200\n",
            "8268/8268 [==============================] - 1s 61us/sample - loss: 0.4110 - sparse_categorical_accuracy: 0.8560 - val_loss: 0.5186 - val_sparse_categorical_accuracy: 0.8223\n",
            "Epoch 58/200\n",
            "8268/8268 [==============================] - 1s 64us/sample - loss: 0.4076 - sparse_categorical_accuracy: 0.8545 - val_loss: 0.5228 - val_sparse_categorical_accuracy: 0.8255\n",
            "Epoch 59/200\n",
            "8268/8268 [==============================] - 0s 58us/sample - loss: 0.4069 - sparse_categorical_accuracy: 0.8566 - val_loss: 0.5175 - val_sparse_categorical_accuracy: 0.8194\n",
            "Epoch 60/200\n",
            "8268/8268 [==============================] - 1s 66us/sample - loss: 0.3997 - sparse_categorical_accuracy: 0.8602 - val_loss: 0.5144 - val_sparse_categorical_accuracy: 0.8277\n",
            "Epoch 61/200\n",
            "8268/8268 [==============================] - 1s 61us/sample - loss: 0.3973 - sparse_categorical_accuracy: 0.8628 - val_loss: 0.5060 - val_sparse_categorical_accuracy: 0.8273\n",
            "Epoch 62/200\n",
            "8268/8268 [==============================] - 1s 63us/sample - loss: 0.3965 - sparse_categorical_accuracy: 0.8603 - val_loss: 0.5014 - val_sparse_categorical_accuracy: 0.8353\n",
            "Epoch 63/200\n",
            "8268/8268 [==============================] - 1s 63us/sample - loss: 0.3926 - sparse_categorical_accuracy: 0.8649 - val_loss: 0.5077 - val_sparse_categorical_accuracy: 0.8295\n",
            "Epoch 64/200\n",
            "8268/8268 [==============================] - 1s 61us/sample - loss: 0.3877 - sparse_categorical_accuracy: 0.8641 - val_loss: 0.5005 - val_sparse_categorical_accuracy: 0.8310\n",
            "Epoch 65/200\n",
            "8268/8268 [==============================] - 1s 61us/sample - loss: 0.3878 - sparse_categorical_accuracy: 0.8639 - val_loss: 0.5060 - val_sparse_categorical_accuracy: 0.8295\n",
            "Epoch 66/200\n",
            "8268/8268 [==============================] - 1s 64us/sample - loss: 0.3834 - sparse_categorical_accuracy: 0.8662 - val_loss: 0.5049 - val_sparse_categorical_accuracy: 0.8284\n",
            "Epoch 67/200\n",
            "8268/8268 [==============================] - 1s 62us/sample - loss: 0.3833 - sparse_categorical_accuracy: 0.8672 - val_loss: 0.4950 - val_sparse_categorical_accuracy: 0.8361\n",
            "Epoch 68/200\n",
            "8268/8268 [==============================] - 1s 62us/sample - loss: 0.3794 - sparse_categorical_accuracy: 0.8638 - val_loss: 0.5002 - val_sparse_categorical_accuracy: 0.8339\n",
            "Epoch 69/200\n",
            "8268/8268 [==============================] - 1s 63us/sample - loss: 0.3814 - sparse_categorical_accuracy: 0.8637 - val_loss: 0.4829 - val_sparse_categorical_accuracy: 0.8361\n",
            "Epoch 70/200\n",
            "8268/8268 [==============================] - 1s 62us/sample - loss: 0.3750 - sparse_categorical_accuracy: 0.8707 - val_loss: 0.5021 - val_sparse_categorical_accuracy: 0.8353\n",
            "Epoch 71/200\n",
            "8268/8268 [==============================] - 1s 61us/sample - loss: 0.3732 - sparse_categorical_accuracy: 0.8719 - val_loss: 0.4983 - val_sparse_categorical_accuracy: 0.8339\n",
            "Epoch 72/200\n",
            "8268/8268 [==============================] - 1s 64us/sample - loss: 0.3704 - sparse_categorical_accuracy: 0.8702 - val_loss: 0.4952 - val_sparse_categorical_accuracy: 0.8346\n",
            "Epoch 73/200\n",
            "8268/8268 [==============================] - 1s 61us/sample - loss: 0.3682 - sparse_categorical_accuracy: 0.8745 - val_loss: 0.5066 - val_sparse_categorical_accuracy: 0.8357\n",
            "Epoch 74/200\n",
            "8268/8268 [==============================] - 1s 62us/sample - loss: 0.3649 - sparse_categorical_accuracy: 0.8716 - val_loss: 0.5240 - val_sparse_categorical_accuracy: 0.8306\n",
            "Epoch 75/200\n",
            "8268/8268 [==============================] - 1s 64us/sample - loss: 0.3694 - sparse_categorical_accuracy: 0.8714 - val_loss: 0.5009 - val_sparse_categorical_accuracy: 0.8339\n",
            "Epoch 76/200\n",
            "8268/8268 [==============================] - 1s 65us/sample - loss: 0.3662 - sparse_categorical_accuracy: 0.8674 - val_loss: 0.4964 - val_sparse_categorical_accuracy: 0.8375\n",
            "Epoch 77/200\n",
            "8268/8268 [==============================] - 1s 66us/sample - loss: 0.3612 - sparse_categorical_accuracy: 0.8732 - val_loss: 0.5196 - val_sparse_categorical_accuracy: 0.8255\n",
            "Epoch 78/200\n",
            "8268/8268 [==============================] - 1s 62us/sample - loss: 0.3637 - sparse_categorical_accuracy: 0.8711 - val_loss: 0.4849 - val_sparse_categorical_accuracy: 0.8411\n",
            "Epoch 79/200\n",
            "8268/8268 [==============================] - 1s 67us/sample - loss: 0.3564 - sparse_categorical_accuracy: 0.8729 - val_loss: 0.4805 - val_sparse_categorical_accuracy: 0.8332\n",
            "Epoch 80/200\n",
            "8268/8268 [==============================] - 1s 60us/sample - loss: 0.3551 - sparse_categorical_accuracy: 0.8760 - val_loss: 0.4861 - val_sparse_categorical_accuracy: 0.8350\n",
            "Epoch 81/200\n",
            "8268/8268 [==============================] - 1s 66us/sample - loss: 0.3518 - sparse_categorical_accuracy: 0.8783 - val_loss: 0.4934 - val_sparse_categorical_accuracy: 0.8382\n",
            "Epoch 82/200\n",
            "8268/8268 [==============================] - 1s 63us/sample - loss: 0.3509 - sparse_categorical_accuracy: 0.8747 - val_loss: 0.5032 - val_sparse_categorical_accuracy: 0.8332\n",
            "Epoch 83/200\n",
            "8268/8268 [==============================] - 1s 64us/sample - loss: 0.3524 - sparse_categorical_accuracy: 0.8757 - val_loss: 0.4792 - val_sparse_categorical_accuracy: 0.8426\n",
            "Epoch 84/200\n",
            "8268/8268 [==============================] - 1s 61us/sample - loss: 0.3496 - sparse_categorical_accuracy: 0.8782 - val_loss: 0.4907 - val_sparse_categorical_accuracy: 0.8375\n",
            "Epoch 85/200\n",
            "8268/8268 [==============================] - 1s 63us/sample - loss: 0.3462 - sparse_categorical_accuracy: 0.8763 - val_loss: 0.4911 - val_sparse_categorical_accuracy: 0.8350\n",
            "Epoch 86/200\n",
            "8268/8268 [==============================] - 0s 60us/sample - loss: 0.3420 - sparse_categorical_accuracy: 0.8818 - val_loss: 0.4906 - val_sparse_categorical_accuracy: 0.8361\n",
            "Epoch 87/200\n",
            "8268/8268 [==============================] - 1s 64us/sample - loss: 0.3392 - sparse_categorical_accuracy: 0.8827 - val_loss: 0.4850 - val_sparse_categorical_accuracy: 0.8400\n",
            "Epoch 88/200\n",
            "8268/8268 [==============================] - 0s 60us/sample - loss: 0.3356 - sparse_categorical_accuracy: 0.8834 - val_loss: 0.4778 - val_sparse_categorical_accuracy: 0.8404\n",
            "Epoch 89/200\n",
            "8268/8268 [==============================] - 1s 64us/sample - loss: 0.3353 - sparse_categorical_accuracy: 0.8832 - val_loss: 0.4919 - val_sparse_categorical_accuracy: 0.8408\n",
            "Epoch 90/200\n",
            "8268/8268 [==============================] - 0s 59us/sample - loss: 0.3390 - sparse_categorical_accuracy: 0.8777 - val_loss: 0.4798 - val_sparse_categorical_accuracy: 0.8473\n",
            "Epoch 91/200\n",
            "8268/8268 [==============================] - 1s 62us/sample - loss: 0.3355 - sparse_categorical_accuracy: 0.8816 - val_loss: 0.4816 - val_sparse_categorical_accuracy: 0.8408\n",
            "Epoch 92/200\n",
            "8268/8268 [==============================] - 1s 61us/sample - loss: 0.3343 - sparse_categorical_accuracy: 0.8818 - val_loss: 0.4865 - val_sparse_categorical_accuracy: 0.8379\n",
            "Epoch 93/200\n",
            "8268/8268 [==============================] - 1s 67us/sample - loss: 0.3292 - sparse_categorical_accuracy: 0.8827 - val_loss: 0.4914 - val_sparse_categorical_accuracy: 0.8390\n",
            "Epoch 94/200\n",
            "8268/8268 [==============================] - 0s 59us/sample - loss: 0.3346 - sparse_categorical_accuracy: 0.8800 - val_loss: 0.4727 - val_sparse_categorical_accuracy: 0.8375\n",
            "Epoch 95/200\n",
            "8268/8268 [==============================] - 1s 67us/sample - loss: 0.3327 - sparse_categorical_accuracy: 0.8832 - val_loss: 0.4823 - val_sparse_categorical_accuracy: 0.8357\n",
            "Epoch 96/200\n",
            "8268/8268 [==============================] - 1s 61us/sample - loss: 0.3258 - sparse_categorical_accuracy: 0.8869 - val_loss: 0.4850 - val_sparse_categorical_accuracy: 0.8371\n",
            "Epoch 97/200\n",
            "8268/8268 [==============================] - 1s 63us/sample - loss: 0.3268 - sparse_categorical_accuracy: 0.8832 - val_loss: 0.4939 - val_sparse_categorical_accuracy: 0.8328\n",
            "Epoch 98/200\n",
            "8268/8268 [==============================] - 0s 60us/sample - loss: 0.3234 - sparse_categorical_accuracy: 0.8861 - val_loss: 0.4812 - val_sparse_categorical_accuracy: 0.8393\n",
            "Epoch 99/200\n",
            "8268/8268 [==============================] - 1s 63us/sample - loss: 0.3175 - sparse_categorical_accuracy: 0.8890 - val_loss: 0.4908 - val_sparse_categorical_accuracy: 0.8375\n",
            "Epoch 100/200\n",
            "8268/8268 [==============================] - 1s 61us/sample - loss: 0.3196 - sparse_categorical_accuracy: 0.8876 - val_loss: 0.4736 - val_sparse_categorical_accuracy: 0.8433\n",
            "Epoch 101/200\n",
            "8268/8268 [==============================] - 1s 64us/sample - loss: 0.3152 - sparse_categorical_accuracy: 0.8902 - val_loss: 0.4761 - val_sparse_categorical_accuracy: 0.8440\n",
            "Epoch 102/200\n",
            "8268/8268 [==============================] - 0s 60us/sample - loss: 0.3212 - sparse_categorical_accuracy: 0.8873 - val_loss: 0.4795 - val_sparse_categorical_accuracy: 0.8404\n",
            "Epoch 103/200\n",
            "8268/8268 [==============================] - 1s 61us/sample - loss: 0.3178 - sparse_categorical_accuracy: 0.8916 - val_loss: 0.4847 - val_sparse_categorical_accuracy: 0.8415\n",
            "Epoch 104/200\n",
            "8268/8268 [==============================] - 1s 60us/sample - loss: 0.3213 - sparse_categorical_accuracy: 0.8855 - val_loss: 0.4794 - val_sparse_categorical_accuracy: 0.8419\n",
            "Epoch 105/200\n",
            "8268/8268 [==============================] - 1s 62us/sample - loss: 0.3168 - sparse_categorical_accuracy: 0.8907 - val_loss: 0.4873 - val_sparse_categorical_accuracy: 0.8400\n",
            "Epoch 106/200\n",
            "8268/8268 [==============================] - 1s 62us/sample - loss: 0.3180 - sparse_categorical_accuracy: 0.8856 - val_loss: 0.4788 - val_sparse_categorical_accuracy: 0.8422\n",
            "Epoch 107/200\n",
            "8268/8268 [==============================] - 1s 65us/sample - loss: 0.3091 - sparse_categorical_accuracy: 0.8873 - val_loss: 0.4748 - val_sparse_categorical_accuracy: 0.8437\n",
            "Epoch 108/200\n",
            "8268/8268 [==============================] - 1s 63us/sample - loss: 0.3063 - sparse_categorical_accuracy: 0.8930 - val_loss: 0.4761 - val_sparse_categorical_accuracy: 0.8433\n",
            "Epoch 109/200\n",
            "8268/8268 [==============================] - 1s 63us/sample - loss: 0.3093 - sparse_categorical_accuracy: 0.8911 - val_loss: 0.4762 - val_sparse_categorical_accuracy: 0.8437\n",
            "Epoch 110/200\n",
            "8268/8268 [==============================] - 1s 62us/sample - loss: 0.3046 - sparse_categorical_accuracy: 0.8948 - val_loss: 0.4866 - val_sparse_categorical_accuracy: 0.8393\n",
            "Epoch 111/200\n",
            "8268/8268 [==============================] - 1s 65us/sample - loss: 0.3021 - sparse_categorical_accuracy: 0.8945 - val_loss: 0.4735 - val_sparse_categorical_accuracy: 0.8422\n",
            "Epoch 112/200\n",
            "8268/8268 [==============================] - 1s 63us/sample - loss: 0.3031 - sparse_categorical_accuracy: 0.8931 - val_loss: 0.4947 - val_sparse_categorical_accuracy: 0.8397\n",
            "Epoch 113/200\n",
            "8268/8268 [==============================] - 1s 65us/sample - loss: 0.3019 - sparse_categorical_accuracy: 0.8951 - val_loss: 0.4965 - val_sparse_categorical_accuracy: 0.8437\n",
            "Epoch 114/200\n",
            "8268/8268 [==============================] - 1s 61us/sample - loss: 0.3092 - sparse_categorical_accuracy: 0.8927 - val_loss: 0.4795 - val_sparse_categorical_accuracy: 0.8433\n",
            "Epoch 115/200\n",
            "8268/8268 [==============================] - 1s 70us/sample - loss: 0.3011 - sparse_categorical_accuracy: 0.8953 - val_loss: 0.4733 - val_sparse_categorical_accuracy: 0.8477\n",
            "Epoch 116/200\n",
            "8268/8268 [==============================] - 1s 61us/sample - loss: 0.2969 - sparse_categorical_accuracy: 0.8974 - val_loss: 0.5008 - val_sparse_categorical_accuracy: 0.8382\n",
            "Epoch 117/200\n",
            "8268/8268 [==============================] - 1s 66us/sample - loss: 0.2987 - sparse_categorical_accuracy: 0.8927 - val_loss: 0.4980 - val_sparse_categorical_accuracy: 0.8368\n",
            "Epoch 118/200\n",
            "8268/8268 [==============================] - 1s 63us/sample - loss: 0.2971 - sparse_categorical_accuracy: 0.8947 - val_loss: 0.4836 - val_sparse_categorical_accuracy: 0.8379\n",
            "Epoch 119/200\n",
            "8268/8268 [==============================] - 1s 62us/sample - loss: 0.2964 - sparse_categorical_accuracy: 0.8980 - val_loss: 0.4916 - val_sparse_categorical_accuracy: 0.8400\n",
            "Epoch 120/200\n",
            "8268/8268 [==============================] - 1s 62us/sample - loss: 0.2936 - sparse_categorical_accuracy: 0.8965 - val_loss: 0.4912 - val_sparse_categorical_accuracy: 0.8419\n",
            "Epoch 121/200\n",
            "8268/8268 [==============================] - 1s 65us/sample - loss: 0.2976 - sparse_categorical_accuracy: 0.8960 - val_loss: 0.4766 - val_sparse_categorical_accuracy: 0.8451\n",
            "Epoch 122/200\n",
            "8268/8268 [==============================] - 1s 61us/sample - loss: 0.2897 - sparse_categorical_accuracy: 0.8959 - val_loss: 0.4870 - val_sparse_categorical_accuracy: 0.8397\n",
            "Epoch 123/200\n",
            "8268/8268 [==============================] - 1s 64us/sample - loss: 0.2891 - sparse_categorical_accuracy: 0.8986 - val_loss: 0.4777 - val_sparse_categorical_accuracy: 0.8484\n",
            "Epoch 124/200\n",
            "8268/8268 [==============================] - 1s 64us/sample - loss: 0.2891 - sparse_categorical_accuracy: 0.8968 - val_loss: 0.4987 - val_sparse_categorical_accuracy: 0.8415\n",
            "Epoch 125/200\n",
            "8268/8268 [==============================] - 1s 63us/sample - loss: 0.2877 - sparse_categorical_accuracy: 0.8977 - val_loss: 0.4891 - val_sparse_categorical_accuracy: 0.8422\n",
            "Epoch 126/200\n",
            "8268/8268 [==============================] - 0s 59us/sample - loss: 0.2945 - sparse_categorical_accuracy: 0.8945 - val_loss: 0.4927 - val_sparse_categorical_accuracy: 0.8422\n",
            "Epoch 127/200\n",
            "8268/8268 [==============================] - 1s 61us/sample - loss: 0.2832 - sparse_categorical_accuracy: 0.8985 - val_loss: 0.4828 - val_sparse_categorical_accuracy: 0.8390\n",
            "Epoch 128/200\n",
            "8268/8268 [==============================] - 0s 59us/sample - loss: 0.2854 - sparse_categorical_accuracy: 0.9000 - val_loss: 0.5019 - val_sparse_categorical_accuracy: 0.8390\n",
            "Epoch 129/200\n",
            "8268/8268 [==============================] - 1s 64us/sample - loss: 0.2863 - sparse_categorical_accuracy: 0.8991 - val_loss: 0.4770 - val_sparse_categorical_accuracy: 0.8498\n",
            "Epoch 130/200\n",
            "8268/8268 [==============================] - 1s 61us/sample - loss: 0.2762 - sparse_categorical_accuracy: 0.9024 - val_loss: 0.4939 - val_sparse_categorical_accuracy: 0.8375\n",
            "Epoch 131/200\n",
            "8268/8268 [==============================] - 1s 63us/sample - loss: 0.2753 - sparse_categorical_accuracy: 0.9051 - val_loss: 0.5083 - val_sparse_categorical_accuracy: 0.8350\n",
            "Epoch 132/200\n",
            "8268/8268 [==============================] - 1s 65us/sample - loss: 0.2790 - sparse_categorical_accuracy: 0.9017 - val_loss: 0.4928 - val_sparse_categorical_accuracy: 0.8466\n",
            "Epoch 133/200\n",
            "8268/8268 [==============================] - 1s 61us/sample - loss: 0.2810 - sparse_categorical_accuracy: 0.9014 - val_loss: 0.5253 - val_sparse_categorical_accuracy: 0.8303\n",
            "Epoch 134/200\n",
            "8268/8268 [==============================] - 1s 62us/sample - loss: 0.2823 - sparse_categorical_accuracy: 0.9003 - val_loss: 0.4965 - val_sparse_categorical_accuracy: 0.8448\n",
            "Epoch 135/200\n",
            "8268/8268 [==============================] - 1s 63us/sample - loss: 0.2744 - sparse_categorical_accuracy: 0.9017 - val_loss: 0.4780 - val_sparse_categorical_accuracy: 0.8448\n",
            "Epoch 136/200\n",
            "8268/8268 [==============================] - 1s 63us/sample - loss: 0.2734 - sparse_categorical_accuracy: 0.9045 - val_loss: 0.4926 - val_sparse_categorical_accuracy: 0.8462\n",
            "Epoch 137/200\n",
            "8268/8268 [==============================] - 0s 60us/sample - loss: 0.2742 - sparse_categorical_accuracy: 0.9018 - val_loss: 0.5262 - val_sparse_categorical_accuracy: 0.8357\n",
            "Epoch 138/200\n",
            "8268/8268 [==============================] - 1s 62us/sample - loss: 0.2716 - sparse_categorical_accuracy: 0.9034 - val_loss: 0.4995 - val_sparse_categorical_accuracy: 0.8419\n",
            "Epoch 139/200\n",
            "8268/8268 [==============================] - 1s 61us/sample - loss: 0.2723 - sparse_categorical_accuracy: 0.9017 - val_loss: 0.4889 - val_sparse_categorical_accuracy: 0.8473\n",
            "Epoch 140/200\n",
            "8268/8268 [==============================] - 1s 62us/sample - loss: 0.2669 - sparse_categorical_accuracy: 0.9040 - val_loss: 0.4998 - val_sparse_categorical_accuracy: 0.8397\n",
            "Epoch 141/200\n",
            "8268/8268 [==============================] - 1s 64us/sample - loss: 0.2729 - sparse_categorical_accuracy: 0.9037 - val_loss: 0.5048 - val_sparse_categorical_accuracy: 0.8350\n",
            "Epoch 142/200\n",
            "8268/8268 [==============================] - 1s 67us/sample - loss: 0.2718 - sparse_categorical_accuracy: 0.9029 - val_loss: 0.5048 - val_sparse_categorical_accuracy: 0.8411\n",
            "Epoch 143/200\n",
            "8268/8268 [==============================] - 0s 60us/sample - loss: 0.2670 - sparse_categorical_accuracy: 0.9057 - val_loss: 0.5094 - val_sparse_categorical_accuracy: 0.8390\n",
            "Epoch 144/200\n",
            "8268/8268 [==============================] - 1s 62us/sample - loss: 0.2652 - sparse_categorical_accuracy: 0.9053 - val_loss: 0.4958 - val_sparse_categorical_accuracy: 0.8437\n",
            "Epoch 145/200\n",
            "8268/8268 [==============================] - 0s 59us/sample - loss: 0.2624 - sparse_categorical_accuracy: 0.9110 - val_loss: 0.4922 - val_sparse_categorical_accuracy: 0.8451\n",
            "Epoch 146/200\n",
            "8268/8268 [==============================] - 1s 65us/sample - loss: 0.2631 - sparse_categorical_accuracy: 0.9089 - val_loss: 0.5003 - val_sparse_categorical_accuracy: 0.8455\n",
            "Epoch 147/200\n",
            "8268/8268 [==============================] - 0s 59us/sample - loss: 0.2627 - sparse_categorical_accuracy: 0.9055 - val_loss: 0.5049 - val_sparse_categorical_accuracy: 0.8371\n",
            "Epoch 148/200\n",
            "8268/8268 [==============================] - 1s 61us/sample - loss: 0.2637 - sparse_categorical_accuracy: 0.9064 - val_loss: 0.4789 - val_sparse_categorical_accuracy: 0.8455\n",
            "Epoch 149/200\n",
            "8268/8268 [==============================] - 1s 61us/sample - loss: 0.2614 - sparse_categorical_accuracy: 0.9055 - val_loss: 0.5061 - val_sparse_categorical_accuracy: 0.8433\n",
            "Epoch 150/200\n",
            "8268/8268 [==============================] - 1s 64us/sample - loss: 0.2648 - sparse_categorical_accuracy: 0.9051 - val_loss: 0.5035 - val_sparse_categorical_accuracy: 0.8422\n",
            "Epoch 151/200\n",
            "8268/8268 [==============================] - 1s 61us/sample - loss: 0.2568 - sparse_categorical_accuracy: 0.9103 - val_loss: 0.4970 - val_sparse_categorical_accuracy: 0.8390\n",
            "Epoch 152/200\n",
            "8268/8268 [==============================] - 0s 60us/sample - loss: 0.2531 - sparse_categorical_accuracy: 0.9099 - val_loss: 0.4950 - val_sparse_categorical_accuracy: 0.8491\n",
            "Epoch 153/200\n",
            "8268/8268 [==============================] - 0s 60us/sample - loss: 0.2566 - sparse_categorical_accuracy: 0.9080 - val_loss: 0.5000 - val_sparse_categorical_accuracy: 0.8458\n",
            "Epoch 154/200\n",
            "8268/8268 [==============================] - 1s 64us/sample - loss: 0.2629 - sparse_categorical_accuracy: 0.9029 - val_loss: 0.4867 - val_sparse_categorical_accuracy: 0.8466\n",
            "Epoch 155/200\n",
            "8268/8268 [==============================] - 1s 63us/sample - loss: 0.2531 - sparse_categorical_accuracy: 0.9103 - val_loss: 0.4855 - val_sparse_categorical_accuracy: 0.8502\n",
            "Epoch 156/200\n",
            "8268/8268 [==============================] - 1s 63us/sample - loss: 0.2485 - sparse_categorical_accuracy: 0.9111 - val_loss: 0.5033 - val_sparse_categorical_accuracy: 0.8448\n",
            "Epoch 157/200\n",
            "8268/8268 [==============================] - 1s 62us/sample - loss: 0.2537 - sparse_categorical_accuracy: 0.9117 - val_loss: 0.5159 - val_sparse_categorical_accuracy: 0.8466\n",
            "Epoch 158/200\n",
            "8268/8268 [==============================] - 1s 65us/sample - loss: 0.2545 - sparse_categorical_accuracy: 0.9123 - val_loss: 0.4979 - val_sparse_categorical_accuracy: 0.8451\n",
            "Epoch 159/200\n",
            "8268/8268 [==============================] - 0s 59us/sample - loss: 0.2503 - sparse_categorical_accuracy: 0.9097 - val_loss: 0.4959 - val_sparse_categorical_accuracy: 0.8502\n",
            "Epoch 160/200\n",
            "8268/8268 [==============================] - 1s 65us/sample - loss: 0.2463 - sparse_categorical_accuracy: 0.9124 - val_loss: 0.5052 - val_sparse_categorical_accuracy: 0.8462\n",
            "Epoch 161/200\n",
            "8268/8268 [==============================] - 0s 60us/sample - loss: 0.2487 - sparse_categorical_accuracy: 0.9103 - val_loss: 0.5207 - val_sparse_categorical_accuracy: 0.8437\n",
            "Epoch 162/200\n",
            "8268/8268 [==============================] - 1s 61us/sample - loss: 0.2560 - sparse_categorical_accuracy: 0.9119 - val_loss: 0.4975 - val_sparse_categorical_accuracy: 0.8480\n",
            "Epoch 163/200\n",
            "8268/8268 [==============================] - 1s 62us/sample - loss: 0.2440 - sparse_categorical_accuracy: 0.9145 - val_loss: 0.5074 - val_sparse_categorical_accuracy: 0.8429\n",
            "Epoch 164/200\n",
            "8268/8268 [==============================] - 1s 64us/sample - loss: 0.2458 - sparse_categorical_accuracy: 0.9121 - val_loss: 0.4872 - val_sparse_categorical_accuracy: 0.8535\n",
            "Epoch 165/200\n",
            "8268/8268 [==============================] - 0s 60us/sample - loss: 0.2426 - sparse_categorical_accuracy: 0.9161 - val_loss: 0.5107 - val_sparse_categorical_accuracy: 0.8426\n",
            "Epoch 166/200\n",
            "8268/8268 [==============================] - 1s 66us/sample - loss: 0.2464 - sparse_categorical_accuracy: 0.9109 - val_loss: 0.4962 - val_sparse_categorical_accuracy: 0.8498\n",
            "Epoch 167/200\n",
            "8268/8268 [==============================] - 1s 63us/sample - loss: 0.2418 - sparse_categorical_accuracy: 0.9124 - val_loss: 0.5020 - val_sparse_categorical_accuracy: 0.8480\n",
            "Epoch 168/200\n",
            "8268/8268 [==============================] - 1s 65us/sample - loss: 0.2405 - sparse_categorical_accuracy: 0.9130 - val_loss: 0.5011 - val_sparse_categorical_accuracy: 0.8393\n",
            "Epoch 169/200\n",
            "8268/8268 [==============================] - 0s 59us/sample - loss: 0.2427 - sparse_categorical_accuracy: 0.9134 - val_loss: 0.5189 - val_sparse_categorical_accuracy: 0.8422\n",
            "Epoch 170/200\n",
            "8268/8268 [==============================] - 1s 63us/sample - loss: 0.2404 - sparse_categorical_accuracy: 0.9164 - val_loss: 0.5168 - val_sparse_categorical_accuracy: 0.8433\n",
            "Epoch 171/200\n",
            "8268/8268 [==============================] - 1s 62us/sample - loss: 0.2395 - sparse_categorical_accuracy: 0.9150 - val_loss: 0.5133 - val_sparse_categorical_accuracy: 0.8426\n",
            "Epoch 172/200\n",
            "8268/8268 [==============================] - 1s 63us/sample - loss: 0.2431 - sparse_categorical_accuracy: 0.9113 - val_loss: 0.5105 - val_sparse_categorical_accuracy: 0.8466\n",
            "Epoch 173/200\n",
            "8268/8268 [==============================] - 1s 65us/sample - loss: 0.2369 - sparse_categorical_accuracy: 0.9136 - val_loss: 0.5111 - val_sparse_categorical_accuracy: 0.8469\n",
            "Epoch 174/200\n",
            "8268/8268 [==============================] - 1s 67us/sample - loss: 0.2346 - sparse_categorical_accuracy: 0.9191 - val_loss: 0.5296 - val_sparse_categorical_accuracy: 0.8473\n",
            "Epoch 175/200\n",
            "8268/8268 [==============================] - 1s 62us/sample - loss: 0.2371 - sparse_categorical_accuracy: 0.9169 - val_loss: 0.5122 - val_sparse_categorical_accuracy: 0.8502\n",
            "Epoch 176/200\n",
            "8268/8268 [==============================] - 1s 65us/sample - loss: 0.2333 - sparse_categorical_accuracy: 0.9197 - val_loss: 0.5344 - val_sparse_categorical_accuracy: 0.8364\n",
            "Epoch 177/200\n",
            "8268/8268 [==============================] - 1s 62us/sample - loss: 0.2400 - sparse_categorical_accuracy: 0.9151 - val_loss: 0.5169 - val_sparse_categorical_accuracy: 0.8506\n",
            "Epoch 178/200\n",
            "8268/8268 [==============================] - 1s 61us/sample - loss: 0.2312 - sparse_categorical_accuracy: 0.9179 - val_loss: 0.4997 - val_sparse_categorical_accuracy: 0.8575\n",
            "Epoch 179/200\n",
            "8268/8268 [==============================] - 1s 64us/sample - loss: 0.2349 - sparse_categorical_accuracy: 0.9185 - val_loss: 0.5144 - val_sparse_categorical_accuracy: 0.8524\n",
            "Epoch 180/200\n",
            "8268/8268 [==============================] - 0s 60us/sample - loss: 0.2302 - sparse_categorical_accuracy: 0.9178 - val_loss: 0.5193 - val_sparse_categorical_accuracy: 0.8495\n",
            "Epoch 181/200\n",
            "8268/8268 [==============================] - 1s 64us/sample - loss: 0.2301 - sparse_categorical_accuracy: 0.9168 - val_loss: 0.5259 - val_sparse_categorical_accuracy: 0.8415\n",
            "Epoch 182/200\n",
            "8268/8268 [==============================] - 1s 62us/sample - loss: 0.2316 - sparse_categorical_accuracy: 0.9184 - val_loss: 0.5155 - val_sparse_categorical_accuracy: 0.8517\n",
            "Epoch 183/200\n",
            "8268/8268 [==============================] - 1s 61us/sample - loss: 0.2257 - sparse_categorical_accuracy: 0.9201 - val_loss: 0.5438 - val_sparse_categorical_accuracy: 0.8419\n",
            "Epoch 184/200\n",
            "8268/8268 [==============================] - 1s 61us/sample - loss: 0.2303 - sparse_categorical_accuracy: 0.9187 - val_loss: 0.5584 - val_sparse_categorical_accuracy: 0.8357\n",
            "Epoch 185/200\n",
            "8268/8268 [==============================] - 1s 62us/sample - loss: 0.2318 - sparse_categorical_accuracy: 0.9169 - val_loss: 0.5199 - val_sparse_categorical_accuracy: 0.8506\n",
            "Epoch 186/200\n",
            "8268/8268 [==============================] - 1s 62us/sample - loss: 0.2255 - sparse_categorical_accuracy: 0.9182 - val_loss: 0.5114 - val_sparse_categorical_accuracy: 0.8527\n",
            "Epoch 187/200\n",
            "8268/8268 [==============================] - 1s 62us/sample - loss: 0.2308 - sparse_categorical_accuracy: 0.9150 - val_loss: 0.5448 - val_sparse_categorical_accuracy: 0.8375\n",
            "Epoch 188/200\n",
            "8268/8268 [==============================] - 0s 60us/sample - loss: 0.2264 - sparse_categorical_accuracy: 0.9191 - val_loss: 0.5398 - val_sparse_categorical_accuracy: 0.8433\n",
            "Epoch 189/200\n",
            "8268/8268 [==============================] - 1s 62us/sample - loss: 0.2242 - sparse_categorical_accuracy: 0.9157 - val_loss: 0.5328 - val_sparse_categorical_accuracy: 0.8487\n",
            "Epoch 190/200\n",
            "8268/8268 [==============================] - 1s 66us/sample - loss: 0.2207 - sparse_categorical_accuracy: 0.9196 - val_loss: 0.5210 - val_sparse_categorical_accuracy: 0.8495\n",
            "Epoch 191/200\n",
            "8268/8268 [==============================] - 1s 65us/sample - loss: 0.2243 - sparse_categorical_accuracy: 0.9188 - val_loss: 0.5142 - val_sparse_categorical_accuracy: 0.8506\n",
            "Epoch 192/200\n",
            "8268/8268 [==============================] - 1s 63us/sample - loss: 0.2207 - sparse_categorical_accuracy: 0.9208 - val_loss: 0.5211 - val_sparse_categorical_accuracy: 0.8466\n",
            "Epoch 193/200\n",
            "8268/8268 [==============================] - 1s 63us/sample - loss: 0.2259 - sparse_categorical_accuracy: 0.9169 - val_loss: 0.5305 - val_sparse_categorical_accuracy: 0.8466\n",
            "Epoch 194/200\n",
            "8268/8268 [==============================] - 1s 68us/sample - loss: 0.2238 - sparse_categorical_accuracy: 0.9191 - val_loss: 0.5315 - val_sparse_categorical_accuracy: 0.8477\n",
            "Epoch 195/200\n",
            "8268/8268 [==============================] - 1s 66us/sample - loss: 0.2152 - sparse_categorical_accuracy: 0.9230 - val_loss: 0.5199 - val_sparse_categorical_accuracy: 0.8520\n",
            "Epoch 196/200\n",
            "8268/8268 [==============================] - 1s 64us/sample - loss: 0.2166 - sparse_categorical_accuracy: 0.9234 - val_loss: 0.5630 - val_sparse_categorical_accuracy: 0.8433\n",
            "Epoch 197/200\n",
            "8268/8268 [==============================] - 1s 65us/sample - loss: 0.2205 - sparse_categorical_accuracy: 0.9222 - val_loss: 0.5415 - val_sparse_categorical_accuracy: 0.8487\n",
            "Epoch 198/200\n",
            "8268/8268 [==============================] - 1s 67us/sample - loss: 0.2167 - sparse_categorical_accuracy: 0.9204 - val_loss: 0.5286 - val_sparse_categorical_accuracy: 0.8484\n",
            "Epoch 199/200\n",
            "8268/8268 [==============================] - 1s 64us/sample - loss: 0.2157 - sparse_categorical_accuracy: 0.9233 - val_loss: 0.5305 - val_sparse_categorical_accuracy: 0.8477\n",
            "Epoch 200/200\n",
            "8268/8268 [==============================] - 1s 64us/sample - loss: 0.2193 - sparse_categorical_accuracy: 0.9193 - val_loss: 0.5558 - val_sparse_categorical_accuracy: 0.8448\n"
          ],
          "name": "stdout"
        }
      ]
    },
    {
      "cell_type": "markdown",
      "metadata": {
        "id": "ZmOSaTFUqEcZ",
        "colab_type": "text"
      },
      "source": [
        "### Plot training & validation accuracy values\n",
        "### Plot training & validation loss values\n"
      ]
    },
    {
      "cell_type": "code",
      "metadata": {
        "id": "oaKnXAHKqgYf",
        "colab_type": "code",
        "colab": {}
      },
      "source": [
        "def visualzation_accuracy_loss_values_epochs(history):\n",
        "  fig, axs = plt.subplots(1, 2,figsize=(15, 5))\n",
        "  axs[0].plot(history.history['sparse_categorical_accuracy'])\n",
        "  axs[0].plot(history.history['val_sparse_categorical_accuracy'])\n",
        "  axs[0].set_title('Model accuracy')\n",
        "  axs[0].set_ylabel('Accuracy')\n",
        "  axs[0].set_xlabel('Epoch')\n",
        "  axs[0].legend(['Train', 'Test'], loc='upper left')\n",
        "  axs[1].plot(history.history['loss'])\n",
        "  axs[1].plot(history.history['val_loss'])\n",
        "  axs[1].set_title('Model loss')\n",
        "  axs[1].set_ylabel('Loss')\n",
        "  axs[1].set_xlabel('Epoch')\n",
        "  axs[1].legend(['Train', 'Test'], loc='upper left')\n"
      ],
      "execution_count": 0,
      "outputs": []
    },
    {
      "cell_type": "code",
      "metadata": {
        "id": "he23uApZ0k0b",
        "colab_type": "code",
        "colab": {
          "base_uri": "https://localhost:8080/",
          "height": 370
        },
        "outputId": "9ac61a1b-28f4-43b9-8149-1e6439dcf248"
      },
      "source": [
        "visualzation_accuracy_loss_values_epochs(history)"
      ],
      "execution_count": 42,
      "outputs": [
        {
          "output_type": "display_data",
          "data": {
            "image/png": "[encoded data removed]",
            "text/plain": [
              "<Figure size 1080x360 with 2 Axes>"
            ]
          },
          "metadata": {
            "tags": []
          }
        }
      ]
    },
    {
      "cell_type": "markdown",
      "metadata": {
        "id": "t4d5l5aktG3s",
        "colab_type": "text"
      },
      "source": [
        "### Evaluación del modelo y predicción"
      ]
    },
    {
      "cell_type": "code",
      "metadata": {
        "id": "ZJKuVFWcsjGf",
        "colab_type": "code",
        "colab": {
          "base_uri": "https://localhost:8080/",
          "height": 71
        },
        "outputId": "5a85b7cb-e262-463e-ba92-ad0876b3bd8d"
      },
      "source": [
        "test_loss, test_accuracy = model.evaluate(x_test, y_test)\n",
        "print(\"Test accuracy: {}\".format(test_accuracy))"
      ],
      "execution_count": 43,
      "outputs": [
        {
          "output_type": "stream",
          "text": [
            "1226/1226 [==============================] - 0s 68us/sample - loss: 0.6039 - sparse_categorical_accuracy: 0.8271\n",
            "Test accuracy: 0.8270799517631531\n"
          ],
          "name": "stdout"
        }
      ]
    },
    {
      "cell_type": "markdown",
      "metadata": {
        "id": "HxbUuIAeuoy_",
        "colab_type": "text"
      },
      "source": [
        "## Metodos de regularizacion"
      ]
    },
    {
      "cell_type": "markdown",
      "metadata": {
        "id": "jfD-rajd1qfL",
        "colab_type": "text"
      },
      "source": [
        "\n",
        "\n",
        "#### L2 & L1 regularization"
      ]
    },
    {
      "cell_type": "code",
      "metadata": {
        "id": "4_OSKuyI1tUk",
        "colab_type": "code",
        "colab": {}
      },
      "source": [
        "model = tf.keras.models.Sequential()\n",
        "model.add(tf.keras.layers.Dense(units=64,kernel_regularizer=tf.keras.regularizers.l2(0.01), activation='relu', input_shape=(5, )))\n",
        "model.add(tf.keras.layers.Dense(units=64, kernel_regularizer=tf.keras.regularizers.l1_l2(l1=0.1, l2=0.01),activation='relu'))\n",
        "model.add(tf.keras.layers.Dense(units=64, kernel_regularizer=tf.keras.regularizers.l1_l2(l1=0.1, l2=0.01) ,activation='relu'))\n",
        "model.add(tf.keras.layers.Dense(units=15, activation='softmax'))\n",
        "model.compile(optimizer='adam', loss='sparse_categorical_crossentropy',metrics=['sparse_categorical_accuracy'])"
      ],
      "execution_count": 0,
      "outputs": []
    },
    {
      "cell_type": "code",
      "metadata": {
        "id": "UPLI8vhb1jg4",
        "colab_type": "code",
        "colab": {
          "base_uri": "https://localhost:8080/",
          "height": 1000
        },
        "outputId": "3c50b4f2-d1a1-4977-8a9d-1cbf6cdcb481"
      },
      "source": [
        "history = model.fit(x_train, y_train, validation_split=0.25 ,batch_size=64, epochs=50 , verbose = 1)"
      ],
      "execution_count": 16,
      "outputs": [
        {
          "output_type": "stream",
          "text": [
            "Train on 8268 samples, validate on 2757 samples\n",
            "Epoch 1/50\n",
            "8268/8268 [==============================] - 1s 98us/sample - loss: 49.6638 - sparse_categorical_accuracy: 0.1651 - val_loss: 17.3538 - val_sparse_categorical_accuracy: 0.0773\n",
            "Epoch 2/50\n",
            "8268/8268 [==============================] - 1s 68us/sample - loss: 6.2967 - sparse_categorical_accuracy: 0.0854 - val_loss: 2.8287 - val_sparse_categorical_accuracy: 0.0773\n",
            "Epoch 3/50\n",
            "8268/8268 [==============================] - 1s 68us/sample - loss: 2.8109 - sparse_categorical_accuracy: 0.0854 - val_loss: 2.8111 - val_sparse_categorical_accuracy: 0.0773\n",
            "Epoch 4/50\n",
            "8268/8268 [==============================] - 1s 69us/sample - loss: 2.8035 - sparse_categorical_accuracy: 0.0854 - val_loss: 2.8072 - val_sparse_categorical_accuracy: 0.0773\n",
            "Epoch 5/50\n",
            "8268/8268 [==============================] - 1s 68us/sample - loss: 2.8016 - sparse_categorical_accuracy: 0.0854 - val_loss: 2.8074 - val_sparse_categorical_accuracy: 0.0773\n",
            "Epoch 6/50\n",
            "8268/8268 [==============================] - 1s 71us/sample - loss: 2.8012 - sparse_categorical_accuracy: 0.0854 - val_loss: 2.8059 - val_sparse_categorical_accuracy: 0.0773\n",
            "Epoch 7/50\n",
            "8268/8268 [==============================] - 1s 66us/sample - loss: 2.8011 - sparse_categorical_accuracy: 0.0854 - val_loss: 2.8060 - val_sparse_categorical_accuracy: 0.0773\n",
            "Epoch 8/50\n",
            "8268/8268 [==============================] - 1s 67us/sample - loss: 2.8006 - sparse_categorical_accuracy: 0.0854 - val_loss: 2.8067 - val_sparse_categorical_accuracy: 0.0773\n",
            "Epoch 9/50\n",
            "8268/8268 [==============================] - 1s 66us/sample - loss: 2.8008 - sparse_categorical_accuracy: 0.0854 - val_loss: 2.8063 - val_sparse_categorical_accuracy: 0.0773\n",
            "Epoch 10/50\n",
            "8268/8268 [==============================] - 1s 68us/sample - loss: 2.8007 - sparse_categorical_accuracy: 0.0854 - val_loss: 2.8053 - val_sparse_categorical_accuracy: 0.0773\n",
            "Epoch 11/50\n",
            "8268/8268 [==============================] - 1s 68us/sample - loss: 2.8006 - sparse_categorical_accuracy: 0.0854 - val_loss: 2.8054 - val_sparse_categorical_accuracy: 0.0773\n",
            "Epoch 12/50\n",
            "8268/8268 [==============================] - 1s 66us/sample - loss: 2.8005 - sparse_categorical_accuracy: 0.0854 - val_loss: 2.8061 - val_sparse_categorical_accuracy: 0.0773\n",
            "Epoch 13/50\n",
            "8268/8268 [==============================] - 1s 69us/sample - loss: 2.8003 - sparse_categorical_accuracy: 0.0854 - val_loss: 2.8053 - val_sparse_categorical_accuracy: 0.0773\n",
            "Epoch 14/50\n",
            "8268/8268 [==============================] - 1s 69us/sample - loss: 2.7999 - sparse_categorical_accuracy: 0.0854 - val_loss: 2.8069 - val_sparse_categorical_accuracy: 0.0773\n",
            "Epoch 15/50\n",
            "8268/8268 [==============================] - 1s 69us/sample - loss: 2.8000 - sparse_categorical_accuracy: 0.0854 - val_loss: 2.8066 - val_sparse_categorical_accuracy: 0.0773\n",
            "Epoch 16/50\n",
            "8268/8268 [==============================] - 1s 70us/sample - loss: 2.7997 - sparse_categorical_accuracy: 0.0854 - val_loss: 2.8054 - val_sparse_categorical_accuracy: 0.0773\n",
            "Epoch 17/50\n",
            "8268/8268 [==============================] - 1s 67us/sample - loss: 2.7997 - sparse_categorical_accuracy: 0.0854 - val_loss: 2.8062 - val_sparse_categorical_accuracy: 0.0773\n",
            "Epoch 18/50\n",
            "8268/8268 [==============================] - 1s 65us/sample - loss: 2.7997 - sparse_categorical_accuracy: 0.0854 - val_loss: 2.8044 - val_sparse_categorical_accuracy: 0.0773\n",
            "Epoch 19/50\n",
            "8268/8268 [==============================] - 1s 69us/sample - loss: 2.7994 - sparse_categorical_accuracy: 0.0854 - val_loss: 2.8048 - val_sparse_categorical_accuracy: 0.0773\n",
            "Epoch 20/50\n",
            "8268/8268 [==============================] - 1s 67us/sample - loss: 2.7993 - sparse_categorical_accuracy: 0.0854 - val_loss: 2.8053 - val_sparse_categorical_accuracy: 0.0773\n",
            "Epoch 21/50\n",
            "8268/8268 [==============================] - 1s 65us/sample - loss: 2.7992 - sparse_categorical_accuracy: 0.0854 - val_loss: 2.8060 - val_sparse_categorical_accuracy: 0.0773\n",
            "Epoch 22/50\n",
            "8268/8268 [==============================] - 1s 68us/sample - loss: 2.7992 - sparse_categorical_accuracy: 0.0854 - val_loss: 2.8041 - val_sparse_categorical_accuracy: 0.0773\n",
            "Epoch 23/50\n",
            "8268/8268 [==============================] - 1s 66us/sample - loss: 2.7991 - sparse_categorical_accuracy: 0.0854 - val_loss: 2.8045 - val_sparse_categorical_accuracy: 0.0773\n",
            "Epoch 24/50\n",
            "8268/8268 [==============================] - 1s 70us/sample - loss: 2.7991 - sparse_categorical_accuracy: 0.0854 - val_loss: 2.8041 - val_sparse_categorical_accuracy: 0.0773\n",
            "Epoch 25/50\n",
            "8268/8268 [==============================] - 1s 69us/sample - loss: 2.7988 - sparse_categorical_accuracy: 0.0854 - val_loss: 2.8041 - val_sparse_categorical_accuracy: 0.0773\n",
            "Epoch 26/50\n",
            "8268/8268 [==============================] - 1s 67us/sample - loss: 2.7989 - sparse_categorical_accuracy: 0.0854 - val_loss: 2.8035 - val_sparse_categorical_accuracy: 0.0773\n",
            "Epoch 27/50\n",
            "8268/8268 [==============================] - 1s 67us/sample - loss: 2.7987 - sparse_categorical_accuracy: 0.0854 - val_loss: 2.8037 - val_sparse_categorical_accuracy: 0.0773\n",
            "Epoch 28/50\n",
            "8268/8268 [==============================] - 1s 70us/sample - loss: 2.7987 - sparse_categorical_accuracy: 0.0854 - val_loss: 2.8029 - val_sparse_categorical_accuracy: 0.0773\n",
            "Epoch 29/50\n",
            "8268/8268 [==============================] - 1s 72us/sample - loss: 2.7985 - sparse_categorical_accuracy: 0.0854 - val_loss: 2.8032 - val_sparse_categorical_accuracy: 0.0773\n",
            "Epoch 30/50\n",
            "8268/8268 [==============================] - 1s 69us/sample - loss: 2.7982 - sparse_categorical_accuracy: 0.0854 - val_loss: 2.8034 - val_sparse_categorical_accuracy: 0.0773\n",
            "Epoch 31/50\n",
            "8268/8268 [==============================] - 1s 69us/sample - loss: 2.7981 - sparse_categorical_accuracy: 0.0854 - val_loss: 2.8026 - val_sparse_categorical_accuracy: 0.0773\n",
            "Epoch 32/50\n",
            "8268/8268 [==============================] - 1s 67us/sample - loss: 2.7980 - sparse_categorical_accuracy: 0.0854 - val_loss: 2.8041 - val_sparse_categorical_accuracy: 0.0773\n",
            "Epoch 33/50\n",
            "8268/8268 [==============================] - 1s 68us/sample - loss: 2.7980 - sparse_categorical_accuracy: 0.0854 - val_loss: 2.8045 - val_sparse_categorical_accuracy: 0.0773\n",
            "Epoch 34/50\n",
            "8268/8268 [==============================] - 1s 74us/sample - loss: 2.7979 - sparse_categorical_accuracy: 0.0854 - val_loss: 2.8023 - val_sparse_categorical_accuracy: 0.0773\n",
            "Epoch 35/50\n",
            "8268/8268 [==============================] - 1s 66us/sample - loss: 2.7976 - sparse_categorical_accuracy: 0.0854 - val_loss: 2.8048 - val_sparse_categorical_accuracy: 0.0773\n",
            "Epoch 36/50\n",
            "8268/8268 [==============================] - 1s 68us/sample - loss: 2.7974 - sparse_categorical_accuracy: 0.0854 - val_loss: 2.8029 - val_sparse_categorical_accuracy: 0.0773\n",
            "Epoch 37/50\n",
            "8268/8268 [==============================] - 1s 70us/sample - loss: 2.7974 - sparse_categorical_accuracy: 0.0854 - val_loss: 2.8025 - val_sparse_categorical_accuracy: 0.0773\n",
            "Epoch 38/50\n",
            "8268/8268 [==============================] - 1s 69us/sample - loss: 2.7972 - sparse_categorical_accuracy: 0.0854 - val_loss: 2.8034 - val_sparse_categorical_accuracy: 0.0773\n",
            "Epoch 39/50\n",
            "8268/8268 [==============================] - 1s 67us/sample - loss: 2.7972 - sparse_categorical_accuracy: 0.0854 - val_loss: 2.8036 - val_sparse_categorical_accuracy: 0.0773\n",
            "Epoch 40/50\n",
            "8268/8268 [==============================] - 1s 69us/sample - loss: 2.7973 - sparse_categorical_accuracy: 0.0854 - val_loss: 2.8024 - val_sparse_categorical_accuracy: 0.0773\n",
            "Epoch 41/50\n",
            "8268/8268 [==============================] - 1s 69us/sample - loss: 2.7970 - sparse_categorical_accuracy: 0.0854 - val_loss: 2.8038 - val_sparse_categorical_accuracy: 0.0773\n",
            "Epoch 42/50\n",
            "8268/8268 [==============================] - 1s 69us/sample - loss: 2.7970 - sparse_categorical_accuracy: 0.0854 - val_loss: 2.8028 - val_sparse_categorical_accuracy: 0.0773\n",
            "Epoch 43/50\n",
            "8268/8268 [==============================] - 1s 69us/sample - loss: 2.7968 - sparse_categorical_accuracy: 0.0854 - val_loss: 2.8021 - val_sparse_categorical_accuracy: 0.0773\n",
            "Epoch 44/50\n",
            "8268/8268 [==============================] - 1s 73us/sample - loss: 2.7969 - sparse_categorical_accuracy: 0.0854 - val_loss: 2.8030 - val_sparse_categorical_accuracy: 0.0773\n",
            "Epoch 45/50\n",
            "8268/8268 [==============================] - 1s 69us/sample - loss: 2.7969 - sparse_categorical_accuracy: 0.0854 - val_loss: 2.8032 - val_sparse_categorical_accuracy: 0.0773\n",
            "Epoch 46/50\n",
            "8268/8268 [==============================] - 1s 66us/sample - loss: 2.7968 - sparse_categorical_accuracy: 0.0854 - val_loss: 2.8013 - val_sparse_categorical_accuracy: 0.0773\n",
            "Epoch 47/50\n",
            "8268/8268 [==============================] - 1s 71us/sample - loss: 2.7966 - sparse_categorical_accuracy: 0.0854 - val_loss: 2.8025 - val_sparse_categorical_accuracy: 0.0773\n",
            "Epoch 48/50\n",
            "8268/8268 [==============================] - 1s 68us/sample - loss: 2.7966 - sparse_categorical_accuracy: 0.0854 - val_loss: 2.8021 - val_sparse_categorical_accuracy: 0.0773\n",
            "Epoch 49/50\n",
            "8268/8268 [==============================] - 1s 74us/sample - loss: 2.7966 - sparse_categorical_accuracy: 0.0854 - val_loss: 2.8014 - val_sparse_categorical_accuracy: 0.0773\n",
            "Epoch 50/50\n",
            "8268/8268 [==============================] - 1s 67us/sample - loss: 2.7964 - sparse_categorical_accuracy: 0.0854 - val_loss: 2.8030 - val_sparse_categorical_accuracy: 0.0773\n"
          ],
          "name": "stdout"
        }
      ]
    },
    {
      "cell_type": "code",
      "metadata": {
        "id": "9NvztLWa3K0O",
        "colab_type": "code",
        "colab": {
          "base_uri": "https://localhost:8080/",
          "height": 370
        },
        "outputId": "5cfd0841-b8be-479a-dab7-a3e4703be316"
      },
      "source": [
        "visualzation_accuracy_loss_values_epochs(history)"
      ],
      "execution_count": 17,
      "outputs": [
        {
          "output_type": "display_data",
          "data": {
            "image/png": "[encoded data removed]",
            "text/plain": [
              "<Figure size 1080x360 with 2 Axes>"
            ]
          },
          "metadata": {
            "tags": []
          }
        }
      ]
    },
    {
      "cell_type": "code",
      "metadata": {
        "id": "Q-pE5ot43UTf",
        "colab_type": "code",
        "colab": {
          "base_uri": "https://localhost:8080/",
          "height": 71
        },
        "outputId": "762696be-db1b-4706-f310-1448b197b1ef"
      },
      "source": [
        "test_loss, test_accuracy = model.evaluate(x_test, y_test)\n",
        "print(\"Test accuracy: {}\".format(test_accuracy))"
      ],
      "execution_count": 18,
      "outputs": [
        {
          "output_type": "stream",
          "text": [
            "1226/1226 [==============================] - 0s 69us/sample - loss: 2.7983 - sparse_categorical_accuracy: 0.0889\n",
            "Test accuracy: 0.08890701830387115\n"
          ],
          "name": "stdout"
        }
      ]
    },
    {
      "cell_type": "markdown",
      "metadata": {
        "id": "YIZ3OHF3utVx",
        "colab_type": "text"
      },
      "source": [
        "#### Dropout"
      ]
    },
    {
      "cell_type": "code",
      "metadata": {
        "id": "_AxysxHK0q3x",
        "colab_type": "code",
        "colab": {}
      },
      "source": [
        "model = tf.keras.models.Sequential()\n",
        "model.add(tf.keras.layers.Dense(units=64, activation='relu', input_shape=(5, )))\n",
        "model.add(tf.keras.layers.Dense(units=64, activation='relu'))\n",
        "model.add(tf.keras.layers.Dense(units=64, activation='relu'))\n",
        "model.add(tf.keras.layers.Dropout(0.2))\n",
        "model.add(tf.keras.layers.Dense(units=15, activation='softmax'))\n",
        "model.compile(optimizer='adam', loss='sparse_categorical_crossentropy',metrics=['sparse_categorical_accuracy'])\n"
      ],
      "execution_count": 0,
      "outputs": []
    },
    {
      "cell_type": "code",
      "metadata": {
        "id": "6AzSEzSa0HjX",
        "colab_type": "code",
        "colab": {
          "base_uri": "https://localhost:8080/",
          "height": 1000
        },
        "outputId": "d53a223f-1088-4a99-a88e-0b9c9c5bf4a3"
      },
      "source": [
        "history = model.fit(x_train, y_train, validation_split=0.25 ,batch_size=64, epochs=200 , verbose = 1)"
      ],
      "execution_count": 45,
      "outputs": [
        {
          "output_type": "stream",
          "text": [
            "Train on 8268 samples, validate on 2757 samples\n",
            "Epoch 1/200\n",
            "8268/8268 [==============================] - 1s 97us/sample - loss: 1.9986 - sparse_categorical_accuracy: 0.3806 - val_loss: 1.4675 - val_sparse_categorical_accuracy: 0.5165\n",
            "Epoch 2/200\n",
            "8268/8268 [==============================] - 1s 68us/sample - loss: 1.4099 - sparse_categorical_accuracy: 0.5204 - val_loss: 1.2570 - val_sparse_categorical_accuracy: 0.5709\n",
            "Epoch 3/200\n",
            "8268/8268 [==============================] - 1s 63us/sample - loss: 1.2485 - sparse_categorical_accuracy: 0.5712 - val_loss: 1.1278 - val_sparse_categorical_accuracy: 0.6181\n",
            "Epoch 4/200\n",
            "8268/8268 [==============================] - 1s 68us/sample - loss: 1.1560 - sparse_categorical_accuracy: 0.6045 - val_loss: 1.0645 - val_sparse_categorical_accuracy: 0.6340\n",
            "Epoch 5/200\n",
            "8268/8268 [==============================] - 1s 63us/sample - loss: 1.0939 - sparse_categorical_accuracy: 0.6229 - val_loss: 1.0233 - val_sparse_categorical_accuracy: 0.6442\n",
            "Epoch 6/200\n",
            "8268/8268 [==============================] - 1s 69us/sample - loss: 1.0444 - sparse_categorical_accuracy: 0.6419 - val_loss: 0.9805 - val_sparse_categorical_accuracy: 0.6569\n",
            "Epoch 7/200\n",
            "8268/8268 [==============================] - 1s 66us/sample - loss: 1.0061 - sparse_categorical_accuracy: 0.6515 - val_loss: 0.9570 - val_sparse_categorical_accuracy: 0.6663\n",
            "Epoch 8/200\n",
            "8268/8268 [==============================] - 1s 68us/sample - loss: 0.9735 - sparse_categorical_accuracy: 0.6641 - val_loss: 0.9155 - val_sparse_categorical_accuracy: 0.6808\n",
            "Epoch 9/200\n",
            "8268/8268 [==============================] - 1s 65us/sample - loss: 0.9537 - sparse_categorical_accuracy: 0.6684 - val_loss: 0.9075 - val_sparse_categorical_accuracy: 0.6877\n",
            "Epoch 10/200\n",
            "8268/8268 [==============================] - 1s 65us/sample - loss: 0.9186 - sparse_categorical_accuracy: 0.6801 - val_loss: 0.8585 - val_sparse_categorical_accuracy: 0.7051\n",
            "Epoch 11/200\n",
            "8268/8268 [==============================] - 1s 65us/sample - loss: 0.8952 - sparse_categorical_accuracy: 0.6877 - val_loss: 0.8513 - val_sparse_categorical_accuracy: 0.7008\n",
            "Epoch 12/200\n",
            "8268/8268 [==============================] - 1s 66us/sample - loss: 0.8692 - sparse_categorical_accuracy: 0.6922 - val_loss: 0.8265 - val_sparse_categorical_accuracy: 0.7156\n",
            "Epoch 13/200\n",
            "8268/8268 [==============================] - 1s 64us/sample - loss: 0.8500 - sparse_categorical_accuracy: 0.7048 - val_loss: 0.8106 - val_sparse_categorical_accuracy: 0.7174\n",
            "Epoch 14/200\n",
            "8268/8268 [==============================] - 1s 65us/sample - loss: 0.8398 - sparse_categorical_accuracy: 0.7049 - val_loss: 0.7938 - val_sparse_categorical_accuracy: 0.7269\n",
            "Epoch 15/200\n",
            "8268/8268 [==============================] - 1s 67us/sample - loss: 0.8165 - sparse_categorical_accuracy: 0.7169 - val_loss: 0.7773 - val_sparse_categorical_accuracy: 0.7359\n",
            "Epoch 16/200\n",
            "8268/8268 [==============================] - 1s 64us/sample - loss: 0.7992 - sparse_categorical_accuracy: 0.7182 - val_loss: 0.7750 - val_sparse_categorical_accuracy: 0.7265\n",
            "Epoch 17/200\n",
            "8268/8268 [==============================] - 1s 64us/sample - loss: 0.7795 - sparse_categorical_accuracy: 0.7288 - val_loss: 0.7393 - val_sparse_categorical_accuracy: 0.7407\n",
            "Epoch 18/200\n",
            "8268/8268 [==============================] - 1s 66us/sample - loss: 0.7685 - sparse_categorical_accuracy: 0.7350 - val_loss: 0.7269 - val_sparse_categorical_accuracy: 0.7544\n",
            "Epoch 19/200\n",
            "8268/8268 [==============================] - 1s 64us/sample - loss: 0.7571 - sparse_categorical_accuracy: 0.7358 - val_loss: 0.7176 - val_sparse_categorical_accuracy: 0.7573\n",
            "Epoch 20/200\n",
            "8268/8268 [==============================] - 1s 64us/sample - loss: 0.7458 - sparse_categorical_accuracy: 0.7394 - val_loss: 0.7243 - val_sparse_categorical_accuracy: 0.7530\n",
            "Epoch 21/200\n",
            "8268/8268 [==============================] - 1s 67us/sample - loss: 0.7340 - sparse_categorical_accuracy: 0.7390 - val_loss: 0.7008 - val_sparse_categorical_accuracy: 0.7624\n",
            "Epoch 22/200\n",
            "8268/8268 [==============================] - 1s 67us/sample - loss: 0.7192 - sparse_categorical_accuracy: 0.7496 - val_loss: 0.6955 - val_sparse_categorical_accuracy: 0.7697\n",
            "Epoch 23/200\n",
            "8268/8268 [==============================] - 1s 66us/sample - loss: 0.7033 - sparse_categorical_accuracy: 0.7562 - val_loss: 0.6892 - val_sparse_categorical_accuracy: 0.7639\n",
            "Epoch 24/200\n",
            "8268/8268 [==============================] - 1s 64us/sample - loss: 0.6925 - sparse_categorical_accuracy: 0.7544 - val_loss: 0.6758 - val_sparse_categorical_accuracy: 0.7733\n",
            "Epoch 25/200\n",
            "8268/8268 [==============================] - 1s 66us/sample - loss: 0.6885 - sparse_categorical_accuracy: 0.7570 - val_loss: 0.6782 - val_sparse_categorical_accuracy: 0.7726\n",
            "Epoch 26/200\n",
            "8268/8268 [==============================] - 1s 64us/sample - loss: 0.6840 - sparse_categorical_accuracy: 0.7598 - val_loss: 0.6593 - val_sparse_categorical_accuracy: 0.7860\n",
            "Epoch 27/200\n",
            "8268/8268 [==============================] - 1s 67us/sample - loss: 0.6610 - sparse_categorical_accuracy: 0.7669 - val_loss: 0.6481 - val_sparse_categorical_accuracy: 0.7820\n",
            "Epoch 28/200\n",
            "8268/8268 [==============================] - 1s 66us/sample - loss: 0.6532 - sparse_categorical_accuracy: 0.7707 - val_loss: 0.6415 - val_sparse_categorical_accuracy: 0.7878\n",
            "Epoch 29/200\n",
            "8268/8268 [==============================] - 1s 64us/sample - loss: 0.6476 - sparse_categorical_accuracy: 0.7725 - val_loss: 0.6250 - val_sparse_categorical_accuracy: 0.7929\n",
            "Epoch 30/200\n",
            "8268/8268 [==============================] - 1s 67us/sample - loss: 0.6424 - sparse_categorical_accuracy: 0.7708 - val_loss: 0.6147 - val_sparse_categorical_accuracy: 0.7943\n",
            "Epoch 31/200\n",
            "8268/8268 [==============================] - 1s 66us/sample - loss: 0.6278 - sparse_categorical_accuracy: 0.7823 - val_loss: 0.6249 - val_sparse_categorical_accuracy: 0.7845\n",
            "Epoch 32/200\n",
            "8268/8268 [==============================] - 1s 66us/sample - loss: 0.6230 - sparse_categorical_accuracy: 0.7831 - val_loss: 0.6177 - val_sparse_categorical_accuracy: 0.7933\n",
            "Epoch 33/200\n",
            "8268/8268 [==============================] - 1s 64us/sample - loss: 0.6207 - sparse_categorical_accuracy: 0.7819 - val_loss: 0.6079 - val_sparse_categorical_accuracy: 0.7980\n",
            "Epoch 34/200\n",
            "8268/8268 [==============================] - 1s 66us/sample - loss: 0.6128 - sparse_categorical_accuracy: 0.7873 - val_loss: 0.6012 - val_sparse_categorical_accuracy: 0.8067\n",
            "Epoch 35/200\n",
            "8268/8268 [==============================] - 1s 65us/sample - loss: 0.6140 - sparse_categorical_accuracy: 0.7862 - val_loss: 0.5855 - val_sparse_categorical_accuracy: 0.8085\n",
            "Epoch 36/200\n",
            "8268/8268 [==============================] - 1s 65us/sample - loss: 0.5972 - sparse_categorical_accuracy: 0.7902 - val_loss: 0.5956 - val_sparse_categorical_accuracy: 0.8012\n",
            "Epoch 37/200\n",
            "8268/8268 [==============================] - 1s 63us/sample - loss: 0.5882 - sparse_categorical_accuracy: 0.7984 - val_loss: 0.5859 - val_sparse_categorical_accuracy: 0.8128\n",
            "Epoch 38/200\n",
            "8268/8268 [==============================] - 1s 64us/sample - loss: 0.5824 - sparse_categorical_accuracy: 0.7987 - val_loss: 0.5813 - val_sparse_categorical_accuracy: 0.8157\n",
            "Epoch 39/200\n",
            "8268/8268 [==============================] - 1s 68us/sample - loss: 0.5843 - sparse_categorical_accuracy: 0.7990 - val_loss: 0.5840 - val_sparse_categorical_accuracy: 0.8034\n",
            "Epoch 40/200\n",
            "8268/8268 [==============================] - 1s 63us/sample - loss: 0.5773 - sparse_categorical_accuracy: 0.8008 - val_loss: 0.5714 - val_sparse_categorical_accuracy: 0.8172\n",
            "Epoch 41/200\n",
            "8268/8268 [==============================] - 1s 72us/sample - loss: 0.5724 - sparse_categorical_accuracy: 0.8026 - val_loss: 0.5726 - val_sparse_categorical_accuracy: 0.8136\n",
            "Epoch 42/200\n",
            "8268/8268 [==============================] - 1s 68us/sample - loss: 0.5684 - sparse_categorical_accuracy: 0.8044 - val_loss: 0.5570 - val_sparse_categorical_accuracy: 0.8190\n",
            "Epoch 43/200\n",
            "8268/8268 [==============================] - 1s 65us/sample - loss: 0.5640 - sparse_categorical_accuracy: 0.8087 - val_loss: 0.5691 - val_sparse_categorical_accuracy: 0.8176\n",
            "Epoch 44/200\n",
            "8268/8268 [==============================] - 1s 66us/sample - loss: 0.5495 - sparse_categorical_accuracy: 0.8082 - val_loss: 0.5541 - val_sparse_categorical_accuracy: 0.8241\n",
            "Epoch 45/200\n",
            "8268/8268 [==============================] - 1s 67us/sample - loss: 0.5528 - sparse_categorical_accuracy: 0.8091 - val_loss: 0.5631 - val_sparse_categorical_accuracy: 0.8176\n",
            "Epoch 46/200\n",
            "8268/8268 [==============================] - 1s 65us/sample - loss: 0.5461 - sparse_categorical_accuracy: 0.8106 - val_loss: 0.5504 - val_sparse_categorical_accuracy: 0.8226\n",
            "Epoch 47/200\n",
            "8268/8268 [==============================] - 1s 66us/sample - loss: 0.5537 - sparse_categorical_accuracy: 0.8122 - val_loss: 0.5525 - val_sparse_categorical_accuracy: 0.8205\n",
            "Epoch 48/200\n",
            "8268/8268 [==============================] - 1s 66us/sample - loss: 0.5370 - sparse_categorical_accuracy: 0.8140 - val_loss: 0.5471 - val_sparse_categorical_accuracy: 0.8263\n",
            "Epoch 49/200\n",
            "8268/8268 [==============================] - 1s 66us/sample - loss: 0.5448 - sparse_categorical_accuracy: 0.8088 - val_loss: 0.5461 - val_sparse_categorical_accuracy: 0.8237\n",
            "Epoch 50/200\n",
            "8268/8268 [==============================] - 1s 63us/sample - loss: 0.5305 - sparse_categorical_accuracy: 0.8158 - val_loss: 0.5432 - val_sparse_categorical_accuracy: 0.8255\n",
            "Epoch 51/200\n",
            "8268/8268 [==============================] - 1s 66us/sample - loss: 0.5320 - sparse_categorical_accuracy: 0.8170 - val_loss: 0.5397 - val_sparse_categorical_accuracy: 0.8237\n",
            "Epoch 52/200\n",
            "8268/8268 [==============================] - 1s 66us/sample - loss: 0.5256 - sparse_categorical_accuracy: 0.8117 - val_loss: 0.5434 - val_sparse_categorical_accuracy: 0.8226\n",
            "Epoch 53/200\n",
            "8268/8268 [==============================] - 1s 65us/sample - loss: 0.5143 - sparse_categorical_accuracy: 0.8191 - val_loss: 0.5494 - val_sparse_categorical_accuracy: 0.8205\n",
            "Epoch 54/200\n",
            "8268/8268 [==============================] - 1s 67us/sample - loss: 0.5212 - sparse_categorical_accuracy: 0.8183 - val_loss: 0.5488 - val_sparse_categorical_accuracy: 0.8219\n",
            "Epoch 55/200\n",
            "8268/8268 [==============================] - 1s 67us/sample - loss: 0.5221 - sparse_categorical_accuracy: 0.8170 - val_loss: 0.5343 - val_sparse_categorical_accuracy: 0.8292\n",
            "Epoch 56/200\n",
            "8268/8268 [==============================] - 1s 65us/sample - loss: 0.5089 - sparse_categorical_accuracy: 0.8218 - val_loss: 0.5385 - val_sparse_categorical_accuracy: 0.8277\n",
            "Epoch 57/200\n",
            "8268/8268 [==============================] - 1s 64us/sample - loss: 0.5144 - sparse_categorical_accuracy: 0.8212 - val_loss: 0.5324 - val_sparse_categorical_accuracy: 0.8299\n",
            "Epoch 58/200\n",
            "8268/8268 [==============================] - 1s 63us/sample - loss: 0.5087 - sparse_categorical_accuracy: 0.8243 - val_loss: 0.5308 - val_sparse_categorical_accuracy: 0.8252\n",
            "Epoch 59/200\n",
            "8268/8268 [==============================] - 1s 66us/sample - loss: 0.5040 - sparse_categorical_accuracy: 0.8247 - val_loss: 0.5289 - val_sparse_categorical_accuracy: 0.8324\n",
            "Epoch 60/200\n",
            "8268/8268 [==============================] - 1s 66us/sample - loss: 0.5062 - sparse_categorical_accuracy: 0.8222 - val_loss: 0.5286 - val_sparse_categorical_accuracy: 0.8281\n",
            "Epoch 61/200\n",
            "8268/8268 [==============================] - 1s 64us/sample - loss: 0.4978 - sparse_categorical_accuracy: 0.8284 - val_loss: 0.5176 - val_sparse_categorical_accuracy: 0.8332\n",
            "Epoch 62/200\n",
            "8268/8268 [==============================] - 1s 68us/sample - loss: 0.4918 - sparse_categorical_accuracy: 0.8298 - val_loss: 0.5162 - val_sparse_categorical_accuracy: 0.8382\n",
            "Epoch 63/200\n",
            "8268/8268 [==============================] - 1s 66us/sample - loss: 0.4976 - sparse_categorical_accuracy: 0.8234 - val_loss: 0.5166 - val_sparse_categorical_accuracy: 0.8313\n",
            "Epoch 64/200\n",
            "8268/8268 [==============================] - 1s 65us/sample - loss: 0.4977 - sparse_categorical_accuracy: 0.8262 - val_loss: 0.5249 - val_sparse_categorical_accuracy: 0.8288\n",
            "Epoch 65/200\n",
            "8268/8268 [==============================] - 1s 63us/sample - loss: 0.4908 - sparse_categorical_accuracy: 0.8297 - val_loss: 0.5134 - val_sparse_categorical_accuracy: 0.8324\n",
            "Epoch 66/200\n",
            "8268/8268 [==============================] - 1s 67us/sample - loss: 0.4793 - sparse_categorical_accuracy: 0.8315 - val_loss: 0.5240 - val_sparse_categorical_accuracy: 0.8310\n",
            "Epoch 67/200\n",
            "8268/8268 [==============================] - 1s 68us/sample - loss: 0.4812 - sparse_categorical_accuracy: 0.8316 - val_loss: 0.5142 - val_sparse_categorical_accuracy: 0.8303\n",
            "Epoch 68/200\n",
            "8268/8268 [==============================] - 1s 68us/sample - loss: 0.4815 - sparse_categorical_accuracy: 0.8283 - val_loss: 0.5212 - val_sparse_categorical_accuracy: 0.8321\n",
            "Epoch 69/200\n",
            "8268/8268 [==============================] - 1s 62us/sample - loss: 0.4880 - sparse_categorical_accuracy: 0.8330 - val_loss: 0.5115 - val_sparse_categorical_accuracy: 0.8346\n",
            "Epoch 70/200\n",
            "8268/8268 [==============================] - 1s 69us/sample - loss: 0.4738 - sparse_categorical_accuracy: 0.8322 - val_loss: 0.5181 - val_sparse_categorical_accuracy: 0.8342\n",
            "Epoch 71/200\n",
            "8268/8268 [==============================] - 1s 66us/sample - loss: 0.4751 - sparse_categorical_accuracy: 0.8360 - val_loss: 0.5191 - val_sparse_categorical_accuracy: 0.8299\n",
            "Epoch 72/200\n",
            "8268/8268 [==============================] - 1s 66us/sample - loss: 0.4705 - sparse_categorical_accuracy: 0.8382 - val_loss: 0.5067 - val_sparse_categorical_accuracy: 0.8371\n",
            "Epoch 73/200\n",
            "8268/8268 [==============================] - 1s 66us/sample - loss: 0.4749 - sparse_categorical_accuracy: 0.8342 - val_loss: 0.5082 - val_sparse_categorical_accuracy: 0.8368\n",
            "Epoch 74/200\n",
            "8268/8268 [==============================] - 1s 65us/sample - loss: 0.4635 - sparse_categorical_accuracy: 0.8393 - val_loss: 0.5040 - val_sparse_categorical_accuracy: 0.8393\n",
            "Epoch 75/200\n",
            "8268/8268 [==============================] - 1s 63us/sample - loss: 0.4650 - sparse_categorical_accuracy: 0.8379 - val_loss: 0.5098 - val_sparse_categorical_accuracy: 0.8379\n",
            "Epoch 76/200\n",
            "8268/8268 [==============================] - 1s 65us/sample - loss: 0.4578 - sparse_categorical_accuracy: 0.8391 - val_loss: 0.5100 - val_sparse_categorical_accuracy: 0.8382\n",
            "Epoch 77/200\n",
            "8268/8268 [==============================] - 1s 67us/sample - loss: 0.4610 - sparse_categorical_accuracy: 0.8420 - val_loss: 0.5047 - val_sparse_categorical_accuracy: 0.8379\n",
            "Epoch 78/200\n",
            "8268/8268 [==============================] - 1s 65us/sample - loss: 0.4615 - sparse_categorical_accuracy: 0.8389 - val_loss: 0.5064 - val_sparse_categorical_accuracy: 0.8371\n",
            "Epoch 79/200\n",
            "8268/8268 [==============================] - 1s 65us/sample - loss: 0.4573 - sparse_categorical_accuracy: 0.8431 - val_loss: 0.5000 - val_sparse_categorical_accuracy: 0.8444\n",
            "Epoch 80/200\n",
            "8268/8268 [==============================] - 1s 68us/sample - loss: 0.4469 - sparse_categorical_accuracy: 0.8424 - val_loss: 0.5065 - val_sparse_categorical_accuracy: 0.8361\n",
            "Epoch 81/200\n",
            "8268/8268 [==============================] - 1s 64us/sample - loss: 0.4510 - sparse_categorical_accuracy: 0.8429 - val_loss: 0.4968 - val_sparse_categorical_accuracy: 0.8382\n",
            "Epoch 82/200\n",
            "8268/8268 [==============================] - 1s 65us/sample - loss: 0.4500 - sparse_categorical_accuracy: 0.8412 - val_loss: 0.4968 - val_sparse_categorical_accuracy: 0.8382\n",
            "Epoch 83/200\n",
            "8268/8268 [==============================] - 1s 69us/sample - loss: 0.4467 - sparse_categorical_accuracy: 0.8424 - val_loss: 0.5096 - val_sparse_categorical_accuracy: 0.8317\n",
            "Epoch 84/200\n",
            "8268/8268 [==============================] - 1s 65us/sample - loss: 0.4513 - sparse_categorical_accuracy: 0.8426 - val_loss: 0.5038 - val_sparse_categorical_accuracy: 0.8397\n",
            "Epoch 85/200\n",
            "8268/8268 [==============================] - 1s 65us/sample - loss: 0.4470 - sparse_categorical_accuracy: 0.8433 - val_loss: 0.5110 - val_sparse_categorical_accuracy: 0.8317\n",
            "Epoch 86/200\n",
            "8268/8268 [==============================] - 1s 64us/sample - loss: 0.4488 - sparse_categorical_accuracy: 0.8441 - val_loss: 0.4897 - val_sparse_categorical_accuracy: 0.8451\n",
            "Epoch 87/200\n",
            "8268/8268 [==============================] - 1s 64us/sample - loss: 0.4434 - sparse_categorical_accuracy: 0.8440 - val_loss: 0.5040 - val_sparse_categorical_accuracy: 0.8415\n",
            "Epoch 88/200\n",
            "8268/8268 [==============================] - 1s 65us/sample - loss: 0.4304 - sparse_categorical_accuracy: 0.8492 - val_loss: 0.4924 - val_sparse_categorical_accuracy: 0.8371\n",
            "Epoch 89/200\n",
            "8268/8268 [==============================] - 1s 63us/sample - loss: 0.4493 - sparse_categorical_accuracy: 0.8408 - val_loss: 0.4871 - val_sparse_categorical_accuracy: 0.8422\n",
            "Epoch 90/200\n",
            "8268/8268 [==============================] - 1s 68us/sample - loss: 0.4420 - sparse_categorical_accuracy: 0.8437 - val_loss: 0.4906 - val_sparse_categorical_accuracy: 0.8400\n",
            "Epoch 91/200\n",
            "8268/8268 [==============================] - 1s 65us/sample - loss: 0.4335 - sparse_categorical_accuracy: 0.8471 - val_loss: 0.4891 - val_sparse_categorical_accuracy: 0.8426\n",
            "Epoch 92/200\n",
            "8268/8268 [==============================] - 1s 66us/sample - loss: 0.4367 - sparse_categorical_accuracy: 0.8488 - val_loss: 0.5001 - val_sparse_categorical_accuracy: 0.8400\n",
            "Epoch 93/200\n",
            "8268/8268 [==============================] - 1s 64us/sample - loss: 0.4316 - sparse_categorical_accuracy: 0.8457 - val_loss: 0.4945 - val_sparse_categorical_accuracy: 0.8393\n",
            "Epoch 94/200\n",
            "8268/8268 [==============================] - 1s 66us/sample - loss: 0.4249 - sparse_categorical_accuracy: 0.8477 - val_loss: 0.4944 - val_sparse_categorical_accuracy: 0.8390\n",
            "Epoch 95/200\n",
            "8268/8268 [==============================] - 1s 63us/sample - loss: 0.4314 - sparse_categorical_accuracy: 0.8500 - val_loss: 0.4877 - val_sparse_categorical_accuracy: 0.8411\n",
            "Epoch 96/200\n",
            "8268/8268 [==============================] - 1s 67us/sample - loss: 0.4271 - sparse_categorical_accuracy: 0.8527 - val_loss: 0.4925 - val_sparse_categorical_accuracy: 0.8386\n",
            "Epoch 97/200\n",
            "8268/8268 [==============================] - 1s 64us/sample - loss: 0.4247 - sparse_categorical_accuracy: 0.8489 - val_loss: 0.4860 - val_sparse_categorical_accuracy: 0.8393\n",
            "Epoch 98/200\n",
            "8268/8268 [==============================] - 1s 65us/sample - loss: 0.4194 - sparse_categorical_accuracy: 0.8530 - val_loss: 0.4990 - val_sparse_categorical_accuracy: 0.8357\n",
            "Epoch 99/200\n",
            "8268/8268 [==============================] - 1s 64us/sample - loss: 0.4217 - sparse_categorical_accuracy: 0.8563 - val_loss: 0.4951 - val_sparse_categorical_accuracy: 0.8371\n",
            "Epoch 100/200\n",
            "8268/8268 [==============================] - 1s 64us/sample - loss: 0.4205 - sparse_categorical_accuracy: 0.8510 - val_loss: 0.4896 - val_sparse_categorical_accuracy: 0.8397\n",
            "Epoch 101/200\n",
            "8268/8268 [==============================] - 1s 64us/sample - loss: 0.4175 - sparse_categorical_accuracy: 0.8553 - val_loss: 0.4882 - val_sparse_categorical_accuracy: 0.8386\n",
            "Epoch 102/200\n",
            "8268/8268 [==============================] - 1s 65us/sample - loss: 0.4177 - sparse_categorical_accuracy: 0.8509 - val_loss: 0.4831 - val_sparse_categorical_accuracy: 0.8437\n",
            "Epoch 103/200\n",
            "8268/8268 [==============================] - 1s 66us/sample - loss: 0.4265 - sparse_categorical_accuracy: 0.8497 - val_loss: 0.4906 - val_sparse_categorical_accuracy: 0.8448\n",
            "Epoch 104/200\n",
            "8268/8268 [==============================] - 1s 66us/sample - loss: 0.4224 - sparse_categorical_accuracy: 0.8511 - val_loss: 0.4733 - val_sparse_categorical_accuracy: 0.8498\n",
            "Epoch 105/200\n",
            "8268/8268 [==============================] - 1s 66us/sample - loss: 0.4225 - sparse_categorical_accuracy: 0.8560 - val_loss: 0.4835 - val_sparse_categorical_accuracy: 0.8440\n",
            "Epoch 106/200\n",
            "8268/8268 [==============================] - 1s 65us/sample - loss: 0.4132 - sparse_categorical_accuracy: 0.8544 - val_loss: 0.4880 - val_sparse_categorical_accuracy: 0.8411\n",
            "Epoch 107/200\n",
            "8268/8268 [==============================] - 1s 68us/sample - loss: 0.4140 - sparse_categorical_accuracy: 0.8580 - val_loss: 0.4808 - val_sparse_categorical_accuracy: 0.8429\n",
            "Epoch 108/200\n",
            "8268/8268 [==============================] - 1s 64us/sample - loss: 0.4083 - sparse_categorical_accuracy: 0.8582 - val_loss: 0.4736 - val_sparse_categorical_accuracy: 0.8469\n",
            "Epoch 109/200\n",
            "8268/8268 [==============================] - 1s 67us/sample - loss: 0.4064 - sparse_categorical_accuracy: 0.8564 - val_loss: 0.4903 - val_sparse_categorical_accuracy: 0.8451\n",
            "Epoch 110/200\n",
            "8268/8268 [==============================] - 1s 67us/sample - loss: 0.4076 - sparse_categorical_accuracy: 0.8552 - val_loss: 0.4893 - val_sparse_categorical_accuracy: 0.8408\n",
            "Epoch 111/200\n",
            "8268/8268 [==============================] - 1s 68us/sample - loss: 0.4039 - sparse_categorical_accuracy: 0.8558 - val_loss: 0.4895 - val_sparse_categorical_accuracy: 0.8455\n",
            "Epoch 112/200\n",
            "8268/8268 [==============================] - 1s 64us/sample - loss: 0.4093 - sparse_categorical_accuracy: 0.8561 - val_loss: 0.4834 - val_sparse_categorical_accuracy: 0.8419\n",
            "Epoch 113/200\n",
            "8268/8268 [==============================] - 1s 63us/sample - loss: 0.4113 - sparse_categorical_accuracy: 0.8556 - val_loss: 0.4831 - val_sparse_categorical_accuracy: 0.8429\n",
            "Epoch 114/200\n",
            "8268/8268 [==============================] - 1s 68us/sample - loss: 0.4048 - sparse_categorical_accuracy: 0.8568 - val_loss: 0.4873 - val_sparse_categorical_accuracy: 0.8411\n",
            "Epoch 115/200\n",
            "8268/8268 [==============================] - 1s 67us/sample - loss: 0.4005 - sparse_categorical_accuracy: 0.8569 - val_loss: 0.4870 - val_sparse_categorical_accuracy: 0.8400\n",
            "Epoch 116/200\n",
            "8268/8268 [==============================] - 1s 64us/sample - loss: 0.3985 - sparse_categorical_accuracy: 0.8603 - val_loss: 0.4821 - val_sparse_categorical_accuracy: 0.8408\n",
            "Epoch 117/200\n",
            "8268/8268 [==============================] - 1s 70us/sample - loss: 0.3973 - sparse_categorical_accuracy: 0.8591 - val_loss: 0.4770 - val_sparse_categorical_accuracy: 0.8473\n",
            "Epoch 118/200\n",
            "8268/8268 [==============================] - 1s 65us/sample - loss: 0.3969 - sparse_categorical_accuracy: 0.8636 - val_loss: 0.4920 - val_sparse_categorical_accuracy: 0.8375\n",
            "Epoch 119/200\n",
            "8268/8268 [==============================] - 1s 67us/sample - loss: 0.3966 - sparse_categorical_accuracy: 0.8592 - val_loss: 0.4915 - val_sparse_categorical_accuracy: 0.8426\n",
            "Epoch 120/200\n",
            "8268/8268 [==============================] - 1s 65us/sample - loss: 0.3998 - sparse_categorical_accuracy: 0.8575 - val_loss: 0.4860 - val_sparse_categorical_accuracy: 0.8487\n",
            "Epoch 121/200\n",
            "8268/8268 [==============================] - 1s 67us/sample - loss: 0.3922 - sparse_categorical_accuracy: 0.8627 - val_loss: 0.4879 - val_sparse_categorical_accuracy: 0.8422\n",
            "Epoch 122/200\n",
            "8268/8268 [==============================] - 1s 65us/sample - loss: 0.3913 - sparse_categorical_accuracy: 0.8609 - val_loss: 0.4903 - val_sparse_categorical_accuracy: 0.8419\n",
            "Epoch 123/200\n",
            "8268/8268 [==============================] - 1s 67us/sample - loss: 0.3952 - sparse_categorical_accuracy: 0.8602 - val_loss: 0.4818 - val_sparse_categorical_accuracy: 0.8480\n",
            "Epoch 124/200\n",
            "8268/8268 [==============================] - 1s 67us/sample - loss: 0.3960 - sparse_categorical_accuracy: 0.8607 - val_loss: 0.4813 - val_sparse_categorical_accuracy: 0.8458\n",
            "Epoch 125/200\n",
            "8268/8268 [==============================] - 1s 66us/sample - loss: 0.3926 - sparse_categorical_accuracy: 0.8619 - val_loss: 0.4801 - val_sparse_categorical_accuracy: 0.8473\n",
            "Epoch 126/200\n",
            "8268/8268 [==============================] - 1s 68us/sample - loss: 0.3865 - sparse_categorical_accuracy: 0.8610 - val_loss: 0.4844 - val_sparse_categorical_accuracy: 0.8477\n",
            "Epoch 127/200\n",
            "8268/8268 [==============================] - 1s 68us/sample - loss: 0.3886 - sparse_categorical_accuracy: 0.8595 - val_loss: 0.4763 - val_sparse_categorical_accuracy: 0.8480\n",
            "Epoch 128/200\n",
            "8268/8268 [==============================] - 1s 66us/sample - loss: 0.3839 - sparse_categorical_accuracy: 0.8647 - val_loss: 0.4859 - val_sparse_categorical_accuracy: 0.8455\n",
            "Epoch 129/200\n",
            "8268/8268 [==============================] - 1s 64us/sample - loss: 0.3859 - sparse_categorical_accuracy: 0.8622 - val_loss: 0.4805 - val_sparse_categorical_accuracy: 0.8495\n",
            "Epoch 130/200\n",
            "8268/8268 [==============================] - 1s 68us/sample - loss: 0.3832 - sparse_categorical_accuracy: 0.8636 - val_loss: 0.4819 - val_sparse_categorical_accuracy: 0.8487\n",
            "Epoch 131/200\n",
            "8268/8268 [==============================] - 1s 67us/sample - loss: 0.3841 - sparse_categorical_accuracy: 0.8630 - val_loss: 0.4811 - val_sparse_categorical_accuracy: 0.8484\n",
            "Epoch 132/200\n",
            "8268/8268 [==============================] - 1s 67us/sample - loss: 0.3873 - sparse_categorical_accuracy: 0.8576 - val_loss: 0.4807 - val_sparse_categorical_accuracy: 0.8491\n",
            "Epoch 133/200\n",
            "8268/8268 [==============================] - 1s 65us/sample - loss: 0.3820 - sparse_categorical_accuracy: 0.8625 - val_loss: 0.4804 - val_sparse_categorical_accuracy: 0.8440\n",
            "Epoch 134/200\n",
            "8268/8268 [==============================] - 1s 63us/sample - loss: 0.3769 - sparse_categorical_accuracy: 0.8671 - val_loss: 0.4904 - val_sparse_categorical_accuracy: 0.8448\n",
            "Epoch 135/200\n",
            "8268/8268 [==============================] - 1s 64us/sample - loss: 0.3813 - sparse_categorical_accuracy: 0.8628 - val_loss: 0.4882 - val_sparse_categorical_accuracy: 0.8444\n",
            "Epoch 136/200\n",
            "8268/8268 [==============================] - 1s 66us/sample - loss: 0.3775 - sparse_categorical_accuracy: 0.8649 - val_loss: 0.4872 - val_sparse_categorical_accuracy: 0.8455\n",
            "Epoch 137/200\n",
            "8268/8268 [==============================] - 1s 65us/sample - loss: 0.3858 - sparse_categorical_accuracy: 0.8593 - val_loss: 0.4745 - val_sparse_categorical_accuracy: 0.8520\n",
            "Epoch 138/200\n",
            "8268/8268 [==============================] - 1s 66us/sample - loss: 0.3763 - sparse_categorical_accuracy: 0.8665 - val_loss: 0.4863 - val_sparse_categorical_accuracy: 0.8502\n",
            "Epoch 139/200\n",
            "8268/8268 [==============================] - 1s 67us/sample - loss: 0.3855 - sparse_categorical_accuracy: 0.8614 - val_loss: 0.4741 - val_sparse_categorical_accuracy: 0.8477\n",
            "Epoch 140/200\n",
            "8268/8268 [==============================] - 1s 66us/sample - loss: 0.3738 - sparse_categorical_accuracy: 0.8649 - val_loss: 0.4890 - val_sparse_categorical_accuracy: 0.8462\n",
            "Epoch 141/200\n",
            "8268/8268 [==============================] - 1s 67us/sample - loss: 0.3820 - sparse_categorical_accuracy: 0.8633 - val_loss: 0.4852 - val_sparse_categorical_accuracy: 0.8484\n",
            "Epoch 142/200\n",
            "8268/8268 [==============================] - 1s 66us/sample - loss: 0.3706 - sparse_categorical_accuracy: 0.8664 - val_loss: 0.4846 - val_sparse_categorical_accuracy: 0.8466\n",
            "Epoch 143/200\n",
            "8268/8268 [==============================] - 1s 65us/sample - loss: 0.3739 - sparse_categorical_accuracy: 0.8657 - val_loss: 0.4800 - val_sparse_categorical_accuracy: 0.8451\n",
            "Epoch 144/200\n",
            "8268/8268 [==============================] - 1s 66us/sample - loss: 0.3742 - sparse_categorical_accuracy: 0.8653 - val_loss: 0.4807 - val_sparse_categorical_accuracy: 0.8502\n",
            "Epoch 145/200\n",
            "8268/8268 [==============================] - 1s 66us/sample - loss: 0.3718 - sparse_categorical_accuracy: 0.8679 - val_loss: 0.4816 - val_sparse_categorical_accuracy: 0.8495\n",
            "Epoch 146/200\n",
            "8268/8268 [==============================] - 1s 70us/sample - loss: 0.3646 - sparse_categorical_accuracy: 0.8695 - val_loss: 0.4922 - val_sparse_categorical_accuracy: 0.8458\n",
            "Epoch 147/200\n",
            "8268/8268 [==============================] - 1s 66us/sample - loss: 0.3674 - sparse_categorical_accuracy: 0.8696 - val_loss: 0.4854 - val_sparse_categorical_accuracy: 0.8487\n",
            "Epoch 148/200\n",
            "8268/8268 [==============================] - 1s 70us/sample - loss: 0.3694 - sparse_categorical_accuracy: 0.8696 - val_loss: 0.4822 - val_sparse_categorical_accuracy: 0.8484\n",
            "Epoch 149/200\n",
            "8268/8268 [==============================] - 1s 66us/sample - loss: 0.3710 - sparse_categorical_accuracy: 0.8649 - val_loss: 0.4803 - val_sparse_categorical_accuracy: 0.8458\n",
            "Epoch 150/200\n",
            "8268/8268 [==============================] - 1s 67us/sample - loss: 0.3664 - sparse_categorical_accuracy: 0.8701 - val_loss: 0.4846 - val_sparse_categorical_accuracy: 0.8455\n",
            "Epoch 151/200\n",
            "8268/8268 [==============================] - 1s 65us/sample - loss: 0.3675 - sparse_categorical_accuracy: 0.8636 - val_loss: 0.4871 - val_sparse_categorical_accuracy: 0.8444\n",
            "Epoch 152/200\n",
            "8268/8268 [==============================] - 1s 66us/sample - loss: 0.3606 - sparse_categorical_accuracy: 0.8706 - val_loss: 0.4707 - val_sparse_categorical_accuracy: 0.8495\n",
            "Epoch 153/200\n",
            "8268/8268 [==============================] - 1s 64us/sample - loss: 0.3565 - sparse_categorical_accuracy: 0.8687 - val_loss: 0.4864 - val_sparse_categorical_accuracy: 0.8437\n",
            "Epoch 154/200\n",
            "8268/8268 [==============================] - 1s 67us/sample - loss: 0.3579 - sparse_categorical_accuracy: 0.8713 - val_loss: 0.4814 - val_sparse_categorical_accuracy: 0.8506\n",
            "Epoch 155/200\n",
            "8268/8268 [==============================] - 1s 67us/sample - loss: 0.3606 - sparse_categorical_accuracy: 0.8703 - val_loss: 0.4888 - val_sparse_categorical_accuracy: 0.8451\n",
            "Epoch 156/200\n",
            "8268/8268 [==============================] - 1s 64us/sample - loss: 0.3616 - sparse_categorical_accuracy: 0.8684 - val_loss: 0.4914 - val_sparse_categorical_accuracy: 0.8480\n",
            "Epoch 157/200\n",
            "8268/8268 [==============================] - 1s 65us/sample - loss: 0.3619 - sparse_categorical_accuracy: 0.8679 - val_loss: 0.4811 - val_sparse_categorical_accuracy: 0.8498\n",
            "Epoch 158/200\n",
            "8268/8268 [==============================] - 1s 69us/sample - loss: 0.3524 - sparse_categorical_accuracy: 0.8705 - val_loss: 0.4936 - val_sparse_categorical_accuracy: 0.8462\n",
            "Epoch 159/200\n",
            "8268/8268 [==============================] - 1s 67us/sample - loss: 0.3554 - sparse_categorical_accuracy: 0.8740 - val_loss: 0.4787 - val_sparse_categorical_accuracy: 0.8491\n",
            "Epoch 160/200\n",
            "8268/8268 [==============================] - 1s 62us/sample - loss: 0.3552 - sparse_categorical_accuracy: 0.8712 - val_loss: 0.4878 - val_sparse_categorical_accuracy: 0.8495\n",
            "Epoch 161/200\n",
            "8268/8268 [==============================] - 1s 67us/sample - loss: 0.3543 - sparse_categorical_accuracy: 0.8720 - val_loss: 0.4972 - val_sparse_categorical_accuracy: 0.8517\n",
            "Epoch 162/200\n",
            "8268/8268 [==============================] - 1s 64us/sample - loss: 0.3506 - sparse_categorical_accuracy: 0.8737 - val_loss: 0.4942 - val_sparse_categorical_accuracy: 0.8444\n",
            "Epoch 163/200\n",
            "8268/8268 [==============================] - 1s 66us/sample - loss: 0.3632 - sparse_categorical_accuracy: 0.8687 - val_loss: 0.4801 - val_sparse_categorical_accuracy: 0.8531\n",
            "Epoch 164/200\n",
            "8268/8268 [==============================] - 1s 63us/sample - loss: 0.3587 - sparse_categorical_accuracy: 0.8730 - val_loss: 0.4842 - val_sparse_categorical_accuracy: 0.8415\n",
            "Epoch 165/200\n",
            "8268/8268 [==============================] - 1s 69us/sample - loss: 0.3543 - sparse_categorical_accuracy: 0.8713 - val_loss: 0.4840 - val_sparse_categorical_accuracy: 0.8509\n",
            "Epoch 166/200\n",
            "8268/8268 [==============================] - 1s 63us/sample - loss: 0.3487 - sparse_categorical_accuracy: 0.8741 - val_loss: 0.4864 - val_sparse_categorical_accuracy: 0.8520\n",
            "Epoch 167/200\n",
            "8268/8268 [==============================] - 1s 64us/sample - loss: 0.3518 - sparse_categorical_accuracy: 0.8746 - val_loss: 0.4963 - val_sparse_categorical_accuracy: 0.8495\n",
            "Epoch 168/200\n",
            "8268/8268 [==============================] - 1s 62us/sample - loss: 0.3437 - sparse_categorical_accuracy: 0.8761 - val_loss: 0.4834 - val_sparse_categorical_accuracy: 0.8506\n",
            "Epoch 169/200\n",
            "8268/8268 [==============================] - 1s 71us/sample - loss: 0.3536 - sparse_categorical_accuracy: 0.8719 - val_loss: 0.4845 - val_sparse_categorical_accuracy: 0.8527\n",
            "Epoch 170/200\n",
            "8268/8268 [==============================] - 1s 62us/sample - loss: 0.3488 - sparse_categorical_accuracy: 0.8751 - val_loss: 0.4889 - val_sparse_categorical_accuracy: 0.8480\n",
            "Epoch 171/200\n",
            "8268/8268 [==============================] - 1s 67us/sample - loss: 0.3425 - sparse_categorical_accuracy: 0.8776 - val_loss: 0.4946 - val_sparse_categorical_accuracy: 0.8480\n",
            "Epoch 172/200\n",
            "8268/8268 [==============================] - 1s 73us/sample - loss: 0.3451 - sparse_categorical_accuracy: 0.8761 - val_loss: 0.4854 - val_sparse_categorical_accuracy: 0.8509\n",
            "Epoch 173/200\n",
            "8268/8268 [==============================] - 1s 66us/sample - loss: 0.3462 - sparse_categorical_accuracy: 0.8755 - val_loss: 0.4837 - val_sparse_categorical_accuracy: 0.8513\n",
            "Epoch 174/200\n",
            "8268/8268 [==============================] - 1s 64us/sample - loss: 0.3441 - sparse_categorical_accuracy: 0.8774 - val_loss: 0.4856 - val_sparse_categorical_accuracy: 0.8517\n",
            "Epoch 175/200\n",
            "8268/8268 [==============================] - 1s 64us/sample - loss: 0.3430 - sparse_categorical_accuracy: 0.8815 - val_loss: 0.4831 - val_sparse_categorical_accuracy: 0.8491\n",
            "Epoch 176/200\n",
            "8268/8268 [==============================] - 1s 66us/sample - loss: 0.3448 - sparse_categorical_accuracy: 0.8753 - val_loss: 0.4884 - val_sparse_categorical_accuracy: 0.8535\n",
            "Epoch 177/200\n",
            "8268/8268 [==============================] - 1s 66us/sample - loss: 0.3350 - sparse_categorical_accuracy: 0.8803 - val_loss: 0.4895 - val_sparse_categorical_accuracy: 0.8506\n",
            "Epoch 178/200\n",
            "8268/8268 [==============================] - 1s 71us/sample - loss: 0.3368 - sparse_categorical_accuracy: 0.8774 - val_loss: 0.4905 - val_sparse_categorical_accuracy: 0.8498\n",
            "Epoch 179/200\n",
            "8268/8268 [==============================] - 1s 64us/sample - loss: 0.3350 - sparse_categorical_accuracy: 0.8781 - val_loss: 0.4926 - val_sparse_categorical_accuracy: 0.8469\n",
            "Epoch 180/200\n",
            "8268/8268 [==============================] - 1s 66us/sample - loss: 0.3408 - sparse_categorical_accuracy: 0.8793 - val_loss: 0.4851 - val_sparse_categorical_accuracy: 0.8520\n",
            "Epoch 181/200\n",
            "8268/8268 [==============================] - 1s 62us/sample - loss: 0.3433 - sparse_categorical_accuracy: 0.8752 - val_loss: 0.4924 - val_sparse_categorical_accuracy: 0.8513\n",
            "Epoch 182/200\n",
            "8268/8268 [==============================] - 1s 69us/sample - loss: 0.3366 - sparse_categorical_accuracy: 0.8781 - val_loss: 0.4891 - val_sparse_categorical_accuracy: 0.8524\n",
            "Epoch 183/200\n",
            "8268/8268 [==============================] - 1s 65us/sample - loss: 0.3419 - sparse_categorical_accuracy: 0.8730 - val_loss: 0.4874 - val_sparse_categorical_accuracy: 0.8517\n",
            "Epoch 184/200\n",
            "8268/8268 [==============================] - 1s 65us/sample - loss: 0.3374 - sparse_categorical_accuracy: 0.8764 - val_loss: 0.4954 - val_sparse_categorical_accuracy: 0.8462\n",
            "Epoch 185/200\n",
            "8268/8268 [==============================] - 1s 65us/sample - loss: 0.3362 - sparse_categorical_accuracy: 0.8813 - val_loss: 0.4980 - val_sparse_categorical_accuracy: 0.8538\n",
            "Epoch 186/200\n",
            "8268/8268 [==============================] - 1s 67us/sample - loss: 0.3337 - sparse_categorical_accuracy: 0.8811 - val_loss: 0.4951 - val_sparse_categorical_accuracy: 0.8437\n",
            "Epoch 187/200\n",
            "8268/8268 [==============================] - 1s 66us/sample - loss: 0.3325 - sparse_categorical_accuracy: 0.8811 - val_loss: 0.4941 - val_sparse_categorical_accuracy: 0.8469\n",
            "Epoch 188/200\n",
            "8268/8268 [==============================] - 1s 65us/sample - loss: 0.3437 - sparse_categorical_accuracy: 0.8737 - val_loss: 0.4916 - val_sparse_categorical_accuracy: 0.8520\n",
            "Epoch 189/200\n",
            "8268/8268 [==============================] - 1s 65us/sample - loss: 0.3361 - sparse_categorical_accuracy: 0.8806 - val_loss: 0.4957 - val_sparse_categorical_accuracy: 0.8498\n",
            "Epoch 190/200\n",
            "8268/8268 [==============================] - 1s 65us/sample - loss: 0.3320 - sparse_categorical_accuracy: 0.8795 - val_loss: 0.4988 - val_sparse_categorical_accuracy: 0.8502\n",
            "Epoch 191/200\n",
            "8268/8268 [==============================] - 1s 63us/sample - loss: 0.3343 - sparse_categorical_accuracy: 0.8801 - val_loss: 0.4854 - val_sparse_categorical_accuracy: 0.8509\n",
            "Epoch 192/200\n",
            "8268/8268 [==============================] - 1s 66us/sample - loss: 0.3228 - sparse_categorical_accuracy: 0.8809 - val_loss: 0.4929 - val_sparse_categorical_accuracy: 0.8520\n",
            "Epoch 193/200\n",
            "8268/8268 [==============================] - 1s 63us/sample - loss: 0.3282 - sparse_categorical_accuracy: 0.8797 - val_loss: 0.4947 - val_sparse_categorical_accuracy: 0.8542\n",
            "Epoch 194/200\n",
            "8268/8268 [==============================] - 1s 66us/sample - loss: 0.3287 - sparse_categorical_accuracy: 0.8812 - val_loss: 0.5098 - val_sparse_categorical_accuracy: 0.8502\n",
            "Epoch 195/200\n",
            "8268/8268 [==============================] - 1s 65us/sample - loss: 0.3314 - sparse_categorical_accuracy: 0.8843 - val_loss: 0.4933 - val_sparse_categorical_accuracy: 0.8498\n",
            "Epoch 196/200\n",
            "8268/8268 [==============================] - 1s 63us/sample - loss: 0.3329 - sparse_categorical_accuracy: 0.8788 - val_loss: 0.4992 - val_sparse_categorical_accuracy: 0.8484\n",
            "Epoch 197/200\n",
            "8268/8268 [==============================] - 1s 64us/sample - loss: 0.3272 - sparse_categorical_accuracy: 0.8822 - val_loss: 0.4947 - val_sparse_categorical_accuracy: 0.8487\n",
            "Epoch 198/200\n",
            "8268/8268 [==============================] - 1s 65us/sample - loss: 0.3238 - sparse_categorical_accuracy: 0.8828 - val_loss: 0.4964 - val_sparse_categorical_accuracy: 0.8487\n",
            "Epoch 199/200\n",
            "8268/8268 [==============================] - 1s 65us/sample - loss: 0.3296 - sparse_categorical_accuracy: 0.8805 - val_loss: 0.4944 - val_sparse_categorical_accuracy: 0.8546\n",
            "Epoch 200/200\n",
            "8268/8268 [==============================] - 1s 64us/sample - loss: 0.3216 - sparse_categorical_accuracy: 0.8823 - val_loss: 0.4948 - val_sparse_categorical_accuracy: 0.8513\n"
          ],
          "name": "stdout"
        }
      ]
    },
    {
      "cell_type": "code",
      "metadata": {
        "id": "QqMJNrSX3rgj",
        "colab_type": "code",
        "colab": {
          "base_uri": "https://localhost:8080/",
          "height": 350
        },
        "outputId": "bd3192e4-2c52-4efb-fce1-4f7e04a1bc3a"
      },
      "source": [
        "visualzation_accuracy_loss_values_epochs(history)"
      ],
      "execution_count": 46,
      "outputs": [
        {
          "output_type": "display_data",
          "data": {
            "image/png": "[encoded data removed]",
            "text/plain": [
              "<Figure size 1080x360 with 2 Axes>"
            ]
          },
          "metadata": {
            "tags": []
          }
        }
      ]
    },
    {
      "cell_type": "code",
      "metadata": {
        "id": "TsCLnPGx3t1p",
        "colab_type": "code",
        "colab": {
          "base_uri": "https://localhost:8080/",
          "height": 51
        },
        "outputId": "b5377546-30cf-4d4a-b989-e1327556985e"
      },
      "source": [
        "test_loss, test_accuracy = model.evaluate(x_test, y_test)\n",
        "print(\"Test accuracy: {}\".format(test_accuracy))"
      ],
      "execution_count": 47,
      "outputs": [
        {
          "output_type": "stream",
          "text": [
            "1226/1226 [==============================] - 0s 64us/sample - loss: 0.5043 - sparse_categorical_accuracy: 0.8475\n",
            "Test accuracy: 0.8474714756011963\n"
          ],
          "name": "stdout"
        }
      ]
    },
    {
      "cell_type": "markdown",
      "metadata": {
        "id": "SJpAP0X75pOr",
        "colab_type": "text"
      },
      "source": [
        "#### Early Stopping"
      ]
    },
    {
      "cell_type": "code",
      "metadata": {
        "id": "4WECMvSFdm_G",
        "colab_type": "code",
        "colab": {}
      },
      "source": [
        "model = tf.keras.models.Sequential()\n",
        "model.add(tf.keras.layers.Dense(units=64, activation='relu', input_shape=(5, )))\n",
        "model.add(tf.keras.layers.Dense(units=64, activation='relu'))\n",
        "model.add(tf.keras.layers.Dense(units=64, activation='relu'))\n",
        "model.add(tf.keras.layers.Dense(units=15, activation='softmax'))\n",
        "model.compile(optimizer='adam', loss='sparse_categorical_crossentropy',metrics=['sparse_categorical_accuracy'])\n"
      ],
      "execution_count": 0,
      "outputs": []
    },
    {
      "cell_type": "code",
      "metadata": {
        "id": "rv3ZG6nsel7I",
        "colab_type": "code",
        "colab": {}
      },
      "source": [
        "monitor = EarlyStopping(monitor='val_loss', min_delta=1e-3, patience=5, verbose=1, mode='auto',\n",
        "        restore_best_weights=True)"
      ],
      "execution_count": 0,
      "outputs": []
    },
    {
      "cell_type": "code",
      "metadata": {
        "id": "fg_aqyPueuxy",
        "colab_type": "code",
        "colab": {
          "base_uri": "https://localhost:8080/",
          "height": 1000
        },
        "outputId": "a965f25f-0d85-4d36-f702-89eb8e4ea643"
      },
      "source": [
        "history = model.fit(x_train, y_train, validation_split=0.25 ,callbacks=[monitor],batch_size=64, epochs=200 , verbose = 1)"
      ],
      "execution_count": 50,
      "outputs": [
        {
          "output_type": "stream",
          "text": [
            "Train on 8268 samples, validate on 2757 samples\n",
            "Epoch 1/200\n",
            "8268/8268 [==============================] - 1s 83us/sample - loss: 1.9681 - sparse_categorical_accuracy: 0.4034 - val_loss: 1.4058 - val_sparse_categorical_accuracy: 0.5172\n",
            "Epoch 2/200\n",
            "8268/8268 [==============================] - 1s 63us/sample - loss: 1.2561 - sparse_categorical_accuracy: 0.5666 - val_loss: 1.1572 - val_sparse_categorical_accuracy: 0.5999\n",
            "Epoch 3/200\n",
            "8268/8268 [==============================] - 1s 65us/sample - loss: 1.0887 - sparse_categorical_accuracy: 0.6218 - val_loss: 1.0747 - val_sparse_categorical_accuracy: 0.6231\n",
            "Epoch 4/200\n",
            "8268/8268 [==============================] - 1s 64us/sample - loss: 0.9973 - sparse_categorical_accuracy: 0.6499 - val_loss: 1.0033 - val_sparse_categorical_accuracy: 0.6347\n",
            "Epoch 5/200\n",
            "8268/8268 [==============================] - 1s 62us/sample - loss: 0.9362 - sparse_categorical_accuracy: 0.6709 - val_loss: 0.9382 - val_sparse_categorical_accuracy: 0.6707\n",
            "Epoch 6/200\n",
            "8268/8268 [==============================] - 1s 63us/sample - loss: 0.8949 - sparse_categorical_accuracy: 0.6837 - val_loss: 0.9024 - val_sparse_categorical_accuracy: 0.6899\n",
            "Epoch 7/200\n",
            "8268/8268 [==============================] - 0s 59us/sample - loss: 0.8634 - sparse_categorical_accuracy: 0.6953 - val_loss: 0.9020 - val_sparse_categorical_accuracy: 0.6826\n",
            "Epoch 8/200\n",
            "8268/8268 [==============================] - 1s 66us/sample - loss: 0.8373 - sparse_categorical_accuracy: 0.7039 - val_loss: 0.8471 - val_sparse_categorical_accuracy: 0.6979\n",
            "Epoch 9/200\n",
            "8268/8268 [==============================] - 0s 60us/sample - loss: 0.8083 - sparse_categorical_accuracy: 0.7147 - val_loss: 0.8310 - val_sparse_categorical_accuracy: 0.7073\n",
            "Epoch 10/200\n",
            "8268/8268 [==============================] - 1s 64us/sample - loss: 0.7882 - sparse_categorical_accuracy: 0.7236 - val_loss: 0.7962 - val_sparse_categorical_accuracy: 0.7236\n",
            "Epoch 11/200\n",
            "8268/8268 [==============================] - 0s 60us/sample - loss: 0.7656 - sparse_categorical_accuracy: 0.7314 - val_loss: 0.7943 - val_sparse_categorical_accuracy: 0.7182\n",
            "Epoch 12/200\n",
            "8268/8268 [==============================] - 1s 67us/sample - loss: 0.7521 - sparse_categorical_accuracy: 0.7322 - val_loss: 0.7811 - val_sparse_categorical_accuracy: 0.7265\n",
            "Epoch 13/200\n",
            "8268/8268 [==============================] - 0s 60us/sample - loss: 0.7341 - sparse_categorical_accuracy: 0.7429 - val_loss: 0.7669 - val_sparse_categorical_accuracy: 0.7370\n",
            "Epoch 14/200\n",
            "8268/8268 [==============================] - 1s 64us/sample - loss: 0.7169 - sparse_categorical_accuracy: 0.7458 - val_loss: 0.7567 - val_sparse_categorical_accuracy: 0.7363\n",
            "Epoch 15/200\n",
            "8268/8268 [==============================] - 1s 66us/sample - loss: 0.7053 - sparse_categorical_accuracy: 0.7482 - val_loss: 0.7357 - val_sparse_categorical_accuracy: 0.7483\n",
            "Epoch 16/200\n",
            "8268/8268 [==============================] - 1s 61us/sample - loss: 0.6917 - sparse_categorical_accuracy: 0.7588 - val_loss: 0.7220 - val_sparse_categorical_accuracy: 0.7530\n",
            "Epoch 17/200\n",
            "8268/8268 [==============================] - 0s 60us/sample - loss: 0.6753 - sparse_categorical_accuracy: 0.7668 - val_loss: 0.7242 - val_sparse_categorical_accuracy: 0.7534\n",
            "Epoch 18/200\n",
            "8268/8268 [==============================] - 1s 63us/sample - loss: 0.6646 - sparse_categorical_accuracy: 0.7673 - val_loss: 0.7034 - val_sparse_categorical_accuracy: 0.7642\n",
            "Epoch 19/200\n",
            "8268/8268 [==============================] - 1s 64us/sample - loss: 0.6553 - sparse_categorical_accuracy: 0.7715 - val_loss: 0.7056 - val_sparse_categorical_accuracy: 0.7592\n",
            "Epoch 20/200\n",
            "8268/8268 [==============================] - 1s 61us/sample - loss: 0.6400 - sparse_categorical_accuracy: 0.7769 - val_loss: 0.6843 - val_sparse_categorical_accuracy: 0.7686\n",
            "Epoch 21/200\n",
            "8268/8268 [==============================] - 1s 62us/sample - loss: 0.6323 - sparse_categorical_accuracy: 0.7785 - val_loss: 0.6730 - val_sparse_categorical_accuracy: 0.7711\n",
            "Epoch 22/200\n",
            "8268/8268 [==============================] - 1s 62us/sample - loss: 0.6233 - sparse_categorical_accuracy: 0.7846 - val_loss: 0.6739 - val_sparse_categorical_accuracy: 0.7766\n",
            "Epoch 23/200\n",
            "8268/8268 [==============================] - 1s 65us/sample - loss: 0.6122 - sparse_categorical_accuracy: 0.7871 - val_loss: 0.6526 - val_sparse_categorical_accuracy: 0.7849\n",
            "Epoch 24/200\n",
            "8268/8268 [==============================] - 1s 62us/sample - loss: 0.5989 - sparse_categorical_accuracy: 0.7933 - val_loss: 0.6535 - val_sparse_categorical_accuracy: 0.7733\n",
            "Epoch 25/200\n",
            "8268/8268 [==============================] - 1s 64us/sample - loss: 0.5950 - sparse_categorical_accuracy: 0.7966 - val_loss: 0.6331 - val_sparse_categorical_accuracy: 0.7896\n",
            "Epoch 26/200\n",
            "8268/8268 [==============================] - 1s 63us/sample - loss: 0.5840 - sparse_categorical_accuracy: 0.7969 - val_loss: 0.6435 - val_sparse_categorical_accuracy: 0.7820\n",
            "Epoch 27/200\n",
            "8268/8268 [==============================] - 1s 67us/sample - loss: 0.5766 - sparse_categorical_accuracy: 0.7975 - val_loss: 0.6286 - val_sparse_categorical_accuracy: 0.7871\n",
            "Epoch 28/200\n",
            "8268/8268 [==============================] - 1s 63us/sample - loss: 0.5716 - sparse_categorical_accuracy: 0.8004 - val_loss: 0.6343 - val_sparse_categorical_accuracy: 0.7875\n",
            "Epoch 29/200\n",
            "8268/8268 [==============================] - 1s 64us/sample - loss: 0.5585 - sparse_categorical_accuracy: 0.8038 - val_loss: 0.6161 - val_sparse_categorical_accuracy: 0.7969\n",
            "Epoch 30/200\n",
            "8268/8268 [==============================] - 1s 62us/sample - loss: 0.5553 - sparse_categorical_accuracy: 0.8068 - val_loss: 0.6058 - val_sparse_categorical_accuracy: 0.7991\n",
            "Epoch 31/200\n",
            "8268/8268 [==============================] - 1s 67us/sample - loss: 0.5503 - sparse_categorical_accuracy: 0.8071 - val_loss: 0.6136 - val_sparse_categorical_accuracy: 0.7911\n",
            "Epoch 32/200\n",
            "8268/8268 [==============================] - 1s 64us/sample - loss: 0.5399 - sparse_categorical_accuracy: 0.8090 - val_loss: 0.6020 - val_sparse_categorical_accuracy: 0.7940\n",
            "Epoch 33/200\n",
            "8268/8268 [==============================] - 1s 63us/sample - loss: 0.5298 - sparse_categorical_accuracy: 0.8162 - val_loss: 0.5844 - val_sparse_categorical_accuracy: 0.8052\n",
            "Epoch 34/200\n",
            "8268/8268 [==============================] - 1s 65us/sample - loss: 0.5292 - sparse_categorical_accuracy: 0.8201 - val_loss: 0.5872 - val_sparse_categorical_accuracy: 0.8045\n",
            "Epoch 35/200\n",
            "8268/8268 [==============================] - 1s 62us/sample - loss: 0.5207 - sparse_categorical_accuracy: 0.8179 - val_loss: 0.5714 - val_sparse_categorical_accuracy: 0.8041\n",
            "Epoch 36/200\n",
            "8268/8268 [==============================] - 1s 63us/sample - loss: 0.5137 - sparse_categorical_accuracy: 0.8204 - val_loss: 0.5762 - val_sparse_categorical_accuracy: 0.8056\n",
            "Epoch 37/200\n",
            "8268/8268 [==============================] - 1s 64us/sample - loss: 0.5056 - sparse_categorical_accuracy: 0.8257 - val_loss: 0.5680 - val_sparse_categorical_accuracy: 0.8005\n",
            "Epoch 38/200\n",
            "8268/8268 [==============================] - 1s 65us/sample - loss: 0.5021 - sparse_categorical_accuracy: 0.8264 - val_loss: 0.5618 - val_sparse_categorical_accuracy: 0.8030\n",
            "Epoch 39/200\n",
            "8268/8268 [==============================] - 1s 61us/sample - loss: 0.4971 - sparse_categorical_accuracy: 0.8308 - val_loss: 0.5636 - val_sparse_categorical_accuracy: 0.8070\n",
            "Epoch 40/200\n",
            "8268/8268 [==============================] - 0s 60us/sample - loss: 0.4908 - sparse_categorical_accuracy: 0.8261 - val_loss: 0.5619 - val_sparse_categorical_accuracy: 0.8096\n",
            "Epoch 41/200\n",
            "8268/8268 [==============================] - 1s 62us/sample - loss: 0.4871 - sparse_categorical_accuracy: 0.8330 - val_loss: 0.5630 - val_sparse_categorical_accuracy: 0.8081\n",
            "Epoch 42/200\n",
            "8268/8268 [==============================] - 1s 67us/sample - loss: 0.4793 - sparse_categorical_accuracy: 0.8330 - val_loss: 0.5676 - val_sparse_categorical_accuracy: 0.8099\n",
            "Epoch 43/200\n",
            "8268/8268 [==============================] - 1s 63us/sample - loss: 0.4801 - sparse_categorical_accuracy: 0.8338 - val_loss: 0.5518 - val_sparse_categorical_accuracy: 0.8190\n",
            "Epoch 44/200\n",
            "8268/8268 [==============================] - 1s 67us/sample - loss: 0.4717 - sparse_categorical_accuracy: 0.8387 - val_loss: 0.5489 - val_sparse_categorical_accuracy: 0.8179\n",
            "Epoch 45/200\n",
            "8268/8268 [==============================] - 1s 62us/sample - loss: 0.4699 - sparse_categorical_accuracy: 0.8393 - val_loss: 0.5351 - val_sparse_categorical_accuracy: 0.8219\n",
            "Epoch 46/200\n",
            "8268/8268 [==============================] - 1s 65us/sample - loss: 0.4672 - sparse_categorical_accuracy: 0.8405 - val_loss: 0.5450 - val_sparse_categorical_accuracy: 0.8096\n",
            "Epoch 47/200\n",
            "8268/8268 [==============================] - 1s 60us/sample - loss: 0.4589 - sparse_categorical_accuracy: 0.8414 - val_loss: 0.5371 - val_sparse_categorical_accuracy: 0.8226\n",
            "Epoch 48/200\n",
            "8268/8268 [==============================] - 1s 64us/sample - loss: 0.4567 - sparse_categorical_accuracy: 0.8453 - val_loss: 0.5279 - val_sparse_categorical_accuracy: 0.8263\n",
            "Epoch 49/200\n",
            "8268/8268 [==============================] - 1s 63us/sample - loss: 0.4558 - sparse_categorical_accuracy: 0.8447 - val_loss: 0.5492 - val_sparse_categorical_accuracy: 0.8128\n",
            "Epoch 50/200\n",
            "8268/8268 [==============================] - 1s 61us/sample - loss: 0.4456 - sparse_categorical_accuracy: 0.8504 - val_loss: 0.5225 - val_sparse_categorical_accuracy: 0.8248\n",
            "Epoch 51/200\n",
            "8268/8268 [==============================] - 1s 62us/sample - loss: 0.4447 - sparse_categorical_accuracy: 0.8470 - val_loss: 0.5198 - val_sparse_categorical_accuracy: 0.8270\n",
            "Epoch 52/200\n",
            "8268/8268 [==============================] - 1s 61us/sample - loss: 0.4360 - sparse_categorical_accuracy: 0.8497 - val_loss: 0.5069 - val_sparse_categorical_accuracy: 0.8255\n",
            "Epoch 53/200\n",
            "8268/8268 [==============================] - 1s 62us/sample - loss: 0.4407 - sparse_categorical_accuracy: 0.8482 - val_loss: 0.5137 - val_sparse_categorical_accuracy: 0.8248\n",
            "Epoch 54/200\n",
            "8268/8268 [==============================] - 1s 63us/sample - loss: 0.4362 - sparse_categorical_accuracy: 0.8517 - val_loss: 0.5170 - val_sparse_categorical_accuracy: 0.8273\n",
            "Epoch 55/200\n",
            "8268/8268 [==============================] - 1s 60us/sample - loss: 0.4303 - sparse_categorical_accuracy: 0.8501 - val_loss: 0.5132 - val_sparse_categorical_accuracy: 0.8313\n",
            "Epoch 56/200\n",
            "8268/8268 [==============================] - 0s 60us/sample - loss: 0.4348 - sparse_categorical_accuracy: 0.8480 - val_loss: 0.5151 - val_sparse_categorical_accuracy: 0.8281\n",
            "Epoch 57/200\n",
            "8256/8268 [============================>.] - ETA: 0s - loss: 0.4217 - sparse_categorical_accuracy: 0.8547Restoring model weights from the end of the best epoch.\n",
            "8268/8268 [==============================] - 1s 62us/sample - loss: 0.4219 - sparse_categorical_accuracy: 0.8546 - val_loss: 0.5191 - val_sparse_categorical_accuracy: 0.8252\n",
            "Epoch 00057: early stopping\n"
          ],
          "name": "stdout"
        }
      ]
    },
    {
      "cell_type": "code",
      "metadata": {
        "id": "eJsw5o-xdxUN",
        "colab_type": "code",
        "colab": {
          "base_uri": "https://localhost:8080/",
          "height": 370
        },
        "outputId": "7acda13c-6db5-4cda-949b-5887c9f7033e"
      },
      "source": [
        "visualzation_accuracy_loss_values_epochs(history)"
      ],
      "execution_count": 51,
      "outputs": [
        {
          "output_type": "display_data",
          "data": {
            "image/png": "[encoded data removed]",
            "text/plain": [
              "<Figure size 1080x360 with 2 Axes>"
            ]
          },
          "metadata": {
            "tags": []
          }
        }
      ]
    },
    {
      "cell_type": "code",
      "metadata": {
        "id": "hmUSH0kafeJ8",
        "colab_type": "code",
        "colab": {
          "base_uri": "https://localhost:8080/",
          "height": 71
        },
        "outputId": "a423e60f-b64b-4cfb-dcbb-9852f455489b"
      },
      "source": [
        "test_loss, test_accuracy = model.evaluate(x_test, y_test)\n",
        "print(\"Test accuracy: {}\".format(test_accuracy))"
      ],
      "execution_count": 52,
      "outputs": [
        {
          "output_type": "stream",
          "text": [
            "1226/1226 [==============================] - 0s 79us/sample - loss: 0.5379 - sparse_categorical_accuracy: 0.8148\n",
            "Test accuracy: 0.8148450255393982\n"
          ],
          "name": "stdout"
        }
      ]
    },
    {
      "cell_type": "markdown",
      "metadata": {
        "id": "pp41smbMgEeY",
        "colab_type": "text"
      },
      "source": [
        "####Dropout +  Early Stopping\n"
      ]
    },
    {
      "cell_type": "code",
      "metadata": {
        "id": "lugXwvCWgmQZ",
        "colab_type": "code",
        "colab": {}
      },
      "source": [
        "model = tf.keras.models.Sequential()\n",
        "model.add(tf.keras.layers.Dense(units=64, activation='relu', input_shape=(5, )))\n",
        "model.add(tf.keras.layers.Dense(units=64, activation='relu'))\n",
        "model.add(tf.keras.layers.Dense(units=64, activation='relu'))\n",
        "model.add(tf.keras.layers.Dropout(0.2))\n",
        "model.add(tf.keras.layers.Dense(units=15, activation='softmax'))\n",
        "model.compile(optimizer='adam', loss='sparse_categorical_crossentropy',metrics=['sparse_categorical_accuracy'])"
      ],
      "execution_count": 0,
      "outputs": []
    },
    {
      "cell_type": "code",
      "metadata": {
        "id": "tIm40ViMhyZz",
        "colab_type": "code",
        "colab": {}
      },
      "source": [
        "monitor = EarlyStopping(monitor='val_loss', min_delta=1e-3, patience=5, verbose=1, mode='auto',\n",
        "        restore_best_weights=True)"
      ],
      "execution_count": 0,
      "outputs": []
    },
    {
      "cell_type": "code",
      "metadata": {
        "id": "f6I2dmL_iZKN",
        "colab_type": "code",
        "colab": {
          "base_uri": "https://localhost:8080/",
          "height": 1000
        },
        "outputId": "9952c0a2-f6fc-417b-d724-9045751f0613"
      },
      "source": [
        "history = model.fit(x_train, y_train, validation_split=0.25 ,callbacks=[monitor],batch_size=64, epochs=200 , verbose = 1)"
      ],
      "execution_count": 55,
      "outputs": [
        {
          "output_type": "stream",
          "text": [
            "Train on 8268 samples, validate on 2757 samples\n",
            "Epoch 1/200\n",
            "8268/8268 [==============================] - 1s 91us/sample - loss: 2.0910 - sparse_categorical_accuracy: 0.3449 - val_loss: 1.4729 - val_sparse_categorical_accuracy: 0.5194\n",
            "Epoch 2/200\n",
            "8268/8268 [==============================] - 1s 67us/sample - loss: 1.4220 - sparse_categorical_accuracy: 0.5134 - val_loss: 1.2135 - val_sparse_categorical_accuracy: 0.5738\n",
            "Epoch 3/200\n",
            "8268/8268 [==============================] - 1s 63us/sample - loss: 1.2341 - sparse_categorical_accuracy: 0.5783 - val_loss: 1.1010 - val_sparse_categorical_accuracy: 0.6097\n",
            "Epoch 4/200\n",
            "8268/8268 [==============================] - 1s 66us/sample - loss: 1.1408 - sparse_categorical_accuracy: 0.6132 - val_loss: 1.0429 - val_sparse_categorical_accuracy: 0.6286\n",
            "Epoch 5/200\n",
            "8268/8268 [==============================] - 1s 66us/sample - loss: 1.0783 - sparse_categorical_accuracy: 0.6272 - val_loss: 0.9984 - val_sparse_categorical_accuracy: 0.6442\n",
            "Epoch 6/200\n",
            "8268/8268 [==============================] - 1s 65us/sample - loss: 1.0395 - sparse_categorical_accuracy: 0.6336 - val_loss: 0.9633 - val_sparse_categorical_accuracy: 0.6569\n",
            "Epoch 7/200\n",
            "8268/8268 [==============================] - 1s 66us/sample - loss: 1.0051 - sparse_categorical_accuracy: 0.6493 - val_loss: 0.9228 - val_sparse_categorical_accuracy: 0.6779\n",
            "Epoch 8/200\n",
            "8268/8268 [==============================] - 1s 67us/sample - loss: 0.9642 - sparse_categorical_accuracy: 0.6629 - val_loss: 0.8920 - val_sparse_categorical_accuracy: 0.6888\n",
            "Epoch 9/200\n",
            "8268/8268 [==============================] - 1s 64us/sample - loss: 0.9357 - sparse_categorical_accuracy: 0.6754 - val_loss: 0.8757 - val_sparse_categorical_accuracy: 0.6863\n",
            "Epoch 10/200\n",
            "8268/8268 [==============================] - 1s 64us/sample - loss: 0.9137 - sparse_categorical_accuracy: 0.6841 - val_loss: 0.8475 - val_sparse_categorical_accuracy: 0.7055\n",
            "Epoch 11/200\n",
            "8268/8268 [==============================] - 1s 66us/sample - loss: 0.8809 - sparse_categorical_accuracy: 0.6938 - val_loss: 0.8241 - val_sparse_categorical_accuracy: 0.7164\n",
            "Epoch 12/200\n",
            "8268/8268 [==============================] - 1s 63us/sample - loss: 0.8603 - sparse_categorical_accuracy: 0.7017 - val_loss: 0.8062 - val_sparse_categorical_accuracy: 0.7189\n",
            "Epoch 13/200\n",
            "8268/8268 [==============================] - 1s 64us/sample - loss: 0.8427 - sparse_categorical_accuracy: 0.7060 - val_loss: 0.7959 - val_sparse_categorical_accuracy: 0.7316\n",
            "Epoch 14/200\n",
            "8268/8268 [==============================] - 1s 64us/sample - loss: 0.8246 - sparse_categorical_accuracy: 0.7199 - val_loss: 0.7807 - val_sparse_categorical_accuracy: 0.7305\n",
            "Epoch 15/200\n",
            "8268/8268 [==============================] - 1s 64us/sample - loss: 0.8139 - sparse_categorical_accuracy: 0.7202 - val_loss: 0.7685 - val_sparse_categorical_accuracy: 0.7334\n",
            "Epoch 16/200\n",
            "8268/8268 [==============================] - 1s 67us/sample - loss: 0.7926 - sparse_categorical_accuracy: 0.7240 - val_loss: 0.7540 - val_sparse_categorical_accuracy: 0.7363\n",
            "Epoch 17/200\n",
            "8268/8268 [==============================] - 1s 64us/sample - loss: 0.7788 - sparse_categorical_accuracy: 0.7267 - val_loss: 0.7325 - val_sparse_categorical_accuracy: 0.7465\n",
            "Epoch 18/200\n",
            "8268/8268 [==============================] - 1s 66us/sample - loss: 0.7618 - sparse_categorical_accuracy: 0.7348 - val_loss: 0.7338 - val_sparse_categorical_accuracy: 0.7461\n",
            "Epoch 19/200\n",
            "8268/8268 [==============================] - 1s 65us/sample - loss: 0.7529 - sparse_categorical_accuracy: 0.7391 - val_loss: 0.7230 - val_sparse_categorical_accuracy: 0.7646\n",
            "Epoch 20/200\n",
            "8268/8268 [==============================] - 1s 64us/sample - loss: 0.7418 - sparse_categorical_accuracy: 0.7403 - val_loss: 0.7111 - val_sparse_categorical_accuracy: 0.7650\n",
            "Epoch 21/200\n",
            "8268/8268 [==============================] - 1s 66us/sample - loss: 0.7309 - sparse_categorical_accuracy: 0.7437 - val_loss: 0.6995 - val_sparse_categorical_accuracy: 0.7668\n",
            "Epoch 22/200\n",
            "8268/8268 [==============================] - 1s 64us/sample - loss: 0.7145 - sparse_categorical_accuracy: 0.7498 - val_loss: 0.6899 - val_sparse_categorical_accuracy: 0.7675\n",
            "Epoch 23/200\n",
            "8268/8268 [==============================] - 1s 66us/sample - loss: 0.7102 - sparse_categorical_accuracy: 0.7575 - val_loss: 0.6857 - val_sparse_categorical_accuracy: 0.7610\n",
            "Epoch 24/200\n",
            "8268/8268 [==============================] - 1s 67us/sample - loss: 0.6968 - sparse_categorical_accuracy: 0.7565 - val_loss: 0.6760 - val_sparse_categorical_accuracy: 0.7693\n",
            "Epoch 25/200\n",
            "8268/8268 [==============================] - 1s 67us/sample - loss: 0.6876 - sparse_categorical_accuracy: 0.7637 - val_loss: 0.6552 - val_sparse_categorical_accuracy: 0.7798\n",
            "Epoch 26/200\n",
            "8268/8268 [==============================] - 1s 65us/sample - loss: 0.6724 - sparse_categorical_accuracy: 0.7667 - val_loss: 0.6673 - val_sparse_categorical_accuracy: 0.7719\n",
            "Epoch 27/200\n",
            "8268/8268 [==============================] - 1s 67us/sample - loss: 0.6714 - sparse_categorical_accuracy: 0.7684 - val_loss: 0.6443 - val_sparse_categorical_accuracy: 0.7835\n",
            "Epoch 28/200\n",
            "8268/8268 [==============================] - 1s 65us/sample - loss: 0.6621 - sparse_categorical_accuracy: 0.7715 - val_loss: 0.6300 - val_sparse_categorical_accuracy: 0.7922\n",
            "Epoch 29/200\n",
            "8268/8268 [==============================] - 1s 63us/sample - loss: 0.6589 - sparse_categorical_accuracy: 0.7702 - val_loss: 0.6374 - val_sparse_categorical_accuracy: 0.7871\n",
            "Epoch 30/200\n",
            "8268/8268 [==============================] - 1s 65us/sample - loss: 0.6451 - sparse_categorical_accuracy: 0.7748 - val_loss: 0.6156 - val_sparse_categorical_accuracy: 0.7972\n",
            "Epoch 31/200\n",
            "8268/8268 [==============================] - 1s 64us/sample - loss: 0.6347 - sparse_categorical_accuracy: 0.7784 - val_loss: 0.6177 - val_sparse_categorical_accuracy: 0.8012\n",
            "Epoch 32/200\n",
            "8268/8268 [==============================] - 1s 64us/sample - loss: 0.6376 - sparse_categorical_accuracy: 0.7822 - val_loss: 0.6426 - val_sparse_categorical_accuracy: 0.7904\n",
            "Epoch 33/200\n",
            "8268/8268 [==============================] - 1s 65us/sample - loss: 0.6259 - sparse_categorical_accuracy: 0.7806 - val_loss: 0.6084 - val_sparse_categorical_accuracy: 0.8027\n",
            "Epoch 34/200\n",
            "8268/8268 [==============================] - 1s 64us/sample - loss: 0.6222 - sparse_categorical_accuracy: 0.7836 - val_loss: 0.5993 - val_sparse_categorical_accuracy: 0.8092\n",
            "Epoch 35/200\n",
            "8268/8268 [==============================] - 1s 66us/sample - loss: 0.6056 - sparse_categorical_accuracy: 0.7860 - val_loss: 0.6040 - val_sparse_categorical_accuracy: 0.7976\n",
            "Epoch 36/200\n",
            "8268/8268 [==============================] - 1s 66us/sample - loss: 0.6051 - sparse_categorical_accuracy: 0.7911 - val_loss: 0.5969 - val_sparse_categorical_accuracy: 0.8023\n",
            "Epoch 37/200\n",
            "8268/8268 [==============================] - 1s 68us/sample - loss: 0.6025 - sparse_categorical_accuracy: 0.7929 - val_loss: 0.5989 - val_sparse_categorical_accuracy: 0.8023\n",
            "Epoch 38/200\n",
            "8268/8268 [==============================] - 1s 67us/sample - loss: 0.5891 - sparse_categorical_accuracy: 0.7975 - val_loss: 0.5961 - val_sparse_categorical_accuracy: 0.8045\n",
            "Epoch 39/200\n",
            "8268/8268 [==============================] - 1s 64us/sample - loss: 0.5939 - sparse_categorical_accuracy: 0.7957 - val_loss: 0.5834 - val_sparse_categorical_accuracy: 0.8110\n",
            "Epoch 40/200\n",
            "8268/8268 [==============================] - 1s 67us/sample - loss: 0.5793 - sparse_categorical_accuracy: 0.7986 - val_loss: 0.5854 - val_sparse_categorical_accuracy: 0.8081\n",
            "Epoch 41/200\n",
            "8268/8268 [==============================] - 1s 64us/sample - loss: 0.5714 - sparse_categorical_accuracy: 0.8014 - val_loss: 0.5793 - val_sparse_categorical_accuracy: 0.8063\n",
            "Epoch 42/200\n",
            "8268/8268 [==============================] - 1s 64us/sample - loss: 0.5742 - sparse_categorical_accuracy: 0.7993 - val_loss: 0.5781 - val_sparse_categorical_accuracy: 0.8045\n",
            "Epoch 43/200\n",
            "8268/8268 [==============================] - 1s 64us/sample - loss: 0.5718 - sparse_categorical_accuracy: 0.7969 - val_loss: 0.5727 - val_sparse_categorical_accuracy: 0.8121\n",
            "Epoch 44/200\n",
            "8268/8268 [==============================] - 1s 65us/sample - loss: 0.5674 - sparse_categorical_accuracy: 0.8033 - val_loss: 0.5815 - val_sparse_categorical_accuracy: 0.8121\n",
            "Epoch 45/200\n",
            "8268/8268 [==============================] - 1s 66us/sample - loss: 0.5554 - sparse_categorical_accuracy: 0.8061 - val_loss: 0.5586 - val_sparse_categorical_accuracy: 0.8128\n",
            "Epoch 46/200\n",
            "8268/8268 [==============================] - 1s 63us/sample - loss: 0.5546 - sparse_categorical_accuracy: 0.8093 - val_loss: 0.5588 - val_sparse_categorical_accuracy: 0.8143\n",
            "Epoch 47/200\n",
            "8268/8268 [==============================] - 1s 66us/sample - loss: 0.5539 - sparse_categorical_accuracy: 0.8044 - val_loss: 0.5658 - val_sparse_categorical_accuracy: 0.8157\n",
            "Epoch 48/200\n",
            "8268/8268 [==============================] - 1s 62us/sample - loss: 0.5528 - sparse_categorical_accuracy: 0.8111 - val_loss: 0.5567 - val_sparse_categorical_accuracy: 0.8172\n",
            "Epoch 49/200\n",
            "8268/8268 [==============================] - 1s 70us/sample - loss: 0.5430 - sparse_categorical_accuracy: 0.8081 - val_loss: 0.5569 - val_sparse_categorical_accuracy: 0.8186\n",
            "Epoch 50/200\n",
            "8268/8268 [==============================] - 1s 64us/sample - loss: 0.5441 - sparse_categorical_accuracy: 0.8060 - val_loss: 0.5542 - val_sparse_categorical_accuracy: 0.8147\n",
            "Epoch 51/200\n",
            "8268/8268 [==============================] - 1s 66us/sample - loss: 0.5402 - sparse_categorical_accuracy: 0.8131 - val_loss: 0.5498 - val_sparse_categorical_accuracy: 0.8190\n",
            "Epoch 52/200\n",
            "8268/8268 [==============================] - 1s 66us/sample - loss: 0.5398 - sparse_categorical_accuracy: 0.8131 - val_loss: 0.5435 - val_sparse_categorical_accuracy: 0.8215\n",
            "Epoch 53/200\n",
            "8268/8268 [==============================] - 1s 66us/sample - loss: 0.5264 - sparse_categorical_accuracy: 0.8156 - val_loss: 0.5502 - val_sparse_categorical_accuracy: 0.8154\n",
            "Epoch 54/200\n",
            "8268/8268 [==============================] - 1s 64us/sample - loss: 0.5346 - sparse_categorical_accuracy: 0.8139 - val_loss: 0.5418 - val_sparse_categorical_accuracy: 0.8215\n",
            "Epoch 55/200\n",
            "8268/8268 [==============================] - 1s 67us/sample - loss: 0.5207 - sparse_categorical_accuracy: 0.8204 - val_loss: 0.5359 - val_sparse_categorical_accuracy: 0.8212\n",
            "Epoch 56/200\n",
            "8268/8268 [==============================] - 1s 65us/sample - loss: 0.5302 - sparse_categorical_accuracy: 0.8154 - val_loss: 0.5302 - val_sparse_categorical_accuracy: 0.8281\n",
            "Epoch 57/200\n",
            "8268/8268 [==============================] - 1s 67us/sample - loss: 0.5178 - sparse_categorical_accuracy: 0.8205 - val_loss: 0.5310 - val_sparse_categorical_accuracy: 0.8252\n",
            "Epoch 58/200\n",
            "8268/8268 [==============================] - 1s 71us/sample - loss: 0.5120 - sparse_categorical_accuracy: 0.8185 - val_loss: 0.5253 - val_sparse_categorical_accuracy: 0.8255\n",
            "Epoch 59/200\n",
            "8268/8268 [==============================] - 1s 65us/sample - loss: 0.5151 - sparse_categorical_accuracy: 0.8209 - val_loss: 0.5308 - val_sparse_categorical_accuracy: 0.8270\n",
            "Epoch 60/200\n",
            "8268/8268 [==============================] - 1s 65us/sample - loss: 0.5131 - sparse_categorical_accuracy: 0.8203 - val_loss: 0.5355 - val_sparse_categorical_accuracy: 0.8226\n",
            "Epoch 61/200\n",
            "8268/8268 [==============================] - 1s 62us/sample - loss: 0.5078 - sparse_categorical_accuracy: 0.8235 - val_loss: 0.5338 - val_sparse_categorical_accuracy: 0.8263\n",
            "Epoch 62/200\n",
            "8268/8268 [==============================] - 1s 71us/sample - loss: 0.5053 - sparse_categorical_accuracy: 0.8237 - val_loss: 0.5306 - val_sparse_categorical_accuracy: 0.8241\n",
            "Epoch 63/200\n",
            "8268/8268 [==============================] - 1s 65us/sample - loss: 0.4944 - sparse_categorical_accuracy: 0.8296 - val_loss: 0.5133 - val_sparse_categorical_accuracy: 0.8324\n",
            "Epoch 64/200\n",
            "8268/8268 [==============================] - 1s 66us/sample - loss: 0.4948 - sparse_categorical_accuracy: 0.8214 - val_loss: 0.5236 - val_sparse_categorical_accuracy: 0.8284\n",
            "Epoch 65/200\n",
            "8268/8268 [==============================] - 1s 64us/sample - loss: 0.4958 - sparse_categorical_accuracy: 0.8251 - val_loss: 0.5104 - val_sparse_categorical_accuracy: 0.8357\n",
            "Epoch 66/200\n",
            "8268/8268 [==============================] - 1s 65us/sample - loss: 0.4923 - sparse_categorical_accuracy: 0.8264 - val_loss: 0.5134 - val_sparse_categorical_accuracy: 0.8299\n",
            "Epoch 67/200\n",
            "8268/8268 [==============================] - 1s 65us/sample - loss: 0.4899 - sparse_categorical_accuracy: 0.8336 - val_loss: 0.5159 - val_sparse_categorical_accuracy: 0.8303\n",
            "Epoch 68/200\n",
            "8268/8268 [==============================] - 1s 66us/sample - loss: 0.4866 - sparse_categorical_accuracy: 0.8336 - val_loss: 0.5266 - val_sparse_categorical_accuracy: 0.8284\n",
            "Epoch 69/200\n",
            "8268/8268 [==============================] - 1s 64us/sample - loss: 0.4831 - sparse_categorical_accuracy: 0.8289 - val_loss: 0.5169 - val_sparse_categorical_accuracy: 0.8244\n",
            "Epoch 70/200\n",
            "7744/8268 [===========================>..] - ETA: 0s - loss: 0.4878 - sparse_categorical_accuracy: 0.8326Restoring model weights from the end of the best epoch.\n",
            "8268/8268 [==============================] - 1s 65us/sample - loss: 0.4868 - sparse_categorical_accuracy: 0.8325 - val_loss: 0.5103 - val_sparse_categorical_accuracy: 0.8317\n",
            "Epoch 00070: early stopping\n"
          ],
          "name": "stdout"
        }
      ]
    },
    {
      "cell_type": "code",
      "metadata": {
        "id": "zrN1-OBNitza",
        "colab_type": "code",
        "colab": {
          "base_uri": "https://localhost:8080/",
          "height": 370
        },
        "outputId": "ddfb80af-e42e-4bd5-aa60-fb0747777806"
      },
      "source": [
        "visualzation_accuracy_loss_values_epochs(history)"
      ],
      "execution_count": 56,
      "outputs": [
        {
          "output_type": "display_data",
          "data": {
            "image/png": "[encoded data removed]",
            "text/plain": [
              "<Figure size 1080x360 with 2 Axes>"
            ]
          },
          "metadata": {
            "tags": []
          }
        }
      ]
    },
    {
      "cell_type": "code",
      "metadata": {
        "id": "xtN2NFdkixC1",
        "colab_type": "code",
        "colab": {
          "base_uri": "https://localhost:8080/",
          "height": 71
        },
        "outputId": "ee9bc956-c9b4-44a8-a2b6-b2428fd2e9b1"
      },
      "source": [
        "test_loss, test_accuracy = model.evaluate(x_test, y_test)\n",
        "print(\"Test accuracy: {}\".format(test_accuracy))"
      ],
      "execution_count": 57,
      "outputs": [
        {
          "output_type": "stream",
          "text": [
            "1226/1226 [==============================] - 0s 68us/sample - loss: 0.5102 - sparse_categorical_accuracy: 0.8320\n",
            "Test accuracy: 0.8319739103317261\n"
          ],
          "name": "stdout"
        }
      ]
    },
    {
      "cell_type": "markdown",
      "metadata": {
        "id": "9tZ8AdyAi0lR",
        "colab_type": "text"
      },
      "source": [
        "#### DataAgumentation\n",
        "Se prueban dos esquemas de aumento de datos : \n",
        "* El primer esquema genera por cada fila el total del numero de puntos de acceso leidos para el sector. Restando un valor fijo a acado valor rssi\n",
        "*  El segundo esquema genera un total de datos establecidos en variable global por cada file generandose de manera aleatoria los rsi en el rando entre la media por sector y el valor rssi leido. "
      ]
    },
    {
      "cell_type": "markdown",
      "metadata": {
        "id": "y1fEYpvNjSZc",
        "colab_type": "text"
      },
      "source": [
        "##### **Esquema** 1"
      ]
    },
    {
      "cell_type": "code",
      "metadata": {
        "id": "l_-QU002jWEN",
        "colab_type": "code",
        "colab": {}
      },
      "source": [
        "def data_augmentation_esq1(df,add_value):\n",
        "  list_values = list()\n",
        "  for row in df.values:\n",
        "    list_values.append(tuple(row))\n",
        "    for index,value in enumerate(row[0:-1]):\n",
        "      new_row = row.copy()\n",
        "      new_row[index] -= add_value \n",
        "      list_values.append(tuple(new_row))\n",
        "  columns = df.columns\n",
        "  data_aug  = pd.DataFrame(list_values,columns=columns)   \n",
        "  return data_aug  "
      ],
      "execution_count": 0,
      "outputs": []
    },
    {
      "cell_type": "markdown",
      "metadata": {
        "id": "oNNUUQqukHJM",
        "colab_type": "text"
      },
      "source": [
        "##### **Esquema** 2"
      ]
    },
    {
      "cell_type": "code",
      "metadata": {
        "id": "xI0ko96Hj4y8",
        "colab_type": "code",
        "colab": {}
      },
      "source": [
        "import random\n",
        "def data_augmentation_esq2(df,global_value):\n",
        "  list_values = list()\n",
        "  sectors = df['Sector'].unique()\n",
        "  for sector  in sectors:\n",
        "    df_sector = df[df.Sector == sector]\n",
        "    means_rssi = df_sector[df_sector.columns[0:-1]].mean()\n",
        "    for row in df_sector.values:\n",
        "      list_values.append(tuple(row))\n",
        "      list_rssi = list()\n",
        "      for index,rssi in enumerate(row[0:-1]):\n",
        "        range_random =abs(means_rssi[index] - rssi)\n",
        "        list_rssi.append((rssi,range_random))\n",
        "      for i in range(global_value):\n",
        "        new_row = list()\n",
        "        for value in list_rssi:\n",
        "          if(value[1] !=0):\n",
        "            new_rssi = round(random.uniform(rssi,rssi+value[1]),2)\n",
        "            new_row.append(new_rssi)\n",
        "          else:  \n",
        "            new_row.append(value[0])\n",
        "        new_row.append(sector)\n",
        "        list_values.append(tuple(new_row))\n",
        "  columns = df.columns\n",
        "  data_aug  = pd.DataFrame(list_values,columns=columns)   \n",
        "  return data_aug  "
      ],
      "execution_count": 0,
      "outputs": []
    },
    {
      "cell_type": "code",
      "metadata": {
        "id": "Xbi-qIsykmbf",
        "colab_type": "code",
        "colab": {}
      },
      "source": [
        "data_train, data_test = train_test_split(df, test_size= 0.10, random_state=27)"
      ],
      "execution_count": 0,
      "outputs": []
    },
    {
      "cell_type": "code",
      "metadata": {
        "id": "4G04RHVKkuvf",
        "colab_type": "code",
        "colab": {}
      },
      "source": [
        "target_label =  'Sector'\n",
        "\n",
        "x_test = data_test.drop(target_label , axis= 1)\n",
        "y_test = data_test[target_label]\n",
        "labelencoder_y = LabelEncoder()\n",
        "y_test = labelencoder_y.fit_transform(y)"
      ],
      "execution_count": 0,
      "outputs": []
    },
    {
      "cell_type": "code",
      "metadata": {
        "id": "iJS5AgHSks5-",
        "colab_type": "code",
        "colab": {
          "base_uri": "https://localhost:8080/",
          "height": 34
        },
        "outputId": "a0451870-e696-4d5d-cc4a-cb8f824c0464"
      },
      "source": [
        "data_train.shape"
      ],
      "execution_count": 79,
      "outputs": [
        {
          "output_type": "execute_result",
          "data": {
            "text/plain": [
              "(11025, 6)"
            ]
          },
          "metadata": {
            "tags": []
          },
          "execution_count": 79
        }
      ]
    },
    {
      "cell_type": "markdown",
      "metadata": {
        "id": "foM79Fu3svRX",
        "colab_type": "text"
      },
      "source": [
        "#### Preprosesado de datos"
      ]
    },
    {
      "cell_type": "code",
      "metadata": {
        "id": "KxHcKYVcjqBq",
        "colab_type": "code",
        "colab": {}
      },
      "source": [
        "data_train_sh1 = data_augmentation_esq1(data_train,5)\n",
        "data_train_sh2 = data_augmentation_esq2(data_train,10)"
      ],
      "execution_count": 0,
      "outputs": []
    },
    {
      "cell_type": "code",
      "metadata": {
        "id": "JE-p3sJdtPd5",
        "colab_type": "code",
        "colab": {
          "base_uri": "https://localhost:8080/",
          "height": 34
        },
        "outputId": "7e0dc564-21fd-4c74-b772-904875c53087"
      },
      "source": [
        "data_train_sh1.shape"
      ],
      "execution_count": 153,
      "outputs": [
        {
          "output_type": "execute_result",
          "data": {
            "text/plain": [
              "(66150, 6)"
            ]
          },
          "metadata": {
            "tags": []
          },
          "execution_count": 153
        }
      ]
    },
    {
      "cell_type": "code",
      "metadata": {
        "id": "ugNbRFKH1YMe",
        "colab_type": "code",
        "colab": {
          "base_uri": "https://localhost:8080/",
          "height": 34
        },
        "outputId": "86502859-6bf1-4f9f-b28a-bf3a19e1e06f"
      },
      "source": [
        "data_train_sh2.shape"
      ],
      "execution_count": 154,
      "outputs": [
        {
          "output_type": "execute_result",
          "data": {
            "text/plain": [
              "(121275, 6)"
            ]
          },
          "metadata": {
            "tags": []
          },
          "execution_count": 154
        }
      ]
    },
    {
      "cell_type": "code",
      "metadata": {
        "id": "BgQ6VLGKtN1Z",
        "colab_type": "code",
        "colab": {
          "base_uri": "https://localhost:8080/",
          "height": 34
        },
        "outputId": "e4481ab7-3fb7-40ea-8897-27c05252e45d"
      },
      "source": [
        "data_aug_sh2.shape"
      ],
      "execution_count": 84,
      "outputs": [
        {
          "output_type": "execute_result",
          "data": {
            "text/plain": [
              "(121275, 6)"
            ]
          },
          "metadata": {
            "tags": []
          },
          "execution_count": 84
        }
      ]
    },
    {
      "cell_type": "code",
      "metadata": {
        "id": "9iRJEey-rB9P",
        "colab_type": "code",
        "colab": {}
      },
      "source": [
        "x_test = data_test.drop(target_label , axis= 1)\n",
        "y_test = data_test[target_label]\n",
        "labelencoder_y = LabelEncoder()\n",
        "y_test = labelencoder_y.fit_transform(y_test)"
      ],
      "execution_count": 0,
      "outputs": []
    },
    {
      "cell_type": "code",
      "metadata": {
        "id": "xPi7ouqDjZBD",
        "colab_type": "code",
        "colab": {}
      },
      "source": [
        "x_train_sh1 = data_train_sh1.drop(target_label , axis= 1).values\n",
        "y_train_sh1 = data_train_sh1[target_label]\n",
        "labelencoder_y = LabelEncoder()\n",
        "y_train_sh1 = labelencoder_y.fit_transform(y_train_sh1)"
      ],
      "execution_count": 0,
      "outputs": []
    },
    {
      "cell_type": "code",
      "metadata": {
        "id": "4fja68L9u5Ah",
        "colab_type": "code",
        "colab": {
          "base_uri": "https://localhost:8080/",
          "height": 34
        },
        "outputId": "2e57848a-69b3-4309-8ec3-a49be73ceb5a"
      },
      "source": [
        ""
      ],
      "execution_count": 103,
      "outputs": [
        {
          "output_type": "execute_result",
          "data": {
            "text/plain": [
              "array([ 0,  0,  0, ..., 14, 14, 14])"
            ]
          },
          "metadata": {
            "tags": []
          },
          "execution_count": 103
        }
      ]
    },
    {
      "cell_type": "code",
      "metadata": {
        "id": "U8j0bX_5snWo",
        "colab_type": "code",
        "colab": {}
      },
      "source": [
        "x_train_sh2 = data_train_sh2.drop(target_label , axis= 1).values\n",
        "y_train_sh2 = data_train_sh2[target_label]\n",
        "labelencoder_y = LabelEncoder()\n",
        "y_train_sh2 = labelencoder_y.fit_transform(y_train_sh2)"
      ],
      "execution_count": 0,
      "outputs": []
    },
    {
      "cell_type": "markdown",
      "metadata": {
        "id": "NJO1SnD12EMC",
        "colab_type": "text"
      },
      "source": [
        "#### Normalizar los datos"
      ]
    },
    {
      "cell_type": "code",
      "metadata": {
        "id": "VNcFakUn2JIH",
        "colab_type": "code",
        "colab": {}
      },
      "source": [
        "scaler = StandardScaler()\n",
        "scaler.fit(x_train_sh1)\n",
        "x_train_sh1 = scaler.transform(x_train_sh1)\n",
        "scaler = StandardScaler()\n",
        "scaler.fit(x_train_sh2)\n",
        "x_train_sh2 = scaler.transform(x_train_sh2)\n",
        "scaler = StandardScaler()\n",
        "scaler.fit(x_test)\n",
        "x_test = scaler.transform(x_test)"
      ],
      "execution_count": 0,
      "outputs": []
    },
    {
      "cell_type": "code",
      "metadata": {
        "id": "s3IKVM-E3Yxv",
        "colab_type": "code",
        "colab": {}
      },
      "source": [
        "x_train, x_val, y_train, y_val = train_test_split(x_train_sh1,y_train_sh1, test_size= 0.25, random_state=27)"
      ],
      "execution_count": 0,
      "outputs": []
    },
    {
      "cell_type": "markdown",
      "metadata": {
        "id": "MDmjrCzPkQx3",
        "colab_type": "text"
      },
      "source": [
        "#### Esquema 1 DataAgumentation + Dropout +  Early Stopping"
      ]
    },
    {
      "cell_type": "code",
      "metadata": {
        "id": "sotxkaextkeu",
        "colab_type": "code",
        "colab": {}
      },
      "source": [
        "model = tf.keras.models.Sequential()\n",
        "model.add(tf.keras.layers.Dense(units=64, activation='relu', input_shape=(5, )))\n",
        "model.add(tf.keras.layers.Dense(units=64, activation='relu'))\n",
        "model.add(tf.keras.layers.Dense(units=64, activation='relu'))\n",
        "model.add(tf.keras.layers.Dropout(0.2))\n",
        "model.add(tf.keras.layers.Dense(units=15, activation='softmax'))\n",
        "model.compile(optimizer='adam', loss='sparse_categorical_crossentropy',metrics=['sparse_categorical_accuracy'])"
      ],
      "execution_count": 0,
      "outputs": []
    },
    {
      "cell_type": "code",
      "metadata": {
        "id": "z52eFT13tw0g",
        "colab_type": "code",
        "colab": {}
      },
      "source": [
        "monitor = EarlyStopping(monitor='val_loss', min_delta=1e-3, patience=5, verbose=1, mode='auto',\n",
        "        restore_best_weights=True)"
      ],
      "execution_count": 0,
      "outputs": []
    },
    {
      "cell_type": "code",
      "metadata": {
        "id": "3K5xb9iyt0Wi",
        "colab_type": "code",
        "colab": {
          "base_uri": "https://localhost:8080/",
          "height": 1000
        },
        "outputId": "4d571447-b540-4161-affc-628c34d0d940"
      },
      "source": [
        "history = model.fit(x_train, y_train, validation_data=(x_val,y_val) ,callbacks=[monitor],batch_size=64, epochs=200 , verbose = 1)"
      ],
      "execution_count": 162,
      "outputs": [
        {
          "output_type": "stream",
          "text": [
            "Train on 49612 samples, validate on 16538 samples\n",
            "Epoch 1/200\n",
            "49612/49612 [==============================] - 3s 68us/sample - loss: 1.5117 - sparse_categorical_accuracy: 0.4891 - val_loss: 1.1989 - val_sparse_categorical_accuracy: 0.5774\n",
            "Epoch 2/200\n",
            "49612/49612 [==============================] - 3s 66us/sample - loss: 1.2129 - sparse_categorical_accuracy: 0.5712 - val_loss: 1.0967 - val_sparse_categorical_accuracy: 0.6131\n",
            "Epoch 3/200\n",
            "49612/49612 [==============================] - 3s 65us/sample - loss: 1.1317 - sparse_categorical_accuracy: 0.6025 - val_loss: 1.0435 - val_sparse_categorical_accuracy: 0.6309\n",
            "Epoch 4/200\n",
            "49612/49612 [==============================] - 3s 66us/sample - loss: 1.0782 - sparse_categorical_accuracy: 0.6191 - val_loss: 0.9937 - val_sparse_categorical_accuracy: 0.6497\n",
            "Epoch 5/200\n",
            "49612/49612 [==============================] - 3s 64us/sample - loss: 1.0344 - sparse_categorical_accuracy: 0.6369 - val_loss: 0.9582 - val_sparse_categorical_accuracy: 0.6619\n",
            "Epoch 6/200\n",
            "49612/49612 [==============================] - 3s 66us/sample - loss: 0.9985 - sparse_categorical_accuracy: 0.6518 - val_loss: 0.9251 - val_sparse_categorical_accuracy: 0.6738\n",
            "Epoch 7/200\n",
            "49612/49612 [==============================] - 3s 66us/sample - loss: 0.9634 - sparse_categorical_accuracy: 0.6623 - val_loss: 0.8952 - val_sparse_categorical_accuracy: 0.6867\n",
            "Epoch 8/200\n",
            "49612/49612 [==============================] - 3s 66us/sample - loss: 0.9409 - sparse_categorical_accuracy: 0.6717 - val_loss: 0.8669 - val_sparse_categorical_accuracy: 0.6958\n",
            "Epoch 9/200\n",
            "49612/49612 [==============================] - 3s 66us/sample - loss: 0.9166 - sparse_categorical_accuracy: 0.6784 - val_loss: 0.8477 - val_sparse_categorical_accuracy: 0.7000\n",
            "Epoch 10/200\n",
            "49612/49612 [==============================] - 3s 65us/sample - loss: 0.8960 - sparse_categorical_accuracy: 0.6853 - val_loss: 0.8259 - val_sparse_categorical_accuracy: 0.7069\n",
            "Epoch 11/200\n",
            "49612/49612 [==============================] - 3s 64us/sample - loss: 0.8783 - sparse_categorical_accuracy: 0.6926 - val_loss: 0.8272 - val_sparse_categorical_accuracy: 0.7093\n",
            "Epoch 12/200\n",
            "49612/49612 [==============================] - 3s 65us/sample - loss: 0.8600 - sparse_categorical_accuracy: 0.7020 - val_loss: 0.7977 - val_sparse_categorical_accuracy: 0.7195\n",
            "Epoch 13/200\n",
            "49612/49612 [==============================] - 3s 66us/sample - loss: 0.8442 - sparse_categorical_accuracy: 0.7050 - val_loss: 0.7804 - val_sparse_categorical_accuracy: 0.7216\n",
            "Epoch 14/200\n",
            "49612/49612 [==============================] - 3s 65us/sample - loss: 0.8302 - sparse_categorical_accuracy: 0.7099 - val_loss: 0.7741 - val_sparse_categorical_accuracy: 0.7264\n",
            "Epoch 15/200\n",
            "49612/49612 [==============================] - 3s 65us/sample - loss: 0.8156 - sparse_categorical_accuracy: 0.7142 - val_loss: 0.7570 - val_sparse_categorical_accuracy: 0.7345\n",
            "Epoch 16/200\n",
            "49612/49612 [==============================] - 3s 65us/sample - loss: 0.8041 - sparse_categorical_accuracy: 0.7202 - val_loss: 0.7410 - val_sparse_categorical_accuracy: 0.7416\n",
            "Epoch 17/200\n",
            "49612/49612 [==============================] - 3s 66us/sample - loss: 0.7914 - sparse_categorical_accuracy: 0.7247 - val_loss: 0.7326 - val_sparse_categorical_accuracy: 0.7428\n",
            "Epoch 18/200\n",
            "49612/49612 [==============================] - 3s 65us/sample - loss: 0.7822 - sparse_categorical_accuracy: 0.7278 - val_loss: 0.7174 - val_sparse_categorical_accuracy: 0.7494\n",
            "Epoch 19/200\n",
            "49612/49612 [==============================] - 3s 65us/sample - loss: 0.7705 - sparse_categorical_accuracy: 0.7314 - val_loss: 0.7078 - val_sparse_categorical_accuracy: 0.7511\n",
            "Epoch 20/200\n",
            "49612/49612 [==============================] - 3s 65us/sample - loss: 0.7598 - sparse_categorical_accuracy: 0.7356 - val_loss: 0.6994 - val_sparse_categorical_accuracy: 0.7552\n",
            "Epoch 21/200\n",
            "49612/49612 [==============================] - 3s 66us/sample - loss: 0.7555 - sparse_categorical_accuracy: 0.7363 - val_loss: 0.6891 - val_sparse_categorical_accuracy: 0.7563\n",
            "Epoch 22/200\n",
            "49612/49612 [==============================] - 3s 67us/sample - loss: 0.7465 - sparse_categorical_accuracy: 0.7396 - val_loss: 0.6820 - val_sparse_categorical_accuracy: 0.7656\n",
            "Epoch 23/200\n",
            "49612/49612 [==============================] - 3s 66us/sample - loss: 0.7417 - sparse_categorical_accuracy: 0.7416 - val_loss: 0.6788 - val_sparse_categorical_accuracy: 0.7607\n",
            "Epoch 24/200\n",
            "49612/49612 [==============================] - 3s 65us/sample - loss: 0.7351 - sparse_categorical_accuracy: 0.7433 - val_loss: 0.6714 - val_sparse_categorical_accuracy: 0.7625\n",
            "Epoch 25/200\n",
            "49612/49612 [==============================] - 3s 65us/sample - loss: 0.7272 - sparse_categorical_accuracy: 0.7469 - val_loss: 0.6659 - val_sparse_categorical_accuracy: 0.7638\n",
            "Epoch 26/200\n",
            "49612/49612 [==============================] - 3s 64us/sample - loss: 0.7222 - sparse_categorical_accuracy: 0.7471 - val_loss: 0.6694 - val_sparse_categorical_accuracy: 0.7630\n",
            "Epoch 27/200\n",
            "49612/49612 [==============================] - 3s 65us/sample - loss: 0.7181 - sparse_categorical_accuracy: 0.7491 - val_loss: 0.6512 - val_sparse_categorical_accuracy: 0.7725\n",
            "Epoch 28/200\n",
            "49612/49612 [==============================] - 3s 65us/sample - loss: 0.7137 - sparse_categorical_accuracy: 0.7496 - val_loss: 0.6555 - val_sparse_categorical_accuracy: 0.7708\n",
            "Epoch 29/200\n",
            "49612/49612 [==============================] - 3s 63us/sample - loss: 0.7081 - sparse_categorical_accuracy: 0.7522 - val_loss: 0.6515 - val_sparse_categorical_accuracy: 0.7701\n",
            "Epoch 30/200\n",
            "49612/49612 [==============================] - 3s 65us/sample - loss: 0.7021 - sparse_categorical_accuracy: 0.7558 - val_loss: 0.6457 - val_sparse_categorical_accuracy: 0.7725\n",
            "Epoch 31/200\n",
            "49612/49612 [==============================] - 3s 64us/sample - loss: 0.7003 - sparse_categorical_accuracy: 0.7544 - val_loss: 0.6442 - val_sparse_categorical_accuracy: 0.7740\n",
            "Epoch 32/200\n",
            "49612/49612 [==============================] - 3s 66us/sample - loss: 0.6965 - sparse_categorical_accuracy: 0.7548 - val_loss: 0.6434 - val_sparse_categorical_accuracy: 0.7748\n",
            "Epoch 33/200\n",
            "49612/49612 [==============================] - 3s 65us/sample - loss: 0.6933 - sparse_categorical_accuracy: 0.7572 - val_loss: 0.6363 - val_sparse_categorical_accuracy: 0.7740\n",
            "Epoch 34/200\n",
            "49612/49612 [==============================] - 3s 64us/sample - loss: 0.6908 - sparse_categorical_accuracy: 0.7575 - val_loss: 0.6386 - val_sparse_categorical_accuracy: 0.7751\n",
            "Epoch 35/200\n",
            "49612/49612 [==============================] - 3s 64us/sample - loss: 0.6898 - sparse_categorical_accuracy: 0.7577 - val_loss: 0.6330 - val_sparse_categorical_accuracy: 0.7768\n",
            "Epoch 36/200\n",
            "49612/49612 [==============================] - 3s 64us/sample - loss: 0.6839 - sparse_categorical_accuracy: 0.7600 - val_loss: 0.6350 - val_sparse_categorical_accuracy: 0.7779\n",
            "Epoch 37/200\n",
            "49612/49612 [==============================] - 3s 63us/sample - loss: 0.6817 - sparse_categorical_accuracy: 0.7602 - val_loss: 0.6374 - val_sparse_categorical_accuracy: 0.7743\n",
            "Epoch 38/200\n",
            "49612/49612 [==============================] - 3s 65us/sample - loss: 0.6755 - sparse_categorical_accuracy: 0.7627 - val_loss: 0.6299 - val_sparse_categorical_accuracy: 0.7806\n",
            "Epoch 39/200\n",
            "49612/49612 [==============================] - 3s 64us/sample - loss: 0.6736 - sparse_categorical_accuracy: 0.7640 - val_loss: 0.6179 - val_sparse_categorical_accuracy: 0.7846\n",
            "Epoch 40/200\n",
            "49612/49612 [==============================] - 3s 65us/sample - loss: 0.6732 - sparse_categorical_accuracy: 0.7641 - val_loss: 0.6178 - val_sparse_categorical_accuracy: 0.7802\n",
            "Epoch 41/200\n",
            "49612/49612 [==============================] - 3s 65us/sample - loss: 0.6687 - sparse_categorical_accuracy: 0.7656 - val_loss: 0.6231 - val_sparse_categorical_accuracy: 0.7816\n",
            "Epoch 42/200\n",
            "49612/49612 [==============================] - 3s 65us/sample - loss: 0.6668 - sparse_categorical_accuracy: 0.7667 - val_loss: 0.6208 - val_sparse_categorical_accuracy: 0.7819\n",
            "Epoch 43/200\n",
            "49612/49612 [==============================] - 3s 66us/sample - loss: 0.6640 - sparse_categorical_accuracy: 0.7670 - val_loss: 0.6165 - val_sparse_categorical_accuracy: 0.7843\n",
            "Epoch 44/200\n",
            "49612/49612 [==============================] - 3s 66us/sample - loss: 0.6666 - sparse_categorical_accuracy: 0.7657 - val_loss: 0.6127 - val_sparse_categorical_accuracy: 0.7854\n",
            "Epoch 45/200\n",
            "49612/49612 [==============================] - 3s 64us/sample - loss: 0.6621 - sparse_categorical_accuracy: 0.7674 - val_loss: 0.6129 - val_sparse_categorical_accuracy: 0.7841\n",
            "Epoch 46/200\n",
            "49612/49612 [==============================] - 3s 65us/sample - loss: 0.6572 - sparse_categorical_accuracy: 0.7684 - val_loss: 0.6129 - val_sparse_categorical_accuracy: 0.7847\n",
            "Epoch 47/200\n",
            "49612/49612 [==============================] - 3s 64us/sample - loss: 0.6588 - sparse_categorical_accuracy: 0.7691 - val_loss: 0.6198 - val_sparse_categorical_accuracy: 0.7843\n",
            "Epoch 48/200\n",
            "49612/49612 [==============================] - 3s 64us/sample - loss: 0.6542 - sparse_categorical_accuracy: 0.7708 - val_loss: 0.6114 - val_sparse_categorical_accuracy: 0.7840\n",
            "Epoch 49/200\n",
            "49612/49612 [==============================] - 3s 65us/sample - loss: 0.6557 - sparse_categorical_accuracy: 0.7683 - val_loss: 0.6062 - val_sparse_categorical_accuracy: 0.7871\n",
            "Epoch 50/200\n",
            "49612/49612 [==============================] - 3s 65us/sample - loss: 0.6525 - sparse_categorical_accuracy: 0.7713 - val_loss: 0.6057 - val_sparse_categorical_accuracy: 0.7871\n",
            "Epoch 51/200\n",
            "49612/49612 [==============================] - 3s 66us/sample - loss: 0.6495 - sparse_categorical_accuracy: 0.7721 - val_loss: 0.6136 - val_sparse_categorical_accuracy: 0.7820\n",
            "Epoch 52/200\n",
            "49612/49612 [==============================] - 3s 64us/sample - loss: 0.6492 - sparse_categorical_accuracy: 0.7718 - val_loss: 0.6091 - val_sparse_categorical_accuracy: 0.7865\n",
            "Epoch 53/200\n",
            "49612/49612 [==============================] - 3s 62us/sample - loss: 0.6452 - sparse_categorical_accuracy: 0.7738 - val_loss: 0.6095 - val_sparse_categorical_accuracy: 0.7872\n",
            "Epoch 54/200\n",
            "49088/49612 [============================>.] - ETA: 0s - loss: 0.6432 - sparse_categorical_accuracy: 0.7727Restoring model weights from the end of the best epoch.\n",
            "49612/49612 [==============================] - 3s 63us/sample - loss: 0.6439 - sparse_categorical_accuracy: 0.7724 - val_loss: 0.6118 - val_sparse_categorical_accuracy: 0.7842\n",
            "Epoch 00054: early stopping\n"
          ],
          "name": "stdout"
        }
      ]
    },
    {
      "cell_type": "code",
      "metadata": {
        "id": "_6wQAifnvcF-",
        "colab_type": "code",
        "colab": {
          "base_uri": "https://localhost:8080/",
          "height": 370
        },
        "outputId": "e4d6afec-2af6-4b4c-e2b0-6f36ebc3cb82"
      },
      "source": [
        "visualzation_accuracy_loss_values_epochs(history)"
      ],
      "execution_count": 164,
      "outputs": [
        {
          "output_type": "display_data",
          "data": {
            "image/png": "[encoded data removed]",
            "text/plain": [
              "<Figure size 1080x360 with 2 Axes>"
            ]
          },
          "metadata": {
            "tags": []
          }
        }
      ]
    },
    {
      "cell_type": "code",
      "metadata": {
        "id": "uZgc8VOsvnRo",
        "colab_type": "code",
        "colab": {
          "base_uri": "https://localhost:8080/",
          "height": 71
        },
        "outputId": "85634a7a-c78d-4577-c148-456c715db368"
      },
      "source": [
        "test_loss, test_accuracy = model.evaluate(x_test, y_test)\n",
        "print(\"Test accuracy: {}\".format(test_accuracy))"
      ],
      "execution_count": 167,
      "outputs": [
        {
          "output_type": "stream",
          "text": [
            "1226/1226 [==============================] - 0s 75us/sample - loss: 0.6992 - sparse_categorical_accuracy: 0.7365\n",
            "Test accuracy: 0.7365415692329407\n"
          ],
          "name": "stdout"
        }
      ]
    },
    {
      "cell_type": "markdown",
      "metadata": {
        "id": "lCFHOVSfv6N8",
        "colab_type": "text"
      },
      "source": [
        "#### Esquema 2 DataAgumentation + Dropout +  Early Stopping"
      ]
    },
    {
      "cell_type": "code",
      "metadata": {
        "id": "gD0LbPNx4F4H",
        "colab_type": "code",
        "colab": {}
      },
      "source": [
        "x_train, x_val, y_train, y_val = train_test_split(x_train_sh2,y_train_sh2, test_size= 0.25, random_state=27)"
      ],
      "execution_count": 0,
      "outputs": []
    },
    {
      "cell_type": "code",
      "metadata": {
        "id": "umBEH7aYv6RT",
        "colab_type": "code",
        "colab": {}
      },
      "source": [
        "model = tf.keras.models.Sequential()\n",
        "model.add(tf.keras.layers.Dense(units=64, activation='relu', input_shape=(5, )))\n",
        "model.add(tf.keras.layers.Dense(units=64, activation='relu'))\n",
        "model.add(tf.keras.layers.Dense(units=64, activation='relu'))\n",
        "model.add(tf.keras.layers.Dropout(0.2))\n",
        "model.add(tf.keras.layers.Dense(units=15, activation='softmax'))\n",
        "model.compile(optimizer='adam', loss='sparse_categorical_crossentropy',metrics=['sparse_categorical_accuracy'])"
      ],
      "execution_count": 0,
      "outputs": []
    },
    {
      "cell_type": "code",
      "metadata": {
        "id": "b4IPvh1kw0VO",
        "colab_type": "code",
        "colab": {}
      },
      "source": [
        "monitor = EarlyStopping(monitor='val_loss', min_delta=1e-3, patience=5, verbose=1, mode='auto',\n",
        "        restore_best_weights=True)"
      ],
      "execution_count": 0,
      "outputs": []
    },
    {
      "cell_type": "code",
      "metadata": {
        "id": "Yxa0N1GLw3BE",
        "colab_type": "code",
        "colab": {
          "base_uri": "https://localhost:8080/",
          "height": 1000
        },
        "outputId": "11e798c4-19a1-45ad-c7be-cbddc22c7fa5"
      },
      "source": [
        "history = model.fit(x_train_sh2, y_train_sh2, validation_data=(x_val,y_val) ,callbacks=[monitor],batch_size=64, epochs=200 , verbose = 1)"
      ],
      "execution_count": 182,
      "outputs": [
        {
          "output_type": "stream",
          "text": [
            "Train on 121275 samples, validate on 30319 samples\n",
            "Epoch 1/200\n",
            "121275/121275 [==============================] - 8s 63us/sample - loss: 1.9075 - sparse_categorical_accuracy: 0.3666 - val_loss: 1.6012 - val_sparse_categorical_accuracy: 0.4745\n",
            "Epoch 2/200\n",
            "121275/121275 [==============================] - 7s 61us/sample - loss: 1.6250 - sparse_categorical_accuracy: 0.4642 - val_loss: 1.5157 - val_sparse_categorical_accuracy: 0.4987\n",
            "Epoch 3/200\n",
            "121275/121275 [==============================] - 7s 60us/sample - loss: 1.5606 - sparse_categorical_accuracy: 0.4848 - val_loss: 1.4648 - val_sparse_categorical_accuracy: 0.5121\n",
            "Epoch 4/200\n",
            "121275/121275 [==============================] - 7s 60us/sample - loss: 1.5241 - sparse_categorical_accuracy: 0.4957 - val_loss: 1.4362 - val_sparse_categorical_accuracy: 0.5270\n",
            "Epoch 5/200\n",
            "121275/121275 [==============================] - 7s 61us/sample - loss: 1.4976 - sparse_categorical_accuracy: 0.5043 - val_loss: 1.4076 - val_sparse_categorical_accuracy: 0.5319\n",
            "Epoch 6/200\n",
            "121275/121275 [==============================] - 7s 61us/sample - loss: 1.4778 - sparse_categorical_accuracy: 0.5088 - val_loss: 1.3910 - val_sparse_categorical_accuracy: 0.5364\n",
            "Epoch 7/200\n",
            "121275/121275 [==============================] - 8s 62us/sample - loss: 1.4589 - sparse_categorical_accuracy: 0.5163 - val_loss: 1.3820 - val_sparse_categorical_accuracy: 0.5373\n",
            "Epoch 8/200\n",
            "121275/121275 [==============================] - 7s 61us/sample - loss: 1.4476 - sparse_categorical_accuracy: 0.5187 - val_loss: 1.3757 - val_sparse_categorical_accuracy: 0.5379\n",
            "Epoch 9/200\n",
            "121275/121275 [==============================] - 7s 61us/sample - loss: 1.4386 - sparse_categorical_accuracy: 0.5209 - val_loss: 1.3583 - val_sparse_categorical_accuracy: 0.5457\n",
            "Epoch 10/200\n",
            "121275/121275 [==============================] - 7s 61us/sample - loss: 1.4263 - sparse_categorical_accuracy: 0.5243 - val_loss: 1.3487 - val_sparse_categorical_accuracy: 0.5461\n",
            "Epoch 11/200\n",
            "121275/121275 [==============================] - 7s 60us/sample - loss: 1.4167 - sparse_categorical_accuracy: 0.5291 - val_loss: 1.3406 - val_sparse_categorical_accuracy: 0.5488\n",
            "Epoch 12/200\n",
            "121275/121275 [==============================] - 7s 60us/sample - loss: 1.4072 - sparse_categorical_accuracy: 0.5309 - val_loss: 1.3319 - val_sparse_categorical_accuracy: 0.5550\n",
            "Epoch 13/200\n",
            "121275/121275 [==============================] - 7s 60us/sample - loss: 1.3999 - sparse_categorical_accuracy: 0.5337 - val_loss: 1.3288 - val_sparse_categorical_accuracy: 0.5544\n",
            "Epoch 14/200\n",
            "121275/121275 [==============================] - 7s 61us/sample - loss: 1.3932 - sparse_categorical_accuracy: 0.5365 - val_loss: 1.3158 - val_sparse_categorical_accuracy: 0.5593\n",
            "Epoch 15/200\n",
            "121275/121275 [==============================] - 7s 60us/sample - loss: 1.3854 - sparse_categorical_accuracy: 0.5388 - val_loss: 1.3052 - val_sparse_categorical_accuracy: 0.5621\n",
            "Epoch 16/200\n",
            "121275/121275 [==============================] - 7s 60us/sample - loss: 1.3823 - sparse_categorical_accuracy: 0.5396 - val_loss: 1.3025 - val_sparse_categorical_accuracy: 0.5637\n",
            "Epoch 17/200\n",
            "121275/121275 [==============================] - 7s 61us/sample - loss: 1.3750 - sparse_categorical_accuracy: 0.5417 - val_loss: 1.3009 - val_sparse_categorical_accuracy: 0.5626\n",
            "Epoch 18/200\n",
            "121275/121275 [==============================] - 7s 61us/sample - loss: 1.3692 - sparse_categorical_accuracy: 0.5429 - val_loss: 1.2962 - val_sparse_categorical_accuracy: 0.5648\n",
            "Epoch 19/200\n",
            "121275/121275 [==============================] - 7s 60us/sample - loss: 1.3679 - sparse_categorical_accuracy: 0.5438 - val_loss: 1.2867 - val_sparse_categorical_accuracy: 0.5690\n",
            "Epoch 20/200\n",
            "121275/121275 [==============================] - 7s 60us/sample - loss: 1.3613 - sparse_categorical_accuracy: 0.5451 - val_loss: 1.2827 - val_sparse_categorical_accuracy: 0.5666\n",
            "Epoch 21/200\n",
            "121275/121275 [==============================] - 7s 60us/sample - loss: 1.3559 - sparse_categorical_accuracy: 0.5475 - val_loss: 1.2759 - val_sparse_categorical_accuracy: 0.5696\n",
            "Epoch 22/200\n",
            "121275/121275 [==============================] - 7s 60us/sample - loss: 1.3525 - sparse_categorical_accuracy: 0.5490 - val_loss: 1.2765 - val_sparse_categorical_accuracy: 0.5707\n",
            "Epoch 23/200\n",
            "121275/121275 [==============================] - 7s 60us/sample - loss: 1.3514 - sparse_categorical_accuracy: 0.5486 - val_loss: 1.2693 - val_sparse_categorical_accuracy: 0.5717\n",
            "Epoch 24/200\n",
            "121275/121275 [==============================] - 7s 60us/sample - loss: 1.3465 - sparse_categorical_accuracy: 0.5516 - val_loss: 1.2666 - val_sparse_categorical_accuracy: 0.5739\n",
            "Epoch 25/200\n",
            "121275/121275 [==============================] - 7s 61us/sample - loss: 1.3421 - sparse_categorical_accuracy: 0.5531 - val_loss: 1.2759 - val_sparse_categorical_accuracy: 0.5688\n",
            "Epoch 26/200\n",
            "121275/121275 [==============================] - 7s 61us/sample - loss: 1.3413 - sparse_categorical_accuracy: 0.5537 - val_loss: 1.2646 - val_sparse_categorical_accuracy: 0.5729\n",
            "Epoch 27/200\n",
            "121275/121275 [==============================] - 7s 62us/sample - loss: 1.3361 - sparse_categorical_accuracy: 0.5545 - val_loss: 1.2622 - val_sparse_categorical_accuracy: 0.5729\n",
            "Epoch 28/200\n",
            "121275/121275 [==============================] - 7s 61us/sample - loss: 1.3337 - sparse_categorical_accuracy: 0.5546 - val_loss: 1.2528 - val_sparse_categorical_accuracy: 0.5773\n",
            "Epoch 29/200\n",
            "121275/121275 [==============================] - 7s 61us/sample - loss: 1.3307 - sparse_categorical_accuracy: 0.5569 - val_loss: 1.2613 - val_sparse_categorical_accuracy: 0.5750\n",
            "Epoch 30/200\n",
            "121275/121275 [==============================] - 7s 61us/sample - loss: 1.3293 - sparse_categorical_accuracy: 0.5562 - val_loss: 1.2451 - val_sparse_categorical_accuracy: 0.5777\n",
            "Epoch 31/200\n",
            "121275/121275 [==============================] - 8s 64us/sample - loss: 1.3273 - sparse_categorical_accuracy: 0.5572 - val_loss: 1.2434 - val_sparse_categorical_accuracy: 0.5806\n",
            "Epoch 32/200\n",
            "121275/121275 [==============================] - 7s 61us/sample - loss: 1.3222 - sparse_categorical_accuracy: 0.5581 - val_loss: 1.2504 - val_sparse_categorical_accuracy: 0.5767\n",
            "Epoch 33/200\n",
            "121275/121275 [==============================] - 7s 60us/sample - loss: 1.3211 - sparse_categorical_accuracy: 0.5590 - val_loss: 1.2472 - val_sparse_categorical_accuracy: 0.5790\n",
            "Epoch 34/200\n",
            "121275/121275 [==============================] - 7s 61us/sample - loss: 1.3206 - sparse_categorical_accuracy: 0.5583 - val_loss: 1.2478 - val_sparse_categorical_accuracy: 0.5767\n",
            "Epoch 35/200\n",
            "121275/121275 [==============================] - 7s 60us/sample - loss: 1.3167 - sparse_categorical_accuracy: 0.5602 - val_loss: 1.2321 - val_sparse_categorical_accuracy: 0.5821\n",
            "Epoch 36/200\n",
            "121275/121275 [==============================] - 7s 61us/sample - loss: 1.3153 - sparse_categorical_accuracy: 0.5607 - val_loss: 1.2339 - val_sparse_categorical_accuracy: 0.5818\n",
            "Epoch 37/200\n",
            "121275/121275 [==============================] - 7s 60us/sample - loss: 1.3135 - sparse_categorical_accuracy: 0.5621 - val_loss: 1.2288 - val_sparse_categorical_accuracy: 0.5853\n",
            "Epoch 38/200\n",
            "121275/121275 [==============================] - 7s 60us/sample - loss: 1.3117 - sparse_categorical_accuracy: 0.5612 - val_loss: 1.2357 - val_sparse_categorical_accuracy: 0.5818\n",
            "Epoch 39/200\n",
            "121275/121275 [==============================] - 7s 61us/sample - loss: 1.3094 - sparse_categorical_accuracy: 0.5628 - val_loss: 1.2345 - val_sparse_categorical_accuracy: 0.5808\n",
            "Epoch 40/200\n",
            "121275/121275 [==============================] - 7s 61us/sample - loss: 1.3076 - sparse_categorical_accuracy: 0.5619 - val_loss: 1.2298 - val_sparse_categorical_accuracy: 0.5823\n",
            "Epoch 41/200\n",
            "121275/121275 [==============================] - 7s 61us/sample - loss: 1.3067 - sparse_categorical_accuracy: 0.5625 - val_loss: 1.2288 - val_sparse_categorical_accuracy: 0.5820\n",
            "Epoch 42/200\n",
            "120512/121275 [============================>.] - ETA: 0s - loss: 1.3059 - sparse_categorical_accuracy: 0.5623Restoring model weights from the end of the best epoch.\n",
            "121275/121275 [==============================] - 7s 61us/sample - loss: 1.3058 - sparse_categorical_accuracy: 0.5625 - val_loss: 1.2299 - val_sparse_categorical_accuracy: 0.5871\n",
            "Epoch 00042: early stopping\n"
          ],
          "name": "stdout"
        }
      ]
    },
    {
      "cell_type": "code",
      "metadata": {
        "id": "Q2EQpa84w8DY",
        "colab_type": "code",
        "colab": {
          "base_uri": "https://localhost:8080/",
          "height": 370
        },
        "outputId": "8f45c566-8d93-475a-b811-95da6cb4ab33"
      },
      "source": [
        "visualzation_accuracy_loss_values_epochs(history)"
      ],
      "execution_count": 183,
      "outputs": [
        {
          "output_type": "display_data",
          "data": {
            "image/png": "[encoded data removed]",
            "text/plain": [
              "<Figure size 1080x360 with 2 Axes>"
            ]
          },
          "metadata": {
            "tags": []
          }
        }
      ]
    },
    {
      "cell_type": "code",
      "metadata": {
        "id": "IJj5Hq7PxD9X",
        "colab_type": "code",
        "colab": {
          "base_uri": "https://localhost:8080/",
          "height": 71
        },
        "outputId": "021c49c3-311c-4790-f046-696518f9c75d"
      },
      "source": [
        "test_loss, test_accuracy = model.evaluate(x_test, y_test)\n",
        "print(\"Test accuracy: {}\".format(test_accuracy))"
      ],
      "execution_count": 184,
      "outputs": [
        {
          "output_type": "stream",
          "text": [
            "1226/1226 [==============================] - 0s 62us/sample - loss: 5.4114 - sparse_categorical_accuracy: 0.1974\n",
            "Test accuracy: 0.1973898857831955\n"
          ],
          "name": "stdout"
        }
      ]
    }
  ]
}